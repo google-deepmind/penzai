{
 "cells": [
  {
   "cell_type": "markdown",
   "metadata": {
    "id": "DfejMHs4lr8V"
   },
   "source": [
    "*Copyright 2024 The Penzai Authors.*\n",
    "\n",
    "*Licensed under the Apache License, Version 2.0 (the \"License\"); you may not use this file except in compliance with the License.\n",
    "You may obtain a copy of the License at*\n",
    "\n",
    "> http://www.apache.org/licenses/LICENSE-2.0\n",
    "\n",
    "*Unless required by applicable law or agreed to in writing, software\n",
    "distributed under the License is distributed on an \"AS IS\" BASIS,\n",
    "WITHOUT WARRANTIES OR CONDITIONS OF ANY KIND, either express or  implied.\n",
    "See the License for the specific language governing permissions and\n",
    "limitations under the License.*\n",
    "\n",
    "---"
   ]
  },
  {
   "cell_type": "markdown",
   "metadata": {
    "id": "USGIPdLYDzSo"
   },
   "source": [
    "[![Open in Colab](https://colab.research.google.com/assets/colab-badge.svg)](https://colab.research.google.com/github/google-deepmind/penzai/blob/main/notebooks/selectors.ipynb) [![Open in Kaggle](https://kaggle.com/static/images/open-in-kaggle.svg)](https://kaggle.com/kernels/welcome?src=https://github.com/google-deepmind/penzai/blob/main/notebooks/selectors.ipynb)"
   ]
  },
  {
   "cell_type": "markdown",
   "metadata": {
    "id": "RbZ02bVnH7LL"
   },
   "source": [
    "# Selectors and Selections"
   ]
  },
  {
   "cell_type": "markdown",
   "metadata": {
    "id": "FG4w_VU1H_WN"
   },
   "source": [
    "Penzai is designed to make it easy to make targeted modifications to models and parameter trees. For this purpose, Penzai provides a powerful \"selection\" system to allow you to identify, visualize, and modify arbitrary JAX PyTrees. In short, `pz.select` enables `.at[...].set(...)`-style modification for arbitrary PyTree types.\n",
    "\n",
    "This notebook describes the basics of Penzai's selection object and shows how you can use it to make a variety of modifications.\n"
   ]
  },
  {
   "cell_type": "markdown",
   "metadata": {
    "id": "SHr2rnIL8DzM"
   },
   "source": [
    "## Setup"
   ]
  },
  {
   "cell_type": "markdown",
   "metadata": {
    "id": "VkW4lYKAu-oR"
   },
   "source": [
    "We'll start by setting up the environment."
   ]
  },
  {
   "cell_type": "markdown",
   "metadata": {
    "id": "ozG8ERNavDos"
   },
   "source": [
    "### Imports"
   ]
  },
  {
   "cell_type": "markdown",
   "metadata": {
    "id": "xmxgAcFQmZkB"
   },
   "source": [
    "To run this notebook, you need a Python environment with `penzai` and its dependencies installed.\n",
    "\n",
    "In Colab or Kaggle, you can install it using the following command:"
   ]
  },
  {
   "cell_type": "code",
   "execution_count": 1,
   "metadata": {
    "execution": {
     "iopub.execute_input": "2024-09-11T16:37:50.905584Z",
     "iopub.status.busy": "2024-09-11T16:37:50.905328Z",
     "iopub.status.idle": "2024-09-11T16:37:50.908117Z",
     "shell.execute_reply": "2024-09-11T16:37:50.907785Z"
    },
    "id": "XGZH58j8mPkj"
   },
   "outputs": [],
   "source": [
    "try:\n",
    "  import penzai\n",
    "except ImportError:\n",
    "  !pip install penzai[notebook]"
   ]
  },
  {
   "cell_type": "code",
   "execution_count": 2,
   "metadata": {
    "execution": {
     "iopub.execute_input": "2024-09-11T16:37:50.911047Z",
     "iopub.status.busy": "2024-09-11T16:37:50.910813Z",
     "iopub.status.idle": "2024-09-11T16:37:51.293148Z",
     "shell.execute_reply": "2024-09-11T16:37:51.292869Z"
    },
    "id": "iog3oMAMGCMG"
   },
   "outputs": [],
   "source": [
    "from __future__ import annotations\n",
    "import typing\n",
    "import traceback\n",
    "\n",
    "import jax\n",
    "import jax.numpy as jnp"
   ]
  },
  {
   "cell_type": "code",
   "execution_count": 3,
   "metadata": {
    "execution": {
     "iopub.execute_input": "2024-09-11T16:37:51.296374Z",
     "iopub.status.busy": "2024-09-11T16:37:51.296138Z",
     "iopub.status.idle": "2024-09-11T16:37:51.383991Z",
     "shell.execute_reply": "2024-09-11T16:37:51.383771Z"
    },
    "id": "5Mh2mAuiQ4aa"
   },
   "outputs": [],
   "source": [
    "import treescope\n",
    "import penzai\n",
    "from penzai import pz"
   ]
  },
  {
   "cell_type": "code",
   "execution_count": 4,
   "metadata": {
    "execution": {
     "iopub.execute_input": "2024-09-11T16:37:51.387181Z",
     "iopub.status.busy": "2024-09-11T16:37:51.386909Z",
     "iopub.status.idle": "2024-09-11T16:37:51.390391Z",
     "shell.execute_reply": "2024-09-11T16:37:51.390219Z"
    },
    "id": "QMSmQSSzOOnj"
   },
   "outputs": [],
   "source": [
    "from penzai.models import simple_mlp"
   ]
  },
  {
   "cell_type": "markdown",
   "metadata": {
    "id": "OGzhV5uWvkvB"
   },
   "source": [
    "### Setting up Penzai"
   ]
  },
  {
   "cell_type": "markdown",
   "metadata": {
    "id": "TjGkV8F8vmpi"
   },
   "source": [
    "For this tutorial, we'll enable [Treescope](https://treescope.readthedocs.io/en/stable/) (Penzai's companion pretty-printer) as the default IPython pretty-printer. This is recommended when using Penzai in an interactive environment."
   ]
  },
  {
   "cell_type": "code",
   "execution_count": 5,
   "metadata": {
    "execution": {
     "iopub.execute_input": "2024-09-11T16:37:51.394016Z",
     "iopub.status.busy": "2024-09-11T16:37:51.393784Z",
     "iopub.status.idle": "2024-09-11T16:37:51.395545Z",
     "shell.execute_reply": "2024-09-11T16:37:51.395375Z"
    },
    "id": "YodWk_jmva_7"
   },
   "outputs": [],
   "source": [
    "treescope.basic_interactive_setup(autovisualize_arrays=False)"
   ]
  },
  {
   "cell_type": "markdown",
   "metadata": {
    "id": "3egey4t42OTo"
   },
   "source": [
    "## What are selectors?"
   ]
  },
  {
   "cell_type": "markdown",
   "metadata": {
    "id": "SmFOag2y2UjQ"
   },
   "source": [
    "If you're familiar with JAX, you probably know that JAX arrays are immutable. This maens that it's not possible to directly assign to elements of a JAX array:"
   ]
  },
  {
   "cell_type": "code",
   "execution_count": 6,
   "metadata": {
    "execution": {
     "iopub.execute_input": "2024-09-11T16:37:51.400250Z",
     "iopub.status.busy": "2024-09-11T16:37:51.400021Z",
     "iopub.status.idle": "2024-09-11T16:37:57.837925Z",
     "shell.execute_reply": "2024-09-11T16:37:57.838205Z"
    },
    "id": "V4fKIMM4807s"
   },
   "outputs": [
    {
     "data": {
      "text/html": [
       "<script> (()=>{ if (customElements.get('treescope-container') === undefined) { class TreescopeContainer extends HTMLElement { constructor() { super(); this.attachShadow({mode: \"open\"}); this.defns = {}; this.state = {}; } } customElements.define(\"treescope-container\", TreescopeContainer); } if (customElements.get('treescope-run-here') === undefined) { class RunHere extends HTMLElement { constructor() { super() } connectedCallback() { const run = child => { const fn = new Function(child.textContent); child.textContent = \"\"; fn.call(this); this.remove(); }; const child = this.querySelector(\"script\"); if (child) { run(child); } else { new MutationObserver(()=>{ run(this.querySelector(\"script\")); }).observe(this, {childList: true}); } } } customElements.define(\"treescope-run-here\", RunHere); } })(); </script> <treescope-container class=\"treescope_out_20b76e8dc0c94b7ab9b2ecd8502ea46b\" ></treescope-container> <treescope-run-here><script type=\"application/octet-stream\"> const root = ( Array.from(document.getElementsByClassName( \"treescope_out_20b76e8dc0c94b7ab9b2ecd8502ea46b\")) .filter((elt) => !elt.dataset.setup) )[0]; root.dataset.setup = 1; const msg = document.createElement(\"span\"); msg.style = \"color: #cccccc; font-family: monospace;\"; msg.textContent = \"(Loading...)\"; root.state.loadingMsg = msg; root.shadowRoot.appendChild(msg); root.state.chain = new Promise((resolve, reject) => { const observer = new IntersectionObserver((entries) => { for (const entry of entries) { if (entry.isIntersecting) { resolve(); observer.disconnect(); return; } } }, {rootMargin: \"1000px\"}); window.setTimeout(() => { observer.observe(root); }, 0); }); root.state.deferring = false; const _insertNode = (node) => { for (let oldScript of node.querySelectorAll(\"script\")) { let newScript = document.createElement(\"script\"); newScript.type = oldScript.type; newScript.textContent = oldScript.textContent; oldScript.parentNode.replaceChild(newScript, oldScript); } if (root.state.loadingMsg) { root.state.loadingMsg.remove(); root.state.loadingMsg = null; } root.shadowRoot.appendChild(node); }; root.defns.insertContent = ((contentNode, compressed) => { if (compressed) { root.state.deferring = true; } if (root.state.deferring) { root.state.chain = (async () => { await root.state.chain; if (compressed) { const encoded = contentNode.textContent; const blob = new Blob([ Uint8Array.from(atob(encoded), (m) => m.codePointAt(0)) ]); const reader = blob.stream().pipeThrough( new DecompressionStream(\"deflate\") ).pipeThrough( new TextDecoderStream(\"utf-8\") ).getReader(); const parts = []; while (true) { const step = await reader.read(); if (step.done) { break; } parts.push(step.value); } const tpl = document.createElement('template'); tpl.innerHTML = parts.join(\"\"); _insertNode(tpl.content); } else { _insertNode(contentNode.content); } })(); } else { _insertNode(contentNode.content); } }); </script></treescope-run-here><div style=\"display:none\"> <script type=\"application/octet-stream\" >eNqNVE1v2zAM/SuEd6gN1G6+1nZJHKCXYYdhh+2wwzAEskzHWhXJk+ik2dD/Psp2s35kxeCDbYp8fI8iufR00LjKyCF6aRtcO2sJfkNjvSJlzRwcakFqhwuorKG0ElulD3PYWmN9IyTb97UiTLufOTSOLVp5SjvolA4NW401bC6EvN0425oylVZbN+9DFzD8FZodGE+VVM+hUsRuhtDQAhpRlspsUo0VzWEi65DEYFqj2tRsGWdvA4whoZjzMWz4SHfKq0JpRcxctGSPvqky5JTxSqZe/cL+dKB7v7zoy7M8lid1reGcjm1eOtUQBH35mWgaraQIFbuwkjCodyi2Z6s4TvIVF5TzeYISK+MhB6qVzzZIn7nan2yJcZLV1lPWnbM0JFg3aILkGxlQQ9C376dOPghTauRj02q96DNkTPOLtYat8d662wQec7Bf2RSOnphJyWBs0FXWbYWRmBm7j5PufjlB/OIE0j5oCdNJwjiqgvgZ60yj2VANeQ6j4PIqdYfUOsN1B9Qe/xKrWxOYPYf2taoo8Oscwsc9P//IEHNXmdLuM4c/W/R0Y9S2u673Tmwx7muSBIzFi0RN6+u+jIsTGh9S5L2MV1T+P4fAor9IspuN7qdy3U0Od2sTsIIFNZ0D7rjBh5sM7Lr/7BYPoeiRiwKhwTmTWnj/kYdzwI2jI+Z6y20YPSS/T7ie3P5dj6+WF6cGoFQ76ADz6On6iIBEwUrxLo9GEVjDZFi2Yb/X2v601jjEPKiMeOz6hcUR6ByW64Z3BtZWl+i6jukWyRtxFZ5hZXUhc1AkeEYfjzWvLAOqzKMj2uXscjqeXl3NrkejWTmZFVMxxncoy+K6LOR4Eg1Bg+5TLKLVD3GX3TgnDlBpK2g6icejcxiPEk7Mwavjiyu4+gPpH+9Z</script> <treescope-run-here><script type=\"application/octet-stream\"> const root = ( Array.from(document.getElementsByClassName( \"treescope_out_20b76e8dc0c94b7ab9b2ecd8502ea46b\")) .filter((elt) => !elt.dataset['step0']) )[0]; root.dataset['step0'] = 1; root.defns.insertContent( this.parentNode.querySelector('script[type=\"application/octet-stream\"]'), true ); this.parentNode.remove(); </script></treescope-run-here> </div>"
      ],
      "text/plain": [
       "<IPython.core.display.HTML object>"
      ]
     },
     "metadata": {},
     "output_type": "display_data"
    },
    {
     "data": {
      "text/html": [
       "<div style=\"display:none\"> <script type=\"application/octet-stream\" >eNrtV92O4jYUvu9TWBmpCx3IBGZ2dhoYpHZ/pL3pRXvRC4oixz4QdzxxahsWWu397nu0D9BX6KPsk/TYyYQJBLZVaatKDYJgzs/3nZPjc8yYixUxdiPhNuDCFJJuYpKrHAIi+G0wVzrhMAetgSfXV9eXg8tnz65uouiKD6/SSzqAz4Hx9IanbDAMJmNT0Bw/nb9JyJREc5qmGlbkJ+KXMTm7vhnSKBqRt5UCU/f3kNvkTQZ5Amv0wIHHubKdcK4kp6mEJFcc4oyazkTSFOSkKUmsWiwkeJuYZcDugHe75LPuI1TqL4faMEWNQhlhhcpjokFSK1aAWqQVAbUbSdpXJBPiGcZxCpg8eMSA+WvUiidhbmPSH7BsRN4IbrOYYIZqLJFLkUM/lYrdHcHM1Ar0PjKn+s4AXWiAfN/6RJmuOTjTdqMH/QbD3OKzj8mT74ZPU/bk36TXNDpI8vofIOmeowNeauMeYKEEMtAtuMKcDtZvBQ/UhxXGaw7V+GlQt+FZWNt9lFCYZC60sYnKE1f+LVvr2FYKh0/dbmp9VOQv0y+f+C5FF9U91QuR90safkO/DQW2NEwsT1gmJNeQV1VFBVKvystTbSqerAnWjaTqIA2OjErWGbKM9MmgWHc9D2Ops6/5/m1MUqU5FlzJhCuLsTsW5Awi93LJ83MBW5mkhUHpR1vwnyZ2BKFsvB6jMZ4O6JyCRxtEFej4opysfswSJqkxbkQ/HgW7FYkzuWQwFnmxtMRuCpz0HjNV66DVSUUPhSW1yfjCGzdxH0/3oE3UOtd3NJuZDyafSjvCKMtTxK7e1scZqZS+p+vwC63phsylovZy2BlEPTKIuuTD+3dRGJHffnWf0w/vf8F7D3/9Ge8z8iNoFQ+i6DiZxZbMzq3K6RGKDdne/j8qDyY+pM50GoU98vH3rPcJKa//Df5bBrMe4X5HVtXbPVBuzRse2Sdji6c5w1QBfb3M+xlo1xaYFsXDHqdFIQWjbjxeKGbB9g3a0PtgggPHoBbOALCvuSG3ZBr88UP+bFTac8W0UhatbSZMiL6+xuVX2D86OEMqDCRZKVXq4Q9L0JtvQAKzSneCsI4jceJgz/S5xN7nQKp1yNwPHsbqJaB+LdGA3ZLBt8JmnYZ57XSu6cL1pJLP0n0NGSbFwotq+arScDE8aIeYSsj5c7c3a8dOrjTpSLBEoD8cVYKMt1kNJeQLi9NfnJ+7wef0SiEq155x+VKC+/rl5jU6f7Ceill35G2MWmoGL/Bf2sEcnrl/aQE5Jzvm5bKRltpb6KdEhe0jQ4OtVMM9nkE7/jDQSGVrkruuTfraw+psKczfAYvlxAs=</script> <treescope-run-here><script type=\"application/octet-stream\"> const root = ( Array.from(document.getElementsByClassName( \"treescope_out_20b76e8dc0c94b7ab9b2ecd8502ea46b\")) .filter((elt) => !elt.dataset['step1']) )[0]; root.dataset['step1'] = 1; root.defns.insertContent( this.parentNode.querySelector('script[type=\"application/octet-stream\"]'), true ); this.parentNode.remove(); </script></treescope-run-here> </div>"
      ],
      "text/plain": [
       "<IPython.core.display.HTML object>"
      ]
     },
     "metadata": {},
     "output_type": "display_data"
    },
    {
     "data": {
      "text/html": [
       "<treescope-run-here><script type=\"application/octet-stream\"> const root = ( Array.from(document.getElementsByClassName( \"treescope_out_20b76e8dc0c94b7ab9b2ecd8502ea46b\")) .filter((elt) => !elt.dataset.stolen) )[0]; root.dataset.stolen = 1; this.parentNode.replaceChild(root, this); </script></treescope-run-here>"
      ],
      "text/plain": [
       "# jax.Array float32(10, 10) ≈0.0 ±0.0 [≥0.0, ≤0.0] zero:100\n",
       "  Array([[0., 0., 0., 0., 0., 0., 0., 0., 0., 0.],\n",
       "         [0., 0., 0., 0., 0., 0., 0., 0., 0., 0.],\n",
       "         [0., 0., 0., 0., 0., 0., 0., 0., 0., 0.],\n",
       "         [0., 0., 0., 0., 0., 0., 0., 0., 0., 0.],\n",
       "         [0., 0., 0., 0., 0., 0., 0., 0., 0., 0.],\n",
       "         [0., 0., 0., 0., 0., 0., 0., 0., 0., 0.],\n",
       "         [0., 0., 0., 0., 0., 0., 0., 0., 0., 0.],\n",
       "         [0., 0., 0., 0., 0., 0., 0., 0., 0., 0.],\n",
       "         [0., 0., 0., 0., 0., 0., 0., 0., 0., 0.],\n",
       "         [0., 0., 0., 0., 0., 0., 0., 0., 0., 0.]], dtype=float32)"
      ]
     },
     "execution_count": 6,
     "metadata": {},
     "output_type": "execute_result"
    }
   ],
   "source": [
    "array = jnp.zeros((10, 10))\n",
    "array"
   ]
  },
  {
   "cell_type": "code",
   "execution_count": 7,
   "metadata": {
    "execution": {
     "iopub.execute_input": "2024-09-11T16:37:57.842593Z",
     "iopub.status.busy": "2024-09-11T16:37:57.842280Z",
     "iopub.status.idle": "2024-09-11T16:37:57.845792Z",
     "shell.execute_reply": "2024-09-11T16:37:57.845541Z"
    },
    "id": "HYD71Mqo89Bf"
   },
   "outputs": [
    {
     "name": "stderr",
     "output_type": "stream",
     "text": [
      "Traceback (most recent call last):\n",
      "  File \"<ipython-input-7-5c112bb0ee90>\", line 2, in <cell line: 1>\n",
      "    array[1, 2] = 42\n",
      "  File \"/usr/local/lib/python3.10/dist-packages/jax/_src/numpy/array_methods.py\", line 278, in _unimplemented_setitem\n",
      "    raise TypeError(msg.format(type(self)))\n",
      "TypeError: '<class 'jaxlib.xla_extension.ArrayImpl'>' object does not support item assignment. JAX arrays are immutable. Instead of ``x[idx] = y``, use ``x = x.at[idx].set(y)`` or another .at[] method: https://jax.readthedocs.io/en/latest/_autosummary/jax.numpy.ndarray.at.html\n"
     ]
    }
   ],
   "source": [
    "try:\n",
    "  array[1, 2] = 42\n",
    "except TypeError:\n",
    "  import traceback\n",
    "  traceback.print_exc()"
   ]
  },
  {
   "cell_type": "markdown",
   "metadata": {
    "id": "GyEJo0EV9Kld"
   },
   "source": [
    "Instead, to modify a JAX array you can use the special `.at` property, which returns a modified copy of the original array with changes at the location you specified:"
   ]
  },
  {
   "cell_type": "code",
   "execution_count": 8,
   "metadata": {
    "execution": {
     "iopub.execute_input": "2024-09-11T16:37:57.855128Z",
     "iopub.status.busy": "2024-09-11T16:37:57.854817Z",
     "iopub.status.idle": "2024-09-11T16:37:58.062998Z",
     "shell.execute_reply": "2024-09-11T16:37:58.063130Z"
    },
    "id": "o6Ydo5jt8_Oo"
   },
   "outputs": [
    {
     "data": {
      "text/html": [
       "<script> (()=>{ if (customElements.get('treescope-container') === undefined) { class TreescopeContainer extends HTMLElement { constructor() { super(); this.attachShadow({mode: \"open\"}); this.defns = {}; this.state = {}; } } customElements.define(\"treescope-container\", TreescopeContainer); } if (customElements.get('treescope-run-here') === undefined) { class RunHere extends HTMLElement { constructor() { super() } connectedCallback() { const run = child => { const fn = new Function(child.textContent); child.textContent = \"\"; fn.call(this); this.remove(); }; const child = this.querySelector(\"script\"); if (child) { run(child); } else { new MutationObserver(()=>{ run(this.querySelector(\"script\")); }).observe(this, {childList: true}); } } } customElements.define(\"treescope-run-here\", RunHere); } })(); </script> <treescope-container class=\"treescope_out_be322e9bb56b4b06897be5f158ceafdb\" ></treescope-container> <treescope-run-here><script type=\"application/octet-stream\"> const root = ( Array.from(document.getElementsByClassName( \"treescope_out_be322e9bb56b4b06897be5f158ceafdb\")) .filter((elt) => !elt.dataset.setup) )[0]; root.dataset.setup = 1; const msg = document.createElement(\"span\"); msg.style = \"color: #cccccc; font-family: monospace;\"; msg.textContent = \"(Loading...)\"; root.state.loadingMsg = msg; root.shadowRoot.appendChild(msg); root.state.chain = new Promise((resolve, reject) => { const observer = new IntersectionObserver((entries) => { for (const entry of entries) { if (entry.isIntersecting) { resolve(); observer.disconnect(); return; } } }, {rootMargin: \"1000px\"}); window.setTimeout(() => { observer.observe(root); }, 0); }); root.state.deferring = false; const _insertNode = (node) => { for (let oldScript of node.querySelectorAll(\"script\")) { let newScript = document.createElement(\"script\"); newScript.type = oldScript.type; newScript.textContent = oldScript.textContent; oldScript.parentNode.replaceChild(newScript, oldScript); } if (root.state.loadingMsg) { root.state.loadingMsg.remove(); root.state.loadingMsg = null; } root.shadowRoot.appendChild(node); }; root.defns.insertContent = ((contentNode, compressed) => { if (compressed) { root.state.deferring = true; } if (root.state.deferring) { root.state.chain = (async () => { await root.state.chain; if (compressed) { const encoded = contentNode.textContent; const blob = new Blob([ Uint8Array.from(atob(encoded), (m) => m.codePointAt(0)) ]); const reader = blob.stream().pipeThrough( new DecompressionStream(\"deflate\") ).pipeThrough( new TextDecoderStream(\"utf-8\") ).getReader(); const parts = []; while (true) { const step = await reader.read(); if (step.done) { break; } parts.push(step.value); } const tpl = document.createElement('template'); tpl.innerHTML = parts.join(\"\"); _insertNode(tpl.content); } else { _insertNode(contentNode.content); } })(); } else { _insertNode(contentNode.content); } }); </script></treescope-run-here><div style=\"display:none\"> <script type=\"application/octet-stream\" >eNqNVEtv2zAM/iuEd6gN1G76bpM4QC/DDsMO22GHYQhkmba1KpIn0UmzIf99lO1mfWTF4INtPj5+H0Vq7mmrcZGRQ/TStrh01hL8htZ6RcqaKTjUgtQaZ1BZQ2klVkpvp7CyxvpWSLZvGkWY9j9TaB1btPKU9tApbVu2GmvYXAh5XzvbmTKVVls3HVJnMP4VmgMYT5XUTKFSxGGG0NAMWlGWytSpxoqmcCabUMRg2qCqG7acZpcBxpBQzHmfNn6ka+VVobQiZi46svvYVBlyynglU69+4eAd6e7mJ0N75vv2pK4zXNOxzUunWoKgLz8SbauVFKFjJ1YSBvUOxepoEcdJvuCGcj1PUGJlPORAjfJZjfSZu/3JlhgnWWM9Zb2fpSHBskUTJN/JgBqSvn0/5PkgTKmR3abTejZUyJjmF2sNW+ONdfcJPOVgv7IpuJ6ZSclgbNFV1q2EkZgZu4mT/ny5QPzKA+mQNIfzs4RxVAXxC9aZRlNTA3kOkxDyJnWH1DnDfQfUHv8SazoTmL2E9o2qKPDrA8LHjp9/VIh5qkxpN5nDnx16ujNq1R/XeydWGA89SQLG7FWhtvPN0MbZAY2PJfJBxhsq/59DYDEcJNm61sNWLvvN4WltA1awoKZjwDUP+HiSgV3/n93jNjQ9clEgNAZnUgvvP/JyjrhxtMdcrngMo8fiu4T7yePfz/hifnJoAUq1hh4wj55fHxGQKFgpPuTRJAJrmAzLNhz31tgf1hqHnEeVEa/dcGFxBjqH5bLlOwMbq0t0/cT0F8k7cR2e8crqU6agSPCOPl1rvrIMqDKP9miFEMXl1VVxfTG5uZDy5vb8UoiqkOXN7TU7bqMxadR9iEW0+CEesjvnxBYqbQWdn8Wnk2M4nSRcmJMX+xd3cPEHOf7wAQ==</script> <treescope-run-here><script type=\"application/octet-stream\"> const root = ( Array.from(document.getElementsByClassName( \"treescope_out_be322e9bb56b4b06897be5f158ceafdb\")) .filter((elt) => !elt.dataset['step0']) )[0]; root.dataset['step0'] = 1; root.defns.insertContent( this.parentNode.querySelector('script[type=\"application/octet-stream\"]'), true ); this.parentNode.remove(); </script></treescope-run-here> </div>"
      ],
      "text/plain": [
       "<IPython.core.display.HTML object>"
      ]
     },
     "metadata": {},
     "output_type": "display_data"
    },
    {
     "data": {
      "text/html": [
       "<div style=\"display:none\"> <script type=\"application/octet-stream\" >eNrtV82S4jYQvucpVJ6qLGQGD7Azs4NhqEp2k6q97CE55EAolyw1WBlhOZJgIam9Z94j+wB5hTzKPElasgcwGJLNkp9DTBVYdH/9fWpJ3faAiwUxdiXhLuDC5JKuIpKpDAIi+F0wUTrmMAGtgccJpcn1zU3y4qp9e8XYbe/5NaWThPHb3gs09ILhwOQ0w28XbxgyJRFOk0TDgvxE/DAiZze3Xdpu98m70oGp2QwyG79NIYthiRE48ChTthFOlOQ0kRBnikOUUtMYSpqAHFYtsVXTqQSPiVgK7B54s0k+a26xUn851goUPXJlhBUqi4gGSa1YAHqRWgb0riRp35EMiVcYRQlg8mBLAfNXv5ZPwsRGpNVhaZ+8FdymEcEMrblEJkUGrUQqdn+EM1UL0PvMnOp7A3SqAbJ99IkyvdbgoPWgJ/+Kwszi2kfk2Xfd64Q9+zflVUEHRd78AyLdOjriuTZuAXMlUIGu4RXmdLT+KHiiFixwvubQHj8N62Z6FpZ2nyUUJp4IbWysstht/5qjdewohd1rd5pql4p8tPxixXclulnNqJ6KrFXI8Af6XSiwpGFiecxSIbmGrNxVVKD0cnt5qVXHkxXBdSEpK0hFI6OSNbosJS3SyZdNr8NY6vBrvX+bkkRpjhuuUMKVxbk7FeQM2u7jkuf7ApYySXOD1j8swR8s7AhDUXg9R6U9HfA5hY46inKig8uis/o2S5ikxrgWvd0Kdnck9uRCwUBk+dwSu8qx03vORC2D2iClPDQW0oaDSw+u8m5396DOVNvXdzyrmQ+Gn0rbx1kWTxG7fpsYZ6R0+p4uw8+1pisykYra591Gp31BOu0meXz4uR1edclvv16FXTJ6fHjfDtH0+PALjuG83RmTH0GrqNdz2fW3nePSphtpOz9lho8Irtj2qsFRezD0E2yMRqQdXpAP+BpffEKKawt61f3L0I9g/R/6H4GOLwj3NaA8L80DW7r6gy8Jw4HF50fDVA4tPc9aKWhXiJgW+VNVoXkuBaOuIV8qZsG2DGLoLBhiizPohV0H7GtuyB0ZBX/+tWLcL/BcMa2URbRNhQkx1tc4fIMVq4Fdq+RAkaVT6R7+MAe9+gYkMKt0IwjX84idOdiDvpRYbR1JOQ6Z+8PTWD0H9F9bNGB9ZvCtsGmjAl8HnWg6dVWw0DN3tyHDpFh4VQ6/Kj3cHJ68Q0wlZPylO//rwM6uNGlIsERgPGyOggw2WQ0lZFOLzxvi/Ny1WudXGNF5HRmHX0pwt1+sXmPwJ/RIjJt9jzFqrhm8wvfCgzk8c++FATknO/BiWEnLOlro+1LJ7WeGgI1Vwwyfehv+8aOSytokN10p9nsPd2fNxvwdmzzWmw==</script> <treescope-run-here><script type=\"application/octet-stream\"> const root = ( Array.from(document.getElementsByClassName( \"treescope_out_be322e9bb56b4b06897be5f158ceafdb\")) .filter((elt) => !elt.dataset['step1']) )[0]; root.dataset['step1'] = 1; root.defns.insertContent( this.parentNode.querySelector('script[type=\"application/octet-stream\"]'), true ); this.parentNode.remove(); </script></treescope-run-here> </div>"
      ],
      "text/plain": [
       "<IPython.core.display.HTML object>"
      ]
     },
     "metadata": {},
     "output_type": "display_data"
    },
    {
     "data": {
      "text/html": [
       "<treescope-run-here><script type=\"application/octet-stream\"> const root = ( Array.from(document.getElementsByClassName( \"treescope_out_be322e9bb56b4b06897be5f158ceafdb\")) .filter((elt) => !elt.dataset.stolen) )[0]; root.dataset.stolen = 1; this.parentNode.replaceChild(root, this); </script></treescope-run-here>"
      ],
      "text/plain": [
       "# jax.Array float32(10, 10) ≈0.42 ±4.2 [≥0.0, ≤4.2e+01] zero:99 nonzero:1\n",
       "  Array([[ 0.,  0.,  0.,  0.,  0.,  0.,  0.,  0.,  0.,  0.],\n",
       "         [ 0.,  0., 42.,  0.,  0.,  0.,  0.,  0.,  0.,  0.],\n",
       "         [ 0.,  0.,  0.,  0.,  0.,  0.,  0.,  0.,  0.,  0.],\n",
       "         [ 0.,  0.,  0.,  0.,  0.,  0.,  0.,  0.,  0.,  0.],\n",
       "         [ 0.,  0.,  0.,  0.,  0.,  0.,  0.,  0.,  0.,  0.],\n",
       "         [ 0.,  0.,  0.,  0.,  0.,  0.,  0.,  0.,  0.,  0.],\n",
       "         [ 0.,  0.,  0.,  0.,  0.,  0.,  0.,  0.,  0.,  0.],\n",
       "         [ 0.,  0.,  0.,  0.,  0.,  0.,  0.,  0.,  0.,  0.],\n",
       "         [ 0.,  0.,  0.,  0.,  0.,  0.,  0.,  0.,  0.,  0.],\n",
       "         [ 0.,  0.,  0.,  0.,  0.,  0.,  0.,  0.,  0.,  0.]], dtype=float32)"
      ]
     },
     "execution_count": 8,
     "metadata": {},
     "output_type": "execute_result"
    }
   ],
   "source": [
    "modified_array = array.at[1, 2].set(42)\n",
    "modified_array"
   ]
  },
  {
   "cell_type": "markdown",
   "metadata": {
    "id": "AfD7GKrc-KFP"
   },
   "source": [
    "JAX also introduces the concept of [PyTrees](https://jax.readthedocs.io/en/latest/pytrees.html): nested containers of data that JAX knows how to traverse. Most JAX transformations are designed to work with functions that take PyTrees as input and return PyTrees as output.\n",
    "\n",
    "Although JAX does treat dictionaries and lists as PyTrees, JAX usually assumes that those trees will not be mutated, and expects the user to write code in a functional style, avoiding mutating its arguments directly.\n",
    "\n",
    "**`pz.select` enables `.at[...].set(...)`-style modification for arbitrary PyTrees**, making it possible to perform complex path-based and type-driven modifications to the objects you're already using:"
   ]
  },
  {
   "cell_type": "code",
   "execution_count": 9,
   "metadata": {
    "execution": {
     "iopub.execute_input": "2024-09-11T16:37:58.071942Z",
     "iopub.status.busy": "2024-09-11T16:37:58.071681Z",
     "iopub.status.idle": "2024-09-11T16:37:58.144768Z",
     "shell.execute_reply": "2024-09-11T16:37:58.144438Z"
    },
    "id": "qMN5Bzdq-A7q"
   },
   "outputs": [],
   "source": [
    "my_nested_object = {\n",
    "    \"a\": 1,\n",
    "    \"b\": jnp.arange(10),\n",
    "    \"c\": [\n",
    "        {\"value\": jnp.arange(12)},\n",
    "        {\"value\": jnp.zeros([7])},\n",
    "        {\"value\": 3},\n",
    "    ]\n",
    "}"
   ]
  },
  {
   "cell_type": "code",
   "execution_count": 10,
   "metadata": {
    "execution": {
     "iopub.execute_input": "2024-09-11T16:37:58.153524Z",
     "iopub.status.busy": "2024-09-11T16:37:58.153287Z",
     "iopub.status.idle": "2024-09-11T16:37:58.213909Z",
     "shell.execute_reply": "2024-09-11T16:37:58.213709Z"
    },
    "id": "yPqRBFmD9N4V"
   },
   "outputs": [
    {
     "data": {
      "text/html": [
       "<script> (()=>{ if (customElements.get('treescope-container') === undefined) { class TreescopeContainer extends HTMLElement { constructor() { super(); this.attachShadow({mode: \"open\"}); this.defns = {}; this.state = {}; } } customElements.define(\"treescope-container\", TreescopeContainer); } if (customElements.get('treescope-run-here') === undefined) { class RunHere extends HTMLElement { constructor() { super() } connectedCallback() { const run = child => { const fn = new Function(child.textContent); child.textContent = \"\"; fn.call(this); this.remove(); }; const child = this.querySelector(\"script\"); if (child) { run(child); } else { new MutationObserver(()=>{ run(this.querySelector(\"script\")); }).observe(this, {childList: true}); } } } customElements.define(\"treescope-run-here\", RunHere); } })(); </script> <treescope-container class=\"treescope_out_c4f7f60ec48f4d86b4bd927fe19f2bc2\" ></treescope-container> <treescope-run-here><script type=\"application/octet-stream\"> const root = ( Array.from(document.getElementsByClassName( \"treescope_out_c4f7f60ec48f4d86b4bd927fe19f2bc2\")) .filter((elt) => !elt.dataset.setup) )[0]; root.dataset.setup = 1; const msg = document.createElement(\"span\"); msg.style = \"color: #cccccc; font-family: monospace;\"; msg.textContent = \"(Loading...)\"; root.state.loadingMsg = msg; root.shadowRoot.appendChild(msg); root.state.chain = new Promise((resolve, reject) => { const observer = new IntersectionObserver((entries) => { for (const entry of entries) { if (entry.isIntersecting) { resolve(); observer.disconnect(); return; } } }, {rootMargin: \"1000px\"}); window.setTimeout(() => { observer.observe(root); }, 0); }); root.state.deferring = false; const _insertNode = (node) => { for (let oldScript of node.querySelectorAll(\"script\")) { let newScript = document.createElement(\"script\"); newScript.type = oldScript.type; newScript.textContent = oldScript.textContent; oldScript.parentNode.replaceChild(newScript, oldScript); } if (root.state.loadingMsg) { root.state.loadingMsg.remove(); root.state.loadingMsg = null; } root.shadowRoot.appendChild(node); }; root.defns.insertContent = ((contentNode, compressed) => { if (compressed) { root.state.deferring = true; } if (root.state.deferring) { root.state.chain = (async () => { await root.state.chain; if (compressed) { const encoded = contentNode.textContent; const blob = new Blob([ Uint8Array.from(atob(encoded), (m) => m.codePointAt(0)) ]); const reader = blob.stream().pipeThrough( new DecompressionStream(\"deflate\") ).pipeThrough( new TextDecoderStream(\"utf-8\") ).getReader(); const parts = []; while (true) { const step = await reader.read(); if (step.done) { break; } parts.push(step.value); } const tpl = document.createElement('template'); tpl.innerHTML = parts.join(\"\"); _insertNode(tpl.content); } else { _insertNode(contentNode.content); } })(); } else { _insertNode(contentNode.content); } }); </script></treescope-run-here><div style=\"display:none\"> <script type=\"application/octet-stream\" >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</script> <treescope-run-here><script type=\"application/octet-stream\"> const root = ( Array.from(document.getElementsByClassName( \"treescope_out_c4f7f60ec48f4d86b4bd927fe19f2bc2\")) .filter((elt) => !elt.dataset['step0']) )[0]; root.dataset['step0'] = 1; root.defns.insertContent( this.parentNode.querySelector('script[type=\"application/octet-stream\"]'), true ); this.parentNode.remove(); </script></treescope-run-here> </div>"
      ],
      "text/plain": [
       "<IPython.core.display.HTML object>"
      ]
     },
     "metadata": {},
     "output_type": "display_data"
    },
    {
     "data": {
      "text/html": [
       "<div style=\"display:none\"> <script type=\"application/octet-stream\" >eNq1VE1v2zAM/SuECxQJ6rr+Ttx8AFu7Ab3ssB12KIJCluhEg2p5slIsGPrfRzmO227d2g3Y5dk0+Ug+ivJcyDto7U7hwhOybRTbnUOta/RAioVXaXMjsEJjUNyEkZhEkyiLM56kYZEzZHlcxKlAFudlyb3lvG1YTejyLQOuFdFZWRq8g+/QmedwlE9jFoYzuJ+f7QM7FnDF2nbhPSZ5y2NlZ1/Yt+CNMWw3ug59iHyIfUh8SH3IfMh9mPgw9aFY+SDsrsGFrG0Sj4/XdkYFun4OD9K6nP+F4EIkWVXyKop5kWKCBU+m8STNYh5VZZWVD4JfKyAKnYQwchA7SBykDjIHuYOJg6mDgiByjCj6D/KiIuaYxphVVZKycloWmPAsZyJLimmI7J/kBa7vl3AQUynN/ijHGsSW6wZPzbY+3aBx68KNbCx0CTzWNEpyZqWuzzS3aE9b4rBbb8l13VIUM2u0V6KFBVx7r99lH7zX78Hj4BenuprtOxOaG60t9WU3sg2oy49kftACR+MZ9N2T/D6oDw++btHsPqFCbrUZecEwoRvn9n6hXig6fVektwPuPnRlrNkixQ8eg7QvHD9Luxk9oQ9JK8PWt1j3/Wzda8Bp3BYve/N9H+E0HKIDOiSsxcVGKjEkdn5tYKTQgqR89EeQMH84r0BhvbYb+npyMqbfh4vbOyl4yEzmO4Xu9e3uipIf2NdyRQUcp9Vbw/GSrsVvZ3jkroUHJ/ATfW8+GcuQLaikaQ+1O2VEePAavNV33UHePz2JZ4c8dsvfbTXt/TMr/wPmGd1S</script> <treescope-run-here><script type=\"application/octet-stream\"> const root = ( Array.from(document.getElementsByClassName( \"treescope_out_c4f7f60ec48f4d86b4bd927fe19f2bc2\")) .filter((elt) => !elt.dataset['step1']) )[0]; root.dataset['step1'] = 1; root.defns.insertContent( this.parentNode.querySelector('script[type=\"application/octet-stream\"]'), true ); this.parentNode.remove(); </script></treescope-run-here> </div>"
      ],
      "text/plain": [
       "<IPython.core.display.HTML object>"
      ]
     },
     "metadata": {},
     "output_type": "display_data"
    },
    {
     "data": {
      "text/html": [
       "<treescope-run-here><script type=\"application/octet-stream\"> const root = ( Array.from(document.getElementsByClassName( \"treescope_out_c4f7f60ec48f4d86b4bd927fe19f2bc2\")) .filter((elt) => !elt.dataset.stolen) )[0]; root.dataset.stolen = 1; this.parentNode.replaceChild(root, this); </script></treescope-run-here>"
      ],
      "text/plain": [
       "{'a': 1,\n",
       " 'b': <jax.Array([0, 1, 2, 3, 4, 5, 6, 7, 8, 9], dtype=int32)>,\n",
       " 'c': [{'value': <jax.Array([100, 101, 102, 103, 104, 105, 106, 107, 108, 109, 110, 111], dtype=int32)>},\n",
       "  {'value': <jax.Array([100., 100., 100., 100., 100., 100., 100.], dtype=float32)>},\n",
       "  {'value': 103}]}"
      ]
     },
     "execution_count": 10,
     "metadata": {},
     "output_type": "execute_result"
    }
   ],
   "source": [
    "(\n",
    "    pz.select(my_nested_object)\n",
    "      .at(lambda root: root[\"c\"])\n",
    "      .at_instances_of(jax.typing.ArrayLike)\n",
    "      .apply(lambda value: value + 100)\n",
    ")"
   ]
  },
  {
   "cell_type": "markdown",
   "metadata": {
    "id": "4vKkkNk5-cmj"
   },
   "source": [
    "Selectors are first-class objects, defined in `penzai.core.selectors` but aliased to `pz.select` and `pz.Selection`. Internally, they are ordinary PyTrees:\n"
   ]
  },
  {
   "cell_type": "code",
   "execution_count": 11,
   "metadata": {
    "execution": {
     "iopub.execute_input": "2024-09-11T16:37:58.218196Z",
     "iopub.status.busy": "2024-09-11T16:37:58.217921Z",
     "iopub.status.idle": "2024-09-11T16:37:58.233537Z",
     "shell.execute_reply": "2024-09-11T16:37:58.233363Z"
    },
    "id": "Y58Ll7sO_qjo"
   },
   "outputs": [
    {
     "data": {
      "text/html": [
       "<script> (()=>{ if (customElements.get('treescope-container') === undefined) { class TreescopeContainer extends HTMLElement { constructor() { super(); this.attachShadow({mode: \"open\"}); this.defns = {}; this.state = {}; } } customElements.define(\"treescope-container\", TreescopeContainer); } if (customElements.get('treescope-run-here') === undefined) { class RunHere extends HTMLElement { constructor() { super() } connectedCallback() { const run = child => { const fn = new Function(child.textContent); child.textContent = \"\"; fn.call(this); this.remove(); }; const child = this.querySelector(\"script\"); if (child) { run(child); } else { new MutationObserver(()=>{ run(this.querySelector(\"script\")); }).observe(this, {childList: true}); } } } customElements.define(\"treescope-run-here\", RunHere); } })(); </script> <treescope-container class=\"treescope_out_86c1f517e17b442e92ad21cc01fdd48a\" ></treescope-container> <treescope-run-here><script type=\"application/octet-stream\"> const root = ( Array.from(document.getElementsByClassName( \"treescope_out_86c1f517e17b442e92ad21cc01fdd48a\")) .filter((elt) => !elt.dataset.setup) )[0]; root.dataset.setup = 1; const msg = document.createElement(\"span\"); msg.style = \"color: #cccccc; font-family: monospace;\"; msg.textContent = \"(Loading...)\"; root.state.loadingMsg = msg; root.shadowRoot.appendChild(msg); root.state.chain = new Promise((resolve, reject) => { const observer = new IntersectionObserver((entries) => { for (const entry of entries) { if (entry.isIntersecting) { resolve(); observer.disconnect(); return; } } }, {rootMargin: \"1000px\"}); window.setTimeout(() => { observer.observe(root); }, 0); }); root.state.deferring = false; const _insertNode = (node) => { for (let oldScript of node.querySelectorAll(\"script\")) { let newScript = document.createElement(\"script\"); newScript.type = oldScript.type; newScript.textContent = oldScript.textContent; oldScript.parentNode.replaceChild(newScript, oldScript); } if (root.state.loadingMsg) { root.state.loadingMsg.remove(); root.state.loadingMsg = null; } root.shadowRoot.appendChild(node); }; root.defns.insertContent = ((contentNode, compressed) => { if (compressed) { root.state.deferring = true; } if (root.state.deferring) { root.state.chain = (async () => { await root.state.chain; if (compressed) { const encoded = contentNode.textContent; const blob = new Blob([ Uint8Array.from(atob(encoded), (m) => m.codePointAt(0)) ]); const reader = blob.stream().pipeThrough( new DecompressionStream(\"deflate\") ).pipeThrough( new TextDecoderStream(\"utf-8\") ).getReader(); const parts = []; while (true) { const step = await reader.read(); if (step.done) { break; } parts.push(step.value); } const tpl = document.createElement('template'); tpl.innerHTML = parts.join(\"\"); _insertNode(tpl.content); } else { _insertNode(contentNode.content); } })(); } else { _insertNode(contentNode.content); } }); </script></treescope-run-here><div style=\"display:none\"> <script type=\"application/octet-stream\" >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</script> <treescope-run-here><script type=\"application/octet-stream\"> const root = ( Array.from(document.getElementsByClassName( \"treescope_out_86c1f517e17b442e92ad21cc01fdd48a\")) .filter((elt) => !elt.dataset['step0']) )[0]; root.dataset['step0'] = 1; root.defns.insertContent( this.parentNode.querySelector('script[type=\"application/octet-stream\"]'), true ); this.parentNode.remove(); </script></treescope-run-here> </div>"
      ],
      "text/plain": [
       "Selection(\n",
       "  selected_by_path=OrderedDict({\n",
       "    (DictKey(key='c'), SequenceKey(idx=0), DictKey(key='value')):\n",
       "      <jax.Array([ 0,  1,  2,  3,  4,  5,  6,  7,  8,  9, 10, 11], dtype=int32)>,\n",
       "    (DictKey(key='c'), SequenceKey(idx=1), DictKey(key='value')):\n",
       "      <jax.Array([0., 0., 0., 0., 0., 0., 0.], dtype=float32)>,\n",
       "    (DictKey(key='c'), SequenceKey(idx=2), DictKey(key='value')):\n",
       "      3,\n",
       "  }),\n",
       "  remainder={'a': 1, 'b': <jax.Array([0, 1, 2, 3, 4, 5, 6, 7, 8, 9], dtype=int32)>, 'c': [{'value': SelectionHole(path=(DictKey(key='c'), SequenceKey(idx=0), DictKey(key='value')))}, {'value': SelectionHole(path=(DictKey(key='c'), SequenceKey(idx=1), DictKey(key='value')))}, {'value': SelectionHole(path=(DictKey(key='c'), SequenceKey(idx=2), DictKey(key='value')))}]},\n",
       ")"
      ]
     },
     "metadata": {},
     "output_type": "display_data"
    }
   ],
   "source": [
    "my_selection = (\n",
    "    pz.select(my_nested_object)\n",
    "      .at(lambda root: root[\"c\"])\n",
    "      .at_instances_of(jax.typing.ArrayLike)\n",
    ")\n",
    "\n",
    "pz.show(my_selection)"
   ]
  },
  {
   "cell_type": "markdown",
   "metadata": {
    "id": "FJ3OuNUD_lO4"
   },
   "source": [
    "By default, though, selections are rendered in a way that emphasizes what you've selected, so you can tell at a glance that you're making the changes you expect to:"
   ]
  },
  {
   "cell_type": "code",
   "execution_count": 12,
   "metadata": {
    "execution": {
     "iopub.execute_input": "2024-09-11T16:37:58.236825Z",
     "iopub.status.busy": "2024-09-11T16:37:58.236567Z",
     "iopub.status.idle": "2024-09-11T16:37:58.255582Z",
     "shell.execute_reply": "2024-09-11T16:37:58.255715Z"
    },
    "id": "EUD6zd_L-iNr"
   },
   "outputs": [
    {
     "data": {
      "text/html": [
       "<script> (()=>{ if (customElements.get('treescope-container') === undefined) { class TreescopeContainer extends HTMLElement { constructor() { super(); this.attachShadow({mode: \"open\"}); this.defns = {}; this.state = {}; } } customElements.define(\"treescope-container\", TreescopeContainer); } if (customElements.get('treescope-run-here') === undefined) { class RunHere extends HTMLElement { constructor() { super() } connectedCallback() { const run = child => { const fn = new Function(child.textContent); child.textContent = \"\"; fn.call(this); this.remove(); }; const child = this.querySelector(\"script\"); if (child) { run(child); } else { new MutationObserver(()=>{ run(this.querySelector(\"script\")); }).observe(this, {childList: true}); } } } customElements.define(\"treescope-run-here\", RunHere); } })(); </script> <treescope-container class=\"treescope_out_d7880dc91c2d49e7a330044caa32a655\" ></treescope-container> <treescope-run-here><script type=\"application/octet-stream\"> const root = ( Array.from(document.getElementsByClassName( \"treescope_out_d7880dc91c2d49e7a330044caa32a655\")) .filter((elt) => !elt.dataset.setup) )[0]; root.dataset.setup = 1; const msg = document.createElement(\"span\"); msg.style = \"color: #cccccc; font-family: monospace;\"; msg.textContent = \"(Loading...)\"; root.state.loadingMsg = msg; root.shadowRoot.appendChild(msg); root.state.chain = new Promise((resolve, reject) => { const observer = new IntersectionObserver((entries) => { for (const entry of entries) { if (entry.isIntersecting) { resolve(); observer.disconnect(); return; } } }, {rootMargin: \"1000px\"}); window.setTimeout(() => { observer.observe(root); }, 0); }); root.state.deferring = false; const _insertNode = (node) => { for (let oldScript of node.querySelectorAll(\"script\")) { let newScript = document.createElement(\"script\"); newScript.type = oldScript.type; newScript.textContent = oldScript.textContent; oldScript.parentNode.replaceChild(newScript, oldScript); } if (root.state.loadingMsg) { root.state.loadingMsg.remove(); root.state.loadingMsg = null; } root.shadowRoot.appendChild(node); }; root.defns.insertContent = ((contentNode, compressed) => { if (compressed) { root.state.deferring = true; } if (root.state.deferring) { root.state.chain = (async () => { await root.state.chain; if (compressed) { const encoded = contentNode.textContent; const blob = new Blob([ Uint8Array.from(atob(encoded), (m) => m.codePointAt(0)) ]); const reader = blob.stream().pipeThrough( new DecompressionStream(\"deflate\") ).pipeThrough( new TextDecoderStream(\"utf-8\") ).getReader(); const parts = []; while (true) { const step = await reader.read(); if (step.done) { break; } parts.push(step.value); } const tpl = document.createElement('template'); tpl.innerHTML = parts.join(\"\"); _insertNode(tpl.content); } else { _insertNode(contentNode.content); } })(); } else { _insertNode(contentNode.content); } }); </script></treescope-run-here><div style=\"display:none\"> <script type=\"application/octet-stream\" >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</script> <treescope-run-here><script type=\"application/octet-stream\"> const root = ( Array.from(document.getElementsByClassName( \"treescope_out_d7880dc91c2d49e7a330044caa32a655\")) .filter((elt) => !elt.dataset['step0']) )[0]; root.dataset['step0'] = 1; root.defns.insertContent( this.parentNode.querySelector('script[type=\"application/octet-stream\"]'), true ); this.parentNode.remove(); </script></treescope-run-here> </div>"
      ],
      "text/plain": [
       "<IPython.core.display.HTML object>"
      ]
     },
     "metadata": {},
     "output_type": "display_data"
    },
    {
     "data": {
      "text/html": [
       "<div style=\"display:none\"> <script type=\"application/octet-stream\" >eNq1lE1v2zAMhv8KoQFFgrqu7TiO3XwAW7sBveywHXYoikKW6ESDanmyUiwY+t9HOY7bbt3WHnZIYlovPx6SykKqO2jdTuOSSdU2mu/OoDY1MlByySpjbyRWaC3KmzLOs0nJSy5inubpNE8iEWMyncUCqyIr2GrRNrymbx9vFQqjyZ2XpcU7+AGdeQZvsjzhUTSH+8XpXth5gdC8bZfssRNbHWk3/8q/h2+t5bvRVRRAHEASwCSANIBpAFkAswDyAIrrAKTbNbhUtZsk46O1m1OCrp7DD7GuFq8A9nRFFBUYFzKVWZRjMuOTaZ4mQmYTTB+AXwoAROARPIOH8BQew3N4EE8CBVF60vg/IOVlmuWRyOVMTtNYZnmW8lmZ8ioWqZjm0euRojCA5z9D+ZU2/K8AziK2wjR4Yrf1yQatXwphVeOgC8B402gluFOmPjXCoTtpyYffspUwdUsqbtfoLmULS7hiL9/YANjLp/1Y/M8+Xs/3lUkjrDGO6nIb1YZU5ScyPxqJo/Ec+uoJvxf18vDbFu3uM2oUztgRC4cO3fhj9pvruaZ5+yS9HQr/okvj7BZJP5xYpA0R+EW5zeiJ+xC0snx9i3Vfz9Y/hoLa7fCiNz/0Cs9wUIc0JKzl+UZpOQT258bCSKMDRfHo3itYPMwr1Fiv3YbeHh+P6U/C6/aHJB4ik/leo398t7uk4AfvK3VNCbxPa7ZW4AVdhD/28I2/CAyO4Rf3vfmkLUO0sFK2PeTuyMjh4dTirbnrBnn/dBLPNnnsl7/batr7Z1b+J+uj1Y0=</script> <treescope-run-here><script type=\"application/octet-stream\"> const root = ( Array.from(document.getElementsByClassName( \"treescope_out_d7880dc91c2d49e7a330044caa32a655\")) .filter((elt) => !elt.dataset['step1']) )[0]; root.dataset['step1'] = 1; root.defns.insertContent( this.parentNode.querySelector('script[type=\"application/octet-stream\"]'), true ); this.parentNode.remove(); </script></treescope-run-here> </div>"
      ],
      "text/plain": [
       "<IPython.core.display.HTML object>"
      ]
     },
     "metadata": {},
     "output_type": "display_data"
    },
    {
     "data": {
      "text/html": [
       "<treescope-run-here><script type=\"application/octet-stream\"> const root = ( Array.from(document.getElementsByClassName( \"treescope_out_d7880dc91c2d49e7a330044caa32a655\")) .filter((elt) => !elt.dataset.stolen) )[0]; root.dataset.stolen = 1; this.parentNode.replaceChild(root, this); </script></treescope-run-here>"
      ],
      "text/plain": [
       "Selection(\n",
       "  selected_by_path=OrderedDict({\n",
       "    (DictKey(key='c'), SequenceKey(idx=0), DictKey(key='value')):\n",
       "      <jax.Array([ 0,  1,  2,  3,  4,  5,  6,  7,  8,  9, 10, 11], dtype=int32)>,\n",
       "    (DictKey(key='c'), SequenceKey(idx=1), DictKey(key='value')):\n",
       "      <jax.Array([0., 0., 0., 0., 0., 0., 0.], dtype=float32)>,\n",
       "    (DictKey(key='c'), SequenceKey(idx=2), DictKey(key='value')):\n",
       "      3,\n",
       "  }),\n",
       "  remainder={'a': 1, 'b': <jax.Array([0, 1, 2, 3, 4, 5, 6, 7, 8, 9], dtype=int32)>, 'c': [{'value': SelectionHole(path=(DictKey(key='c'), SequenceKey(idx=0), DictKey(key='value')))}, {'value': SelectionHole(path=(DictKey(key='c'), SequenceKey(idx=1), DictKey(key='value')))}, {'value': SelectionHole(path=(DictKey(key='c'), SequenceKey(idx=2), DictKey(key='value')))}]},\n",
       ")"
      ]
     },
     "execution_count": 12,
     "metadata": {},
     "output_type": "execute_result"
    }
   ],
   "source": [
    "my_selection"
   ]
  },
  {
   "cell_type": "markdown",
   "metadata": {
    "id": "Alps_lEFBFq3"
   },
   "source": [
    "(This fancy rendering mode is triggered when you display a single selection after enabling `treescope.register_as_default()`, or when you call `.show_selection()` on a selection object.)"
   ]
  },
  {
   "cell_type": "markdown",
   "metadata": {
    "id": "7UpYotjP-ZIC"
   },
   "source": [
    "## Building selections"
   ]
  },
  {
   "cell_type": "markdown",
   "metadata": {
    "id": "WEBkR8V7EiRr"
   },
   "source": [
    "The penzai selector API is designed around *method chaining*. You generally start by creating a trivial selection containing only a single object, the root object, using `pz.select`:"
   ]
  },
  {
   "cell_type": "code",
   "execution_count": 13,
   "metadata": {
    "execution": {
     "iopub.execute_input": "2024-09-11T16:37:58.261921Z",
     "iopub.status.busy": "2024-09-11T16:37:58.261683Z",
     "iopub.status.idle": "2024-09-11T16:37:58.269425Z",
     "shell.execute_reply": "2024-09-11T16:37:58.269221Z"
    },
    "id": "k3mVVp0-9rL2"
   },
   "outputs": [
    {
     "data": {
      "text/html": [
       "<script> (()=>{ if (customElements.get('treescope-container') === undefined) { class TreescopeContainer extends HTMLElement { constructor() { super(); this.attachShadow({mode: \"open\"}); this.defns = {}; this.state = {}; } } customElements.define(\"treescope-container\", TreescopeContainer); } if (customElements.get('treescope-run-here') === undefined) { class RunHere extends HTMLElement { constructor() { super() } connectedCallback() { const run = child => { const fn = new Function(child.textContent); child.textContent = \"\"; fn.call(this); this.remove(); }; const child = this.querySelector(\"script\"); if (child) { run(child); } else { new MutationObserver(()=>{ run(this.querySelector(\"script\")); }).observe(this, {childList: true}); } } } customElements.define(\"treescope-run-here\", RunHere); } })(); </script> <treescope-container class=\"treescope_out_1e1c1eb620ae406eac30e9d182aae49e\" ></treescope-container> <treescope-run-here><script type=\"application/octet-stream\"> const root = ( Array.from(document.getElementsByClassName( \"treescope_out_1e1c1eb620ae406eac30e9d182aae49e\")) .filter((elt) => !elt.dataset.setup) )[0]; root.dataset.setup = 1; const msg = document.createElement(\"span\"); msg.style = \"color: #cccccc; font-family: monospace;\"; msg.textContent = \"(Loading...)\"; root.state.loadingMsg = msg; root.shadowRoot.appendChild(msg); root.state.chain = new Promise((resolve, reject) => { const observer = new IntersectionObserver((entries) => { for (const entry of entries) { if (entry.isIntersecting) { resolve(); observer.disconnect(); return; } } }, {rootMargin: \"1000px\"}); window.setTimeout(() => { observer.observe(root); }, 0); }); root.state.deferring = false; const _insertNode = (node) => { for (let oldScript of node.querySelectorAll(\"script\")) { let newScript = document.createElement(\"script\"); newScript.type = oldScript.type; newScript.textContent = oldScript.textContent; oldScript.parentNode.replaceChild(newScript, oldScript); } if (root.state.loadingMsg) { root.state.loadingMsg.remove(); root.state.loadingMsg = null; } root.shadowRoot.appendChild(node); }; root.defns.insertContent = ((contentNode, compressed) => { if (compressed) { root.state.deferring = true; } if (root.state.deferring) { root.state.chain = (async () => { await root.state.chain; if (compressed) { const encoded = contentNode.textContent; const blob = new Blob([ Uint8Array.from(atob(encoded), (m) => m.codePointAt(0)) ]); const reader = blob.stream().pipeThrough( new DecompressionStream(\"deflate\") ).pipeThrough( new TextDecoderStream(\"utf-8\") ).getReader(); const parts = []; while (true) { const step = await reader.read(); if (step.done) { break; } parts.push(step.value); } const tpl = document.createElement('template'); tpl.innerHTML = parts.join(\"\"); _insertNode(tpl.content); } else { _insertNode(contentNode.content); } })(); } else { _insertNode(contentNode.content); } }); </script></treescope-run-here><div style=\"display:none\"> <script type=\"application/octet-stream\" >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</script> <treescope-run-here><script type=\"application/octet-stream\"> const root = ( Array.from(document.getElementsByClassName( \"treescope_out_1e1c1eb620ae406eac30e9d182aae49e\")) .filter((elt) => !elt.dataset['step0']) )[0]; root.dataset['step0'] = 1; root.defns.insertContent( this.parentNode.querySelector('script[type=\"application/octet-stream\"]'), true ); this.parentNode.remove(); </script></treescope-run-here> </div>"
      ],
      "text/plain": [
       "<IPython.core.display.HTML object>"
      ]
     },
     "metadata": {},
     "output_type": "display_data"
    },
    {
     "data": {
      "text/html": [
       "<div style=\"display:none\"> <script type=\"application/octet-stream\" >eNq1lEtv2zAMx78KoQFFgrquHcePNA9gazeglx22ww5FUcgSnWhQLU9WigVDv/sox3Hbrdvaww5JTOvPx4+kspDqDlq307hkUrWN5rszqE2NDJRcssrYG4kVWovyJhcy4Xk+K3nEpyLBIs5LzrMJr+Iy41Kw1aJteE3fPt4qFEaTOy9Li3fwAzrzDN5kxYRH0RzuF6d7YecFQvO2XbLHTmx1pN38K/8evrWW70ZXUQBxAJMAkgCmAaQBZAHkARQBzK4DkG7X4FLVLpmMj9ZuTgm6eg4/xLpavAJ4UsSzqMyyFItsKoq0SMoqkokQcc7TNMsegF8KAETgETyDh/AUHsNzeBBPAjOi9KTxf0Aqi2kcT4pSCpFMM8F5kcUS0zSvEp6Wsnw9UhQG8PxnKL/Shv8VwFnEVpgGT+y2Ptmg9UshrGocdAEYbxqtBHfK1KdGOHQnLfnwW7YSpm5Jxe0a3aVsYQlX7OUbGwB7+bQfi//Zx+v5vjJphDXGUV1uo9qQqvxE5kcjcTSeQ1894feiXh5+26LdfUaNwhk7YuHQoRt/zH5zPdc0b5+kt0PhX3RpnN0i6YcTi7QhAr8otxk9cR+CVpavb7Hu69n6x1BQux1e9OaHXuEZDuqQhoS1PN8oLYfA/txYGGl0oCge3XsFi4d5hRrrtdvQ2+PjMf1JeN3+kMRDZDLfa/SP73aXFPzgfaWuKYH3ac3WCrygi/DHHr7xF4HBMfzivjeftGWIFlbKtofcHRk5PJxavDV33SDvn07i2SaP/fJ3W017/8zK/wTP/dhl</script> <treescope-run-here><script type=\"application/octet-stream\"> const root = ( Array.from(document.getElementsByClassName( \"treescope_out_1e1c1eb620ae406eac30e9d182aae49e\")) .filter((elt) => !elt.dataset['step1']) )[0]; root.dataset['step1'] = 1; root.defns.insertContent( this.parentNode.querySelector('script[type=\"application/octet-stream\"]'), true ); this.parentNode.remove(); </script></treescope-run-here> </div>"
      ],
      "text/plain": [
       "<IPython.core.display.HTML object>"
      ]
     },
     "metadata": {},
     "output_type": "display_data"
    },
    {
     "data": {
      "text/html": [
       "<treescope-run-here><script type=\"application/octet-stream\"> const root = ( Array.from(document.getElementsByClassName( \"treescope_out_1e1c1eb620ae406eac30e9d182aae49e\")) .filter((elt) => !elt.dataset.stolen) )[0]; root.dataset.stolen = 1; this.parentNode.replaceChild(root, this); </script></treescope-run-here>"
      ],
      "text/plain": [
       "Selection(\n",
       "  selected_by_path=OrderedDict({\n",
       "    (): {\n",
       "      'a': 1,\n",
       "      'b': <jax.Array([0, 1, 2, 3, 4, 5, 6, 7, 8, 9], dtype=int32)>,\n",
       "      'c': [\n",
       "        {\n",
       "          'value': <jax.Array([ 0,  1,  2,  3,  4,  5,  6,  7,  8,  9, 10, 11], dtype=int32)>,\n",
       "        },\n",
       "        {\n",
       "          'value': <jax.Array([0., 0., 0., 0., 0., 0., 0.], dtype=float32)>,\n",
       "        },\n",
       "        {'value': 3},\n",
       "      ],\n",
       "    },\n",
       "  }),\n",
       "  remainder=SelectionHole(path=()),\n",
       ")"
      ]
     },
     "execution_count": 13,
     "metadata": {},
     "output_type": "execute_result"
    }
   ],
   "source": [
    "pz.select(my_nested_object)"
   ]
  },
  {
   "cell_type": "markdown",
   "metadata": {
    "id": "NcmUj1AF3xS1"
   },
   "source": [
    "You can also use the `.select()` attribute if you know your root object is a subclass of `pz.Struct`:"
   ]
  },
  {
   "cell_type": "code",
   "execution_count": 14,
   "metadata": {
    "execution": {
     "iopub.execute_input": "2024-09-11T16:37:58.274212Z",
     "iopub.status.busy": "2024-09-11T16:37:58.273978Z",
     "iopub.status.idle": "2024-09-11T16:37:58.278720Z",
     "shell.execute_reply": "2024-09-11T16:37:58.278483Z"
    },
    "id": "jqw3QPx9EzjR"
   },
   "outputs": [
    {
     "data": {
      "text/html": [
       "<script> (()=>{ if (customElements.get('treescope-container') === undefined) { class TreescopeContainer extends HTMLElement { constructor() { super(); this.attachShadow({mode: \"open\"}); this.defns = {}; this.state = {}; } } customElements.define(\"treescope-container\", TreescopeContainer); } if (customElements.get('treescope-run-here') === undefined) { class RunHere extends HTMLElement { constructor() { super() } connectedCallback() { const run = child => { const fn = new Function(child.textContent); child.textContent = \"\"; fn.call(this); this.remove(); }; const child = this.querySelector(\"script\"); if (child) { run(child); } else { new MutationObserver(()=>{ run(this.querySelector(\"script\")); }).observe(this, {childList: true}); } } } customElements.define(\"treescope-run-here\", RunHere); } })(); </script> <treescope-container class=\"treescope_out_66213cf2aea44ace9b4a0ddd5e864e99\" ></treescope-container> <treescope-run-here><script type=\"application/octet-stream\"> const root = ( Array.from(document.getElementsByClassName( \"treescope_out_66213cf2aea44ace9b4a0ddd5e864e99\")) .filter((elt) => !elt.dataset.setup) )[0]; root.dataset.setup = 1; const msg = document.createElement(\"span\"); msg.style = \"color: #cccccc; font-family: monospace;\"; msg.textContent = \"(Loading...)\"; root.state.loadingMsg = msg; root.shadowRoot.appendChild(msg); root.state.chain = new Promise((resolve, reject) => { const observer = new IntersectionObserver((entries) => { for (const entry of entries) { if (entry.isIntersecting) { resolve(); observer.disconnect(); return; } } }, {rootMargin: \"1000px\"}); window.setTimeout(() => { observer.observe(root); }, 0); }); root.state.deferring = false; const _insertNode = (node) => { for (let oldScript of node.querySelectorAll(\"script\")) { let newScript = document.createElement(\"script\"); newScript.type = oldScript.type; newScript.textContent = oldScript.textContent; oldScript.parentNode.replaceChild(newScript, oldScript); } if (root.state.loadingMsg) { root.state.loadingMsg.remove(); root.state.loadingMsg = null; } root.shadowRoot.appendChild(node); }; root.defns.insertContent = ((contentNode, compressed) => { if (compressed) { root.state.deferring = true; } if (root.state.deferring) { root.state.chain = (async () => { await root.state.chain; if (compressed) { const encoded = contentNode.textContent; const blob = new Blob([ Uint8Array.from(atob(encoded), (m) => m.codePointAt(0)) ]); const reader = blob.stream().pipeThrough( new DecompressionStream(\"deflate\") ).pipeThrough( new TextDecoderStream(\"utf-8\") ).getReader(); const parts = []; while (true) { const step = await reader.read(); if (step.done) { break; } parts.push(step.value); } const tpl = document.createElement('template'); tpl.innerHTML = parts.join(\"\"); _insertNode(tpl.content); } else { _insertNode(contentNode.content); } })(); } else { _insertNode(contentNode.content); } }); </script></treescope-run-here><div style=\"display:none\"> <script type=\"application/octet-stream\" >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</script> <treescope-run-here><script type=\"application/octet-stream\"> const root = ( Array.from(document.getElementsByClassName( \"treescope_out_66213cf2aea44ace9b4a0ddd5e864e99\")) .filter((elt) => !elt.dataset['step0']) )[0]; root.dataset['step0'] = 1; root.defns.insertContent( this.parentNode.querySelector('script[type=\"application/octet-stream\"]'), true ); this.parentNode.remove(); </script></treescope-run-here> </div>"
      ],
      "text/plain": [
       "<IPython.core.display.HTML object>"
      ]
     },
     "metadata": {},
     "output_type": "display_data"
    },
    {
     "data": {
      "text/html": [
       "<treescope-run-here><script type=\"application/octet-stream\"> const root = ( Array.from(document.getElementsByClassName( \"treescope_out_66213cf2aea44ace9b4a0ddd5e864e99\")) .filter((elt) => !elt.dataset.stolen) )[0]; root.dataset.stolen = 1; this.parentNode.replaceChild(root, this); </script></treescope-run-here>"
      ],
      "text/plain": [
       "Selection(\n",
       "  selected_by_path=OrderedDict({(): MyStruct(foo=4)}),\n",
       "  remainder=SelectionHole(path=()),\n",
       ")"
      ]
     },
     "execution_count": 14,
     "metadata": {},
     "output_type": "execute_result"
    }
   ],
   "source": [
    "@pz.pytree_dataclass\n",
    "class MyStruct(pz.Struct):\n",
    "  foo: typing.Any\n",
    "\n",
    "MyStruct(4).select()"
   ]
  },
  {
   "cell_type": "markdown",
   "metadata": {
    "id": "tTKPVIUrFbeT"
   },
   "source": [
    "You then call methods on the selection to *refine* it to a subset of the currently selected values. These methods all operate relative to the currently selected object, so if you chain them, each method's output is restricted to the values selected by the previous method."
   ]
  },
  {
   "cell_type": "markdown",
   "metadata": {
    "id": "cFdUT5KaFju9"
   },
   "source": [
    "### Selecting with a function\n",
    "If you want to select a specific part of a tree, you can use `selection.at(...)`. The `.at` method takes as input a *function* that extracts the part you want to select, and returns a new selection that selects the extracted part:"
   ]
  },
  {
   "cell_type": "code",
   "execution_count": 15,
   "metadata": {
    "execution": {
     "iopub.execute_input": "2024-09-11T16:37:58.285866Z",
     "iopub.status.busy": "2024-09-11T16:37:58.285596Z",
     "iopub.status.idle": "2024-09-11T16:37:58.293984Z",
     "shell.execute_reply": "2024-09-11T16:37:58.294100Z"
    },
    "id": "8ZgPZeKeGDzQ"
   },
   "outputs": [
    {
     "data": {
      "text/html": [
       "<script> (()=>{ if (customElements.get('treescope-container') === undefined) { class TreescopeContainer extends HTMLElement { constructor() { super(); this.attachShadow({mode: \"open\"}); this.defns = {}; this.state = {}; } } customElements.define(\"treescope-container\", TreescopeContainer); } if (customElements.get('treescope-run-here') === undefined) { class RunHere extends HTMLElement { constructor() { super() } connectedCallback() { const run = child => { const fn = new Function(child.textContent); child.textContent = \"\"; fn.call(this); this.remove(); }; const child = this.querySelector(\"script\"); if (child) { run(child); } else { new MutationObserver(()=>{ run(this.querySelector(\"script\")); }).observe(this, {childList: true}); } } } customElements.define(\"treescope-run-here\", RunHere); } })(); </script> <treescope-container class=\"treescope_out_b8101f3e9da9449496f384180eb4795c\" ></treescope-container> <treescope-run-here><script type=\"application/octet-stream\"> const root = ( Array.from(document.getElementsByClassName( \"treescope_out_b8101f3e9da9449496f384180eb4795c\")) .filter((elt) => !elt.dataset.setup) )[0]; root.dataset.setup = 1; const msg = document.createElement(\"span\"); msg.style = \"color: #cccccc; font-family: monospace;\"; msg.textContent = \"(Loading...)\"; root.state.loadingMsg = msg; root.shadowRoot.appendChild(msg); root.state.chain = new Promise((resolve, reject) => { const observer = new IntersectionObserver((entries) => { for (const entry of entries) { if (entry.isIntersecting) { resolve(); observer.disconnect(); return; } } }, {rootMargin: \"1000px\"}); window.setTimeout(() => { observer.observe(root); }, 0); }); root.state.deferring = false; const _insertNode = (node) => { for (let oldScript of node.querySelectorAll(\"script\")) { let newScript = document.createElement(\"script\"); newScript.type = oldScript.type; newScript.textContent = oldScript.textContent; oldScript.parentNode.replaceChild(newScript, oldScript); } if (root.state.loadingMsg) { root.state.loadingMsg.remove(); root.state.loadingMsg = null; } root.shadowRoot.appendChild(node); }; root.defns.insertContent = ((contentNode, compressed) => { if (compressed) { root.state.deferring = true; } if (root.state.deferring) { root.state.chain = (async () => { await root.state.chain; if (compressed) { const encoded = contentNode.textContent; const blob = new Blob([ Uint8Array.from(atob(encoded), (m) => m.codePointAt(0)) ]); const reader = blob.stream().pipeThrough( new DecompressionStream(\"deflate\") ).pipeThrough( new TextDecoderStream(\"utf-8\") ).getReader(); const parts = []; while (true) { const step = await reader.read(); if (step.done) { break; } parts.push(step.value); } const tpl = document.createElement('template'); tpl.innerHTML = parts.join(\"\"); _insertNode(tpl.content); } else { _insertNode(contentNode.content); } })(); } else { _insertNode(contentNode.content); } }); </script></treescope-run-here><div style=\"display:none\"> <script type=\"application/octet-stream\" >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</script> <treescope-run-here><script type=\"application/octet-stream\"> const root = ( Array.from(document.getElementsByClassName( \"treescope_out_b8101f3e9da9449496f384180eb4795c\")) .filter((elt) => !elt.dataset['step0']) )[0]; root.dataset['step0'] = 1; root.defns.insertContent( this.parentNode.querySelector('script[type=\"application/octet-stream\"]'), true ); this.parentNode.remove(); </script></treescope-run-here> </div>"
      ],
      "text/plain": [
       "<IPython.core.display.HTML object>"
      ]
     },
     "metadata": {},
     "output_type": "display_data"
    },
    {
     "data": {
      "text/html": [
       "<div style=\"display:none\"> <script type=\"application/octet-stream\" >eNq1lE1v2zAMhv8KoQJFgrqu7diO03wAW7sBveywHXYIikKR6ESDanmyUiwo+t9HOY7bbt3WHnZIYlp8ST4klZlUd9C4ncY5k6qpNd+dQ2UqZKDknJXG3kgs0VqUN5OMr1ac52UyEelIcC4FH41RYIHxZFWM2WLW1Lyibx9vEQqjSU4ai3dwD615Dkd5kfAomsLD7Gzv2KpAaN40c/ZUxBbH2k2/8R/hO2v5brCMAogDSAIYBZAGkAWQBzAOoAhgch2AdLsa56pyo2R4vHZTStDWc/gh1sXsDcCrKE5jmWHO8yRNpChQRtEql1mcJdk4mTwCvxYAiMAjeAYP4Sk8hufwIJ4EJkTpSeP/gJSLJOHlSK5EnqdpUfIyTeIszrkoeIQ8ejtSFAbw8qcvv9SG/xXAWcRGmBpP7bY63aD1SyGsqh20ARiva60Ed8pUZ0Y4dKcNafgtWwhTNeTF7RrdlWxgDkv2+o0NgL1+2k+d/9nH6+m+MmmENcZRXW6jmpCq/EzmJyNxMJxCVz3hd06de/h9i3b3BTUKZ+yAhX2Hbvwx+016oWnePklnh8K/aNM4u0Xy708s0oYI/KrcZvBM3gctLV/fYtXVs/WPoaB2O7zszI+dh2c4eIc0JKzkxUZp2Qf258bCQKMDRfHo3iuYPc4r1Fit3YbenpwM6U/C++0PybmPTOYHjf7x/e6Kgh/US3VNCbymMVsr8JIuwh97eOQvAoMT+EW+N5+1pY8Wlso2h9wtGQkeTy3emrt2kA/PJ/Fik4d++dutpr1/YeV/Ak8X2KM=</script> <treescope-run-here><script type=\"application/octet-stream\"> const root = ( Array.from(document.getElementsByClassName( \"treescope_out_b8101f3e9da9449496f384180eb4795c\")) .filter((elt) => !elt.dataset['step1']) )[0]; root.dataset['step1'] = 1; root.defns.insertContent( this.parentNode.querySelector('script[type=\"application/octet-stream\"]'), true ); this.parentNode.remove(); </script></treescope-run-here> </div>"
      ],
      "text/plain": [
       "<IPython.core.display.HTML object>"
      ]
     },
     "metadata": {},
     "output_type": "display_data"
    },
    {
     "data": {
      "text/html": [
       "<treescope-run-here><script type=\"application/octet-stream\"> const root = ( Array.from(document.getElementsByClassName( \"treescope_out_b8101f3e9da9449496f384180eb4795c\")) .filter((elt) => !elt.dataset.stolen) )[0]; root.dataset.stolen = 1; this.parentNode.replaceChild(root, this); </script></treescope-run-here>"
      ],
      "text/plain": [
       "Selection(\n",
       "  selected_by_path=OrderedDict({\n",
       "    (DictKey(key='c'),):\n",
       "      [\n",
       "        {\n",
       "          'value': <jax.Array([ 0,  1,  2,  3,  4,  5,  6,  7,  8,  9, 10, 11], dtype=int32)>,\n",
       "        },\n",
       "        {'value': <jax.Array([0., 0., 0., 0., 0., 0., 0.], dtype=float32)>},\n",
       "        {'value': 3},\n",
       "      ],\n",
       "  }),\n",
       "  remainder={\n",
       "    'a': 1,\n",
       "    'b': <jax.Array([0, 1, 2, 3, 4, 5, 6, 7, 8, 9], dtype=int32)>,\n",
       "    'c': SelectionHole(path=(DictKey(key='c'),)),\n",
       "  },\n",
       ")"
      ]
     },
     "execution_count": 15,
     "metadata": {},
     "output_type": "execute_result"
    }
   ],
   "source": [
    "pz.select(my_nested_object).at(lambda root: root[\"c\"])"
   ]
  },
  {
   "cell_type": "code",
   "execution_count": 16,
   "metadata": {
    "execution": {
     "iopub.execute_input": "2024-09-11T16:37:58.301471Z",
     "iopub.status.busy": "2024-09-11T16:37:58.301209Z",
     "iopub.status.idle": "2024-09-11T16:37:58.310157Z",
     "shell.execute_reply": "2024-09-11T16:37:58.310280Z"
    },
    "id": "dAO2KhdyGFZ5"
   },
   "outputs": [
    {
     "data": {
      "text/html": [
       "<script> (()=>{ if (customElements.get('treescope-container') === undefined) { class TreescopeContainer extends HTMLElement { constructor() { super(); this.attachShadow({mode: \"open\"}); this.defns = {}; this.state = {}; } } customElements.define(\"treescope-container\", TreescopeContainer); } if (customElements.get('treescope-run-here') === undefined) { class RunHere extends HTMLElement { constructor() { super() } connectedCallback() { const run = child => { const fn = new Function(child.textContent); child.textContent = \"\"; fn.call(this); this.remove(); }; const child = this.querySelector(\"script\"); if (child) { run(child); } else { new MutationObserver(()=>{ run(this.querySelector(\"script\")); }).observe(this, {childList: true}); } } } customElements.define(\"treescope-run-here\", RunHere); } })(); </script> <treescope-container class=\"treescope_out_e84004f682c84063a680f08f7de49d16\" ></treescope-container> <treescope-run-here><script type=\"application/octet-stream\"> const root = ( Array.from(document.getElementsByClassName( \"treescope_out_e84004f682c84063a680f08f7de49d16\")) .filter((elt) => !elt.dataset.setup) )[0]; root.dataset.setup = 1; const msg = document.createElement(\"span\"); msg.style = \"color: #cccccc; font-family: monospace;\"; msg.textContent = \"(Loading...)\"; root.state.loadingMsg = msg; root.shadowRoot.appendChild(msg); root.state.chain = new Promise((resolve, reject) => { const observer = new IntersectionObserver((entries) => { for (const entry of entries) { if (entry.isIntersecting) { resolve(); observer.disconnect(); return; } } }, {rootMargin: \"1000px\"}); window.setTimeout(() => { observer.observe(root); }, 0); }); root.state.deferring = false; const _insertNode = (node) => { for (let oldScript of node.querySelectorAll(\"script\")) { let newScript = document.createElement(\"script\"); newScript.type = oldScript.type; newScript.textContent = oldScript.textContent; oldScript.parentNode.replaceChild(newScript, oldScript); } if (root.state.loadingMsg) { root.state.loadingMsg.remove(); root.state.loadingMsg = null; } root.shadowRoot.appendChild(node); }; root.defns.insertContent = ((contentNode, compressed) => { if (compressed) { root.state.deferring = true; } if (root.state.deferring) { root.state.chain = (async () => { await root.state.chain; if (compressed) { const encoded = contentNode.textContent; const blob = new Blob([ Uint8Array.from(atob(encoded), (m) => m.codePointAt(0)) ]); const reader = blob.stream().pipeThrough( new DecompressionStream(\"deflate\") ).pipeThrough( new TextDecoderStream(\"utf-8\") ).getReader(); const parts = []; while (true) { const step = await reader.read(); if (step.done) { break; } parts.push(step.value); } const tpl = document.createElement('template'); tpl.innerHTML = parts.join(\"\"); _insertNode(tpl.content); } else { _insertNode(contentNode.content); } })(); } else { _insertNode(contentNode.content); } }); </script></treescope-run-here><div style=\"display:none\"> <script type=\"application/octet-stream\" >eNrtGwtTm8r6r2zTmSa5Ggx5mlidS2Jetmo1ttr2nMldYIE1BBCWxHjG/36/BfIgYtRW2zpzdKbR5dvv/ca+99jUJHsCcwnxFNshA9e2GfoHObZHGbWtOnKJiRkdkx2k2RbLaXhEzWkdjWzL9hyswPnEoIzkgl/qyHHhxKQeywWoc2zqwKllW3AsY2Wou7ZvqTnFNm23Hl7dQdFvsgkAgI+qzKgjjTIAsxix2A5ysKpSS8+ZRGN1VFAMTsQiOYNQ3YATUShzNBbDFHieX4t+yI2pR2VqUgacY5/Zc9gctZhLLY8qOY/ekPBpxO7t+61QPe/n6sm5vgU0XTjzFJc6DHH5dtPYcUyqYK6xLVthhEvvEjxK72Uy2d09UCjQ8xhSiWZ5aBcxg3qCTtgpaPvIVkkmKxi2x4TgOYhGGBo4xOIiSwrHyi99/zvpSRdbqkngseWb5k5IQQA2+7ZtwWlmYrvDLFrmwT6HI/4odsyowg8d4mq2O8KWQgTLnmSygX2BQObOE5QLL71HxUIW8FANZVa4Fkxi6cxAu7soz0HWsu4S5rsW6B0R0yMLxgzf4pytovYMqjHOXwDAf7iF73soZMCrLNWeCC658onHJIuOAnO1XTwimVAnWY5j5w4hx/eMUI07CTLOSOyGYqyR8vE8cC5CQzJb180wKgdB5IC3OhwXPyEm20RkDA4eWZJzF/wuDMmUKz3lpjhDEbCgmNjzPkJwRngzqTnOwQjcMDUjfpsFfYL7Bz6+934rKQBUOkYBwt1UPH2kEMMySEqud1P5FLItYAbEtgBundsny5rhd2ZSpiDswoQVZIyBYo9GcB64SpBB3uLgi0uxAoLrls0ydcMeEzebAB+BW/5IJu4SwnxtWyxXFgAeTxf6MsWiWBbLHACkIK5L1IEDeYwYtqnGMOEq/47SaCBGHVGGIW/wyxqAYxnEt0Av9yRgECoGNgg1BtAq9YDodJZoVwHRHjKxTMx6XSYQw2SJKyX42kmkFybbnMizbZSU8zsLWtQKUrBs2jxr30szUPldyip2hx7BOriOdfd2YK2VIwN7mb0A516iHkILKwZRhkTNZtF/sgse+NXkSzP4GIdB1aij9F+Fsqykfyd78Uv3Mln5BUxyO3LCvutxAzo21E7iJtCl3vORDUIhIJQLcoB3n48/D9WFeIxcs7tUBOoNNOp6bGBbA+7+CaG1LpSEQplHU6Kp0E+zH1p8lUUu1Qi7OnQ7IRtBQN/+JDXIh85U9hmDNiMpAS0eJzltCqVWoECR0EImA/9FxJKaWulA04cYvIJiE/WnI9k2PXTsMy6viprhTfh0phAYuQmRh9BNhpl3BPXFgBwOvZ7F4DrFHlHnPehbkuffO3fdPLwdNIl5oUZGq1KG8ZEgRXK6W9wUJtgbKFAHQLHz+1hjseoxy9PraK7ciZNcVj0aYzeTy6mY4Ry2wLBBG5JdPuZEeG/lYmvmzQFaJHqIgMagcc7ZPnuaKHMOwDCUqG/inAQk0Rs6cmyXYesObtm1h8Qa8JNFMnpYu0vXlvQ5M/OtwDsVYEwdKNDnqi6xIlbjkwTgjAM+U3ZdCp2okMZCVcGmkoFxB3pt0bkO2jPBY5jfn/P7YpzItgstTMSJajOQnXOxrDxwAeLK9vUAvH1gh/G3jCneI0RTHA+gQplHENzkIRWcRdTgKJCSI51QZrws1ufR3SZKVMSLGSZqxkb4ejEh3wpXPjYtmCQGMINr9BruxVLWdpCyBI842IXMGZQG74V9mXtrAr2XdFqQ0MC8C59g1wIXGMzaiFnkaxpWxGICoAOT1T/zTYMbLRZ4rYxCMjrK5YWgiC/WGfVgGYHdnO5ilYI5MmKxrBJ9E9mQP3WC8qD/imJshvkUFMKrU3CEopi+w8qdMv5sGoslmJkwt8LECLKkaWIHCuLDQ8XTO4b7KYQBHdAIgMg1VA71Xpjn4COJRCRoCLAYt5NUER95hfgcjdZgWBXVik32yYCPIXYvnmdcZvH9AnojuS6eCpprjzKqrfh8vBZ4pvGEMTZ94mWyWcGzRyQT5B++meCfQti38a3EIzu3VBplUXa+B/IMQhhfFpEJavb7fS5Nn5/x1U/wUHBJMHr3p5aS+d9/o25RIbNM+PTOcXlWt/jyy4zOJtHesZSHMui5Sh35rpnhbUydP9+a2JpW2JGhUaqUNtV8rXOoSw0p+OqdSJId/NQ4ncC/3bYktaR1X42RJOlD+4PaazWak6+SdPa1eSAd9hpNqa1f97ofDeY1DinRi+39i8LHXuXruO/49NNh+Uw8uOidfjkcnx/esE/Tdru5ca4Pz2hjP2/Q/RP/oKV2LvNdeUsb91Tn6kPFuDqn9MQ/tDpGV/vMpM+VxpFbkto9a9iqKJ9939o4LV8p3nAy1trm1tW13rK3dflg0tkWu9KWJZ2WP7rugXi6od/kT9W8dKCJ+lG1OelcFvS8PfVPq9VRS6xMuhe1Y113yNlwWiI9+aasyO5xh2FJP+kdTfaxN/VO/F7v4rzVnkifTpzeV/Xz1taGXj2rXhRZXvvw6UoalwHnR+moKh1OpJF+c9rf8L/1SeviuqBVlJuj0ml3WvYb0oebxqXTdoq0e9Js5b/5n0r9qqU1Pra67cORRDe2x62CYYlGdUP+Mrm4nHTd8X7nc9O61FotnW0cK99Ms1quNQ8mjW2jVjo87PSLnW+SPuqVLxsnNXbWId1aq9HodYr7eul066sylaUO2PTLhy3ppIMlctg0pe5N61j/xvRK45N+fNzbbwzpSZm0GxfNRluhecdwbccC33C+tfbFG3HY15oaM6YfrK6K215Xyx+NOq2jSkOVrr58cTDz+t9GqoppraDd1Eqf6eVVxRm5lWP7a7NP3c5ofNAp9s/7xXaroDROtLONrmk7nVLbm5SxflXZpt9I/8h0zq1Gt0fUQ5f451ed5kg8b7vDfv+6XKicn3sTCTjKomDxyzLpwK3TvGT9D/6ZRz9WbQeaw0VIButqQRDWQGyGMfs34Fq/FjSC/WnQv4ejBeAG97AUlAk7/Ph2G0LwzObhC2DRBMDPPEgPHAUfafgcgCeYMmThMdUxs10BMDuyjV1VmLiUkTOY/jMLXCBshGuxQoU+IZNamnf48hSonNERgf4vM9uu37nnkhEML3eu3m6iQj6fD9oBSL7QGWSCyT2Z7tJQk1owx3cWswzG980p9Ba1MTUhsTEbceA3QWaDFsCCZhGyMQWdEazymWxjWXfRIviBFTCf72Y74Ni6NbXn3EDnZxKFZQAHgMWB78xcqXXPVx7G14yrbRIAh73Ae2o5flTTUkH1h/Y8lYgkahTgYdgkgLjB5b1/3m9FyJ6N++U1cmrv3dvrQnUHhx+Rpuoo4UK4mE7tiRHQZgwm3lml9lCS0mNtT5yr9GJeTiPbanK33E0/MS6DVX02jebD/G7qexqn/06hoILuppbm/Dp6d+XbbCcACH/cQXc2ElCqA2+EbAfjTjrieW8mXOLHTxlCTjQEVXdT8+V+qUZqBVwtK3m5VKopeVzOi4W8qMnVvEryYnmFStJLgdTeJb4WgjYKApAVCxkxv5mNy/Fa7Cs/ZF/5T7Kvsi7QYinhWdPI96Q08nI2UR6yifLTNnkFyXx9En9R7X/PP2wAgPlTbJAUKcEo93A2LG9reYVo1UKlVC6VlUKNaIVSSaySGla2S5r6Y9mwsJoN1+W5zT8mF4ZW/Z4OdJd+lAvMgZ81R4Yft6+slPyywPnBgvK7+86X1bz4CM2LrzRlvXiBTxwTkl4JrIix+jpiboLwtUUdFZxr5NkmVZEyxdbKKxn+Xmjp4Qruexbvj4BKPSIZRHwuvX8LGYxtx2RQHrD1FvWDUZCo9YdDcB1DsdKjKcWCVhXVba1ESopcqJWqRbFGxHKxWsK4XHpi6dFMG/PiU71Te7aelkP+6PIkPqU8if+Wp9+RJP+48vQ7y1LhERovvO6yFF/wFF9dTik8JacUfklOeU3K+wX+nfTx92tT1UuvNH7Unx5O2yur8ayA2WBIppwdL3E9/myN6qJBXcPP2vr7zmQ7IvJ8Odj/byIDOjuTd3dERVi2x+SdznYeoaW3aC2WVSUmtNNr/O7VvE/IPP/7hF9Q9l8n13edZ/7nESvMrPzhVDgVcE8d+IyaQtw396nCPpDp8+gEssDuE5fWj8rXsY/s0xrtP7DvfCFT9vn/w7EU8mzmpOr17iPe3f1rwlccjXfb+R835884QjLCx06Sqy3JHFSl473/A92UdAw=</script> <treescope-run-here><script type=\"application/octet-stream\"> const root = ( Array.from(document.getElementsByClassName( \"treescope_out_e84004f682c84063a680f08f7de49d16\")) .filter((elt) => !elt.dataset['step0']) )[0]; root.dataset['step0'] = 1; root.defns.insertContent( this.parentNode.querySelector('script[type=\"application/octet-stream\"]'), true ); this.parentNode.remove(); </script></treescope-run-here> </div>"
      ],
      "text/plain": [
       "<IPython.core.display.HTML object>"
      ]
     },
     "metadata": {},
     "output_type": "display_data"
    },
    {
     "data": {
      "text/html": [
       "<div style=\"display:none\"> <script type=\"application/octet-stream\" >eNq1lE1P20AQhv/KyEgoEcbYzhrH5ENqoZW49NAeekAo2uzOJlsZr7veoEaI/95ZxzHQ0jYcekji8b7z8czMZir1PTRuW+IskLqpS769gMpUGICWs0AZu5Co0FqUC1ZgkfI8E/GSsULEPIuTNE7UMo8lxkkWzKdNzSv69vHmkTAlufPl0uI9PEBrXsDR+TjlcTyBx+nZTth6gSh508yC507B/Lh0k2/8R/TOWr4d3MQhJCGkIYxCYCFkIZyHkIcwDqG4DUG6bY0zXblROjxeuQklaOvZ/xDrfPoG4GysYoEqT89ZxjKRFqhSxpIcCy7GTMkn4EMBgAg8gmfwEJ7CY3gOD+JJoCBKT5r8ByQlRqnKEzlWDJlYpgXLR0mBSTbKGecZeztSHIXw+qcvX5WG/xXAWcRGmBpP7aY6XaP1SyGsrh20AQJe16UW3GlTnRnh0J025MPvgrkwVUMqblformUDM7gJDt/YEILDp/1c/M8+3k52lUkjrDGO6nJr3URU5WcyPxmJg+EEuuoJvxN18uj7Bu32C5YonLGDIOo7tPDHwW+ulyXN2yfp7Ej4F20aZzdI+v7EIm2IwK/arQcv3PugyvLVHVZdPRv/GAlqt8OrzvzYKTzDXh3RkLCSl2tdyj6wPzcWBiU60BSP7r2G6dO8ohKrlVvT25OTIf1JeN3ukMR9ZDI/lOgf32+vKfje+0bfUgLv05iNFXhFF+GPPTzyFyGAE/jFfWe+aEsfLVLaNvvcLRk5PJ1avDP37SAfX07i1SYP/fK3W017/8rK/wRmj9WJ</script> <treescope-run-here><script type=\"application/octet-stream\"> const root = ( Array.from(document.getElementsByClassName( \"treescope_out_e84004f682c84063a680f08f7de49d16\")) .filter((elt) => !elt.dataset['step1']) )[0]; root.dataset['step1'] = 1; root.defns.insertContent( this.parentNode.querySelector('script[type=\"application/octet-stream\"]'), true ); this.parentNode.remove(); </script></treescope-run-here> </div>"
      ],
      "text/plain": [
       "<IPython.core.display.HTML object>"
      ]
     },
     "metadata": {},
     "output_type": "display_data"
    },
    {
     "data": {
      "text/html": [
       "<treescope-run-here><script type=\"application/octet-stream\"> const root = ( Array.from(document.getElementsByClassName( \"treescope_out_e84004f682c84063a680f08f7de49d16\")) .filter((elt) => !elt.dataset.stolen) )[0]; root.dataset.stolen = 1; this.parentNode.replaceChild(root, this); </script></treescope-run-here>"
      ],
      "text/plain": [
       "Selection(\n",
       "  selected_by_path=OrderedDict({\n",
       "    (DictKey(key='c'), SequenceKey(idx=1), DictKey(key='value')):\n",
       "      <jax.Array([0., 0., 0., 0., 0., 0., 0.], dtype=float32)>,\n",
       "  }),\n",
       "  remainder={\n",
       "    'a': 1,\n",
       "    'b': <jax.Array([0, 1, 2, 3, 4, 5, 6, 7, 8, 9], dtype=int32)>,\n",
       "    'c': [\n",
       "      {\n",
       "        'value': <jax.Array([ 0,  1,  2,  3,  4,  5,  6,  7,  8,  9, 10, 11], dtype=int32)>,\n",
       "      },\n",
       "      {'value': SelectionHole(path=(DictKey(key='c'), SequenceKey(idx=1), DictKey(key='value')))},\n",
       "      {'value': 3},\n",
       "    ],\n",
       "  },\n",
       ")"
      ]
     },
     "execution_count": 16,
     "metadata": {},
     "output_type": "execute_result"
    }
   ],
   "source": [
    "pz.select(my_nested_object).at(lambda root: root[\"c\"][1][\"value\"])"
   ]
  },
  {
   "cell_type": "code",
   "execution_count": 17,
   "metadata": {
    "execution": {
     "iopub.execute_input": "2024-09-11T16:37:58.316376Z",
     "iopub.status.busy": "2024-09-11T16:37:58.316141Z",
     "iopub.status.idle": "2024-09-11T16:37:58.324272Z",
     "shell.execute_reply": "2024-09-11T16:37:58.324474Z"
    },
    "id": "go9pWFfoGHHz"
   },
   "outputs": [
    {
     "data": {
      "text/html": [
       "<script> (()=>{ if (customElements.get('treescope-container') === undefined) { class TreescopeContainer extends HTMLElement { constructor() { super(); this.attachShadow({mode: \"open\"}); this.defns = {}; this.state = {}; } } customElements.define(\"treescope-container\", TreescopeContainer); } if (customElements.get('treescope-run-here') === undefined) { class RunHere extends HTMLElement { constructor() { super() } connectedCallback() { const run = child => { const fn = new Function(child.textContent); child.textContent = \"\"; fn.call(this); this.remove(); }; const child = this.querySelector(\"script\"); if (child) { run(child); } else { new MutationObserver(()=>{ run(this.querySelector(\"script\")); }).observe(this, {childList: true}); } } } customElements.define(\"treescope-run-here\", RunHere); } })(); </script> <treescope-container class=\"treescope_out_d33f9a43101b40f5ae814e9948d63ae2\" ></treescope-container> <treescope-run-here><script type=\"application/octet-stream\"> const root = ( Array.from(document.getElementsByClassName( \"treescope_out_d33f9a43101b40f5ae814e9948d63ae2\")) .filter((elt) => !elt.dataset.setup) )[0]; root.dataset.setup = 1; const msg = document.createElement(\"span\"); msg.style = \"color: #cccccc; font-family: monospace;\"; msg.textContent = \"(Loading...)\"; root.state.loadingMsg = msg; root.shadowRoot.appendChild(msg); root.state.chain = new Promise((resolve, reject) => { const observer = new IntersectionObserver((entries) => { for (const entry of entries) { if (entry.isIntersecting) { resolve(); observer.disconnect(); return; } } }, {rootMargin: \"1000px\"}); window.setTimeout(() => { observer.observe(root); }, 0); }); root.state.deferring = false; const _insertNode = (node) => { for (let oldScript of node.querySelectorAll(\"script\")) { let newScript = document.createElement(\"script\"); newScript.type = oldScript.type; newScript.textContent = oldScript.textContent; oldScript.parentNode.replaceChild(newScript, oldScript); } if (root.state.loadingMsg) { root.state.loadingMsg.remove(); root.state.loadingMsg = null; } root.shadowRoot.appendChild(node); }; root.defns.insertContent = ((contentNode, compressed) => { if (compressed) { root.state.deferring = true; } if (root.state.deferring) { root.state.chain = (async () => { await root.state.chain; if (compressed) { const encoded = contentNode.textContent; const blob = new Blob([ Uint8Array.from(atob(encoded), (m) => m.codePointAt(0)) ]); const reader = blob.stream().pipeThrough( new DecompressionStream(\"deflate\") ).pipeThrough( new TextDecoderStream(\"utf-8\") ).getReader(); const parts = []; while (true) { const step = await reader.read(); if (step.done) { break; } parts.push(step.value); } const tpl = document.createElement('template'); tpl.innerHTML = parts.join(\"\"); _insertNode(tpl.content); } else { _insertNode(contentNode.content); } })(); } else { _insertNode(contentNode.content); } }); </script></treescope-run-here><div style=\"display:none\"> <script type=\"application/octet-stream\" >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</script> <treescope-run-here><script type=\"application/octet-stream\"> const root = ( Array.from(document.getElementsByClassName( \"treescope_out_d33f9a43101b40f5ae814e9948d63ae2\")) .filter((elt) => !elt.dataset['step0']) )[0]; root.dataset['step0'] = 1; root.defns.insertContent( this.parentNode.querySelector('script[type=\"application/octet-stream\"]'), true ); this.parentNode.remove(); </script></treescope-run-here> </div>"
      ],
      "text/plain": [
       "<IPython.core.display.HTML object>"
      ]
     },
     "metadata": {},
     "output_type": "display_data"
    },
    {
     "data": {
      "text/html": [
       "<div style=\"display:none\"> <script type=\"application/octet-stream\" >eNq1lE1P20AQhv/KaJFQIoxxbAfb5ENqoZW49NAeekAIrXfHyVaL111vUCPEf++s4xhoaQuHHpJ4vO98PDOzmUt1B63balwwqdpG8+0Z1KZGBkouWGXsjcQKrUV5k2aTWGBZYCKKNJY5r9IsLas4ieNMJpyz5bxteE3fPt4yFEaTOy9Li3dwD515BgenecyjaAYP85OdsPMCoXnbLthTJ7Y81G72jf8I31nLt6OrKIBJAHEASQBpANMATgPIAsgDKK4DkG7b4ELVLonHhys3owRdPfsfYl3O3wAcSxnl2VTmoixTkaa5TASPqmpSFbycVPIR+LUAQAQewTN4CE/hMTyHB/EkUBClJ538B6QsiScRxlWZZVPi4WVWJLGcRhIzWeTJ6duRojCAlz9D+ZU2/K8AziK2wjR4bDf18RqtXwphVeOgC8B402gluFOmPjHCoTtuyYffsqUwdUsqblfoLmULC7hir9/YANjrp/1U/M8+Xs92lUkjrDGO6nJr1YZU5WcyPxmJo/EM+uoJvxf18vD7Bu32C2oUztgRC4cO3fhj9pvruaZ5+yS9HQr/okvj7AZJP5xYpA0R+FW59eiZ+xC0snx1i3Vfz8Y/hoLa7fCiNz/2Cs+wV4c0JKzl+VppOQT258bCSKMDRfHo3iuYP84r1Fiv3JreHh2N6U/C63aHJB4ik/lBo398v72k4HvvK3VNCbxPazZW4AVdhD/28MBfBAZH8Iv7znzWliFaWCnb7nN3ZOTweGrx1tx1g3x4PokXmzz2y99tNe39Cyv/Eyx/2C0=</script> <treescope-run-here><script type=\"application/octet-stream\"> const root = ( Array.from(document.getElementsByClassName( \"treescope_out_d33f9a43101b40f5ae814e9948d63ae2\")) .filter((elt) => !elt.dataset['step1']) )[0]; root.dataset['step1'] = 1; root.defns.insertContent( this.parentNode.querySelector('script[type=\"application/octet-stream\"]'), true ); this.parentNode.remove(); </script></treescope-run-here> </div>"
      ],
      "text/plain": [
       "<IPython.core.display.HTML object>"
      ]
     },
     "metadata": {},
     "output_type": "display_data"
    },
    {
     "data": {
      "text/html": [
       "<treescope-run-here><script type=\"application/octet-stream\"> const root = ( Array.from(document.getElementsByClassName( \"treescope_out_d33f9a43101b40f5ae814e9948d63ae2\")) .filter((elt) => !elt.dataset.stolen) )[0]; root.dataset.stolen = 1; this.parentNode.replaceChild(root, this); </script></treescope-run-here>"
      ],
      "text/plain": [
       "Selection(\n",
       "  selected_by_path=OrderedDict({\n",
       "    (DictKey(key='b'),):\n",
       "      <jax.Array([0, 1, 2, 3, 4, 5, 6, 7, 8, 9], dtype=int32)>,\n",
       "  }),\n",
       "  remainder={\n",
       "    'a': 1,\n",
       "    'b': SelectionHole(path=(DictKey(key='b'),)),\n",
       "    'c': [\n",
       "      {\n",
       "        'value': <jax.Array([ 0,  1,  2,  3,  4,  5,  6,  7,  8,  9, 10, 11], dtype=int32)>,\n",
       "      },\n",
       "      {'value': <jax.Array([0., 0., 0., 0., 0., 0., 0.], dtype=float32)>},\n",
       "      {'value': 3},\n",
       "    ],\n",
       "  },\n",
       ")"
      ]
     },
     "execution_count": 17,
     "metadata": {},
     "output_type": "execute_result"
    }
   ],
   "source": [
    "pz.select(my_nested_object).at(lambda root: root[\"b\"])"
   ]
  },
  {
   "cell_type": "markdown",
   "metadata": {
    "id": "Oq9Cy6ZGGedV"
   },
   "source": [
    "You can pass `multiple=True` to select multiple nodes:"
   ]
  },
  {
   "cell_type": "code",
   "execution_count": 18,
   "metadata": {
    "execution": {
     "iopub.execute_input": "2024-09-11T16:37:58.331947Z",
     "iopub.status.busy": "2024-09-11T16:37:58.331705Z",
     "iopub.status.idle": "2024-09-11T16:37:58.341813Z",
     "shell.execute_reply": "2024-09-11T16:37:58.341591Z"
    },
    "id": "SzWsocp4Gh7o"
   },
   "outputs": [
    {
     "data": {
      "text/html": [
       "<script> (()=>{ if (customElements.get('treescope-container') === undefined) { class TreescopeContainer extends HTMLElement { constructor() { super(); this.attachShadow({mode: \"open\"}); this.defns = {}; this.state = {}; } } customElements.define(\"treescope-container\", TreescopeContainer); } if (customElements.get('treescope-run-here') === undefined) { class RunHere extends HTMLElement { constructor() { super() } connectedCallback() { const run = child => { const fn = new Function(child.textContent); child.textContent = \"\"; fn.call(this); this.remove(); }; const child = this.querySelector(\"script\"); if (child) { run(child); } else { new MutationObserver(()=>{ run(this.querySelector(\"script\")); }).observe(this, {childList: true}); } } } customElements.define(\"treescope-run-here\", RunHere); } })(); </script> <treescope-container class=\"treescope_out_bf8dab6999d54a3f85a9d389a3352524\" ></treescope-container> <treescope-run-here><script type=\"application/octet-stream\"> const root = ( Array.from(document.getElementsByClassName( \"treescope_out_bf8dab6999d54a3f85a9d389a3352524\")) .filter((elt) => !elt.dataset.setup) )[0]; root.dataset.setup = 1; const msg = document.createElement(\"span\"); msg.style = \"color: #cccccc; font-family: monospace;\"; msg.textContent = \"(Loading...)\"; root.state.loadingMsg = msg; root.shadowRoot.appendChild(msg); root.state.chain = new Promise((resolve, reject) => { const observer = new IntersectionObserver((entries) => { for (const entry of entries) { if (entry.isIntersecting) { resolve(); observer.disconnect(); return; } } }, {rootMargin: \"1000px\"}); window.setTimeout(() => { observer.observe(root); }, 0); }); root.state.deferring = false; const _insertNode = (node) => { for (let oldScript of node.querySelectorAll(\"script\")) { let newScript = document.createElement(\"script\"); newScript.type = oldScript.type; newScript.textContent = oldScript.textContent; oldScript.parentNode.replaceChild(newScript, oldScript); } if (root.state.loadingMsg) { root.state.loadingMsg.remove(); root.state.loadingMsg = null; } root.shadowRoot.appendChild(node); }; root.defns.insertContent = ((contentNode, compressed) => { if (compressed) { root.state.deferring = true; } if (root.state.deferring) { root.state.chain = (async () => { await root.state.chain; if (compressed) { const encoded = contentNode.textContent; const blob = new Blob([ Uint8Array.from(atob(encoded), (m) => m.codePointAt(0)) ]); const reader = blob.stream().pipeThrough( new DecompressionStream(\"deflate\") ).pipeThrough( new TextDecoderStream(\"utf-8\") ).getReader(); const parts = []; while (true) { const step = await reader.read(); if (step.done) { break; } parts.push(step.value); } const tpl = document.createElement('template'); tpl.innerHTML = parts.join(\"\"); _insertNode(tpl.content); } else { _insertNode(contentNode.content); } })(); } else { _insertNode(contentNode.content); } }); </script></treescope-run-here><div style=\"display:none\"> <script type=\"application/octet-stream\" >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</script> <treescope-run-here><script type=\"application/octet-stream\"> const root = ( Array.from(document.getElementsByClassName( \"treescope_out_bf8dab6999d54a3f85a9d389a3352524\")) .filter((elt) => !elt.dataset['step0']) )[0]; root.dataset['step0'] = 1; root.defns.insertContent( this.parentNode.querySelector('script[type=\"application/octet-stream\"]'), true ); this.parentNode.remove(); </script></treescope-run-here> </div>"
      ],
      "text/plain": [
       "<IPython.core.display.HTML object>"
      ]
     },
     "metadata": {},
     "output_type": "display_data"
    },
    {
     "data": {
      "text/html": [
       "<div style=\"display:none\"> <script type=\"application/octet-stream\" >eNq1lEtP20AQgP/KaJFQIoyxjYNj8pBaaCUuPbSHHiIUrXfHyVaL111vUCPEf++s4xho0xYOPfgxnuc3M+upVPfQuK3GGZOqqTXfXkJlKmSg5IyVxi4llmgtymUW8YJjIYus4GmZJTzO8nSUkiBGMsKMzadNzSu6+3jzUBhN7rwoLN7DA7TiJRxdjBMeRRN4nJ7tDFsvEJo3zYw9d2LzY+0m3/iP8J21fDtYRAHEASQBnAeQBjAK4CKALIBxAPltANJta5ypyp0nw+OVm1CCtp79g1jn0zcAF0UcScF5IS8wzTnPx0jPJEmisYx5JJ6AXwsAROARPIOH8BQew3N4EE8COVF60vg/IMUjUSZZmmIZ8TTNxDjCdByVSZ7LPEvS+O1IURjA4asvv9SG/xXAWcRGmBpP7aY6XaP1SyGsqh20ARiva60Ed8pUZ0Y4dKcN+fA7NhemasiK2xW6G9nADBbs9RsbAHv9tJ8b/7OPt5NdZdIIa4yjutxaNSFV+ZnET0biYDiBrnrC74w68/D7Bu32C2oUztgBC/sOLb2a/eZ6pWnePkknh8J/aNM4u0Gy7zUWaUMEflVuPXjh3gctLV/dYdXVs/GvoaB2O7zuxI+dhWfYW4c0JKzk1Vpp2Qf2emNhoNGBonh07hVMn+YVaqxWbk1fT06G9JPwdjslGfeRSfyg0b++395Q8L33Qt1SAu/TmI0VeE0H4Y89PPIHgcEJ/OK+E1+0pY8Wlso2+9wtGTk8aS3emft2kI8vJ3GwyUO//O1W094fWPmfqsjYUw==</script> <treescope-run-here><script type=\"application/octet-stream\"> const root = ( Array.from(document.getElementsByClassName( \"treescope_out_bf8dab6999d54a3f85a9d389a3352524\")) .filter((elt) => !elt.dataset['step1']) )[0]; root.dataset['step1'] = 1; root.defns.insertContent( this.parentNode.querySelector('script[type=\"application/octet-stream\"]'), true ); this.parentNode.remove(); </script></treescope-run-here> </div>"
      ],
      "text/plain": [
       "<IPython.core.display.HTML object>"
      ]
     },
     "metadata": {},
     "output_type": "display_data"
    },
    {
     "data": {
      "text/html": [
       "<treescope-run-here><script type=\"application/octet-stream\"> const root = ( Array.from(document.getElementsByClassName( \"treescope_out_bf8dab6999d54a3f85a9d389a3352524\")) .filter((elt) => !elt.dataset.stolen) )[0]; root.dataset.stolen = 1; this.parentNode.replaceChild(root, this); </script></treescope-run-here>"
      ],
      "text/plain": [
       "Selection(\n",
       "  selected_by_path=OrderedDict({\n",
       "    (DictKey(key='b'),):\n",
       "      <jax.Array([0, 1, 2, 3, 4, 5, 6, 7, 8, 9], dtype=int32)>,\n",
       "    (DictKey(key='c'),):\n",
       "      [{'value': <jax.Array([ 0,  1,  2,  3,  4,  5,  6,  7,  8,  9, 10, 11], dtype=int32)>}, {'value': <jax.Array([0., 0., 0., 0., 0., 0., 0.], dtype=float32)>}, {'value': 3}],\n",
       "  }),\n",
       "  remainder={\n",
       "    'a': 1,\n",
       "    'b': SelectionHole(path=(DictKey(key='b'),)),\n",
       "    'c': SelectionHole(path=(DictKey(key='c'),)),\n",
       "  },\n",
       ")"
      ]
     },
     "execution_count": 18,
     "metadata": {},
     "output_type": "execute_result"
    }
   ],
   "source": [
    "pz.select(my_nested_object).at(\n",
    "    lambda root: (root[\"b\"], root[\"c\"]), multiple=True\n",
    ")"
   ]
  },
  {
   "cell_type": "markdown",
   "metadata": {
    "id": "jBtV4TmU3_Az"
   },
   "source": [
    "Later `at` calls in a chain are relative to the currently selected part:"
   ]
  },
  {
   "cell_type": "code",
   "execution_count": 19,
   "metadata": {
    "execution": {
     "iopub.execute_input": "2024-09-11T16:37:58.350214Z",
     "iopub.status.busy": "2024-09-11T16:37:58.349979Z",
     "iopub.status.idle": "2024-09-11T16:37:58.360850Z",
     "shell.execute_reply": "2024-09-11T16:37:58.360652Z"
    },
    "id": "Z8xrYRKXMVbX"
   },
   "outputs": [
    {
     "data": {
      "text/html": [
       "<script> (()=>{ if (customElements.get('treescope-container') === undefined) { class TreescopeContainer extends HTMLElement { constructor() { super(); this.attachShadow({mode: \"open\"}); this.defns = {}; this.state = {}; } } customElements.define(\"treescope-container\", TreescopeContainer); } if (customElements.get('treescope-run-here') === undefined) { class RunHere extends HTMLElement { constructor() { super() } connectedCallback() { const run = child => { const fn = new Function(child.textContent); child.textContent = \"\"; fn.call(this); this.remove(); }; const child = this.querySelector(\"script\"); if (child) { run(child); } else { new MutationObserver(()=>{ run(this.querySelector(\"script\")); }).observe(this, {childList: true}); } } } customElements.define(\"treescope-run-here\", RunHere); } })(); </script> <treescope-container class=\"treescope_out_6e60787ec4784c6a9d7b8a0004133d6c\" ></treescope-container> <treescope-run-here><script type=\"application/octet-stream\"> const root = ( Array.from(document.getElementsByClassName( \"treescope_out_6e60787ec4784c6a9d7b8a0004133d6c\")) .filter((elt) => !elt.dataset.setup) )[0]; root.dataset.setup = 1; const msg = document.createElement(\"span\"); msg.style = \"color: #cccccc; font-family: monospace;\"; msg.textContent = \"(Loading...)\"; root.state.loadingMsg = msg; root.shadowRoot.appendChild(msg); root.state.chain = new Promise((resolve, reject) => { const observer = new IntersectionObserver((entries) => { for (const entry of entries) { if (entry.isIntersecting) { resolve(); observer.disconnect(); return; } } }, {rootMargin: \"1000px\"}); window.setTimeout(() => { observer.observe(root); }, 0); }); root.state.deferring = false; const _insertNode = (node) => { for (let oldScript of node.querySelectorAll(\"script\")) { let newScript = document.createElement(\"script\"); newScript.type = oldScript.type; newScript.textContent = oldScript.textContent; oldScript.parentNode.replaceChild(newScript, oldScript); } if (root.state.loadingMsg) { root.state.loadingMsg.remove(); root.state.loadingMsg = null; } root.shadowRoot.appendChild(node); }; root.defns.insertContent = ((contentNode, compressed) => { if (compressed) { root.state.deferring = true; } if (root.state.deferring) { root.state.chain = (async () => { await root.state.chain; if (compressed) { const encoded = contentNode.textContent; const blob = new Blob([ Uint8Array.from(atob(encoded), (m) => m.codePointAt(0)) ]); const reader = blob.stream().pipeThrough( new DecompressionStream(\"deflate\") ).pipeThrough( new TextDecoderStream(\"utf-8\") ).getReader(); const parts = []; while (true) { const step = await reader.read(); if (step.done) { break; } parts.push(step.value); } const tpl = document.createElement('template'); tpl.innerHTML = parts.join(\"\"); _insertNode(tpl.content); } else { _insertNode(contentNode.content); } })(); } else { _insertNode(contentNode.content); } }); </script></treescope-run-here><div style=\"display:none\"> <script type=\"application/octet-stream\" >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</script> <treescope-run-here><script type=\"application/octet-stream\"> const root = ( Array.from(document.getElementsByClassName( \"treescope_out_6e60787ec4784c6a9d7b8a0004133d6c\")) .filter((elt) => !elt.dataset['step0']) )[0]; root.dataset['step0'] = 1; root.defns.insertContent( this.parentNode.querySelector('script[type=\"application/octet-stream\"]'), true ); this.parentNode.remove(); </script></treescope-run-here> </div>"
      ],
      "text/plain": [
       "<IPython.core.display.HTML object>"
      ]
     },
     "metadata": {},
     "output_type": "display_data"
    },
    {
     "data": {
      "text/html": [
       "<div style=\"display:none\"> <script type=\"application/octet-stream\" >eNq1lEtv2zAMgP8KoQFFgrqun3HcPICt3YBedtgOOxRFIUtMokG1PFkpFgz976Mcx223bmsPOzg2xedHUplLdQet22lcMKnaRvPdGdSmRgZKLtjK2BuJK7QW5U2eJFJGeRTLosymeVUVVSqjRERFjJVMC7actw2v6dfHW4bCaHLnVWXxDn5AJ57Bm8k04VE0g/v56d6w8wKhedsu2GMntjzSbvaVfw/fWst3o6sogDiAJIA0gCyAPIBJAEUA0wDK6wCk2zW4ULVLk/HR2s0oQVfP4UWsy/lrgHmVJryKE5R5lvFsOknysuQVpvEUM5k8AL8UAIjAI3gGD+EpPIbn8CCeBEqi9KTxf0Cq8opP0mmSxUWWrfJJGfESs7xI44wOZPx6pCgM4PlnKH+lDf8rgLOIrTANnthtfbJB65dCWNU46AIw3jRaCe6UqU+NcOhOWvLht2wpTN2SFbdrdJeyhQVcsZdvbADs5dN+bPzPPl7P9pVJI6wxjupyG9WGVOUnEj8aiaPxDPrqCb836s3Db1u0u8+oUThjRywcOnTj1ew313NN8/ZJejkU/qBL4+wWyX7QWKQNEfhFuc3oifsQdGX5+hbrvp6t/wwFtdvhRS9+6C08w8E6pCFhLc83SsshsNcbCyONDhTFo3uvYP4wr1BjvXYbOj0+HtOfhLfbK8l4iEzie43+893ukoIfvK/UNSXwPq3ZWoEXdBH+2MM3/iIwOIZf3Pfik7YM0cKVsu0hd0dGDg9ai7fmrhvk/dNJPNvksV/+bqtp759Z+Z/uO9Q7</script> <treescope-run-here><script type=\"application/octet-stream\"> const root = ( Array.from(document.getElementsByClassName( \"treescope_out_6e60787ec4784c6a9d7b8a0004133d6c\")) .filter((elt) => !elt.dataset['step1']) )[0]; root.dataset['step1'] = 1; root.defns.insertContent( this.parentNode.querySelector('script[type=\"application/octet-stream\"]'), true ); this.parentNode.remove(); </script></treescope-run-here> </div>"
      ],
      "text/plain": [
       "<IPython.core.display.HTML object>"
      ]
     },
     "metadata": {},
     "output_type": "display_data"
    },
    {
     "data": {
      "text/html": [
       "<treescope-run-here><script type=\"application/octet-stream\"> const root = ( Array.from(document.getElementsByClassName( \"treescope_out_6e60787ec4784c6a9d7b8a0004133d6c\")) .filter((elt) => !elt.dataset.stolen) )[0]; root.dataset.stolen = 1; this.parentNode.replaceChild(root, this); </script></treescope-run-here>"
      ],
      "text/plain": [
       "Selection(\n",
       "  selected_by_path=OrderedDict({\n",
       "    (DictKey(key='c'), SequenceKey(idx=0), DictKey(key='value')):\n",
       "      <jax.Array([ 0,  1,  2,  3,  4,  5,  6,  7,  8,  9, 10, 11], dtype=int32)>,\n",
       "    (DictKey(key='c'), SequenceKey(idx=1), DictKey(key='value')):\n",
       "      <jax.Array([0., 0., 0., 0., 0., 0., 0.], dtype=float32)>,\n",
       "  }),\n",
       "  remainder={\n",
       "    'a': 1,\n",
       "    'b': <jax.Array([0, 1, 2, 3, 4, 5, 6, 7, 8, 9], dtype=int32)>,\n",
       "    'c': [{'value': SelectionHole(path=(DictKey(key='c'), SequenceKey(idx=0), DictKey(key='value')))}, {'value': SelectionHole(path=(DictKey(key='c'), SequenceKey(idx=1), DictKey(key='value')))}, {'value': 3}],\n",
       "  },\n",
       ")"
      ]
     },
     "execution_count": 19,
     "metadata": {},
     "output_type": "execute_result"
    }
   ],
   "source": [
    "(\n",
    "    pz.select(my_nested_object)\n",
    "    .at(lambda root: (root[\"c\"][0], root[\"c\"][1]), multiple=True)\n",
    "    .at(lambda subtree: subtree[\"value\"])\n",
    ")"
   ]
  },
  {
   "cell_type": "markdown",
   "metadata": {
    "id": "Dy30CsovGJz5"
   },
   "source": [
    "Note: Your function will be called with an input whose PyTree structure matches the selected object, but it won't be the exact same object. For that reason, the function should generally depend only on the input's PyTree structure, not its exact contents."
   ]
  },
  {
   "cell_type": "markdown",
   "metadata": {
    "id": "KAmBjvkVHSMg"
   },
   "source": [
    "### Selecting by type\n",
    "\n",
    "If you want to select all subtrees with a particular type, you can use `Selection.at_instances_of`:"
   ]
  },
  {
   "cell_type": "code",
   "execution_count": 20,
   "metadata": {
    "execution": {
     "iopub.execute_input": "2024-09-11T16:37:58.368641Z",
     "iopub.status.busy": "2024-09-11T16:37:58.368163Z",
     "iopub.status.idle": "2024-09-11T16:37:58.378105Z",
     "shell.execute_reply": "2024-09-11T16:37:58.378240Z"
    },
    "id": "y438yc3_HgEg"
   },
   "outputs": [
    {
     "data": {
      "text/html": [
       "<script> (()=>{ if (customElements.get('treescope-container') === undefined) { class TreescopeContainer extends HTMLElement { constructor() { super(); this.attachShadow({mode: \"open\"}); this.defns = {}; this.state = {}; } } customElements.define(\"treescope-container\", TreescopeContainer); } if (customElements.get('treescope-run-here') === undefined) { class RunHere extends HTMLElement { constructor() { super() } connectedCallback() { const run = child => { const fn = new Function(child.textContent); child.textContent = \"\"; fn.call(this); this.remove(); }; const child = this.querySelector(\"script\"); if (child) { run(child); } else { new MutationObserver(()=>{ run(this.querySelector(\"script\")); }).observe(this, {childList: true}); } } } customElements.define(\"treescope-run-here\", RunHere); } })(); </script> <treescope-container class=\"treescope_out_cdb9f4dc26ee4c7796579650c9125388\" ></treescope-container> <treescope-run-here><script type=\"application/octet-stream\"> const root = ( Array.from(document.getElementsByClassName( \"treescope_out_cdb9f4dc26ee4c7796579650c9125388\")) .filter((elt) => !elt.dataset.setup) )[0]; root.dataset.setup = 1; const msg = document.createElement(\"span\"); msg.style = \"color: #cccccc; font-family: monospace;\"; msg.textContent = \"(Loading...)\"; root.state.loadingMsg = msg; root.shadowRoot.appendChild(msg); root.state.chain = new Promise((resolve, reject) => { const observer = new IntersectionObserver((entries) => { for (const entry of entries) { if (entry.isIntersecting) { resolve(); observer.disconnect(); return; } } }, {rootMargin: \"1000px\"}); window.setTimeout(() => { observer.observe(root); }, 0); }); root.state.deferring = false; const _insertNode = (node) => { for (let oldScript of node.querySelectorAll(\"script\")) { let newScript = document.createElement(\"script\"); newScript.type = oldScript.type; newScript.textContent = oldScript.textContent; oldScript.parentNode.replaceChild(newScript, oldScript); } if (root.state.loadingMsg) { root.state.loadingMsg.remove(); root.state.loadingMsg = null; } root.shadowRoot.appendChild(node); }; root.defns.insertContent = ((contentNode, compressed) => { if (compressed) { root.state.deferring = true; } if (root.state.deferring) { root.state.chain = (async () => { await root.state.chain; if (compressed) { const encoded = contentNode.textContent; const blob = new Blob([ Uint8Array.from(atob(encoded), (m) => m.codePointAt(0)) ]); const reader = blob.stream().pipeThrough( new DecompressionStream(\"deflate\") ).pipeThrough( new TextDecoderStream(\"utf-8\") ).getReader(); const parts = []; while (true) { const step = await reader.read(); if (step.done) { break; } parts.push(step.value); } const tpl = document.createElement('template'); tpl.innerHTML = parts.join(\"\"); _insertNode(tpl.content); } else { _insertNode(contentNode.content); } })(); } else { _insertNode(contentNode.content); } }); </script></treescope-run-here><div style=\"display:none\"> <script type=\"application/octet-stream\" >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</script> <treescope-run-here><script type=\"application/octet-stream\"> const root = ( Array.from(document.getElementsByClassName( \"treescope_out_cdb9f4dc26ee4c7796579650c9125388\")) .filter((elt) => !elt.dataset['step0']) )[0]; root.dataset['step0'] = 1; root.defns.insertContent( this.parentNode.querySelector('script[type=\"application/octet-stream\"]'), true ); this.parentNode.remove(); </script></treescope-run-here> </div>"
      ],
      "text/plain": [
       "<IPython.core.display.HTML object>"
      ]
     },
     "metadata": {},
     "output_type": "display_data"
    },
    {
     "data": {
      "text/html": [
       "<div style=\"display:none\"> <script type=\"application/octet-stream\" >eNq1lE1P20AQhv/KaJFQIoxx7HWwyYfUQitx6aE99IAQWu+Ok62M111vUCPEf++s4xhoaQuHHpJ4vO98PDOzmSt9B63bVrhgSrdNJbZnUJsaGWi1YKWxNwpLtBbVzUTIQsRlKrGIuFR5EZWTaJrnZcqTU5VkbDlvG1HTt4+3DKWpyF0UhcU7uIfOPIODaRaLKJrBw/xkJ+y8QFaibRfsqRNbHlZu9k38CN9ZK7ajqyiASQBxAEkAPIA0gGkApwFkAeTXASi3bXCha5fE48OVm1GCrp79D7Eu528ARilViUoWSXbKBZ8UnJdxminkUZmL4gnwawGACDyCZ/AQnsJjeA4P4kkgJ0pPOvkPSHEhkumUyyTlMedpkaVZnKp0KnkUqSjHtyNFYQAvf4byy8qIvwI4i9hK0+Cx3dTHa7R+KaTVjYMuABNNU2kpnDb1iZEO3XFLPuKWLaWpW1IJu0J3qVpYwBV7/cYGwF4/7afif/bxerarTBlpjXFUl1vrNqQqP5P5ySgcjWfQV0/4vaiXh983aLdfsELpjB2xcOjQjT9mv7meVzRvn6S3Q+lfdGmc3SDphxOLtCESv2q3Hj1zH4KWVqxuse7r2fjHUFK7HV705sde4Rn26pCGhLU6X+tKDYH9ubEwqtCBpnh07zXMH+cVVliv3JreHh2N6U/C63aHJB4ik/mhQv/4fntJwffeV/qaEnif1mysxAu6CH/s4YG/CAyO4Bf3nfmsLUO0sNS23efuyMjh8dTirbnrBvnwfBIvNnnsl7/batr7F1b+J23e17U=</script> <treescope-run-here><script type=\"application/octet-stream\"> const root = ( Array.from(document.getElementsByClassName( \"treescope_out_cdb9f4dc26ee4c7796579650c9125388\")) .filter((elt) => !elt.dataset['step1']) )[0]; root.dataset['step1'] = 1; root.defns.insertContent( this.parentNode.querySelector('script[type=\"application/octet-stream\"]'), true ); this.parentNode.remove(); </script></treescope-run-here> </div>"
      ],
      "text/plain": [
       "<IPython.core.display.HTML object>"
      ]
     },
     "metadata": {},
     "output_type": "display_data"
    },
    {
     "data": {
      "text/html": [
       "<treescope-run-here><script type=\"application/octet-stream\"> const root = ( Array.from(document.getElementsByClassName( \"treescope_out_cdb9f4dc26ee4c7796579650c9125388\")) .filter((elt) => !elt.dataset.stolen) )[0]; root.dataset.stolen = 1; this.parentNode.replaceChild(root, this); </script></treescope-run-here>"
      ],
      "text/plain": [
       "Selection(\n",
       "  selected_by_path=OrderedDict({\n",
       "    (DictKey(key='a'),):\n",
       "      1,\n",
       "    (DictKey(key='c'), SequenceKey(idx=2), DictKey(key='value')):\n",
       "      3,\n",
       "  }),\n",
       "  remainder={\n",
       "    'a': SelectionHole(path=(DictKey(key='a'),)),\n",
       "    'b': <jax.Array([0, 1, 2, 3, 4, 5, 6, 7, 8, 9], dtype=int32)>,\n",
       "    'c': [{'value': <jax.Array([ 0,  1,  2,  3,  4,  5,  6,  7,  8,  9, 10, 11], dtype=int32)>}, {'value': <jax.Array([0., 0., 0., 0., 0., 0., 0.], dtype=float32)>}, {'value': SelectionHole(path=(DictKey(key='c'), SequenceKey(idx=2), DictKey(key='value')))}],\n",
       "  },\n",
       ")"
      ]
     },
     "execution_count": 20,
     "metadata": {},
     "output_type": "execute_result"
    }
   ],
   "source": [
    "pz.select(my_nested_object).at_instances_of(int)"
   ]
  },
  {
   "cell_type": "markdown",
   "metadata": {
    "id": "wIjWns9HHiXj"
   },
   "source": [
    "This selects any subtree for which `isinstance(subtree, requested_type)` evaluates to True.\n",
    "\n",
    "Note that selections cannot be nested, so this only selects the *outermost* value with the given type:"
   ]
  },
  {
   "cell_type": "code",
   "execution_count": 21,
   "metadata": {
    "execution": {
     "iopub.execute_input": "2024-09-11T16:37:58.384923Z",
     "iopub.status.busy": "2024-09-11T16:37:58.384680Z",
     "iopub.status.idle": "2024-09-11T16:37:58.392594Z",
     "shell.execute_reply": "2024-09-11T16:37:58.392727Z"
    },
    "id": "sopg1pzrH2ZX"
   },
   "outputs": [
    {
     "data": {
      "text/html": [
       "<script> (()=>{ if (customElements.get('treescope-container') === undefined) { class TreescopeContainer extends HTMLElement { constructor() { super(); this.attachShadow({mode: \"open\"}); this.defns = {}; this.state = {}; } } customElements.define(\"treescope-container\", TreescopeContainer); } if (customElements.get('treescope-run-here') === undefined) { class RunHere extends HTMLElement { constructor() { super() } connectedCallback() { const run = child => { const fn = new Function(child.textContent); child.textContent = \"\"; fn.call(this); this.remove(); }; const child = this.querySelector(\"script\"); if (child) { run(child); } else { new MutationObserver(()=>{ run(this.querySelector(\"script\")); }).observe(this, {childList: true}); } } } customElements.define(\"treescope-run-here\", RunHere); } })(); </script> <treescope-container class=\"treescope_out_f951459404184e3fa1e698f310d82349\" ></treescope-container> <treescope-run-here><script type=\"application/octet-stream\"> const root = ( Array.from(document.getElementsByClassName( \"treescope_out_f951459404184e3fa1e698f310d82349\")) .filter((elt) => !elt.dataset.setup) )[0]; root.dataset.setup = 1; const msg = document.createElement(\"span\"); msg.style = \"color: #cccccc; font-family: monospace;\"; msg.textContent = \"(Loading...)\"; root.state.loadingMsg = msg; root.shadowRoot.appendChild(msg); root.state.chain = new Promise((resolve, reject) => { const observer = new IntersectionObserver((entries) => { for (const entry of entries) { if (entry.isIntersecting) { resolve(); observer.disconnect(); return; } } }, {rootMargin: \"1000px\"}); window.setTimeout(() => { observer.observe(root); }, 0); }); root.state.deferring = false; const _insertNode = (node) => { for (let oldScript of node.querySelectorAll(\"script\")) { let newScript = document.createElement(\"script\"); newScript.type = oldScript.type; newScript.textContent = oldScript.textContent; oldScript.parentNode.replaceChild(newScript, oldScript); } if (root.state.loadingMsg) { root.state.loadingMsg.remove(); root.state.loadingMsg = null; } root.shadowRoot.appendChild(node); }; root.defns.insertContent = ((contentNode, compressed) => { if (compressed) { root.state.deferring = true; } if (root.state.deferring) { root.state.chain = (async () => { await root.state.chain; if (compressed) { const encoded = contentNode.textContent; const blob = new Blob([ Uint8Array.from(atob(encoded), (m) => m.codePointAt(0)) ]); const reader = blob.stream().pipeThrough( new DecompressionStream(\"deflate\") ).pipeThrough( new TextDecoderStream(\"utf-8\") ).getReader(); const parts = []; while (true) { const step = await reader.read(); if (step.done) { break; } parts.push(step.value); } const tpl = document.createElement('template'); tpl.innerHTML = parts.join(\"\"); _insertNode(tpl.content); } else { _insertNode(contentNode.content); } })(); } else { _insertNode(contentNode.content); } }); </script></treescope-run-here><div style=\"display:none\"> <script type=\"application/octet-stream\" >eNrtWQtT27oS/itqOtMkF2KcNwmFuU7IixYohBZKTydXtmVbxLGNrSSEM/z3u5KdJybAKfS0Zw7MEJBWu6t9fLta3gdsYpM9ifmEBJrrkZ7vugz9iTw3oIy6ThX5xMaMjsgOMlyHZQw8oPakigau4wYe1mB9bFFGMuKPKvJ8WLFpwDKCdYZNPFh1XAeWVaz1Td8dOnpGc23Xr4ZHd1D0l2oDAfCjOrOqyKAMyBxGHLaDPKzr1DEzNjFYFeU0iwtxSMYi1LRgJSsVORuHYQo6z45Fv2RGNKAqtSkDzfGQuTPaDHWYT52AapmA3pJwN1L37v1WaJ73M/Nk/KEDMn1YCzSfegzx++0msefZVMPcYluuxgi/vU/wILmXSqV398CgIC9gSCeGE6BdxCwaSCZhp2DtI1cnqbRkuQGTxD5cjTDU84jDr6xonCs/9O173E4bO7pNYNsZ2vZOKEECNbuu68Bqauz6/TRa1ME9hyW+tbTMqMYXPeIbrj/AjkYkxx2n0sK/ICB1bwdlwkPvUT6XBj7UQKkVrSWbOCaz0O4ukjnJWtV9woa+A3ZHxA7IXDFr6HDNVlkHFjUY108Q8F/u4PsBCSmIKkd3x5JProckYIpDB8JdTR8PSCq0SZrz2LknyBsGVmjGnZg7TkXshtdYc8un68C1CB3JXNO0w6zsicyBaPU4L75CbLaJyAgCPPIk1078LfXJhBs94Se4QhGxpNk4CD5CckZ8U4kZz94AwjAxFX6XBntC+IsY33u/FZcAOh0hwXA3sQwfCcSwCjclN7sJOYFcB5SBaztAty7s4++a4memt0xA2oWAJRCjp7mDAayLUBEI8haLL36LFRJcdVyWqlruiPjpGPqI3BkOVOIvMJQr29liaU4QcLgwFyXms8VskRPALYjvE73nAY4Ry7X1JU64zL8jGBXXqCLKMOAGP2wAOVbh+g7Y5QEAhkstkfVCiwG1TgMQOpkC7Soh2kM2VoldraoEcpgsaKWJr51YeSHYZrIcbSNQlnfmsqgjIFi1XY7aD8oUJr8vWcd+PyDYhNBx7p8W3lpZsnCQ2hM892LtEHpYs4jWJ3o6jf6TnuvAj8YfmtIvaSiqRhUl/8gVVS35d6q3fOhBJUs/QUnuRy546AfcgZ4LtZP4MXJp8HJiRSoIQRmBAcFDMf4yUufXY+SG3Zci0aBnUD9gPdfp8fCPSa11qSTlijybYl2Fflj90OOrKvJbDbBvQrcTqiES+u4HpQEeehN1yBi0GXEANN+OC9oESqxQgSGhhYwn/oNkC3pipQNNHmKICopt1J0MVNcO0PGQ8fvqqB6ehE9vAomRGRO1D91kiLwDqC8WYDj0eg6D4xQHRJ/1oG+JzL937od5eFo0ibJUIYPVW4b5EXOLeLibn5TGOOhpUAfAsLPz2GBL1WOK0+tkrpxZFrloejTCfiqT0THDGeyAY0Ubkl5c5kJ4b+VjZxrNgi3KBoiAxaBxzrhD9ryrzDQAx1Civ1nWRIhEb+jAc32GnXu8Vd/tE6fHV+Zg9Lh1F44t2HPq5juJdyqgmN7ToM/VfeJEqi6/JIDnMuELoetC6kSFdClVNWxrKXjuQK+d9W5EeyYFDPPzM31fTRPV9aGFiTTRXQZ351osGg9CgPiqe9ODaO+5Yf4tclruEaJXHE+gXJFnEJzkKSXWImmwJG7JmY4ps16X68vYbhPFGuLVHBM1YwN8M38h30kB8bAPmChAP3jlKOVxGCPvNcMRbmhh3l+Pse+Ac3vTBmGa04aBtWw+htCDN9OfsxmCH40MeBWMki1aysiSKM/zQUVVjBmwnzF9rFMwdCqbL+rE3EQuIKNJkAxRV9KszRApwSC87oglFGXrPVXuFegXs9gSdEwvcyeNLYF/to09KHWPPxee3ws8LCFMVSFDEJEbqAn6gzQvoUeciBec6PBHNnqj+D6eSIbvDuDhrg35G1PiHUIgjbANr/tUOi0FLjzrRd/An+f8UwqbF/40f2L7kkiiNErPhiGBRQjjExMyRvVut8tv0+VrfP4hNiWfiPdnd+Joqf/9N2qZNI6ff7F9WnywOnwCZEdr42j4VpChFgS+VkVD307xWl7l+1tj1zByOyp0C6XCpi5XWoemUlPEV+dEUVzxW+10DD/bTUVpKOu+agNFMfvuB73TqNXHXxXl7Gv9QDns1OpK07zptD9aLKgdUmLmm/sXuY+d0tdR1xvST4fFs+zBRef0y+Ho/PCWfZo0m/WNc7N/Rmv7skX3T4YHDb11JbfVLWPU0b3rDyXr+pzSk+Gh07LaxmemfC7VjvyC0uw4/UZJ+zwcOhunxWst6I9HRtPeur4xG+62qR6MW9vZtrLlKKfFj75/kD3dMG/lU11WDoyseVSuj1tXOVN2J8PTcnnQyJbG7YvKsWl65Kw/KZCOelvUVP+4xbBinnSOxvs4mAQnw07n4rzRHCufTrzOV/3z1taGWT4rX+SZbHz4dK2MisDzo3JUVg7HysC8Pe1uDC+7pHFxkzNK2u1R4bQ9KQ5ryofb2pXX9PK0fVJvyJfDT4Vu2TFqHxvt5uFAoRvbo0bOcrJWeUP9Mr64Grf90X7rc925MhoNk20ca5e2XS5W6gfj2rZVKRwetrr51qViDjrFq9pJhZ21SLvSqNU6rfy+WTjd+qpNVKUFPv3yYUs5aWGFHNZtpX3bODYvmVmqfTKPjzv7tT49KZJm7aJea2pU9izf9RyIDe+ysZ+9zfa7Rt1g1uSD09ZxM2gb8tGg1Tgq1XTl+ssXD7OgeznQdUwrOeO2UvhMr65L3sAvHbtf613qtwajg1a+e97NNxs5rXZinG20bddrFZrBuIjN69I2vSTdI9s7d2rtDtEPfTI8v27VB9nzpt/vdm+KudL5eTBWQKM0EtNPlkqKsE5ydP8f/JhlP9ZdDzqkeUqKma0kSWsoNsOc/Q681s/GLDFEFE1s2F8DbwgPR0OpsM1dHvFCCp65PH2BLGqD+VoA8MBZ8L6eN8N4jClDDh5REzPXl4Czp7rY16WxTxk5gydwas4LLhvxms8RoaSmEgtNP58ggpQzOiDQBKWmI+Z753wygA7+3tG7TZSTZVlUTgBfKKIp8XyNl7vQ2SfmyvGH+xTB+NA1gd6iJqY2ABtzESd+I5ANqqUzxDagMQWbEazzh8nGou2iaegjc1D+yJkOQpdmjok97xaaJJtoLAU8gGyZ+N7DI7Fuf2Vzeda22lEAcVg231PHG0Y1LSEKJfSoiVgmUU2FzbCewnXFYfiMeC3Kj+t3V1Rc7bUTSBQRvsF78irKwVsicG2qI22CnZX3Bn/0LGyu8H6g93wC1QrJUscw3Yv0XHhchgouVT2omTqo9RZ1hYuJXp06efnjmQq9nmNnDv0z1qM/FI6Lw/HE3ru3N7nyDg4/IjtUUcyBcNye2MtGRJv3fTPrKhN7KM6ksQ4M95LzKUASuU6d48xu8plAK/4BkU6i2YhiN/EtiZPfZ9G8ML2oonfXQ5ftCILw1x10b84CvZeAFyhf8IhLRjrvxUfPo7jxBEeosY6g+m5i9i8Lo2RUVKOUL+ZlvaBWcriskeK2XtFyBBtyVl6REvevjsTeFb6RRF8MiMryuVRW3kwv3+N38a/6mH/VX8m/2rpEW4KCF60L3+Jg5PV8oj3mE+2HffIbVOf1IP6q1v8mP+4AoPlVfBCXKeJt/jgalmRV07BWzOW3i4XtilqR9SI2VC1LNLlcLpK/hoa5VTRch3ObvwwWhl79lhS2Sz4pBGbEL4qR4cfdb1ZKflri/MWC8s+EquwTLJ79J0BVTs8WSoV8NodVuZDdzm2XtyuGruX0vEoKslp6JlQZtos5WJV/X6zKPgersv9i1d+ROf9i1YLFc0+weO43xarY137+t8OU3HMwJfdTMOV3Mt5PiO+4j++/m6le+327Np62ngfUqzZ69MDKbDwtYdbrkwnXOIidj7/Y5GI+yV6jz9oS/c5mO1kUDFXxD4BNZFHTsvkYmOgIq+6IvDPZzhOs9Bat5bJqxJgp7ZrQ/OVHFqkXmTun0pvLdko/N3RXI3FGqtPR3v8BEG7qFg==</script> <treescope-run-here><script type=\"application/octet-stream\"> const root = ( Array.from(document.getElementsByClassName( \"treescope_out_f951459404184e3fa1e698f310d82349\")) .filter((elt) => !elt.dataset['step0']) )[0]; root.dataset['step0'] = 1; root.defns.insertContent( this.parentNode.querySelector('script[type=\"application/octet-stream\"]'), true ); this.parentNode.remove(); </script></treescope-run-here> </div>"
      ],
      "text/plain": [
       "<IPython.core.display.HTML object>"
      ]
     },
     "metadata": {},
     "output_type": "display_data"
    },
    {
     "data": {
      "text/html": [
       "<div style=\"display:none\"> <script type=\"application/octet-stream\" >eNq1lEtv00AQx7/KyEhVorqu37GbhwQtSL1wgAOHqqrWu+Nk0dZr1puKCPW7M+s4bgsF2gOHJB7vfx6/mdkshLyDzu4ULj0hu1ax3Rk0ukEPpFh6tTY3Ams0BsVNnddlVedJloQircqYzThmhSh5jKwOo9BbLbqWNfTt4q0CrhW5s6oyeAc/oDfP4E1exCwM53C/ON0Ley/ginXd0nvs5K2OlJ1/Zd+Dt8aw3eQq9CHyIfYh8SH1IfMh92HmQ+FDee2DsLsWl7KxSTw9Wts5JejrOfwQ62rxCuA8rDhnPIuTIkuLsipDkbG64hHycDbL8AH4pQBABA7BMTgIR+EwHIcDcSRQEqUjjf4DUiyiNE+TKGZVmEZFXMyKshY8FkmFaVjlr0cKAx+e/4zl10qzvwJYg9hx3eKJ2TYnGzRuKbiRrYU+gMfaVknOrNTNqeYW7UlHPuzWW3HddKRiZo32UnSwhCvv5Rvrg/fyaT8W/7OP1/N9ZUJzo7WluuxGdgFV+YnMj1rgZDqHoXrCH0SDPPi2RbP7jAq51WbiBWOHbtyx95vruaJ5uySDHXD3ok9jzRZJP54YpA3h+EXazeSJ+xi0Nmx9i81Qz9Y9BpzabfFiMD8MCsdwUAc0JGzE+UYqMQZ259rARKEFSfHo3ktYPMwrUNis7YbeHh9P6U/C6faHJB4jk/leoXt8t7uk4AfvK3lNCZxPp7eG4wVdhD/28I27CB4cwy/ue/NJW8ZoQS1Nd8jdk5HDw6nBW33XD/L+6SSebfLULX+/1bT3z6z8T5Is108=</script> <treescope-run-here><script type=\"application/octet-stream\"> const root = ( Array.from(document.getElementsByClassName( \"treescope_out_f951459404184e3fa1e698f310d82349\")) .filter((elt) => !elt.dataset['step1']) )[0]; root.dataset['step1'] = 1; root.defns.insertContent( this.parentNode.querySelector('script[type=\"application/octet-stream\"]'), true ); this.parentNode.remove(); </script></treescope-run-here> </div>"
      ],
      "text/plain": [
       "<IPython.core.display.HTML object>"
      ]
     },
     "metadata": {},
     "output_type": "display_data"
    },
    {
     "data": {
      "text/html": [
       "<treescope-run-here><script type=\"application/octet-stream\"> const root = ( Array.from(document.getElementsByClassName( \"treescope_out_f951459404184e3fa1e698f310d82349\")) .filter((elt) => !elt.dataset.stolen) )[0]; root.dataset.stolen = 1; this.parentNode.replaceChild(root, this); </script></treescope-run-here>"
      ],
      "text/plain": [
       "Selection(\n",
       "  selected_by_path=OrderedDict({\n",
       "    (): {\n",
       "      'a': 1,\n",
       "      'b': <jax.Array([0, 1, 2, 3, 4, 5, 6, 7, 8, 9], dtype=int32)>,\n",
       "      'c': [\n",
       "        {\n",
       "          'value': <jax.Array([ 0,  1,  2,  3,  4,  5,  6,  7,  8,  9, 10, 11], dtype=int32)>,\n",
       "        },\n",
       "        {\n",
       "          'value': <jax.Array([0., 0., 0., 0., 0., 0., 0.], dtype=float32)>,\n",
       "        },\n",
       "        {'value': 3},\n",
       "      ],\n",
       "    },\n",
       "  }),\n",
       "  remainder=SelectionHole(path=()),\n",
       ")"
      ]
     },
     "execution_count": 21,
     "metadata": {},
     "output_type": "execute_result"
    }
   ],
   "source": [
    "pz.select(my_nested_object).at_instances_of(dict)"
   ]
  },
  {
   "cell_type": "markdown",
   "metadata": {
    "id": "R-Qm4rBaHkNW"
   },
   "source": [
    "### Selecting by condition\n",
    "More generally, you can select all subtrees for which a function evaluates to true:"
   ]
  },
  {
   "cell_type": "code",
   "execution_count": 22,
   "metadata": {
    "execution": {
     "iopub.execute_input": "2024-09-11T16:37:58.401184Z",
     "iopub.status.busy": "2024-09-11T16:37:58.400950Z",
     "iopub.status.idle": "2024-09-11T16:37:58.411603Z",
     "shell.execute_reply": "2024-09-11T16:37:58.411344Z"
    },
    "id": "yK6nvVfWH-Jh"
   },
   "outputs": [
    {
     "data": {
      "text/html": [
       "<script> (()=>{ if (customElements.get('treescope-container') === undefined) { class TreescopeContainer extends HTMLElement { constructor() { super(); this.attachShadow({mode: \"open\"}); this.defns = {}; this.state = {}; } } customElements.define(\"treescope-container\", TreescopeContainer); } if (customElements.get('treescope-run-here') === undefined) { class RunHere extends HTMLElement { constructor() { super() } connectedCallback() { const run = child => { const fn = new Function(child.textContent); child.textContent = \"\"; fn.call(this); this.remove(); }; const child = this.querySelector(\"script\"); if (child) { run(child); } else { new MutationObserver(()=>{ run(this.querySelector(\"script\")); }).observe(this, {childList: true}); } } } customElements.define(\"treescope-run-here\", RunHere); } })(); </script> <treescope-container class=\"treescope_out_2d6aba399778417faf34bf17ae222c1b\" ></treescope-container> <treescope-run-here><script type=\"application/octet-stream\"> const root = ( Array.from(document.getElementsByClassName( \"treescope_out_2d6aba399778417faf34bf17ae222c1b\")) .filter((elt) => !elt.dataset.setup) )[0]; root.dataset.setup = 1; const msg = document.createElement(\"span\"); msg.style = \"color: #cccccc; font-family: monospace;\"; msg.textContent = \"(Loading...)\"; root.state.loadingMsg = msg; root.shadowRoot.appendChild(msg); root.state.chain = new Promise((resolve, reject) => { const observer = new IntersectionObserver((entries) => { for (const entry of entries) { if (entry.isIntersecting) { resolve(); observer.disconnect(); return; } } }, {rootMargin: \"1000px\"}); window.setTimeout(() => { observer.observe(root); }, 0); }); root.state.deferring = false; const _insertNode = (node) => { for (let oldScript of node.querySelectorAll(\"script\")) { let newScript = document.createElement(\"script\"); newScript.type = oldScript.type; newScript.textContent = oldScript.textContent; oldScript.parentNode.replaceChild(newScript, oldScript); } if (root.state.loadingMsg) { root.state.loadingMsg.remove(); root.state.loadingMsg = null; } root.shadowRoot.appendChild(node); }; root.defns.insertContent = ((contentNode, compressed) => { if (compressed) { root.state.deferring = true; } if (root.state.deferring) { root.state.chain = (async () => { await root.state.chain; if (compressed) { const encoded = contentNode.textContent; const blob = new Blob([ Uint8Array.from(atob(encoded), (m) => m.codePointAt(0)) ]); const reader = blob.stream().pipeThrough( new DecompressionStream(\"deflate\") ).pipeThrough( new TextDecoderStream(\"utf-8\") ).getReader(); const parts = []; while (true) { const step = await reader.read(); if (step.done) { break; } parts.push(step.value); } const tpl = document.createElement('template'); tpl.innerHTML = parts.join(\"\"); _insertNode(tpl.content); } else { _insertNode(contentNode.content); } })(); } else { _insertNode(contentNode.content); } }); </script></treescope-run-here><div style=\"display:none\"> <script type=\"application/octet-stream\" >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</script> <treescope-run-here><script type=\"application/octet-stream\"> const root = ( Array.from(document.getElementsByClassName( \"treescope_out_2d6aba399778417faf34bf17ae222c1b\")) .filter((elt) => !elt.dataset['step0']) )[0]; root.dataset['step0'] = 1; root.defns.insertContent( this.parentNode.querySelector('script[type=\"application/octet-stream\"]'), true ); this.parentNode.remove(); </script></treescope-run-here> </div>"
      ],
      "text/plain": [
       "<IPython.core.display.HTML object>"
      ]
     },
     "metadata": {},
     "output_type": "display_data"
    },
    {
     "data": {
      "text/html": [
       "<div style=\"display:none\"> <script type=\"application/octet-stream\" >eNq1lEtP20AQgP/KaCuhRBjjt2PykFpoJS49tIceEELr3XGylfG66w1qVPHfO+s4BlrawqEHxzue5zczm4VUd9DZXY1LJlXX1nx3Bo1ukIGSS1ZpcyOxQmNQ3oRVHGdVnIswzZOwSPmszJOMz2IeY5QGgq0WXcsb+nXxVr7QNbnzsjR4Bz+gF8/gTTaLeBDM4X5xujfsvUDUvOuW7LETWx3Vdv6Vf/ffGsN3k6vAg9CDyIPYg8SD1IPMg9yDmQfFtQfS7lpcqsbG0fRobeeUoK/n8CLW1eIVwCJKMUNZzUQaJGXBy6DK8yIvZVBEsgz5A/BLAYAIHIJjcBCOwmE4DgfiSKAgSkca/gekSiZBUM3ChMs0CaKsTLNC0LkQscgLEbweKfA9eP4Zy69qzf8KYA1iJ3SLJ2bbnGzQuKUQRrUW+gCMt22tBLdKN6daWLQnHfnwW7YSuunIips12kvZwRKu2Ms31gP28mk/Nv5nH6/n+8qkFkZrS3XZjep8qvITiR+1xMl0DkP1hD8YDeb+ty2a3WesUVhtJswfO3Tj1Ow31/Oa5u2SDLIv3Ic+jTVbJPtRY5A2ROAXZTeTJ+5j0Mrw9S02Qz1bd/QFtdvixSB+GCwcw8HapyFhI883qpZjYKfXBiY1WlAUj+69gsXDvPwam7Xd0Nfj4yn9STi7vZKMx8gkvq/RHd/tLin4wftKXVMC59PprRF4QRfhjz184y4Cg2P4xX0vPmnLGM2vlOkOuXsycnjQGrzVd/0g759O4tkmT93y91tNe//Myv8E0pjWoQ==</script> <treescope-run-here><script type=\"application/octet-stream\"> const root = ( Array.from(document.getElementsByClassName( \"treescope_out_2d6aba399778417faf34bf17ae222c1b\")) .filter((elt) => !elt.dataset['step1']) )[0]; root.dataset['step1'] = 1; root.defns.insertContent( this.parentNode.querySelector('script[type=\"application/octet-stream\"]'), true ); this.parentNode.remove(); </script></treescope-run-here> </div>"
      ],
      "text/plain": [
       "<IPython.core.display.HTML object>"
      ]
     },
     "metadata": {},
     "output_type": "display_data"
    },
    {
     "data": {
      "text/html": [
       "<treescope-run-here><script type=\"application/octet-stream\"> const root = ( Array.from(document.getElementsByClassName( \"treescope_out_2d6aba399778417faf34bf17ae222c1b\")) .filter((elt) => !elt.dataset.stolen) )[0]; root.dataset.stolen = 1; this.parentNode.replaceChild(root, this); </script></treescope-run-here>"
      ],
      "text/plain": [
       "Selection(\n",
       "  selected_by_path=OrderedDict({\n",
       "    (DictKey(key='b'),):\n",
       "      <jax.Array([0, 1, 2, 3, 4, 5, 6, 7, 8, 9], dtype=int32)>,\n",
       "    (DictKey(key='c'), SequenceKey(idx=1), DictKey(key='value')):\n",
       "      <jax.Array([0., 0., 0., 0., 0., 0., 0.], dtype=float32)>,\n",
       "  }),\n",
       "  remainder={\n",
       "    'a': 1,\n",
       "    'b': SelectionHole(path=(DictKey(key='b'),)),\n",
       "    'c': [{'value': <jax.Array([ 0,  1,  2,  3,  4,  5,  6,  7,  8,  9, 10, 11], dtype=int32)>}, {'value': SelectionHole(path=(DictKey(key='c'), SequenceKey(idx=1), DictKey(key='value')))}, {'value': 3}],\n",
       "  },\n",
       ")"
      ]
     },
     "execution_count": 22,
     "metadata": {},
     "output_type": "execute_result"
    }
   ],
   "source": [
    "(\n",
    "    pz.select(my_nested_object)\n",
    "    .at_subtrees_where(\n",
    "        lambda subtree: isinstance(subtree, jax.Array) and subtree.size <= 10)\n",
    ")"
   ]
  },
  {
   "cell_type": "markdown",
   "metadata": {
    "id": "Hz97YScaHmyC"
   },
   "source": [
    "In fact, `at_instances_of` is a thin wrapper around `at_subtrees_where`. There's another convenience method for finding values equal to a sentinel value:"
   ]
  },
  {
   "cell_type": "code",
   "execution_count": 23,
   "metadata": {
    "execution": {
     "iopub.execute_input": "2024-09-11T16:37:58.418106Z",
     "iopub.status.busy": "2024-09-11T16:37:58.417829Z",
     "iopub.status.idle": "2024-09-11T16:37:58.426325Z",
     "shell.execute_reply": "2024-09-11T16:37:58.426443Z"
    },
    "id": "LKwjwL8CJjur"
   },
   "outputs": [
    {
     "data": {
      "text/html": [
       "<script> (()=>{ if (customElements.get('treescope-container') === undefined) { class TreescopeContainer extends HTMLElement { constructor() { super(); this.attachShadow({mode: \"open\"}); this.defns = {}; this.state = {}; } } customElements.define(\"treescope-container\", TreescopeContainer); } if (customElements.get('treescope-run-here') === undefined) { class RunHere extends HTMLElement { constructor() { super() } connectedCallback() { const run = child => { const fn = new Function(child.textContent); child.textContent = \"\"; fn.call(this); this.remove(); }; const child = this.querySelector(\"script\"); if (child) { run(child); } else { new MutationObserver(()=>{ run(this.querySelector(\"script\")); }).observe(this, {childList: true}); } } } customElements.define(\"treescope-run-here\", RunHere); } })(); </script> <treescope-container class=\"treescope_out_9439ef58b1644292b5e1983bcede554c\" ></treescope-container> <treescope-run-here><script type=\"application/octet-stream\"> const root = ( Array.from(document.getElementsByClassName( \"treescope_out_9439ef58b1644292b5e1983bcede554c\")) .filter((elt) => !elt.dataset.setup) )[0]; root.dataset.setup = 1; const msg = document.createElement(\"span\"); msg.style = \"color: #cccccc; font-family: monospace;\"; msg.textContent = \"(Loading...)\"; root.state.loadingMsg = msg; root.shadowRoot.appendChild(msg); root.state.chain = new Promise((resolve, reject) => { const observer = new IntersectionObserver((entries) => { for (const entry of entries) { if (entry.isIntersecting) { resolve(); observer.disconnect(); return; } } }, {rootMargin: \"1000px\"}); window.setTimeout(() => { observer.observe(root); }, 0); }); root.state.deferring = false; const _insertNode = (node) => { for (let oldScript of node.querySelectorAll(\"script\")) { let newScript = document.createElement(\"script\"); newScript.type = oldScript.type; newScript.textContent = oldScript.textContent; oldScript.parentNode.replaceChild(newScript, oldScript); } if (root.state.loadingMsg) { root.state.loadingMsg.remove(); root.state.loadingMsg = null; } root.shadowRoot.appendChild(node); }; root.defns.insertContent = ((contentNode, compressed) => { if (compressed) { root.state.deferring = true; } if (root.state.deferring) { root.state.chain = (async () => { await root.state.chain; if (compressed) { const encoded = contentNode.textContent; const blob = new Blob([ Uint8Array.from(atob(encoded), (m) => m.codePointAt(0)) ]); const reader = blob.stream().pipeThrough( new DecompressionStream(\"deflate\") ).pipeThrough( new TextDecoderStream(\"utf-8\") ).getReader(); const parts = []; while (true) { const step = await reader.read(); if (step.done) { break; } parts.push(step.value); } const tpl = document.createElement('template'); tpl.innerHTML = parts.join(\"\"); _insertNode(tpl.content); } else { _insertNode(contentNode.content); } })(); } else { _insertNode(contentNode.content); } }); </script></treescope-run-here><div style=\"display:none\"> <script type=\"application/octet-stream\" >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</script> <treescope-run-here><script type=\"application/octet-stream\"> const root = ( Array.from(document.getElementsByClassName( \"treescope_out_9439ef58b1644292b5e1983bcede554c\")) .filter((elt) => !elt.dataset['step0']) )[0]; root.dataset['step0'] = 1; root.defns.insertContent( this.parentNode.querySelector('script[type=\"application/octet-stream\"]'), true ); this.parentNode.remove(); </script></treescope-run-here> </div>"
      ],
      "text/plain": [
       "<IPython.core.display.HTML object>"
      ]
     },
     "metadata": {},
     "output_type": "display_data"
    },
    {
     "data": {
      "text/html": [
       "<div style=\"display:none\"> <script type=\"application/octet-stream\" >eNq1VE1v2zAM/SuEChQJ6riJ4zh28wFs7Qb0ssN22KEoClmiEw2K5clKsWDofx/lOG66dVt22MGxaL5H8pFU5lI9Qu12GhdMqrrSfHcFpSmRgZILVhj7ILFAa1E+jEWSTmWcT+N0Ehd0iDPBeZGmMpWxyDO2nNcVL+nXx1uGwmii8zy3+AjfoTGv4CxJIz4czuBpfrkHNiwQmtf1gh2T2PJcu9kX/i18Yy3f9e6GAYwCiAIYBxAHMAkgCWAaQBpAdh+AdLsKF6p046h/vnIzStDUc3iR1uX8XwQnUo6jBGU8LeJEiCwe8ownaVGMo+Fwkj4LPlUAkAIvwWvwIrwKL8Pr8EK8EshIpVc6+g+SZMY5TtORyEQeiyxJUxEXUZ5nchJJeTzDk2cSBvD605VfaMP/KMBZxFqYCgd2Ww7WaP1SCKsqB00AxqtKK8GdMuWlEQ7doCYO37ClMGVNKG5X6G5lDQu4Y6dvbADs9Gkfg//ax/vZvjJphDXGUV1ureqQqvxI5gcjsdefQVs9yW9BLTz8ukW7+4QahTO2x8KuQw/ezX6hXmuat0/S2qHwH5o0zm6R8J3HIm2IwM/KrXsv6F3QwvLVBsu2nq0/hoLa7fCmNd+3CK/hgA5pSFjK67XSsgvs/cZCT6MDRfHo3iuYP88r1Fiu3Jq+Xlz06U/C4/ZOAneRyXyn0R/f7m4p+IF9p+4pgefUZmsF3tBF+G0Pz/xFYHABP9H35ou2dNHCQtn6kLtRRoRnr8WNeWwG+fRyEq82ue+Xv9lq2vtXVv4HAFnY7w==</script> <treescope-run-here><script type=\"application/octet-stream\"> const root = ( Array.from(document.getElementsByClassName( \"treescope_out_9439ef58b1644292b5e1983bcede554c\")) .filter((elt) => !elt.dataset['step1']) )[0]; root.dataset['step1'] = 1; root.defns.insertContent( this.parentNode.querySelector('script[type=\"application/octet-stream\"]'), true ); this.parentNode.remove(); </script></treescope-run-here> </div>"
      ],
      "text/plain": [
       "<IPython.core.display.HTML object>"
      ]
     },
     "metadata": {},
     "output_type": "display_data"
    },
    {
     "data": {
      "text/html": [
       "<treescope-run-here><script type=\"application/octet-stream\"> const root = ( Array.from(document.getElementsByClassName( \"treescope_out_9439ef58b1644292b5e1983bcede554c\")) .filter((elt) => !elt.dataset.stolen) )[0]; root.dataset.stolen = 1; this.parentNode.replaceChild(root, this); </script></treescope-run-here>"
      ],
      "text/plain": [
       "Selection(\n",
       "  selected_by_path=OrderedDict({(DictKey(key='a'),): 1}),\n",
       "  remainder={\n",
       "    'a': SelectionHole(path=(DictKey(key='a'),)),\n",
       "    'b': <jax.Array([0, 1, 2, 3, 4, 5, 6, 7, 8, 9], dtype=int32)>,\n",
       "    'c': [\n",
       "      {\n",
       "        'value': <jax.Array([ 0,  1,  2,  3,  4,  5,  6,  7,  8,  9, 10, 11], dtype=int32)>,\n",
       "      },\n",
       "      {\n",
       "        'value': <jax.Array([0., 0., 0., 0., 0., 0., 0.], dtype=float32)>,\n",
       "      },\n",
       "      {'value': 3},\n",
       "    ],\n",
       "  },\n",
       ")"
      ]
     },
     "execution_count": 23,
     "metadata": {},
     "output_type": "execute_result"
    }
   ],
   "source": [
    "(\n",
    "    pz.select(my_nested_object)\n",
    "    .at_equal_to(1)\n",
    ")"
   ]
  },
  {
   "cell_type": "code",
   "execution_count": 24,
   "metadata": {
    "execution": {
     "iopub.execute_input": "2024-09-11T16:37:58.432387Z",
     "iopub.status.busy": "2024-09-11T16:37:58.432149Z",
     "iopub.status.idle": "2024-09-11T16:37:58.437914Z",
     "shell.execute_reply": "2024-09-11T16:37:58.437609Z"
    },
    "id": "lNlmgOXZIW8O"
   },
   "outputs": [
    {
     "data": {
      "text/html": [
       "<script> (()=>{ if (customElements.get('treescope-container') === undefined) { class TreescopeContainer extends HTMLElement { constructor() { super(); this.attachShadow({mode: \"open\"}); this.defns = {}; this.state = {}; } } customElements.define(\"treescope-container\", TreescopeContainer); } if (customElements.get('treescope-run-here') === undefined) { class RunHere extends HTMLElement { constructor() { super() } connectedCallback() { const run = child => { const fn = new Function(child.textContent); child.textContent = \"\"; fn.call(this); this.remove(); }; const child = this.querySelector(\"script\"); if (child) { run(child); } else { new MutationObserver(()=>{ run(this.querySelector(\"script\")); }).observe(this, {childList: true}); } } } customElements.define(\"treescope-run-here\", RunHere); } })(); </script> <treescope-container class=\"treescope_out_663cdc3c074346d791f9ff88c92bb50e\" ></treescope-container> <treescope-run-here><script type=\"application/octet-stream\"> const root = ( Array.from(document.getElementsByClassName( \"treescope_out_663cdc3c074346d791f9ff88c92bb50e\")) .filter((elt) => !elt.dataset.setup) )[0]; root.dataset.setup = 1; const msg = document.createElement(\"span\"); msg.style = \"color: #cccccc; font-family: monospace;\"; msg.textContent = \"(Loading...)\"; root.state.loadingMsg = msg; root.shadowRoot.appendChild(msg); root.state.chain = new Promise((resolve, reject) => { const observer = new IntersectionObserver((entries) => { for (const entry of entries) { if (entry.isIntersecting) { resolve(); observer.disconnect(); return; } } }, {rootMargin: \"1000px\"}); window.setTimeout(() => { observer.observe(root); }, 0); }); root.state.deferring = false; const _insertNode = (node) => { for (let oldScript of node.querySelectorAll(\"script\")) { let newScript = document.createElement(\"script\"); newScript.type = oldScript.type; newScript.textContent = oldScript.textContent; oldScript.parentNode.replaceChild(newScript, oldScript); } if (root.state.loadingMsg) { root.state.loadingMsg.remove(); root.state.loadingMsg = null; } root.shadowRoot.appendChild(node); }; root.defns.insertContent = ((contentNode, compressed) => { if (compressed) { root.state.deferring = true; } if (root.state.deferring) { root.state.chain = (async () => { await root.state.chain; if (compressed) { const encoded = contentNode.textContent; const blob = new Blob([ Uint8Array.from(atob(encoded), (m) => m.codePointAt(0)) ]); const reader = blob.stream().pipeThrough( new DecompressionStream(\"deflate\") ).pipeThrough( new TextDecoderStream(\"utf-8\") ).getReader(); const parts = []; while (true) { const step = await reader.read(); if (step.done) { break; } parts.push(step.value); } const tpl = document.createElement('template'); tpl.innerHTML = parts.join(\"\"); _insertNode(tpl.content); } else { _insertNode(contentNode.content); } })(); } else { _insertNode(contentNode.content); } }); </script></treescope-run-here><div style=\"display:none\"> <script type=\"application/octet-stream\" >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</script> <treescope-run-here><script type=\"application/octet-stream\"> const root = ( Array.from(document.getElementsByClassName( \"treescope_out_663cdc3c074346d791f9ff88c92bb50e\")) .filter((elt) => !elt.dataset['step0']) )[0]; root.dataset['step0'] = 1; root.defns.insertContent( this.parentNode.querySelector('script[type=\"application/octet-stream\"]'), true ); this.parentNode.remove(); </script></treescope-run-here> </div>"
      ],
      "text/plain": [
       "<IPython.core.display.HTML object>"
      ]
     },
     "metadata": {},
     "output_type": "display_data"
    },
    {
     "data": {
      "text/html": [
       "<treescope-run-here><script type=\"application/octet-stream\"> const root = ( Array.from(document.getElementsByClassName( \"treescope_out_663cdc3c074346d791f9ff88c92bb50e\")) .filter((elt) => !elt.dataset.stolen) )[0]; root.dataset.stolen = 1; this.parentNode.replaceChild(root, this); </script></treescope-run-here>"
      ],
      "text/plain": [
       "Selection(\n",
       "  selected_by_path=OrderedDict({(DictKey(key='bar'),): [1, 2, 3]}),\n",
       "  remainder={\n",
       "    'bar': SelectionHole(path=(DictKey(key='bar'),)),\n",
       "    'foo': 'foo',\n",
       "  },\n",
       ")"
      ]
     },
     "execution_count": 24,
     "metadata": {},
     "output_type": "execute_result"
    }
   ],
   "source": [
    "(\n",
    "    pz.select({\"foo\": \"foo\", \"bar\": [1, 2, 3]}).at_equal_to([1, 2, 3])\n",
    ")"
   ]
  },
  {
   "cell_type": "markdown",
   "metadata": {
    "id": "1GZV7CkULrZ_"
   },
   "source": [
    "### Selecting by JAX keypath"
   ]
  },
  {
   "cell_type": "markdown",
   "metadata": {
    "id": "nJSlyPdGLvNE"
   },
   "source": [
    "PyTree nodes in JAX are associated with key paths identifying their location in the tree:"
   ]
  },
  {
   "cell_type": "code",
   "execution_count": 25,
   "metadata": {
    "execution": {
     "iopub.execute_input": "2024-09-11T16:37:58.446523Z",
     "iopub.status.busy": "2024-09-11T16:37:58.446287Z",
     "iopub.status.idle": "2024-09-11T16:37:58.450463Z",
     "shell.execute_reply": "2024-09-11T16:37:58.450593Z"
    },
    "id": "9nX57pMUL72X"
   },
   "outputs": [
    {
     "data": {
      "text/html": [
       "<script> (()=>{ if (customElements.get('treescope-container') === undefined) { class TreescopeContainer extends HTMLElement { constructor() { super(); this.attachShadow({mode: \"open\"}); this.defns = {}; this.state = {}; } } customElements.define(\"treescope-container\", TreescopeContainer); } if (customElements.get('treescope-run-here') === undefined) { class RunHere extends HTMLElement { constructor() { super() } connectedCallback() { const run = child => { const fn = new Function(child.textContent); child.textContent = \"\"; fn.call(this); this.remove(); }; const child = this.querySelector(\"script\"); if (child) { run(child); } else { new MutationObserver(()=>{ run(this.querySelector(\"script\")); }).observe(this, {childList: true}); } } } customElements.define(\"treescope-run-here\", RunHere); } })(); </script> <treescope-container class=\"treescope_out_472b72de05fd4a858dff23699064a72b\" ></treescope-container> <treescope-run-here><script type=\"application/octet-stream\"> const root = ( Array.from(document.getElementsByClassName( \"treescope_out_472b72de05fd4a858dff23699064a72b\")) .filter((elt) => !elt.dataset.setup) )[0]; root.dataset.setup = 1; const msg = document.createElement(\"span\"); msg.style = \"color: #cccccc; font-family: monospace;\"; msg.textContent = \"(Loading...)\"; root.state.loadingMsg = msg; root.shadowRoot.appendChild(msg); root.state.chain = new Promise((resolve, reject) => { const observer = new IntersectionObserver((entries) => { for (const entry of entries) { if (entry.isIntersecting) { resolve(); observer.disconnect(); return; } } }, {rootMargin: \"1000px\"}); window.setTimeout(() => { observer.observe(root); }, 0); }); root.state.deferring = false; const _insertNode = (node) => { for (let oldScript of node.querySelectorAll(\"script\")) { let newScript = document.createElement(\"script\"); newScript.type = oldScript.type; newScript.textContent = oldScript.textContent; oldScript.parentNode.replaceChild(newScript, oldScript); } if (root.state.loadingMsg) { root.state.loadingMsg.remove(); root.state.loadingMsg = null; } root.shadowRoot.appendChild(node); }; root.defns.insertContent = ((contentNode, compressed) => { if (compressed) { root.state.deferring = true; } if (root.state.deferring) { root.state.chain = (async () => { await root.state.chain; if (compressed) { const encoded = contentNode.textContent; const blob = new Blob([ Uint8Array.from(atob(encoded), (m) => m.codePointAt(0)) ]); const reader = blob.stream().pipeThrough( new DecompressionStream(\"deflate\") ).pipeThrough( new TextDecoderStream(\"utf-8\") ).getReader(); const parts = []; while (true) { const step = await reader.read(); if (step.done) { break; } parts.push(step.value); } const tpl = document.createElement('template'); tpl.innerHTML = parts.join(\"\"); _insertNode(tpl.content); } else { _insertNode(contentNode.content); } })(); } else { _insertNode(contentNode.content); } }); </script></treescope-run-here><div style=\"display:none\"> <script type=\"application/octet-stream\" >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</script> <treescope-run-here><script type=\"application/octet-stream\"> const root = ( Array.from(document.getElementsByClassName( \"treescope_out_472b72de05fd4a858dff23699064a72b\")) .filter((elt) => !elt.dataset['step0']) )[0]; root.dataset['step0'] = 1; root.defns.insertContent( this.parentNode.querySelector('script[type=\"application/octet-stream\"]'), true ); this.parentNode.remove(); </script></treescope-run-here> </div>"
      ],
      "text/plain": [
       "<IPython.core.display.HTML object>"
      ]
     },
     "metadata": {},
     "output_type": "display_data"
    },
    {
     "data": {
      "text/html": [
       "<treescope-run-here><script type=\"application/octet-stream\"> const root = ( Array.from(document.getElementsByClassName( \"treescope_out_472b72de05fd4a858dff23699064a72b\")) .filter((elt) => !elt.dataset.stolen) )[0]; root.dataset.stolen = 1; this.parentNode.replaceChild(root, this); </script></treescope-run-here>"
      ],
      "text/plain": [
       "{'a': (DictKey(key='a'),),\n",
       " 'b': (DictKey(key='b'),),\n",
       " 'c': [{'value': (DictKey(key='c'), SequenceKey(idx=0), DictKey(key='value'))},\n",
       "  {'value': (DictKey(key='c'), SequenceKey(idx=1), DictKey(key='value'))},\n",
       "  {'value': (DictKey(key='c'), SequenceKey(idx=2), DictKey(key='value'))}]}"
      ]
     },
     "execution_count": 25,
     "metadata": {},
     "output_type": "execute_result"
    }
   ],
   "source": [
    "jax.tree_util.tree_map_with_path(lambda key, node: key, my_nested_object)"
   ]
  },
  {
   "cell_type": "markdown",
   "metadata": {
    "id": "BzUbLkQ5MFTG"
   },
   "source": [
    "You can directly select nodes based on their JAX keypath:"
   ]
  },
  {
   "cell_type": "code",
   "execution_count": 26,
   "metadata": {
    "execution": {
     "iopub.execute_input": "2024-09-11T16:37:58.458540Z",
     "iopub.status.busy": "2024-09-11T16:37:58.458258Z",
     "iopub.status.idle": "2024-09-11T16:37:58.468060Z",
     "shell.execute_reply": "2024-09-11T16:37:58.468196Z"
    },
    "id": "YQZQ9MVwMw0h"
   },
   "outputs": [
    {
     "data": {
      "text/html": [
       "<script> (()=>{ if (customElements.get('treescope-container') === undefined) { class TreescopeContainer extends HTMLElement { constructor() { super(); this.attachShadow({mode: \"open\"}); this.defns = {}; this.state = {}; } } customElements.define(\"treescope-container\", TreescopeContainer); } if (customElements.get('treescope-run-here') === undefined) { class RunHere extends HTMLElement { constructor() { super() } connectedCallback() { const run = child => { const fn = new Function(child.textContent); child.textContent = \"\"; fn.call(this); this.remove(); }; const child = this.querySelector(\"script\"); if (child) { run(child); } else { new MutationObserver(()=>{ run(this.querySelector(\"script\")); }).observe(this, {childList: true}); } } } customElements.define(\"treescope-run-here\", RunHere); } })(); </script> <treescope-container class=\"treescope_out_2d6e3ab5604f41d7934e113f5f0cf36c\" ></treescope-container> <treescope-run-here><script type=\"application/octet-stream\"> const root = ( Array.from(document.getElementsByClassName( \"treescope_out_2d6e3ab5604f41d7934e113f5f0cf36c\")) .filter((elt) => !elt.dataset.setup) )[0]; root.dataset.setup = 1; const msg = document.createElement(\"span\"); msg.style = \"color: #cccccc; font-family: monospace;\"; msg.textContent = \"(Loading...)\"; root.state.loadingMsg = msg; root.shadowRoot.appendChild(msg); root.state.chain = new Promise((resolve, reject) => { const observer = new IntersectionObserver((entries) => { for (const entry of entries) { if (entry.isIntersecting) { resolve(); observer.disconnect(); return; } } }, {rootMargin: \"1000px\"}); window.setTimeout(() => { observer.observe(root); }, 0); }); root.state.deferring = false; const _insertNode = (node) => { for (let oldScript of node.querySelectorAll(\"script\")) { let newScript = document.createElement(\"script\"); newScript.type = oldScript.type; newScript.textContent = oldScript.textContent; oldScript.parentNode.replaceChild(newScript, oldScript); } if (root.state.loadingMsg) { root.state.loadingMsg.remove(); root.state.loadingMsg = null; } root.shadowRoot.appendChild(node); }; root.defns.insertContent = ((contentNode, compressed) => { if (compressed) { root.state.deferring = true; } if (root.state.deferring) { root.state.chain = (async () => { await root.state.chain; if (compressed) { const encoded = contentNode.textContent; const blob = new Blob([ Uint8Array.from(atob(encoded), (m) => m.codePointAt(0)) ]); const reader = blob.stream().pipeThrough( new DecompressionStream(\"deflate\") ).pipeThrough( new TextDecoderStream(\"utf-8\") ).getReader(); const parts = []; while (true) { const step = await reader.read(); if (step.done) { break; } parts.push(step.value); } const tpl = document.createElement('template'); tpl.innerHTML = parts.join(\"\"); _insertNode(tpl.content); } else { _insertNode(contentNode.content); } })(); } else { _insertNode(contentNode.content); } }); </script></treescope-run-here><div style=\"display:none\"> <script type=\"application/octet-stream\" >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</script> <treescope-run-here><script type=\"application/octet-stream\"> const root = ( Array.from(document.getElementsByClassName( \"treescope_out_2d6e3ab5604f41d7934e113f5f0cf36c\")) .filter((elt) => !elt.dataset['step0']) )[0]; root.dataset['step0'] = 1; root.defns.insertContent( this.parentNode.querySelector('script[type=\"application/octet-stream\"]'), true ); this.parentNode.remove(); </script></treescope-run-here> </div>"
      ],
      "text/plain": [
       "<IPython.core.display.HTML object>"
      ]
     },
     "metadata": {},
     "output_type": "display_data"
    },
    {
     "data": {
      "text/html": [
       "<div style=\"display:none\"> <script type=\"application/octet-stream\" >eNq1lEtv00AQx7/KyJWqRHVdP9aO3TwkaEHqhQMcOERVtdkdJ4tcr1lvKqKq351Zx3FbKFCQOCTxeP/z+M3MZibVHbR2V+Hck6ptKr47h1rX6IGSc6/U5kZiicagvMEyEsVEJjwtchbhiicsKwuWsTwuRJKW3mLWNrymbxdvEQhdkTtfrQzewT105jkcZXnMw3AKD7OzvbDzAlHxtp17T528xXFlp1/4t+CNMXw3WoY+RD7EPiQ+MB9SHzIfJj7kPhTXPki7a3CuapvE4+O1nVKCrp7DD7EuZn8BzAs2SeKJYEyErJQsF1HKWJphQWYaTx6BXwsAROAQHIODcBQOw3E4EEcCBVE60ug/IDGBcRLGcVSWIcvzaFWEaTTJWMFiGWfJPyCFgQ8vf4byy0rz3wJYg9gK3eCp2danGzRuKYRRjYUugMebplKCW6XrMy0s2tOWfPittxC6bknFzRrtlWxhDkvv9Rvrg/f6aT8V/7GP19N9ZVILo7WluuxGtQFV+ZHMD1riaDyFvnrC70W9PPi6RbP7hBUKq83IC4YO3bhj7yfXi4rm7ZL0diDciy6NNVsk/XBikDZE4GdlN6Nn7kPQ0vD1LdZ9PVv3GAhqt8XL3nzfKxzDQR3QkLCWFxtVySGwO9cGRhVaUBSP7r2C2eO8ggrrtd3Q25OTMf1JON3+kMRDZDLfVege3+6uKPjBe6muKYHzafXWCLyki/DLHh65i+DBCfzgvjeftWWIFpTKtIfcHRk5PJ4avNV33SAfnk/ixSaP3fJ3W017/8LKfwdOd9K9</script> <treescope-run-here><script type=\"application/octet-stream\"> const root = ( Array.from(document.getElementsByClassName( \"treescope_out_2d6e3ab5604f41d7934e113f5f0cf36c\")) .filter((elt) => !elt.dataset['step1']) )[0]; root.dataset['step1'] = 1; root.defns.insertContent( this.parentNode.querySelector('script[type=\"application/octet-stream\"]'), true ); this.parentNode.remove(); </script></treescope-run-here> </div>"
      ],
      "text/plain": [
       "<IPython.core.display.HTML object>"
      ]
     },
     "metadata": {},
     "output_type": "display_data"
    },
    {
     "data": {
      "text/html": [
       "<treescope-run-here><script type=\"application/octet-stream\"> const root = ( Array.from(document.getElementsByClassName( \"treescope_out_2d6e3ab5604f41d7934e113f5f0cf36c\")) .filter((elt) => !elt.dataset.stolen) )[0]; root.dataset.stolen = 1; this.parentNode.replaceChild(root, this); </script></treescope-run-here>"
      ],
      "text/plain": [
       "Selection(\n",
       "  selected_by_path=OrderedDict({\n",
       "    (DictKey(key='c'), SequenceKey(idx=0)):\n",
       "      {\n",
       "        'value': <jax.Array([ 0,  1,  2,  3,  4,  5,  6,  7,  8,  9, 10, 11], dtype=int32)>,\n",
       "      },\n",
       "    (DictKey(key='c'), SequenceKey(idx=2), DictKey(key='value')):\n",
       "      3,\n",
       "  }),\n",
       "  remainder={\n",
       "    'a': 1,\n",
       "    'b': <jax.Array([0, 1, 2, 3, 4, 5, 6, 7, 8, 9], dtype=int32)>,\n",
       "    'c': [SelectionHole(path=(DictKey(key='c'), SequenceKey(idx=0))), {'value': <jax.Array([0., 0., 0., 0., 0., 0., 0.], dtype=float32)>}, {'value': SelectionHole(path=(DictKey(key='c'), SequenceKey(idx=2), DictKey(key='value')))}],\n",
       "  },\n",
       ")"
      ]
     },
     "execution_count": 26,
     "metadata": {},
     "output_type": "execute_result"
    }
   ],
   "source": [
    "pz.select(my_nested_object).at_keypaths([\n",
    "    (jax.tree_util.DictKey(key='c'), jax.tree_util.SequenceKey(idx=2), jax.tree_util.DictKey(key='value')),\n",
    "    (jax.tree_util.DictKey(key='c'), jax.tree_util.SequenceKey(idx=0)),\n",
    "])"
   ]
  },
  {
   "cell_type": "markdown",
   "metadata": {
    "id": "vyDFHhwNNI2y"
   },
   "source": [
    "(You might have noticed that the fancy rendering for Selection objects is actually written in terms of `at_keypaths`, and exposes the keypaths for the currently selected nodes if you expand the last line!)"
   ]
  },
  {
   "cell_type": "markdown",
   "metadata": {
    "id": "j8rujhAbOOKR"
   },
   "source": [
    "### Selecting based on PyTree structure\n",
    "\n",
    "You can also build selections based on PyTree children or PyTree leaves:"
   ]
  },
  {
   "cell_type": "code",
   "execution_count": 27,
   "metadata": {
    "execution": {
     "iopub.execute_input": "2024-09-11T16:37:58.475993Z",
     "iopub.status.busy": "2024-09-11T16:37:58.475735Z",
     "iopub.status.idle": "2024-09-11T16:37:58.485158Z",
     "shell.execute_reply": "2024-09-11T16:37:58.484972Z"
    },
    "id": "ZBZnh09wOdJz"
   },
   "outputs": [
    {
     "data": {
      "text/html": [
       "<script> (()=>{ if (customElements.get('treescope-container') === undefined) { class TreescopeContainer extends HTMLElement { constructor() { super(); this.attachShadow({mode: \"open\"}); this.defns = {}; this.state = {}; } } customElements.define(\"treescope-container\", TreescopeContainer); } if (customElements.get('treescope-run-here') === undefined) { class RunHere extends HTMLElement { constructor() { super() } connectedCallback() { const run = child => { const fn = new Function(child.textContent); child.textContent = \"\"; fn.call(this); this.remove(); }; const child = this.querySelector(\"script\"); if (child) { run(child); } else { new MutationObserver(()=>{ run(this.querySelector(\"script\")); }).observe(this, {childList: true}); } } } customElements.define(\"treescope-run-here\", RunHere); } })(); </script> <treescope-container class=\"treescope_out_4f5d3640d93f4a01b09b9340e4551101\" ></treescope-container> <treescope-run-here><script type=\"application/octet-stream\"> const root = ( Array.from(document.getElementsByClassName( \"treescope_out_4f5d3640d93f4a01b09b9340e4551101\")) .filter((elt) => !elt.dataset.setup) )[0]; root.dataset.setup = 1; const msg = document.createElement(\"span\"); msg.style = \"color: #cccccc; font-family: monospace;\"; msg.textContent = \"(Loading...)\"; root.state.loadingMsg = msg; root.shadowRoot.appendChild(msg); root.state.chain = new Promise((resolve, reject) => { const observer = new IntersectionObserver((entries) => { for (const entry of entries) { if (entry.isIntersecting) { resolve(); observer.disconnect(); return; } } }, {rootMargin: \"1000px\"}); window.setTimeout(() => { observer.observe(root); }, 0); }); root.state.deferring = false; const _insertNode = (node) => { for (let oldScript of node.querySelectorAll(\"script\")) { let newScript = document.createElement(\"script\"); newScript.type = oldScript.type; newScript.textContent = oldScript.textContent; oldScript.parentNode.replaceChild(newScript, oldScript); } if (root.state.loadingMsg) { root.state.loadingMsg.remove(); root.state.loadingMsg = null; } root.shadowRoot.appendChild(node); }; root.defns.insertContent = ((contentNode, compressed) => { if (compressed) { root.state.deferring = true; } if (root.state.deferring) { root.state.chain = (async () => { await root.state.chain; if (compressed) { const encoded = contentNode.textContent; const blob = new Blob([ Uint8Array.from(atob(encoded), (m) => m.codePointAt(0)) ]); const reader = blob.stream().pipeThrough( new DecompressionStream(\"deflate\") ).pipeThrough( new TextDecoderStream(\"utf-8\") ).getReader(); const parts = []; while (true) { const step = await reader.read(); if (step.done) { break; } parts.push(step.value); } const tpl = document.createElement('template'); tpl.innerHTML = parts.join(\"\"); _insertNode(tpl.content); } else { _insertNode(contentNode.content); } })(); } else { _insertNode(contentNode.content); } }); </script></treescope-run-here><div style=\"display:none\"> <script type=\"application/octet-stream\" >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</script> <treescope-run-here><script type=\"application/octet-stream\"> const root = ( Array.from(document.getElementsByClassName( \"treescope_out_4f5d3640d93f4a01b09b9340e4551101\")) .filter((elt) => !elt.dataset['step0']) )[0]; root.dataset['step0'] = 1; root.defns.insertContent( this.parentNode.querySelector('script[type=\"application/octet-stream\"]'), true ); this.parentNode.remove(); </script></treescope-run-here> </div>"
      ],
      "text/plain": [
       "<IPython.core.display.HTML object>"
      ]
     },
     "metadata": {},
     "output_type": "display_data"
    },
    {
     "data": {
      "text/html": [
       "<div style=\"display:none\"> <script type=\"application/octet-stream\" >eNq1lEtP20AQx7/KaJFQIoxxHCe2yUNqoZW49NAeeogQ2sc42cp43fUGNUJ89846joGWtnDoIYnH+5/Hb2Y2c6XvoHG7EhdM6aYu+e4cKlMhA60WrDD2RmGB1qK6yThOxEhFPJ1GSZ5grnIRjUSssiLOhIzZct7UvKJvH28ZSlOSOxfC4h3cQ2uew9E0i3kUzeBhfrYXtl4gS940C/bUiS2PSzf7xn+E76zlu8EqCmAUQBzAOIAkgEkA0wDSALIA8usAlNvVuNCVG8fD47WbUYK2nsMPsS7nbwAeqUkqsiLlWV4kXGQiUqMJkY8j5FmW8Efg1wIAEXgEz+AhPIXH8BwexJNATpSedPQfkESWxWMcR5Eo0iSVY5FM8mI6Eek09ha+HSkKA3j505dflIb/FcBZxEaaGk/ttjrdoPVLIa2uHbQBGK/rUkvutKnOjHToThvy4bdsKU3VkIrbNbor1cACVuz1GxsAe/20n4r/2cfr2b4yZaQ1xlFdbqObkKr8TOYno3AwnEFXPeF3ok4eft+i3X3BEqUzdsDCvkM3/pj95npR0rx9ks4OpX/RpnF2i6TvTyzShkj8qt1m8My9D1pYvr7Fqqtn6x9DSe12eNmZHzuFZzioQxoSVupio0vVB/bnxsKgRAea4tG91zB/nFdYYrV2G3p7cjKkPwmv2x+SuI9M5ocS/eP73RUFP3iv9DUl8D6N2VqJl3QR/tjDI38RGJzAL+5781lb+mhhoW1zyN2SkcPjqcVbc9cO8uH5JF5s8tAvf7vVtPcvrPxPK4rWvQ==</script> <treescope-run-here><script type=\"application/octet-stream\"> const root = ( Array.from(document.getElementsByClassName( \"treescope_out_4f5d3640d93f4a01b09b9340e4551101\")) .filter((elt) => !elt.dataset['step1']) )[0]; root.dataset['step1'] = 1; root.defns.insertContent( this.parentNode.querySelector('script[type=\"application/octet-stream\"]'), true ); this.parentNode.remove(); </script></treescope-run-here> </div>"
      ],
      "text/plain": [
       "<IPython.core.display.HTML object>"
      ]
     },
     "metadata": {},
     "output_type": "display_data"
    },
    {
     "data": {
      "text/html": [
       "<treescope-run-here><script type=\"application/octet-stream\"> const root = ( Array.from(document.getElementsByClassName( \"treescope_out_4f5d3640d93f4a01b09b9340e4551101\")) .filter((elt) => !elt.dataset.stolen) )[0]; root.dataset.stolen = 1; this.parentNode.replaceChild(root, this); </script></treescope-run-here>"
      ],
      "text/plain": [
       "Selection(\n",
       "  selected_by_path=OrderedDict({\n",
       "    (DictKey(key='a'),):\n",
       "      1,\n",
       "    (DictKey(key='b'),):\n",
       "      <jax.Array([0, 1, 2, 3, 4, 5, 6, 7, 8, 9], dtype=int32)>,\n",
       "    (DictKey(key='c'),):\n",
       "      [{'value': <jax.Array([ 0,  1,  2,  3,  4,  5,  6,  7,  8,  9, 10, 11], dtype=int32)>}, {'value': <jax.Array([0., 0., 0., 0., 0., 0., 0.], dtype=float32)>}, {'value': 3}],\n",
       "  }),\n",
       "  remainder={'a': SelectionHole(path=(DictKey(key='a'),)), 'b': SelectionHole(path=(DictKey(key='b'),)), 'c': SelectionHole(path=(DictKey(key='c'),))},\n",
       ")"
      ]
     },
     "execution_count": 27,
     "metadata": {},
     "output_type": "execute_result"
    }
   ],
   "source": [
    "pz.select(my_nested_object).at_children()"
   ]
  },
  {
   "cell_type": "code",
   "execution_count": 28,
   "metadata": {
    "execution": {
     "iopub.execute_input": "2024-09-11T16:37:58.494276Z",
     "iopub.status.busy": "2024-09-11T16:37:58.494028Z",
     "iopub.status.idle": "2024-09-11T16:37:58.508014Z",
     "shell.execute_reply": "2024-09-11T16:37:58.508149Z"
    },
    "id": "cGcp4EK2OfW1"
   },
   "outputs": [
    {
     "data": {
      "text/html": [
       "<script> (()=>{ if (customElements.get('treescope-container') === undefined) { class TreescopeContainer extends HTMLElement { constructor() { super(); this.attachShadow({mode: \"open\"}); this.defns = {}; this.state = {}; } } customElements.define(\"treescope-container\", TreescopeContainer); } if (customElements.get('treescope-run-here') === undefined) { class RunHere extends HTMLElement { constructor() { super() } connectedCallback() { const run = child => { const fn = new Function(child.textContent); child.textContent = \"\"; fn.call(this); this.remove(); }; const child = this.querySelector(\"script\"); if (child) { run(child); } else { new MutationObserver(()=>{ run(this.querySelector(\"script\")); }).observe(this, {childList: true}); } } } customElements.define(\"treescope-run-here\", RunHere); } })(); </script> <treescope-container class=\"treescope_out_22e2f43febbf4fb084bf71c74ad4af47\" ></treescope-container> <treescope-run-here><script type=\"application/octet-stream\"> const root = ( Array.from(document.getElementsByClassName( \"treescope_out_22e2f43febbf4fb084bf71c74ad4af47\")) .filter((elt) => !elt.dataset.setup) )[0]; root.dataset.setup = 1; const msg = document.createElement(\"span\"); msg.style = \"color: #cccccc; font-family: monospace;\"; msg.textContent = \"(Loading...)\"; root.state.loadingMsg = msg; root.shadowRoot.appendChild(msg); root.state.chain = new Promise((resolve, reject) => { const observer = new IntersectionObserver((entries) => { for (const entry of entries) { if (entry.isIntersecting) { resolve(); observer.disconnect(); return; } } }, {rootMargin: \"1000px\"}); window.setTimeout(() => { observer.observe(root); }, 0); }); root.state.deferring = false; const _insertNode = (node) => { for (let oldScript of node.querySelectorAll(\"script\")) { let newScript = document.createElement(\"script\"); newScript.type = oldScript.type; newScript.textContent = oldScript.textContent; oldScript.parentNode.replaceChild(newScript, oldScript); } if (root.state.loadingMsg) { root.state.loadingMsg.remove(); root.state.loadingMsg = null; } root.shadowRoot.appendChild(node); }; root.defns.insertContent = ((contentNode, compressed) => { if (compressed) { root.state.deferring = true; } if (root.state.deferring) { root.state.chain = (async () => { await root.state.chain; if (compressed) { const encoded = contentNode.textContent; const blob = new Blob([ Uint8Array.from(atob(encoded), (m) => m.codePointAt(0)) ]); const reader = blob.stream().pipeThrough( new DecompressionStream(\"deflate\") ).pipeThrough( new TextDecoderStream(\"utf-8\") ).getReader(); const parts = []; while (true) { const step = await reader.read(); if (step.done) { break; } parts.push(step.value); } const tpl = document.createElement('template'); tpl.innerHTML = parts.join(\"\"); _insertNode(tpl.content); } else { _insertNode(contentNode.content); } })(); } else { _insertNode(contentNode.content); } }); </script></treescope-run-here><div style=\"display:none\"> <script type=\"application/octet-stream\" >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</script> <treescope-run-here><script type=\"application/octet-stream\"> const root = ( Array.from(document.getElementsByClassName( \"treescope_out_22e2f43febbf4fb084bf71c74ad4af47\")) .filter((elt) => !elt.dataset['step0']) )[0]; root.dataset['step0'] = 1; root.defns.insertContent( this.parentNode.querySelector('script[type=\"application/octet-stream\"]'), true ); this.parentNode.remove(); </script></treescope-run-here> </div>"
      ],
      "text/plain": [
       "<IPython.core.display.HTML object>"
      ]
     },
     "metadata": {},
     "output_type": "display_data"
    },
    {
     "data": {
      "text/html": [
       "<div style=\"display:none\"> <script type=\"application/octet-stream\" >eNq1lEtv2zAMx78KoQFFgrpu7MSv5gFs7Qb0ssN22KEoClmiEw2q5clKsWDodx/lOG67dVt72CGJaf35+JFUFlLdQet2GpdMqrbRfHcGtamRgZJLVhl7I7FCa1HeyDRKZpjkRYrlrJjGuczTKM2iZIqYiCpjq0Xb8Jq+fbxVKIwmd16WFu/gB3TmGbxJ85hPJnO4X5zuhZ0XCM3bdskeO7HVkXbzr/x7+NZavhtdTQKIAogDmAYwCyAJIA0gCyAPoLgOQLpdg0tVu2k8Plq7OSXo6jn8EOtq8QrgBHnM07SUArMZz9NikuRZiUJMi1xO4ukD8EsBgAg8gmfwEJ7CY3gOD+JJoCBKTxr9BySeiKgqqyTOynSWF1WR5TzCtEw4lrGM+OuRJmEAz3+G8itt+F8BnEVshWnwxG7rkw1avxTCqsZBF4DxptFKcKdMfWqEQ3fSkg+/ZSth6pZU3K7RXcoWlnDFXr6xAbCXT/ux+J99vJ7vK5NGWGMc1eU2qg2pyk9kfjQSR+M59NUTfi/q5eG3LdrdZ9QonLEjFg4duvHH7DfXc03z9kl6OxT+RZfG2S2SfjixSBsi8Itym9ET9yFoZfn6Fuu+nq1/DAW12+FFb37oFZ7hoA5pSFjL843Scgjsz42FkUYHiuLRvVeweJhXqLFeuw29PT4e05+E1+0PSTxEJvO9Rv/4bndJwQ/eV+qaEnif1mytwAu6CH/s4Rt/ERgcwy/ue/NJW4ZoYaVse8jdkZHDw6nFW3PXDfL+6SSebfLYL3+31bT3z6z8T7/011M=</script> <treescope-run-here><script type=\"application/octet-stream\"> const root = ( Array.from(document.getElementsByClassName( \"treescope_out_22e2f43febbf4fb084bf71c74ad4af47\")) .filter((elt) => !elt.dataset['step1']) )[0]; root.dataset['step1'] = 1; root.defns.insertContent( this.parentNode.querySelector('script[type=\"application/octet-stream\"]'), true ); this.parentNode.remove(); </script></treescope-run-here> </div>"
      ],
      "text/plain": [
       "<IPython.core.display.HTML object>"
      ]
     },
     "metadata": {},
     "output_type": "display_data"
    },
    {
     "data": {
      "text/html": [
       "<treescope-run-here><script type=\"application/octet-stream\"> const root = ( Array.from(document.getElementsByClassName( \"treescope_out_22e2f43febbf4fb084bf71c74ad4af47\")) .filter((elt) => !elt.dataset.stolen) )[0]; root.dataset.stolen = 1; this.parentNode.replaceChild(root, this); </script></treescope-run-here>"
      ],
      "text/plain": [
       "Selection(\n",
       "  selected_by_path=OrderedDict({(DictKey(key='a'),): 1, (DictKey(key='b'),): <jax.Array([0, 1, 2, 3, 4, 5, 6, 7, 8, 9], dtype=int32)>, (DictKey(key='c'), SequenceKey(idx=0), DictKey(key='value')): <jax.Array([ 0,  1,  2,  3,  4,  5,  6,  7,  8,  9, 10, 11], dtype=int32)>, (DictKey(key='c'), SequenceKey(idx=1), DictKey(key='value')): <jax.Array([0., 0., 0., 0., 0., 0., 0.], dtype=float32)>, (DictKey(key='c'), SequenceKey(idx=2), DictKey(key='value')): 3}),\n",
       "  remainder={\n",
       "    'a': SelectionHole(path=(DictKey(key='a'),)),\n",
       "    'b': SelectionHole(path=(DictKey(key='b'),)),\n",
       "    'c': [\n",
       "      {\n",
       "        'value': SelectionHole(\n",
       "          path=(DictKey(key='c'), SequenceKey(idx=0), DictKey(key='value')),\n",
       "        ),\n",
       "      },\n",
       "      {\n",
       "        'value': SelectionHole(path=(DictKey(key='c'), SequenceKey(idx=1), DictKey(key='value'))),\n",
       "      },\n",
       "      {\n",
       "        'value': SelectionHole(path=(DictKey(key='c'), SequenceKey(idx=2), DictKey(key='value'))),\n",
       "      },\n",
       "    ],\n",
       "  },\n",
       ")"
      ]
     },
     "execution_count": 28,
     "metadata": {},
     "output_type": "execute_result"
    }
   ],
   "source": [
    "pz.select(my_nested_object).at_pytree_leaves()"
   ]
  },
  {
   "cell_type": "markdown",
   "metadata": {
    "id": "L88O37NHOyrP"
   },
   "source": [
    "Note that some PyTree nodes, like `None` or the empty tuple `()`, don't have any children and are ignored by `jax.tree_util.tree_map`, so they won't be selected by `.at_pytree_leaves`:"
   ]
  },
  {
   "cell_type": "code",
   "execution_count": 29,
   "metadata": {
    "execution": {
     "iopub.execute_input": "2024-09-11T16:37:58.514922Z",
     "iopub.status.busy": "2024-09-11T16:37:58.514679Z",
     "iopub.status.idle": "2024-09-11T16:37:58.522743Z",
     "shell.execute_reply": "2024-09-11T16:37:58.522409Z"
    },
    "id": "-wD3VJajO6TR"
   },
   "outputs": [
    {
     "data": {
      "text/html": [
       "<script> (()=>{ if (customElements.get('treescope-container') === undefined) { class TreescopeContainer extends HTMLElement { constructor() { super(); this.attachShadow({mode: \"open\"}); this.defns = {}; this.state = {}; } } customElements.define(\"treescope-container\", TreescopeContainer); } if (customElements.get('treescope-run-here') === undefined) { class RunHere extends HTMLElement { constructor() { super() } connectedCallback() { const run = child => { const fn = new Function(child.textContent); child.textContent = \"\"; fn.call(this); this.remove(); }; const child = this.querySelector(\"script\"); if (child) { run(child); } else { new MutationObserver(()=>{ run(this.querySelector(\"script\")); }).observe(this, {childList: true}); } } } customElements.define(\"treescope-run-here\", RunHere); } })(); </script> <treescope-container class=\"treescope_out_014ba26410a84c5c9f74756b800e8b61\" ></treescope-container> <treescope-run-here><script type=\"application/octet-stream\"> const root = ( Array.from(document.getElementsByClassName( \"treescope_out_014ba26410a84c5c9f74756b800e8b61\")) .filter((elt) => !elt.dataset.setup) )[0]; root.dataset.setup = 1; const msg = document.createElement(\"span\"); msg.style = \"color: #cccccc; font-family: monospace;\"; msg.textContent = \"(Loading...)\"; root.state.loadingMsg = msg; root.shadowRoot.appendChild(msg); root.state.chain = new Promise((resolve, reject) => { const observer = new IntersectionObserver((entries) => { for (const entry of entries) { if (entry.isIntersecting) { resolve(); observer.disconnect(); return; } } }, {rootMargin: \"1000px\"}); window.setTimeout(() => { observer.observe(root); }, 0); }); root.state.deferring = false; const _insertNode = (node) => { for (let oldScript of node.querySelectorAll(\"script\")) { let newScript = document.createElement(\"script\"); newScript.type = oldScript.type; newScript.textContent = oldScript.textContent; oldScript.parentNode.replaceChild(newScript, oldScript); } if (root.state.loadingMsg) { root.state.loadingMsg.remove(); root.state.loadingMsg = null; } root.shadowRoot.appendChild(node); }; root.defns.insertContent = ((contentNode, compressed) => { if (compressed) { root.state.deferring = true; } if (root.state.deferring) { root.state.chain = (async () => { await root.state.chain; if (compressed) { const encoded = contentNode.textContent; const blob = new Blob([ Uint8Array.from(atob(encoded), (m) => m.codePointAt(0)) ]); const reader = blob.stream().pipeThrough( new DecompressionStream(\"deflate\") ).pipeThrough( new TextDecoderStream(\"utf-8\") ).getReader(); const parts = []; while (true) { const step = await reader.read(); if (step.done) { break; } parts.push(step.value); } const tpl = document.createElement('template'); tpl.innerHTML = parts.join(\"\"); _insertNode(tpl.content); } else { _insertNode(contentNode.content); } })(); } else { _insertNode(contentNode.content); } }); </script></treescope-run-here><div style=\"display:none\"> <script type=\"application/octet-stream\" >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</script> <treescope-run-here><script type=\"application/octet-stream\"> const root = ( Array.from(document.getElementsByClassName( \"treescope_out_014ba26410a84c5c9f74756b800e8b61\")) .filter((elt) => !elt.dataset['step0']) )[0]; root.dataset['step0'] = 1; root.defns.insertContent( this.parentNode.querySelector('script[type=\"application/octet-stream\"]'), true ); this.parentNode.remove(); </script></treescope-run-here> </div>"
      ],
      "text/plain": [
       "<IPython.core.display.HTML object>"
      ]
     },
     "metadata": {},
     "output_type": "display_data"
    },
    {
     "data": {
      "text/html": [
       "<treescope-run-here><script type=\"application/octet-stream\"> const root = ( Array.from(document.getElementsByClassName( \"treescope_out_014ba26410a84c5c9f74756b800e8b61\")) .filter((elt) => !elt.dataset.stolen) )[0]; root.dataset.stolen = 1; this.parentNode.replaceChild(root, this); </script></treescope-run-here>"
      ],
      "text/plain": [
       "Selection(\n",
       "  selected_by_path=OrderedDict({(SequenceKey(idx=0),): 1, (SequenceKey(idx=1),): 2, (SequenceKey(idx=3),): 3, (SequenceKey(idx=5),): 4}),\n",
       "  remainder=[\n",
       "    SelectionHole(path=(SequenceKey(idx=0),)),\n",
       "    SelectionHole(path=(SequenceKey(idx=1),)),\n",
       "    (),\n",
       "    SelectionHole(path=(SequenceKey(idx=3),)),\n",
       "    None,\n",
       "    SelectionHole(path=(SequenceKey(idx=5),)),\n",
       "  ],\n",
       ")"
      ]
     },
     "execution_count": 29,
     "metadata": {},
     "output_type": "execute_result"
    }
   ],
   "source": [
    "pz.select([1, 2, (), 3, None, 4]).at_pytree_leaves()"
   ]
  },
  {
   "cell_type": "markdown",
   "metadata": {
    "id": "_afpL4O8O_VZ"
   },
   "source": [
    "If you want to select these too, you can use `.at_childless`:"
   ]
  },
  {
   "cell_type": "code",
   "execution_count": 30,
   "metadata": {
    "execution": {
     "iopub.execute_input": "2024-09-11T16:37:58.530802Z",
     "iopub.status.busy": "2024-09-11T16:37:58.530512Z",
     "iopub.status.idle": "2024-09-11T16:37:58.538904Z",
     "shell.execute_reply": "2024-09-11T16:37:58.538694Z"
    },
    "id": "byvIxqOZPDD6"
   },
   "outputs": [
    {
     "data": {
      "text/html": [
       "<script> (()=>{ if (customElements.get('treescope-container') === undefined) { class TreescopeContainer extends HTMLElement { constructor() { super(); this.attachShadow({mode: \"open\"}); this.defns = {}; this.state = {}; } } customElements.define(\"treescope-container\", TreescopeContainer); } if (customElements.get('treescope-run-here') === undefined) { class RunHere extends HTMLElement { constructor() { super() } connectedCallback() { const run = child => { const fn = new Function(child.textContent); child.textContent = \"\"; fn.call(this); this.remove(); }; const child = this.querySelector(\"script\"); if (child) { run(child); } else { new MutationObserver(()=>{ run(this.querySelector(\"script\")); }).observe(this, {childList: true}); } } } customElements.define(\"treescope-run-here\", RunHere); } })(); </script> <treescope-container class=\"treescope_out_f990e12462e3476098ddecdf36cf3dc5\" ></treescope-container> <treescope-run-here><script type=\"application/octet-stream\"> const root = ( Array.from(document.getElementsByClassName( \"treescope_out_f990e12462e3476098ddecdf36cf3dc5\")) .filter((elt) => !elt.dataset.setup) )[0]; root.dataset.setup = 1; const msg = document.createElement(\"span\"); msg.style = \"color: #cccccc; font-family: monospace;\"; msg.textContent = \"(Loading...)\"; root.state.loadingMsg = msg; root.shadowRoot.appendChild(msg); root.state.chain = new Promise((resolve, reject) => { const observer = new IntersectionObserver((entries) => { for (const entry of entries) { if (entry.isIntersecting) { resolve(); observer.disconnect(); return; } } }, {rootMargin: \"1000px\"}); window.setTimeout(() => { observer.observe(root); }, 0); }); root.state.deferring = false; const _insertNode = (node) => { for (let oldScript of node.querySelectorAll(\"script\")) { let newScript = document.createElement(\"script\"); newScript.type = oldScript.type; newScript.textContent = oldScript.textContent; oldScript.parentNode.replaceChild(newScript, oldScript); } if (root.state.loadingMsg) { root.state.loadingMsg.remove(); root.state.loadingMsg = null; } root.shadowRoot.appendChild(node); }; root.defns.insertContent = ((contentNode, compressed) => { if (compressed) { root.state.deferring = true; } if (root.state.deferring) { root.state.chain = (async () => { await root.state.chain; if (compressed) { const encoded = contentNode.textContent; const blob = new Blob([ Uint8Array.from(atob(encoded), (m) => m.codePointAt(0)) ]); const reader = blob.stream().pipeThrough( new DecompressionStream(\"deflate\") ).pipeThrough( new TextDecoderStream(\"utf-8\") ).getReader(); const parts = []; while (true) { const step = await reader.read(); if (step.done) { break; } parts.push(step.value); } const tpl = document.createElement('template'); tpl.innerHTML = parts.join(\"\"); _insertNode(tpl.content); } else { _insertNode(contentNode.content); } })(); } else { _insertNode(contentNode.content); } }); </script></treescope-run-here><div style=\"display:none\"> <script type=\"application/octet-stream\" >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</script> <treescope-run-here><script type=\"application/octet-stream\"> const root = ( Array.from(document.getElementsByClassName( \"treescope_out_f990e12462e3476098ddecdf36cf3dc5\")) .filter((elt) => !elt.dataset['step0']) )[0]; root.dataset['step0'] = 1; root.defns.insertContent( this.parentNode.querySelector('script[type=\"application/octet-stream\"]'), true ); this.parentNode.remove(); </script></treescope-run-here> </div>"
      ],
      "text/plain": [
       "<IPython.core.display.HTML object>"
      ]
     },
     "metadata": {},
     "output_type": "display_data"
    },
    {
     "data": {
      "text/html": [
       "<treescope-run-here><script type=\"application/octet-stream\"> const root = ( Array.from(document.getElementsByClassName( \"treescope_out_f990e12462e3476098ddecdf36cf3dc5\")) .filter((elt) => !elt.dataset.stolen) )[0]; root.dataset.stolen = 1; this.parentNode.replaceChild(root, this); </script></treescope-run-here>"
      ],
      "text/plain": [
       "Selection(\n",
       "  selected_by_path=OrderedDict({(SequenceKey(idx=0),): 1, (SequenceKey(idx=1),): 2, (SequenceKey(idx=2),): (), (SequenceKey(idx=3),): 3, (SequenceKey(idx=4),): None, (SequenceKey(idx=5),): 4}),\n",
       "  remainder=[\n",
       "    SelectionHole(path=(SequenceKey(idx=0),)),\n",
       "    SelectionHole(path=(SequenceKey(idx=1),)),\n",
       "    SelectionHole(path=(SequenceKey(idx=2),)),\n",
       "    SelectionHole(path=(SequenceKey(idx=3),)),\n",
       "    SelectionHole(path=(SequenceKey(idx=4),)),\n",
       "    SelectionHole(path=(SequenceKey(idx=5),)),\n",
       "  ],\n",
       ")"
      ]
     },
     "execution_count": 30,
     "metadata": {},
     "output_type": "execute_result"
    }
   ],
   "source": [
    "pz.select([1, 2, (), 3, None, 4]).at_childless()"
   ]
  },
  {
   "cell_type": "markdown",
   "metadata": {
    "id": "3y9uooSkPKoU"
   },
   "source": [
    "### Filtering selections\n",
    "Given an existing set of selected nodes, you can choose to filter down to only a subset that match a criterion:"
   ]
  },
  {
   "cell_type": "code",
   "execution_count": 31,
   "metadata": {
    "execution": {
     "iopub.execute_input": "2024-09-11T16:37:58.549114Z",
     "iopub.status.busy": "2024-09-11T16:37:58.548840Z",
     "iopub.status.idle": "2024-09-11T16:37:58.560538Z",
     "shell.execute_reply": "2024-09-11T16:37:58.560292Z"
    },
    "id": "Uk1-HVvKPOq6"
   },
   "outputs": [
    {
     "data": {
      "text/html": [
       "<script> (()=>{ if (customElements.get('treescope-container') === undefined) { class TreescopeContainer extends HTMLElement { constructor() { super(); this.attachShadow({mode: \"open\"}); this.defns = {}; this.state = {}; } } customElements.define(\"treescope-container\", TreescopeContainer); } if (customElements.get('treescope-run-here') === undefined) { class RunHere extends HTMLElement { constructor() { super() } connectedCallback() { const run = child => { const fn = new Function(child.textContent); child.textContent = \"\"; fn.call(this); this.remove(); }; const child = this.querySelector(\"script\"); if (child) { run(child); } else { new MutationObserver(()=>{ run(this.querySelector(\"script\")); }).observe(this, {childList: true}); } } } customElements.define(\"treescope-run-here\", RunHere); } })(); </script> <treescope-container class=\"treescope_out_2a63a05471ad4186a8fe5990adf40c2e\" ></treescope-container> <treescope-run-here><script type=\"application/octet-stream\"> const root = ( Array.from(document.getElementsByClassName( \"treescope_out_2a63a05471ad4186a8fe5990adf40c2e\")) .filter((elt) => !elt.dataset.setup) )[0]; root.dataset.setup = 1; const msg = document.createElement(\"span\"); msg.style = \"color: #cccccc; font-family: monospace;\"; msg.textContent = \"(Loading...)\"; root.state.loadingMsg = msg; root.shadowRoot.appendChild(msg); root.state.chain = new Promise((resolve, reject) => { const observer = new IntersectionObserver((entries) => { for (const entry of entries) { if (entry.isIntersecting) { resolve(); observer.disconnect(); return; } } }, {rootMargin: \"1000px\"}); window.setTimeout(() => { observer.observe(root); }, 0); }); root.state.deferring = false; const _insertNode = (node) => { for (let oldScript of node.querySelectorAll(\"script\")) { let newScript = document.createElement(\"script\"); newScript.type = oldScript.type; newScript.textContent = oldScript.textContent; oldScript.parentNode.replaceChild(newScript, oldScript); } if (root.state.loadingMsg) { root.state.loadingMsg.remove(); root.state.loadingMsg = null; } root.shadowRoot.appendChild(node); }; root.defns.insertContent = ((contentNode, compressed) => { if (compressed) { root.state.deferring = true; } if (root.state.deferring) { root.state.chain = (async () => { await root.state.chain; if (compressed) { const encoded = contentNode.textContent; const blob = new Blob([ Uint8Array.from(atob(encoded), (m) => m.codePointAt(0)) ]); const reader = blob.stream().pipeThrough( new DecompressionStream(\"deflate\") ).pipeThrough( new TextDecoderStream(\"utf-8\") ).getReader(); const parts = []; while (true) { const step = await reader.read(); if (step.done) { break; } parts.push(step.value); } const tpl = document.createElement('template'); tpl.innerHTML = parts.join(\"\"); _insertNode(tpl.content); } else { _insertNode(contentNode.content); } })(); } else { _insertNode(contentNode.content); } }); </script></treescope-run-here><div style=\"display:none\"> <script type=\"application/octet-stream\" >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</script> <treescope-run-here><script type=\"application/octet-stream\"> const root = ( Array.from(document.getElementsByClassName( \"treescope_out_2a63a05471ad4186a8fe5990adf40c2e\")) .filter((elt) => !elt.dataset['step0']) )[0]; root.dataset['step0'] = 1; root.defns.insertContent( this.parentNode.querySelector('script[type=\"application/octet-stream\"]'), true ); this.parentNode.remove(); </script></treescope-run-here> </div>"
      ],
      "text/plain": [
       "<IPython.core.display.HTML object>"
      ]
     },
     "metadata": {},
     "output_type": "display_data"
    },
    {
     "data": {
      "text/html": [
       "<treescope-run-here><script type=\"application/octet-stream\"> const root = ( Array.from(document.getElementsByClassName( \"treescope_out_2a63a05471ad4186a8fe5990adf40c2e\")) .filter((elt) => !elt.dataset.stolen) )[0]; root.dataset.stolen = 1; this.parentNode.replaceChild(root, this); </script></treescope-run-here>"
      ],
      "text/plain": [
       "Selection(\n",
       "  selected_by_path=OrderedDict({(SequenceKey(idx=0),): 0, (SequenceKey(idx=2),): 2, (SequenceKey(idx=4),): 4, (SequenceKey(idx=6),): 6, (SequenceKey(idx=8),): 8, (SequenceKey(idx=10),): 10, (SequenceKey(idx=12),): 12, (SequenceKey(idx=14),): 14, (SequenceKey(idx=16),): 16, (SequenceKey(idx=18),): 18}),\n",
       "  remainder=[SelectionHole(path=(SequenceKey(idx=0),)), 1, SelectionHole(path=(SequenceKey(idx=2),)), 3, SelectionHole(path=(SequenceKey(idx=4),)), 5, SelectionHole(path=(SequenceKey(idx=6),)), 7, SelectionHole(path=(SequenceKey(idx=8),)), 9, SelectionHole(path=(SequenceKey(idx=10),)), 11, SelectionHole(path=(SequenceKey(idx=12),)), 13, SelectionHole(path=(SequenceKey(idx=14),)), 15, SelectionHole(path=(SequenceKey(idx=16),)), 17, SelectionHole(path=(SequenceKey(idx=18),)), 19],\n",
       ")"
      ]
     },
     "execution_count": 31,
     "metadata": {},
     "output_type": "execute_result"
    }
   ],
   "source": [
    "pz.select(list(range(20))).at_instances_of(int).where(lambda x: x % 2 == 0)"
   ]
  },
  {
   "cell_type": "markdown",
   "metadata": {
    "id": "2Ae_LP3BdpGG"
   },
   "source": [
    "You can also choose to keep only the `n`th node that you've selected (e.g. the third integer in the collection), zero-indexed:"
   ]
  },
  {
   "cell_type": "code",
   "execution_count": 32,
   "metadata": {
    "execution": {
     "iopub.execute_input": "2024-09-11T16:37:58.565896Z",
     "iopub.status.busy": "2024-09-11T16:37:58.565651Z",
     "iopub.status.idle": "2024-09-11T16:37:58.571141Z",
     "shell.execute_reply": "2024-09-11T16:37:58.570897Z"
    },
    "id": "zkisw9V-eNaa"
   },
   "outputs": [
    {
     "data": {
      "text/html": [
       "<script> (()=>{ if (customElements.get('treescope-container') === undefined) { class TreescopeContainer extends HTMLElement { constructor() { super(); this.attachShadow({mode: \"open\"}); this.defns = {}; this.state = {}; } } customElements.define(\"treescope-container\", TreescopeContainer); } if (customElements.get('treescope-run-here') === undefined) { class RunHere extends HTMLElement { constructor() { super() } connectedCallback() { const run = child => { const fn = new Function(child.textContent); child.textContent = \"\"; fn.call(this); this.remove(); }; const child = this.querySelector(\"script\"); if (child) { run(child); } else { new MutationObserver(()=>{ run(this.querySelector(\"script\")); }).observe(this, {childList: true}); } } } customElements.define(\"treescope-run-here\", RunHere); } })(); </script> <treescope-container class=\"treescope_out_c9e554d910e546628f94d9b11d0e8379\" ></treescope-container> <treescope-run-here><script type=\"application/octet-stream\"> const root = ( Array.from(document.getElementsByClassName( \"treescope_out_c9e554d910e546628f94d9b11d0e8379\")) .filter((elt) => !elt.dataset.setup) )[0]; root.dataset.setup = 1; const msg = document.createElement(\"span\"); msg.style = \"color: #cccccc; font-family: monospace;\"; msg.textContent = \"(Loading...)\"; root.state.loadingMsg = msg; root.shadowRoot.appendChild(msg); root.state.chain = new Promise((resolve, reject) => { const observer = new IntersectionObserver((entries) => { for (const entry of entries) { if (entry.isIntersecting) { resolve(); observer.disconnect(); return; } } }, {rootMargin: \"1000px\"}); window.setTimeout(() => { observer.observe(root); }, 0); }); root.state.deferring = false; const _insertNode = (node) => { for (let oldScript of node.querySelectorAll(\"script\")) { let newScript = document.createElement(\"script\"); newScript.type = oldScript.type; newScript.textContent = oldScript.textContent; oldScript.parentNode.replaceChild(newScript, oldScript); } if (root.state.loadingMsg) { root.state.loadingMsg.remove(); root.state.loadingMsg = null; } root.shadowRoot.appendChild(node); }; root.defns.insertContent = ((contentNode, compressed) => { if (compressed) { root.state.deferring = true; } if (root.state.deferring) { root.state.chain = (async () => { await root.state.chain; if (compressed) { const encoded = contentNode.textContent; const blob = new Blob([ Uint8Array.from(atob(encoded), (m) => m.codePointAt(0)) ]); const reader = blob.stream().pipeThrough( new DecompressionStream(\"deflate\") ).pipeThrough( new TextDecoderStream(\"utf-8\") ).getReader(); const parts = []; while (true) { const step = await reader.read(); if (step.done) { break; } parts.push(step.value); } const tpl = document.createElement('template'); tpl.innerHTML = parts.join(\"\"); _insertNode(tpl.content); } else { _insertNode(contentNode.content); } })(); } else { _insertNode(contentNode.content); } }); </script></treescope-run-here><div style=\"display:none\"> <script type=\"application/octet-stream\" >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</script> <treescope-run-here><script type=\"application/octet-stream\"> const root = ( Array.from(document.getElementsByClassName( \"treescope_out_c9e554d910e546628f94d9b11d0e8379\")) .filter((elt) => !elt.dataset['step0']) )[0]; root.dataset['step0'] = 1; root.defns.insertContent( this.parentNode.querySelector('script[type=\"application/octet-stream\"]'), true ); this.parentNode.remove(); </script></treescope-run-here> </div>"
      ],
      "text/plain": [
       "<IPython.core.display.HTML object>"
      ]
     },
     "metadata": {},
     "output_type": "display_data"
    },
    {
     "data": {
      "text/html": [
       "<treescope-run-here><script type=\"application/octet-stream\"> const root = ( Array.from(document.getElementsByClassName( \"treescope_out_c9e554d910e546628f94d9b11d0e8379\")) .filter((elt) => !elt.dataset.stolen) )[0]; root.dataset.stolen = 1; this.parentNode.replaceChild(root, this); </script></treescope-run-here>"
      ],
      "text/plain": [
       "Selection(\n",
       "  selected_by_path=OrderedDict({(SequenceKey(idx=4),): 3}),\n",
       "  remainder=[\n",
       "    1,\n",
       "    'a',\n",
       "    2,\n",
       "    'b',\n",
       "    SelectionHole(path=(SequenceKey(idx=4),)),\n",
       "    'c',\n",
       "    4,\n",
       "    'd',\n",
       "  ],\n",
       ")"
      ]
     },
     "execution_count": 32,
     "metadata": {},
     "output_type": "execute_result"
    }
   ],
   "source": [
    "pz.select([1, \"a\", 2, \"b\", 3, \"c\", 4, \"d\"]).at_instances_of(int).pick_nth_selected(2)"
   ]
  },
  {
   "cell_type": "markdown",
   "metadata": {
    "id": "VK7GeXc6ka0s"
   },
   "source": [
    "### Inverting selections\n",
    "Selections can be inverted, which produces a new Selection which selects every PyTree node that did NOT contain any of the selected nodes:"
   ]
  },
  {
   "cell_type": "code",
   "execution_count": 33,
   "metadata": {
    "execution": {
     "iopub.execute_input": "2024-09-11T16:37:58.576787Z",
     "iopub.status.busy": "2024-09-11T16:37:58.576515Z",
     "iopub.status.idle": "2024-09-11T16:37:58.586347Z",
     "shell.execute_reply": "2024-09-11T16:37:58.586138Z"
    },
    "id": "CF1rqre8klTc"
   },
   "outputs": [
    {
     "name": "stdout",
     "output_type": "stream",
     "text": [
      "Original:\n"
     ]
    },
    {
     "data": {
      "text/html": [
       "<script> (()=>{ if (customElements.get('treescope-container') === undefined) { class TreescopeContainer extends HTMLElement { constructor() { super(); this.attachShadow({mode: \"open\"}); this.defns = {}; this.state = {}; } } customElements.define(\"treescope-container\", TreescopeContainer); } if (customElements.get('treescope-run-here') === undefined) { class RunHere extends HTMLElement { constructor() { super() } connectedCallback() { const run = child => { const fn = new Function(child.textContent); child.textContent = \"\"; fn.call(this); this.remove(); }; const child = this.querySelector(\"script\"); if (child) { run(child); } else { new MutationObserver(()=>{ run(this.querySelector(\"script\")); }).observe(this, {childList: true}); } } } customElements.define(\"treescope-run-here\", RunHere); } })(); </script> <treescope-container class=\"treescope_out_b41e649e80814879820ee723a8824bb9\" ></treescope-container> <treescope-run-here><script type=\"application/octet-stream\"> const root = ( Array.from(document.getElementsByClassName( \"treescope_out_b41e649e80814879820ee723a8824bb9\")) .filter((elt) => !elt.dataset.setup) )[0]; root.dataset.setup = 1; const msg = document.createElement(\"span\"); msg.style = \"color: #cccccc; font-family: monospace;\"; msg.textContent = \"(Loading...)\"; root.state.loadingMsg = msg; root.shadowRoot.appendChild(msg); root.state.chain = new Promise((resolve, reject) => { const observer = new IntersectionObserver((entries) => { for (const entry of entries) { if (entry.isIntersecting) { resolve(); observer.disconnect(); return; } } }, {rootMargin: \"1000px\"}); window.setTimeout(() => { observer.observe(root); }, 0); }); root.state.deferring = false; const _insertNode = (node) => { for (let oldScript of node.querySelectorAll(\"script\")) { let newScript = document.createElement(\"script\"); newScript.type = oldScript.type; newScript.textContent = oldScript.textContent; oldScript.parentNode.replaceChild(newScript, oldScript); } if (root.state.loadingMsg) { root.state.loadingMsg.remove(); root.state.loadingMsg = null; } root.shadowRoot.appendChild(node); }; root.defns.insertContent = ((contentNode, compressed) => { if (compressed) { root.state.deferring = true; } if (root.state.deferring) { root.state.chain = (async () => { await root.state.chain; if (compressed) { const encoded = contentNode.textContent; const blob = new Blob([ Uint8Array.from(atob(encoded), (m) => m.codePointAt(0)) ]); const reader = blob.stream().pipeThrough( new DecompressionStream(\"deflate\") ).pipeThrough( new TextDecoderStream(\"utf-8\") ).getReader(); const parts = []; while (true) { const step = await reader.read(); if (step.done) { break; } parts.push(step.value); } const tpl = document.createElement('template'); tpl.innerHTML = parts.join(\"\"); _insertNode(tpl.content); } else { _insertNode(contentNode.content); } })(); } else { _insertNode(contentNode.content); } }); </script></treescope-run-here><div style=\"display:none\"> <script type=\"application/octet-stream\" >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</script> <treescope-run-here><script type=\"application/octet-stream\"> const root = ( Array.from(document.getElementsByClassName( \"treescope_out_b41e649e80814879820ee723a8824bb9\")) .filter((elt) => !elt.dataset['step0']) )[0]; root.dataset['step0'] = 1; root.defns.insertContent( this.parentNode.querySelector('script[type=\"application/octet-stream\"]'), true ); this.parentNode.remove(); </script></treescope-run-here> </div>"
      ],
      "text/plain": [
       "<IPython.core.display.HTML object>"
      ]
     },
     "metadata": {},
     "output_type": "display_data"
    },
    {
     "name": "stdout",
     "output_type": "stream",
     "text": [
      "Inverted:\n"
     ]
    },
    {
     "data": {
      "text/html": [
       "<script> (()=>{ if (customElements.get('treescope-container') === undefined) { class TreescopeContainer extends HTMLElement { constructor() { super(); this.attachShadow({mode: \"open\"}); this.defns = {}; this.state = {}; } } customElements.define(\"treescope-container\", TreescopeContainer); } if (customElements.get('treescope-run-here') === undefined) { class RunHere extends HTMLElement { constructor() { super() } connectedCallback() { const run = child => { const fn = new Function(child.textContent); child.textContent = \"\"; fn.call(this); this.remove(); }; const child = this.querySelector(\"script\"); if (child) { run(child); } else { new MutationObserver(()=>{ run(this.querySelector(\"script\")); }).observe(this, {childList: true}); } } } customElements.define(\"treescope-run-here\", RunHere); } })(); </script> <treescope-container class=\"treescope_out_9b0fa34e89504117a8fe4e70408a65ee\" ></treescope-container> <treescope-run-here><script type=\"application/octet-stream\"> const root = ( Array.from(document.getElementsByClassName( \"treescope_out_9b0fa34e89504117a8fe4e70408a65ee\")) .filter((elt) => !elt.dataset.setup) )[0]; root.dataset.setup = 1; const msg = document.createElement(\"span\"); msg.style = \"color: #cccccc; font-family: monospace;\"; msg.textContent = \"(Loading...)\"; root.state.loadingMsg = msg; root.shadowRoot.appendChild(msg); root.state.chain = new Promise((resolve, reject) => { const observer = new IntersectionObserver((entries) => { for (const entry of entries) { if (entry.isIntersecting) { resolve(); observer.disconnect(); return; } } }, {rootMargin: \"1000px\"}); window.setTimeout(() => { observer.observe(root); }, 0); }); root.state.deferring = false; const _insertNode = (node) => { for (let oldScript of node.querySelectorAll(\"script\")) { let newScript = document.createElement(\"script\"); newScript.type = oldScript.type; newScript.textContent = oldScript.textContent; oldScript.parentNode.replaceChild(newScript, oldScript); } if (root.state.loadingMsg) { root.state.loadingMsg.remove(); root.state.loadingMsg = null; } root.shadowRoot.appendChild(node); }; root.defns.insertContent = ((contentNode, compressed) => { if (compressed) { root.state.deferring = true; } if (root.state.deferring) { root.state.chain = (async () => { await root.state.chain; if (compressed) { const encoded = contentNode.textContent; const blob = new Blob([ Uint8Array.from(atob(encoded), (m) => m.codePointAt(0)) ]); const reader = blob.stream().pipeThrough( new DecompressionStream(\"deflate\") ).pipeThrough( new TextDecoderStream(\"utf-8\") ).getReader(); const parts = []; while (true) { const step = await reader.read(); if (step.done) { break; } parts.push(step.value); } const tpl = document.createElement('template'); tpl.innerHTML = parts.join(\"\"); _insertNode(tpl.content); } else { _insertNode(contentNode.content); } })(); } else { _insertNode(contentNode.content); } }); </script></treescope-run-here><div style=\"display:none\"> <script type=\"application/octet-stream\" >eNrtW41T27gS/1fUdOZIDmKSQEIJhXlOyBctUAgtlLtOTrEVW8SWjCwnhBv+97ey842T0ndwj3YCMw1Iq/3y/la7a/relwOHHGhSEOIb3CMtwblEfyOP+1RSzopIEAdL2iN7qMOZTHewS51BEbmccd/DBqz3bSpJOvyliDwBKw71ZTpknZYDD1YZZ7DcxkbXEjxgZtrgDhfF6OgeGv7WdoAA+FFT2kXUoRLImCRM7iEPmyZlVtohHVlEOcNWQhhJ24RaNqxktbxiwySmoPP42PCHdI/6tE0dKkFzHEg+pk1TJgVlPjXSPr0n0e5Q3Yf3m5F73o/dkxYBA5kC1nxDUE8iZd/+GvY8hxpYeWyTG5Io6wXB7tpBMpnaPwCHgjxfIpN0mI/2kbSpr1lEnoO3T7hJkinN5r7Uwn0wjUjU8ghTJuuG4qoO/fEtbqeOmekQ2GaB4+xFEjRQs8k5g9Vkn4tuCk3rwC9hSW3NLEtqqEWPiA4XLmYG0RjvJ1Ph8wUByUc7KB0deo+2cingQzsoOae15hBmSRvt76OMIlmquiAyEAz8jojjk4lidsCUZvOsfZt2pNIvJFA/PMD3AglJiCpm8r4myG1AfKkz6oaPqyqwS5KRT1KKx94jQV7g25Eb92JsHInYj8xYYuXTdVBaRA9ScstyIlS2QuRAtHqKl1ohjtxApAcBPnySSrvwd61LBsrpCZFQCg2JNcPBvv8RwDnkm0yMebZcCMPESPhDCvwJ4R/G+MH7zTgAmLSHQob7idn0kUASt8FScrefyCQQZ6AMmM2AblnYx9uaVGdGViYAdlHCCjNGy+CuC+thqIQZ5C0Ov5QVcyS4yLhMFm3eIyIVQz8kZ4HbJmKKYWb3XTZfmBD4Kl1Y0xK3svlsXhF0uGPiNljAwLQFORT0miFrRUYDtUl9z8GDUa6cJ0QHyMFt4hSLbQIwJFMaGOHXXqy8KF+msyphDvNqZm8ii7Iwi7YdrhLvQpmh1x5LNrHo+gRb8PTZ49Ohw+eWbOwnD0KeB7F+iB6SYROjS8xUCv2emuigjsYfGtHPaBgm/iJa+zOXbxtr/0/1Zg8tVLLwLyipnqMSHAhfPUCPw/VHRIxc6j+f2BAKoaB0CGN/UYw/j9SJeZLcycdSNOq3OlT4ssVZS4V/DLSWQUnL5RWaYh8V+sfqR098XkVllYuFBQVLpEYI6Id/KA1SmjdoB1JCpRCXgCbbcUGbQIk5KnAkVIHxxH+S7LaZmCsi144xRAXFDmoO3DZ3fHQaSGWvicrRSfj0BgCMdJ+0u1AQhsd9F64IG9IwlGtMwnGKfWKOy8i3JKO+9x6HeXQ6rPMy2i5x562M8BFjRXy6m5zU+thvGVACgmPH53FHzlwlozy9TObcmVmR065HPSyS6bSJJU5jBg82rCRS08tKiCqPBGajaA7ZoqyPCHgMat80D+SPmTLWAB4MJeabWU1CkegNdT0uJGaPeLcF7xLWUiuTZPR9704dm/Ln6DE/aKrYAMXMlgGlqikIG6o62wwAz1nCZ8quU9AZXqQzUDWwYyShY4FyOevdhRWW5kuszo/1fTFN2lyYkHcjTUwuwXalxbTzIASIaPO7FkR7i0f4m+Y0WyMMGzEFoFxeIQhOKkiFa0NpsBRaqZj2qbRfluvz+G4DxTrixR7MsBhz8d2kyX3QbgPsMGgGWtBGd+gdnJtJWe/ClKX5xMMCMmd4NfgvHMsqWmPkvWTQgoU2FgCPPhYMQqA1KiNGyO90sJHdiiH0oDn6ezwsEMPZgLorh5AcLqUzWniJTyYSxXCegEXaEtik8DiS2a28SawNxCF/WgRlwP8Fw96I8ik4RN1O4RIaYvqRKo+u8Wfz2EyCGRnzoPXtMEs6DvbgQvx+U/HjFcNiCRGgQxkhEbmDm8NcSPMcesSJGBoaEUw65jhXzHat2mwrjJZwmDeVzTTn8YRPEbaQzzPOo9SIAL3RhcADrSO4mzS5EagOWVOZxtd62AmIn0ylNJ+7JBnmHzVcUJ9aVLepwcITK7fEGkqh1HiU49uESDXvIX1UbjabypqmWlPTm3BTEwRMNkhzwIzkX/8ZVosGGWXCH68cowSqJCk/Chc7w7X+cHS4nYFr0BdGEQXCSaoypqj2N/u808nttaFQKmxvmJnd2rGll/Twq3Gm6zz8qXTeh3/rVV2v6Mu+Sq6uW13+wWxUSuX+V12/+Fo+0o8bpbJete4a9Y+29EvHlFhb1cOr3MdG4Wuv6QX003H+Int01Tj/cty7PL6XnwbVann90upe0NJhxqaHZ8FRxazdZOrtzU6vYXq3Hwr27SWlZ8Exq9n1zmepfy6UTsS2Xm2wbqVgfA4Ctn6evzX8br/XqTqbt3dWhb+z2kf92rtsXd9k+nn+oxBH2fN16z5zbmb0o07WOtkp92s3OSvDB8H5zo5byRb69avdU8vyyEV3sE0a7fu80RanNYl166xx0j/E/sA/CxqNq8tKta9/OvMaX83Pm5vr1s7FztWWzHQ+fLrVe3ng+VE/2dGP+7pr3Z8314PrJqlc3eU6BeP+ZPu8PsgHJf3DfenGq3pbtH5WrmSug0/bzR3WKX2s1KvHrk7X3/UqOZtl7Z319pf+1U2/LnqHtc9ldtOpVCy5fmpcO85Ofrd81C+9s3e3j49rza3atW65jfxN6WxXXtRIfbdSKjVqW4fW9vnmV2PQ1mvwTL982NTPalgnx2VHr99XTq1raRVKn6zT08ZhqUvP8qRauiqXqgbNeLbgHoPY8K4rh9n7bLfZKXekPfjA6iau+vVO5sStVU4KJVO//fLFw9JvXrumielurnO/u/2Z3twWPFcUTvnXcpOKmts7qm01L5tb1UrOKJ11LtbrDvdq21W/n8fWbeEdvSbNE8e7ZKV6g5jHggSXt7Wym72sim6zeZfPFS4v/b4OGqVQOLuVybUwrNfUlfUX/DNGPza5B8XhBJLhxFnTtCUUGxFmvwGv5ZM9OxyBhvV71FoAbwgPZqBkVOHPDqgBghdcwRfIhh2AWvMhPSgWqqVRfQDuYyoRwz1qYcmFBpy9NsfC1PqCSnIB3X9ywguMHfKaTEGhTkgmpvodNf8EKRfUJVD/JUcD8kfnBHGheXl09GED5TKZTFgOQPKFyiAZdu7xcqeamsREOTWzGGUwNTJOoLeoiqkDiU1ypIjfhJkNSgAGxSJkYwo+I9hUPdn6tO+Gs9zvTHFVfzca485MTBMH3j1Ufg4xZBJ4ANks8aOeK7Fsf25zdsw4XyYBcVQLvKfMC4Z3WiK8/aE8T8QyGRYKsBkVCWBuePjgj/ebQ2Y/o/axysc1KnMqzjdJCRRegWpDNVNFlIMm0OcONZExwGyuUVTd6tTmHO8F7cATqOZIZoq40d5Qz6mpQKTgzJ0NN74Jar1FzTBAiVkchejsxw8qNP0OIHGQjecZ97Hx2K5xkZw4QHHqxBof7a1NRh9riLOyyjD7az+YYsMXJ6k1NJ7L7Cf+yHwbx8HUwAaqKdhRQ7b5cRLshKkEriroVdeGWi53yApFKxRNXpQlDn57e5fb2cPRxy+HqOxCRGVXiFoh6kXupdwvh6LcQhTlVihaoegF76X2L3ovbS1E1Na/j6jZ9LX1c3lye6Ent1e5aZWbXjA3Gb9obsovRFR+hagVol6kZt7+5VBUWIiiwgpFKxS94L1k/ui9tMzEjdeCp52FeNp5NjxFH9+eYvJ3/Tj3sialYdnqkoFSx499YTMDr38CyQkUl+izNIn+5si9HeQH7fCN1AayIYYdFcfERLjNe+Q3S+49wUtv0VIu806MSRxLIu2neUeU/JnecP3kWj8OnvEf7MwpM/enfImDG3wX/hVQK5DU0WZjs6n+RxAzyAcyeB6/UPNuf0k5lPmRzDzzkRpXSQuWn1Q8vZ76YhWPryEes6t4XMXjK4rH3CoeV/H4iuJxaxWPq3h8RfGYX8XjKh5fUTwWVvG4isdXFI87LxWP/zvDJw9o5weLY1KT9g7+C20OuB4=</script> <treescope-run-here><script type=\"application/octet-stream\"> const root = ( Array.from(document.getElementsByClassName( \"treescope_out_9b0fa34e89504117a8fe4e70408a65ee\")) .filter((elt) => !elt.dataset['step0']) )[0]; root.dataset['step0'] = 1; root.defns.insertContent( this.parentNode.querySelector('script[type=\"application/octet-stream\"]'), true ); this.parentNode.remove(); </script></treescope-run-here> </div>"
      ],
      "text/plain": [
       "<IPython.core.display.HTML object>"
      ]
     },
     "metadata": {},
     "output_type": "display_data"
    }
   ],
   "source": [
    "selection = pz.select([1, \"a\", 2, \"b\", 3, \"c\", 4, \"d\"]).at_instances_of(int).pick_nth_selected(2)\n",
    "\n",
    "print(\"Original:\")\n",
    "selection.show_selection()\n",
    "print(\"Inverted:\")\n",
    "selection.invert().show_selection()"
   ]
  },
  {
   "cell_type": "code",
   "execution_count": 34,
   "metadata": {
    "execution": {
     "iopub.execute_input": "2024-09-11T16:37:58.594352Z",
     "iopub.status.busy": "2024-09-11T16:37:58.594097Z",
     "iopub.status.idle": "2024-09-11T16:37:58.607270Z",
     "shell.execute_reply": "2024-09-11T16:37:58.607095Z"
    },
    "id": "HaLCG89dknQg"
   },
   "outputs": [
    {
     "name": "stdout",
     "output_type": "stream",
     "text": [
      "Original:\n"
     ]
    },
    {
     "data": {
      "text/html": [
       "<script> (()=>{ if (customElements.get('treescope-container') === undefined) { class TreescopeContainer extends HTMLElement { constructor() { super(); this.attachShadow({mode: \"open\"}); this.defns = {}; this.state = {}; } } customElements.define(\"treescope-container\", TreescopeContainer); } if (customElements.get('treescope-run-here') === undefined) { class RunHere extends HTMLElement { constructor() { super() } connectedCallback() { const run = child => { const fn = new Function(child.textContent); child.textContent = \"\"; fn.call(this); this.remove(); }; const child = this.querySelector(\"script\"); if (child) { run(child); } else { new MutationObserver(()=>{ run(this.querySelector(\"script\")); }).observe(this, {childList: true}); } } } customElements.define(\"treescope-run-here\", RunHere); } })(); </script> <treescope-container class=\"treescope_out_fa16e4effbf74d809d1fbb7a8ac5a5d1\" ></treescope-container> <treescope-run-here><script type=\"application/octet-stream\"> const root = ( Array.from(document.getElementsByClassName( \"treescope_out_fa16e4effbf74d809d1fbb7a8ac5a5d1\")) .filter((elt) => !elt.dataset.setup) )[0]; root.dataset.setup = 1; const msg = document.createElement(\"span\"); msg.style = \"color: #cccccc; font-family: monospace;\"; msg.textContent = \"(Loading...)\"; root.state.loadingMsg = msg; root.shadowRoot.appendChild(msg); root.state.chain = new Promise((resolve, reject) => { const observer = new IntersectionObserver((entries) => { for (const entry of entries) { if (entry.isIntersecting) { resolve(); observer.disconnect(); return; } } }, {rootMargin: \"1000px\"}); window.setTimeout(() => { observer.observe(root); }, 0); }); root.state.deferring = false; const _insertNode = (node) => { for (let oldScript of node.querySelectorAll(\"script\")) { let newScript = document.createElement(\"script\"); newScript.type = oldScript.type; newScript.textContent = oldScript.textContent; oldScript.parentNode.replaceChild(newScript, oldScript); } if (root.state.loadingMsg) { root.state.loadingMsg.remove(); root.state.loadingMsg = null; } root.shadowRoot.appendChild(node); }; root.defns.insertContent = ((contentNode, compressed) => { if (compressed) { root.state.deferring = true; } if (root.state.deferring) { root.state.chain = (async () => { await root.state.chain; if (compressed) { const encoded = contentNode.textContent; const blob = new Blob([ Uint8Array.from(atob(encoded), (m) => m.codePointAt(0)) ]); const reader = blob.stream().pipeThrough( new DecompressionStream(\"deflate\") ).pipeThrough( new TextDecoderStream(\"utf-8\") ).getReader(); const parts = []; while (true) { const step = await reader.read(); if (step.done) { break; } parts.push(step.value); } const tpl = document.createElement('template'); tpl.innerHTML = parts.join(\"\"); _insertNode(tpl.content); } else { _insertNode(contentNode.content); } })(); } else { _insertNode(contentNode.content); } }); </script></treescope-run-here><div style=\"display:none\"> <script type=\"application/octet-stream\" >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</script> <treescope-run-here><script type=\"application/octet-stream\"> const root = ( Array.from(document.getElementsByClassName( \"treescope_out_fa16e4effbf74d809d1fbb7a8ac5a5d1\")) .filter((elt) => !elt.dataset['step0']) )[0]; root.dataset['step0'] = 1; root.defns.insertContent( this.parentNode.querySelector('script[type=\"application/octet-stream\"]'), true ); this.parentNode.remove(); </script></treescope-run-here> </div>"
      ],
      "text/plain": [
       "<IPython.core.display.HTML object>"
      ]
     },
     "metadata": {},
     "output_type": "display_data"
    },
    {
     "data": {
      "text/html": [
       "<div style=\"display:none\"> <script type=\"application/octet-stream\" >eNq1lEtv2zAMgP8KoQFFgrqun3HcPICt3YBedtgOOxRFoUh0okG1PFkpFgz976Mcx223bmsPOzg2xedHUplLdQet22lcMKnaRvPdGdSmRgZKLlhl7I3ECq1FeZNG0ynm0bTKcpkVPC1jIeNEFJVYSRFHKVvO24bX9OvjLUNhNLnz1criHfyATjyDN5NpwqNoBvfz071h5wVC87ZdsMdObHmk3ewr/x6+tZbvRldRAHEASQBpAFkAeQCTAIoApgGU1wFIt2twoWqXJuOjtZtRgq6ew4tYl/PXAE+ziRAZj0WSZ6KsViXiBMskLmTJRSEfgF8KAETgETyDh/AUHsNzeBBPAiVRetL4PyBVMqfRSZEmcZlVZV6WGKX+bBIlRV6kr0eKwgCef4byK234XwGcRWyFafDEbuuTDVq/FMKqxkEXgPGm0Upwp0x9aoRDd9KSD79lS2Hqlqy4XaO7lC0s4Iq9fGMDYC+f9mPjf/bxeravTBphjXFUl9uoNqQqP5H40UgcjWfQV0/4vVFvHn7bot19Ro3CGTti4dChG69mv7mea5q3T9LLofAHXRpnt0j2g8YibYjAL8ptRk/ch6CV5etbrPt6tv4zFNRuhxe9+KG38AwH65CGhLU83ygth8BebyyMNDpQFI/uvYL5w7xCjfXabej0+HhMfxLebq8k4yEyie81+s93u0sKfvC+UteUwPu0ZmsFXtBF+GMP3/iLwOAYfnHfi0/aMkQLK2XbQ+6OjBwetBZvzV03yPunk3i2yWO//N1W094/s/I/AUzc1hs=</script> <treescope-run-here><script type=\"application/octet-stream\"> const root = ( Array.from(document.getElementsByClassName( \"treescope_out_fa16e4effbf74d809d1fbb7a8ac5a5d1\")) .filter((elt) => !elt.dataset['step1']) )[0]; root.dataset['step1'] = 1; root.defns.insertContent( this.parentNode.querySelector('script[type=\"application/octet-stream\"]'), true ); this.parentNode.remove(); </script></treescope-run-here> </div>"
      ],
      "text/plain": [
       "<IPython.core.display.HTML object>"
      ]
     },
     "metadata": {},
     "output_type": "display_data"
    },
    {
     "name": "stdout",
     "output_type": "stream",
     "text": [
      "Inverted:\n"
     ]
    },
    {
     "data": {
      "text/html": [
       "<script> (()=>{ if (customElements.get('treescope-container') === undefined) { class TreescopeContainer extends HTMLElement { constructor() { super(); this.attachShadow({mode: \"open\"}); this.defns = {}; this.state = {}; } } customElements.define(\"treescope-container\", TreescopeContainer); } if (customElements.get('treescope-run-here') === undefined) { class RunHere extends HTMLElement { constructor() { super() } connectedCallback() { const run = child => { const fn = new Function(child.textContent); child.textContent = \"\"; fn.call(this); this.remove(); }; const child = this.querySelector(\"script\"); if (child) { run(child); } else { new MutationObserver(()=>{ run(this.querySelector(\"script\")); }).observe(this, {childList: true}); } } } customElements.define(\"treescope-run-here\", RunHere); } })(); </script> <treescope-container class=\"treescope_out_4b88976b4808479da66bad215e79a23b\" ></treescope-container> <treescope-run-here><script type=\"application/octet-stream\"> const root = ( Array.from(document.getElementsByClassName( \"treescope_out_4b88976b4808479da66bad215e79a23b\")) .filter((elt) => !elt.dataset.setup) )[0]; root.dataset.setup = 1; const msg = document.createElement(\"span\"); msg.style = \"color: #cccccc; font-family: monospace;\"; msg.textContent = \"(Loading...)\"; root.state.loadingMsg = msg; root.shadowRoot.appendChild(msg); root.state.chain = new Promise((resolve, reject) => { const observer = new IntersectionObserver((entries) => { for (const entry of entries) { if (entry.isIntersecting) { resolve(); observer.disconnect(); return; } } }, {rootMargin: \"1000px\"}); window.setTimeout(() => { observer.observe(root); }, 0); }); root.state.deferring = false; const _insertNode = (node) => { for (let oldScript of node.querySelectorAll(\"script\")) { let newScript = document.createElement(\"script\"); newScript.type = oldScript.type; newScript.textContent = oldScript.textContent; oldScript.parentNode.replaceChild(newScript, oldScript); } if (root.state.loadingMsg) { root.state.loadingMsg.remove(); root.state.loadingMsg = null; } root.shadowRoot.appendChild(node); }; root.defns.insertContent = ((contentNode, compressed) => { if (compressed) { root.state.deferring = true; } if (root.state.deferring) { root.state.chain = (async () => { await root.state.chain; if (compressed) { const encoded = contentNode.textContent; const blob = new Blob([ Uint8Array.from(atob(encoded), (m) => m.codePointAt(0)) ]); const reader = blob.stream().pipeThrough( new DecompressionStream(\"deflate\") ).pipeThrough( new TextDecoderStream(\"utf-8\") ).getReader(); const parts = []; while (true) { const step = await reader.read(); if (step.done) { break; } parts.push(step.value); } const tpl = document.createElement('template'); tpl.innerHTML = parts.join(\"\"); _insertNode(tpl.content); } else { _insertNode(contentNode.content); } })(); } else { _insertNode(contentNode.content); } }); </script></treescope-run-here><div style=\"display:none\"> <script type=\"application/octet-stream\" >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</script> <treescope-run-here><script type=\"application/octet-stream\"> const root = ( Array.from(document.getElementsByClassName( \"treescope_out_4b88976b4808479da66bad215e79a23b\")) .filter((elt) => !elt.dataset['step0']) )[0]; root.dataset['step0'] = 1; root.defns.insertContent( this.parentNode.querySelector('script[type=\"application/octet-stream\"]'), true ); this.parentNode.remove(); </script></treescope-run-here> </div>"
      ],
      "text/plain": [
       "<IPython.core.display.HTML object>"
      ]
     },
     "metadata": {},
     "output_type": "display_data"
    },
    {
     "data": {
      "text/html": [
       "<div style=\"display:none\"> <script type=\"application/octet-stream\" >eNq1lE1v2zAMhv8KoQFFgrquHduJ03wAW7sBveywHXYoikKRqESDanmyUiwY+t9HOY7bbt3WHnZIYlovPx6SylzqO2j8zuCCSd3Uhu/OoLIVMtBywZR1NxIVOofyJsmyclWIqcK8zFOVcrHK0yIpVZalIs8ytpw3Na/oO8RbxsIacuerlcM7+AGteQZvxuWIJ8kM7uene2HrBcLwplmwx05seWT87Cv/Hr91ju8GV0kEaQSjCLII8giKCMYRTCIoI5heRyD9rsaFrnw2Gh6t/YwStPUcfoh1OX8FcFkUCkU65TmR8kRxIblKJqsUiwzVZPQA/FIAIIKAEBgCRKAIGIEjgAQSmBJlIE3/A1Iqk2KkSjUVKsnTCedjuSrHiZyI0TRJUvl6pCSO4PlPX74ylv8VwDvERtgaT9y2OtmgC0shnK49tAEYr2ujBffaVqdWePQnDfnwW7YUtmpIxd0a/aVsYAFX7OUbGwF7+bQfi//Zx+vZvjJphbPWU11+o5uYqvxE5kcrcTCcQVc94XeiTh5/26LbfUaDwls3YHHfoZtwzH5zPTc075Cks2MRXrRpvNsi6fsTh7QhAr9ovxk8ce+DKsfXt1h19WzDYyyo3R4vOvNDpwgMB3VMQ8JKnm+0kX3gcG4dDAx60BSP7r2G+cO8YoPV2m/o7fHxkP4kgm5/SOI+MpnvDYbHd7tLCn7wvtLXlCD4NHbrBF7QRfhjD9+Ei8DgGH5x35tP2tJHi5V2zSF3S0YOD6cOb+1dO8j7p5N4tsnDsPztVtPeP7PyPwEkmNeJ</script> <treescope-run-here><script type=\"application/octet-stream\"> const root = ( Array.from(document.getElementsByClassName( \"treescope_out_4b88976b4808479da66bad215e79a23b\")) .filter((elt) => !elt.dataset['step1']) )[0]; root.dataset['step1'] = 1; root.defns.insertContent( this.parentNode.querySelector('script[type=\"application/octet-stream\"]'), true ); this.parentNode.remove(); </script></treescope-run-here> </div>"
      ],
      "text/plain": [
       "<IPython.core.display.HTML object>"
      ]
     },
     "metadata": {},
     "output_type": "display_data"
    }
   ],
   "source": [
    "selection = pz.select(my_nested_object).at_keypaths([\n",
    "    (jax.tree_util.DictKey(key='c'), jax.tree_util.SequenceKey(idx=2), jax.tree_util.DictKey(key='value')),\n",
    "    (jax.tree_util.DictKey(key='c'), jax.tree_util.SequenceKey(idx=0)),\n",
    "])\n",
    "\n",
    "print(\"Original:\")\n",
    "selection.show_selection()\n",
    "print(\"Inverted:\")\n",
    "selection.invert().show_selection()"
   ]
  },
  {
   "cell_type": "markdown",
   "metadata": {
    "id": "-6RVyMq6NY6r"
   },
   "source": [
    "### Building more complex selections\n",
    "For highly dynamic selections, you can drop down to lower-level manipulation.\n",
    "\n",
    "Selections provide a `.refine` method, which runs a function on each of the currently selected values, takes the `Selection` returned by that function, and then takes the disjoint union of them. This can be useful for dynamic input-dependent branching:"
   ]
  },
  {
   "cell_type": "code",
   "execution_count": 35,
   "metadata": {
    "execution": {
     "iopub.execute_input": "2024-09-11T16:37:58.613199Z",
     "iopub.status.busy": "2024-09-11T16:37:58.612960Z",
     "iopub.status.idle": "2024-09-11T16:37:58.614889Z",
     "shell.execute_reply": "2024-09-11T16:37:58.614689Z"
    },
    "id": "pMKL39k7Rdty"
   },
   "outputs": [],
   "source": [
    "# Select field \"a\" of Foo and field \"b\" of Bar\n",
    "\n",
    "@pz.pytree_dataclass\n",
    "class Foo(pz.Struct):\n",
    "  a: typing.Any\n",
    "  b: typing.Any\n",
    "\n",
    "@pz.pytree_dataclass\n",
    "class Bar(pz.Struct):\n",
    "  a: typing.Any\n",
    "  b: typing.Any\n",
    "\n",
    "def refine_fn(value):\n",
    "  if isinstance(value, Foo):\n",
    "    return value.select().at(lambda x: x.a)\n",
    "  else:\n",
    "    return value.select().at(lambda x: x.b)"
   ]
  },
  {
   "cell_type": "code",
   "execution_count": 36,
   "metadata": {
    "execution": {
     "iopub.execute_input": "2024-09-11T16:37:58.624960Z",
     "iopub.status.busy": "2024-09-11T16:37:58.624720Z",
     "iopub.status.idle": "2024-09-11T16:37:58.634208Z",
     "shell.execute_reply": "2024-09-11T16:37:58.634026Z"
    },
    "id": "Hvj4K7tVeag7"
   },
   "outputs": [
    {
     "data": {
      "text/html": [
       "<script> (()=>{ if (customElements.get('treescope-container') === undefined) { class TreescopeContainer extends HTMLElement { constructor() { super(); this.attachShadow({mode: \"open\"}); this.defns = {}; this.state = {}; } } customElements.define(\"treescope-container\", TreescopeContainer); } if (customElements.get('treescope-run-here') === undefined) { class RunHere extends HTMLElement { constructor() { super() } connectedCallback() { const run = child => { const fn = new Function(child.textContent); child.textContent = \"\"; fn.call(this); this.remove(); }; const child = this.querySelector(\"script\"); if (child) { run(child); } else { new MutationObserver(()=>{ run(this.querySelector(\"script\")); }).observe(this, {childList: true}); } } } customElements.define(\"treescope-run-here\", RunHere); } })(); </script> <treescope-container class=\"treescope_out_8a8498da5a8c4ef9bc73caec287d2927\" ></treescope-container> <treescope-run-here><script type=\"application/octet-stream\"> const root = ( Array.from(document.getElementsByClassName( \"treescope_out_8a8498da5a8c4ef9bc73caec287d2927\")) .filter((elt) => !elt.dataset.setup) )[0]; root.dataset.setup = 1; const msg = document.createElement(\"span\"); msg.style = \"color: #cccccc; font-family: monospace;\"; msg.textContent = \"(Loading...)\"; root.state.loadingMsg = msg; root.shadowRoot.appendChild(msg); root.state.chain = new Promise((resolve, reject) => { const observer = new IntersectionObserver((entries) => { for (const entry of entries) { if (entry.isIntersecting) { resolve(); observer.disconnect(); return; } } }, {rootMargin: \"1000px\"}); window.setTimeout(() => { observer.observe(root); }, 0); }); root.state.deferring = false; const _insertNode = (node) => { for (let oldScript of node.querySelectorAll(\"script\")) { let newScript = document.createElement(\"script\"); newScript.type = oldScript.type; newScript.textContent = oldScript.textContent; oldScript.parentNode.replaceChild(newScript, oldScript); } if (root.state.loadingMsg) { root.state.loadingMsg.remove(); root.state.loadingMsg = null; } root.shadowRoot.appendChild(node); }; root.defns.insertContent = ((contentNode, compressed) => { if (compressed) { root.state.deferring = true; } if (root.state.deferring) { root.state.chain = (async () => { await root.state.chain; if (compressed) { const encoded = contentNode.textContent; const blob = new Blob([ Uint8Array.from(atob(encoded), (m) => m.codePointAt(0)) ]); const reader = blob.stream().pipeThrough( new DecompressionStream(\"deflate\") ).pipeThrough( new TextDecoderStream(\"utf-8\") ).getReader(); const parts = []; while (true) { const step = await reader.read(); if (step.done) { break; } parts.push(step.value); } const tpl = document.createElement('template'); tpl.innerHTML = parts.join(\"\"); _insertNode(tpl.content); } else { _insertNode(contentNode.content); } })(); } else { _insertNode(contentNode.content); } }); </script></treescope-run-here><div style=\"display:none\"> <script type=\"application/octet-stream\" >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</script> <treescope-run-here><script type=\"application/octet-stream\"> const root = ( Array.from(document.getElementsByClassName( \"treescope_out_8a8498da5a8c4ef9bc73caec287d2927\")) .filter((elt) => !elt.dataset['step0']) )[0]; root.dataset['step0'] = 1; root.defns.insertContent( this.parentNode.querySelector('script[type=\"application/octet-stream\"]'), true ); this.parentNode.remove(); </script></treescope-run-here> </div>"
      ],
      "text/plain": [
       "<IPython.core.display.HTML object>"
      ]
     },
     "metadata": {},
     "output_type": "display_data"
    },
    {
     "data": {
      "text/html": [
       "<treescope-run-here><script type=\"application/octet-stream\"> const root = ( Array.from(document.getElementsByClassName( \"treescope_out_8a8498da5a8c4ef9bc73caec287d2927\")) .filter((elt) => !elt.dataset.stolen) )[0]; root.dataset.stolen = 1; this.parentNode.replaceChild(root, this); </script></treescope-run-here>"
      ],
      "text/plain": [
       "Selection(\n",
       "  selected_by_path=OrderedDict({(SequenceKey(idx=0), GetAttrKey(name='a')): 1, (SequenceKey(idx=1), GetAttrKey(name='b')): 4, (SequenceKey(idx=2), GetAttrKey(name='a')): 5, (SequenceKey(idx=3), GetAttrKey(name='b')): 8}),\n",
       "  remainder=[\n",
       "    Foo(\n",
       "      a=SelectionHole(path=(SequenceKey(idx=0), GetAttrKey(name='a'))),\n",
       "      b=2,\n",
       "    ),\n",
       "    Bar(\n",
       "      a=3,\n",
       "      b=SelectionHole(path=(SequenceKey(idx=1), GetAttrKey(name='b'))),\n",
       "    ),\n",
       "    Foo(\n",
       "      a=SelectionHole(path=(SequenceKey(idx=2), GetAttrKey(name='a'))),\n",
       "      b=6,\n",
       "    ),\n",
       "    Bar(a=7, b=SelectionHole(path=(SequenceKey(idx=3), GetAttrKey(name='b')))),\n",
       "    None,\n",
       "  ],\n",
       ")"
      ]
     },
     "execution_count": 36,
     "metadata": {},
     "output_type": "execute_result"
    }
   ],
   "source": [
    "pz.select([\n",
    "    Foo(1, 2),\n",
    "    Bar(3, 4),\n",
    "    Foo(5, 6),\n",
    "    Bar(7, 8),\n",
    "    None,\n",
    "]).at_instances_of((Foo, Bar)).refine(refine_fn)"
   ]
  },
  {
   "cell_type": "markdown",
   "metadata": {
    "id": "dUGwFROiBdhV"
   },
   "source": [
    "## Inspecting selections and retrieving values\n",
    "\n",
    "Once you have a selection, there are various ways to inspect them and their contents."
   ]
  },
  {
   "cell_type": "markdown",
   "metadata": {
    "id": "UV1JQsx7nF6f"
   },
   "source": [
    "### Looking at selections\n",
    "You can view a pretty-printed version of the selection using `.show_selection()` (the same pretty-printing we've been using throughout this notebook):"
   ]
  },
  {
   "cell_type": "code",
   "execution_count": 37,
   "metadata": {
    "execution": {
     "iopub.execute_input": "2024-09-11T16:37:58.641851Z",
     "iopub.status.busy": "2024-09-11T16:37:58.641582Z",
     "iopub.status.idle": "2024-09-11T16:37:58.646037Z",
     "shell.execute_reply": "2024-09-11T16:37:58.646159Z"
    },
    "id": "-W2_LNVonip5"
   },
   "outputs": [
    {
     "data": {
      "text/html": [
       "<script> (()=>{ if (customElements.get('treescope-container') === undefined) { class TreescopeContainer extends HTMLElement { constructor() { super(); this.attachShadow({mode: \"open\"}); this.defns = {}; this.state = {}; } } customElements.define(\"treescope-container\", TreescopeContainer); } if (customElements.get('treescope-run-here') === undefined) { class RunHere extends HTMLElement { constructor() { super() } connectedCallback() { const run = child => { const fn = new Function(child.textContent); child.textContent = \"\"; fn.call(this); this.remove(); }; const child = this.querySelector(\"script\"); if (child) { run(child); } else { new MutationObserver(()=>{ run(this.querySelector(\"script\")); }).observe(this, {childList: true}); } } } customElements.define(\"treescope-run-here\", RunHere); } })(); </script> <treescope-container class=\"treescope_out_0df8827c12c848b6acda323a1029bc96\" ></treescope-container> <treescope-run-here><script type=\"application/octet-stream\"> const root = ( Array.from(document.getElementsByClassName( \"treescope_out_0df8827c12c848b6acda323a1029bc96\")) .filter((elt) => !elt.dataset.setup) )[0]; root.dataset.setup = 1; const msg = document.createElement(\"span\"); msg.style = \"color: #cccccc; font-family: monospace;\"; msg.textContent = \"(Loading...)\"; root.state.loadingMsg = msg; root.shadowRoot.appendChild(msg); root.state.chain = new Promise((resolve, reject) => { const observer = new IntersectionObserver((entries) => { for (const entry of entries) { if (entry.isIntersecting) { resolve(); observer.disconnect(); return; } } }, {rootMargin: \"1000px\"}); window.setTimeout(() => { observer.observe(root); }, 0); }); root.state.deferring = false; const _insertNode = (node) => { for (let oldScript of node.querySelectorAll(\"script\")) { let newScript = document.createElement(\"script\"); newScript.type = oldScript.type; newScript.textContent = oldScript.textContent; oldScript.parentNode.replaceChild(newScript, oldScript); } if (root.state.loadingMsg) { root.state.loadingMsg.remove(); root.state.loadingMsg = null; } root.shadowRoot.appendChild(node); }; root.defns.insertContent = ((contentNode, compressed) => { if (compressed) { root.state.deferring = true; } if (root.state.deferring) { root.state.chain = (async () => { await root.state.chain; if (compressed) { const encoded = contentNode.textContent; const blob = new Blob([ Uint8Array.from(atob(encoded), (m) => m.codePointAt(0)) ]); const reader = blob.stream().pipeThrough( new DecompressionStream(\"deflate\") ).pipeThrough( new TextDecoderStream(\"utf-8\") ).getReader(); const parts = []; while (true) { const step = await reader.read(); if (step.done) { break; } parts.push(step.value); } const tpl = document.createElement('template'); tpl.innerHTML = parts.join(\"\"); _insertNode(tpl.content); } else { _insertNode(contentNode.content); } })(); } else { _insertNode(contentNode.content); } }); </script></treescope-run-here><div style=\"display:none\"> <script type=\"application/octet-stream\" >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</script> <treescope-run-here><script type=\"application/octet-stream\"> const root = ( Array.from(document.getElementsByClassName( \"treescope_out_0df8827c12c848b6acda323a1029bc96\")) .filter((elt) => !elt.dataset['step0']) )[0]; root.dataset['step0'] = 1; root.defns.insertContent( this.parentNode.querySelector('script[type=\"application/octet-stream\"]'), true ); this.parentNode.remove(); </script></treescope-run-here> </div>"
      ],
      "text/plain": [
       "<IPython.core.display.HTML object>"
      ]
     },
     "metadata": {},
     "output_type": "display_data"
    },
    {
     "data": {
      "text/html": [
       "<div style=\"display:none\"> <script type=\"application/octet-stream\" >eNq1lN1v2jAQwP+VkytVoKYpCUlIyoe0tZvUlz1sD3tAVWXsAzy5ceYYNFT1f985hLRs3dY+7AHw+T5/d2cmUm2hdjuNUyZVXWm+u4TSlMhAySlbGnsncYnWorzjHAtZxHGS5iLJ8sFiKIY5psmI84iuOJtN6oqX9O3jzUJhNLnzxcLiFh6gES/hJMtjPhiM4XFysTdsvEBoXtdT9tyJzU61G3/jP8J31vJdbz4IIAogDmAYQBJAGkAWwCiAPIDiNgDpdhVOVemGcf905caUoKnn8EOss8kbgAtc8nzBs1RkIlkkOReLNCuiPI/zNI9Gz4BfCwBE4BE8g4fwFB7Dc3gQTwIFUXrS6D8gYZZlaRzzOOKDhCd5IWQk45E/R6MkG70daRAG8PKnK3+pDf8rgLOItTAVnttNeb5G65dCWFU5aAIwXlVaCe6UKS+McOjOa/Lh92wmTFmTFbcrdDeyhinM2es3NgD2+mk/N/5nH2/H+8qkEdYYR3W5tapDqvIziZ+MxF5/DG31hN8atebh9w3a3RfUKJyxPRZ2Hbrzavab65WmefskrRwKf9GkcXaDZN9pLNKGCPyq3Lp35N4FXVq+useyrWfjj6Ggdju8bsWPrYVnOFiHNCQs5dVaadkF9npjoafRgaJ49O4VTJ7mFWosV25Nt2dnffqT8HZ7JRl3kUn8oNEf3+9uKPjBe65uKYH3qc3GCrymh/DHHp74h8DgDH5x34tHbemihUtl60PuhowcnrQW7822GeTj8SRebHLfL3+z1bT3L6z8T4IN1TU=</script> <treescope-run-here><script type=\"application/octet-stream\"> const root = ( Array.from(document.getElementsByClassName( \"treescope_out_0df8827c12c848b6acda323a1029bc96\")) .filter((elt) => !elt.dataset['step1']) )[0]; root.dataset['step1'] = 1; root.defns.insertContent( this.parentNode.querySelector('script[type=\"application/octet-stream\"]'), true ); this.parentNode.remove(); </script></treescope-run-here> </div>"
      ],
      "text/plain": [
       "<IPython.core.display.HTML object>"
      ]
     },
     "metadata": {},
     "output_type": "display_data"
    }
   ],
   "source": [
    "pz.select(my_nested_object).at_children().show_selection()"
   ]
  },
  {
   "cell_type": "markdown",
   "metadata": {
    "id": "chGlzxpEnQGr"
   },
   "source": [
    "You can also view the selected values without the selection annotations using `.show_value()`. This is similar to just rendering the root object with treescope, but it automatically expands so that the nodes you selected are visible, and collapses all other nodes."
   ]
  },
  {
   "cell_type": "code",
   "execution_count": 38,
   "metadata": {
    "execution": {
     "iopub.execute_input": "2024-09-11T16:37:58.664022Z",
     "iopub.status.busy": "2024-09-11T16:37:58.658666Z",
     "iopub.status.idle": "2024-09-11T16:37:58.697600Z",
     "shell.execute_reply": "2024-09-11T16:37:58.697279Z"
    },
    "id": "Ei6MgFeAoQ0Z"
   },
   "outputs": [
    {
     "data": {
      "text/html": [
       "<script> (()=>{ if (customElements.get('treescope-container') === undefined) { class TreescopeContainer extends HTMLElement { constructor() { super(); this.attachShadow({mode: \"open\"}); this.defns = {}; this.state = {}; } } customElements.define(\"treescope-container\", TreescopeContainer); } if (customElements.get('treescope-run-here') === undefined) { class RunHere extends HTMLElement { constructor() { super() } connectedCallback() { const run = child => { const fn = new Function(child.textContent); child.textContent = \"\"; fn.call(this); this.remove(); }; const child = this.querySelector(\"script\"); if (child) { run(child); } else { new MutationObserver(()=>{ run(this.querySelector(\"script\")); }).observe(this, {childList: true}); } } } customElements.define(\"treescope-run-here\", RunHere); } })(); </script> <treescope-container class=\"treescope_out_092290a6a4184977b8974f0da1327f6c\" ></treescope-container> <treescope-run-here><script type=\"application/octet-stream\"> const root = ( Array.from(document.getElementsByClassName( \"treescope_out_092290a6a4184977b8974f0da1327f6c\")) .filter((elt) => !elt.dataset.setup) )[0]; root.dataset.setup = 1; const msg = document.createElement(\"span\"); msg.style = \"color: #cccccc; font-family: monospace;\"; msg.textContent = \"(Loading...)\"; root.state.loadingMsg = msg; root.shadowRoot.appendChild(msg); root.state.chain = new Promise((resolve, reject) => { const observer = new IntersectionObserver((entries) => { for (const entry of entries) { if (entry.isIntersecting) { resolve(); observer.disconnect(); return; } } }, {rootMargin: \"1000px\"}); window.setTimeout(() => { observer.observe(root); }, 0); }); root.state.deferring = false; const _insertNode = (node) => { for (let oldScript of node.querySelectorAll(\"script\")) { let newScript = document.createElement(\"script\"); newScript.type = oldScript.type; newScript.textContent = oldScript.textContent; oldScript.parentNode.replaceChild(newScript, oldScript); } if (root.state.loadingMsg) { root.state.loadingMsg.remove(); root.state.loadingMsg = null; } root.shadowRoot.appendChild(node); }; root.defns.insertContent = ((contentNode, compressed) => { if (compressed) { root.state.deferring = true; } if (root.state.deferring) { root.state.chain = (async () => { await root.state.chain; if (compressed) { const encoded = contentNode.textContent; const blob = new Blob([ Uint8Array.from(atob(encoded), (m) => m.codePointAt(0)) ]); const reader = blob.stream().pipeThrough( new DecompressionStream(\"deflate\") ).pipeThrough( new TextDecoderStream(\"utf-8\") ).getReader(); const parts = []; while (true) { const step = await reader.read(); if (step.done) { break; } parts.push(step.value); } const tpl = document.createElement('template'); tpl.innerHTML = parts.join(\"\"); _insertNode(tpl.content); } else { _insertNode(contentNode.content); } })(); } else { _insertNode(contentNode.content); } }); </script></treescope-run-here><div style=\"display:none\"> <script type=\"application/octet-stream\" >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</script> <treescope-run-here><script type=\"application/octet-stream\"> const root = ( Array.from(document.getElementsByClassName( \"treescope_out_092290a6a4184977b8974f0da1327f6c\")) .filter((elt) => !elt.dataset['step0']) )[0]; root.dataset['step0'] = 1; root.defns.insertContent( this.parentNode.querySelector('script[type=\"application/octet-stream\"]'), true ); this.parentNode.remove(); </script></treescope-run-here> </div>"
      ],
      "text/plain": [
       "<IPython.core.display.HTML object>"
      ]
     },
     "metadata": {},
     "output_type": "display_data"
    }
   ],
   "source": [
    "stuff = (\n",
    "    [[[\"haystack\"] * 5] * 5] * 5\n",
    "    + [[[\"haystack\"] * 5] * 5 + [[\"haystack\", \"needle\", \"haystack\", \"haystack\", \"haystack\"]]]\n",
    "    + [[[\"haystack\"] * 5] * 5] * 5\n",
    ")\n",
    "\n",
    "pz.select(stuff).at_equal_to(\"needle\").show_value()"
   ]
  },
  {
   "cell_type": "markdown",
   "metadata": {
    "id": "nPZUOuqilcoc"
   },
   "source": [
    "### Counting selected objects\n",
    "Selections have `count` and `is_empty` methods for inspecting their size:"
   ]
  },
  {
   "cell_type": "code",
   "execution_count": 39,
   "metadata": {
    "execution": {
     "iopub.execute_input": "2024-09-11T16:37:58.702055Z",
     "iopub.status.busy": "2024-09-11T16:37:58.701809Z",
     "iopub.status.idle": "2024-09-11T16:37:58.705199Z",
     "shell.execute_reply": "2024-09-11T16:37:58.704953Z"
    },
    "id": "TGu1D-n_lumY"
   },
   "outputs": [
    {
     "data": {
      "text/html": [
       "<script> (()=>{ if (customElements.get('treescope-container') === undefined) { class TreescopeContainer extends HTMLElement { constructor() { super(); this.attachShadow({mode: \"open\"}); this.defns = {}; this.state = {}; } } customElements.define(\"treescope-container\", TreescopeContainer); } if (customElements.get('treescope-run-here') === undefined) { class RunHere extends HTMLElement { constructor() { super() } connectedCallback() { const run = child => { const fn = new Function(child.textContent); child.textContent = \"\"; fn.call(this); this.remove(); }; const child = this.querySelector(\"script\"); if (child) { run(child); } else { new MutationObserver(()=>{ run(this.querySelector(\"script\")); }).observe(this, {childList: true}); } } } customElements.define(\"treescope-run-here\", RunHere); } })(); </script> <treescope-container class=\"treescope_out_afcf06971d794adeaa7463b743390e2d\" ></treescope-container> <treescope-run-here><script type=\"application/octet-stream\"> const root = ( Array.from(document.getElementsByClassName( \"treescope_out_afcf06971d794adeaa7463b743390e2d\")) .filter((elt) => !elt.dataset.setup) )[0]; root.dataset.setup = 1; const msg = document.createElement(\"span\"); msg.style = \"color: #cccccc; font-family: monospace;\"; msg.textContent = \"(Loading...)\"; root.state.loadingMsg = msg; root.shadowRoot.appendChild(msg); root.state.chain = new Promise((resolve, reject) => { const observer = new IntersectionObserver((entries) => { for (const entry of entries) { if (entry.isIntersecting) { resolve(); observer.disconnect(); return; } } }, {rootMargin: \"1000px\"}); window.setTimeout(() => { observer.observe(root); }, 0); }); root.state.deferring = false; const _insertNode = (node) => { for (let oldScript of node.querySelectorAll(\"script\")) { let newScript = document.createElement(\"script\"); newScript.type = oldScript.type; newScript.textContent = oldScript.textContent; oldScript.parentNode.replaceChild(newScript, oldScript); } if (root.state.loadingMsg) { root.state.loadingMsg.remove(); root.state.loadingMsg = null; } root.shadowRoot.appendChild(node); }; root.defns.insertContent = ((contentNode, compressed) => { if (compressed) { root.state.deferring = true; } if (root.state.deferring) { root.state.chain = (async () => { await root.state.chain; if (compressed) { const encoded = contentNode.textContent; const blob = new Blob([ Uint8Array.from(atob(encoded), (m) => m.codePointAt(0)) ]); const reader = blob.stream().pipeThrough( new DecompressionStream(\"deflate\") ).pipeThrough( new TextDecoderStream(\"utf-8\") ).getReader(); const parts = []; while (true) { const step = await reader.read(); if (step.done) { break; } parts.push(step.value); } const tpl = document.createElement('template'); tpl.innerHTML = parts.join(\"\"); _insertNode(tpl.content); } else { _insertNode(contentNode.content); } })(); } else { _insertNode(contentNode.content); } }); </script></treescope-run-here><div style=\"display:none\"> <script type=\"application/octet-stream\" >eNqNVE2P0zAQ/StWOGwikWx3EQjaptJeEAfEAQ4cEKpcZ5KM1hkHe9JS0P53xklb9qOsUC7xm6/3xjNeBt5bWBXsAYJxPay9c6x+q94FZHQ0Vx6sZtzCQtWOOK91h3Y/V50jF3ptBN+1yJCPh7nqvSAWA+dj6pz3vaDkSOCNNreNdwNVuXHW+fkUulCH08aKg+TDitu5qpHFjRiIF6rXVYXU5BZqnqtr08YiBHkL2LSCXBWvYxpijcL5FHb4ybcYcIMWWZjrgd3JN0dijxTQ5AF/wWQ90L1bXk7tWZ7ak/uBpKYXLBiPPauor7zQfW/R6NixS2cYonoPurtYpWlWrqShUi+wqqCmoErFLYaiAf4s3f7kKkizonWBi9Eu0oDVugeKkm9MzBqDvn0/Z/mgqbIgZhqsXUwVCqH5xTkSNN05f5up+xzcV4Gi6QHMaCLYg6+d7zQZKMjt0my8XymQPrGofApaqlfXmeTBWqWPWBcWqOFWlaWaRZdnqXvgwZP0XYEN8JdYO1Bk9jh1aLHmyG90iD938v2jQipTRZXbFR5+DBD4hrAbr+u91x2kU0+ymGPxpFA/hHZq4+KMxmOJcpLxjMr/5xBZTBfJrmnstJXrcXNkWvuYKyJg+aWCrQz44SYju/Fc3MI+Nj3xSSR0cC6M1SF8lOU85E2TU851J2OYHIvfZdJPGf9xxlfLy3MLUOFWjQnL5OHzkSjWG1EKP8tklihHQkZkk/g9N/bntaYx5qgykbWbHqzxxVjT0G3Aj5MyPiAvZu/eXr1+c3915VmiI837QclqJj5iFHWiZPUHhrnIAQ==</script> <treescope-run-here><script type=\"application/octet-stream\"> const root = ( Array.from(document.getElementsByClassName( \"treescope_out_afcf06971d794adeaa7463b743390e2d\")) .filter((elt) => !elt.dataset['step0']) )[0]; root.dataset['step0'] = 1; root.defns.insertContent( this.parentNode.querySelector('script[type=\"application/octet-stream\"]'), true ); this.parentNode.remove(); </script></treescope-run-here> </div>"
      ],
      "text/plain": [
       "<IPython.core.display.HTML object>"
      ]
     },
     "metadata": {},
     "output_type": "display_data"
    },
    {
     "data": {
      "text/html": [
       "<treescope-run-here><script type=\"application/octet-stream\"> const root = ( Array.from(document.getElementsByClassName( \"treescope_out_afcf06971d794adeaa7463b743390e2d\")) .filter((elt) => !elt.dataset.stolen) )[0]; root.dataset.stolen = 1; this.parentNode.replaceChild(root, this); </script></treescope-run-here>"
      ],
      "text/plain": [
       "0"
      ]
     },
     "execution_count": 39,
     "metadata": {},
     "output_type": "execute_result"
    }
   ],
   "source": [
    "pz.select([1, 2]).at_instances_of(str).count()"
   ]
  },
  {
   "cell_type": "code",
   "execution_count": 40,
   "metadata": {
    "execution": {
     "iopub.execute_input": "2024-09-11T16:37:58.708931Z",
     "iopub.status.busy": "2024-09-11T16:37:58.708655Z",
     "iopub.status.idle": "2024-09-11T16:37:58.712128Z",
     "shell.execute_reply": "2024-09-11T16:37:58.712250Z"
    },
    "id": "omvIWqsflyWj"
   },
   "outputs": [
    {
     "data": {
      "text/html": [
       "<script> (()=>{ if (customElements.get('treescope-container') === undefined) { class TreescopeContainer extends HTMLElement { constructor() { super(); this.attachShadow({mode: \"open\"}); this.defns = {}; this.state = {}; } } customElements.define(\"treescope-container\", TreescopeContainer); } if (customElements.get('treescope-run-here') === undefined) { class RunHere extends HTMLElement { constructor() { super() } connectedCallback() { const run = child => { const fn = new Function(child.textContent); child.textContent = \"\"; fn.call(this); this.remove(); }; const child = this.querySelector(\"script\"); if (child) { run(child); } else { new MutationObserver(()=>{ run(this.querySelector(\"script\")); }).observe(this, {childList: true}); } } } customElements.define(\"treescope-run-here\", RunHere); } })(); </script> <treescope-container class=\"treescope_out_b183280fa58e4691abd62c6dbfb0975a\" ></treescope-container> <treescope-run-here><script type=\"application/octet-stream\"> const root = ( Array.from(document.getElementsByClassName( \"treescope_out_b183280fa58e4691abd62c6dbfb0975a\")) .filter((elt) => !elt.dataset.setup) )[0]; root.dataset.setup = 1; const msg = document.createElement(\"span\"); msg.style = \"color: #cccccc; font-family: monospace;\"; msg.textContent = \"(Loading...)\"; root.state.loadingMsg = msg; root.shadowRoot.appendChild(msg); root.state.chain = new Promise((resolve, reject) => { const observer = new IntersectionObserver((entries) => { for (const entry of entries) { if (entry.isIntersecting) { resolve(); observer.disconnect(); return; } } }, {rootMargin: \"1000px\"}); window.setTimeout(() => { observer.observe(root); }, 0); }); root.state.deferring = false; const _insertNode = (node) => { for (let oldScript of node.querySelectorAll(\"script\")) { let newScript = document.createElement(\"script\"); newScript.type = oldScript.type; newScript.textContent = oldScript.textContent; oldScript.parentNode.replaceChild(newScript, oldScript); } if (root.state.loadingMsg) { root.state.loadingMsg.remove(); root.state.loadingMsg = null; } root.shadowRoot.appendChild(node); }; root.defns.insertContent = ((contentNode, compressed) => { if (compressed) { root.state.deferring = true; } if (root.state.deferring) { root.state.chain = (async () => { await root.state.chain; if (compressed) { const encoded = contentNode.textContent; const blob = new Blob([ Uint8Array.from(atob(encoded), (m) => m.codePointAt(0)) ]); const reader = blob.stream().pipeThrough( new DecompressionStream(\"deflate\") ).pipeThrough( new TextDecoderStream(\"utf-8\") ).getReader(); const parts = []; while (true) { const step = await reader.read(); if (step.done) { break; } parts.push(step.value); } const tpl = document.createElement('template'); tpl.innerHTML = parts.join(\"\"); _insertNode(tpl.content); } else { _insertNode(contentNode.content); } })(); } else { _insertNode(contentNode.content); } }); </script></treescope-run-here><div style=\"display:none\"> <script type=\"application/octet-stream\" >eNqNVE2P0zAQ/StWOGwikeyyiEvbVNoL4oA4ABIHhCrXmSSjdcbBnrQUtP+dcdJ2t7ulor3E8/HmvfGMF4F3FpYFe4BgXA8r7xyrP6p3ARkdzZQHqxk3MFe1I85r3aHdzVTnyIVeG7FvW2TIx8NM9V4sFgPnI3TOu16s5EjMa23uG+8GqnLjrPOzKXWu9qe1lQDBw4rbmaqRJYwYiOeq11WF1OQWap6pW9PGIgR5C9i0YnlTvIswxBqF8zFt/5FvMOAaLbIw1wO7Y2yOxB4poMkD/obJu6f7sLie2rM4tif3A0lNL7ZgPPasor7ySve9RaNjx66dYYjqPejuapmmWbmUhkq9wKqCmoIqFbcYigb4s3T7k6sgzYrWBS5Gv0gDVqseKEq+MxE1Jn3/cc7zQVNlQdw0WDufKhRC84tzJNZ06/x9pp5ycN/EFF0nZkYTjT342vlOk4GC3DbNxvuVAukLj8qnpIV6e5sJDtYqfca6sEANt6os1U0MuUjdAw+epO8KbIBHYu1Akdlz6NBizZHfGBA/HuT/jwqpTBVVblt4+DlA4DvCbryu9153kE49ySLG/EWhfgjt1Mb5GY2HEuUk44LK/+cQWUwXya5p7LSVq3FzZFr7iBUtYPm1go0M+P4mI7vxXNzDLjY98UkktA8ujNUhfJTl3OOmyRFz1ckYJofiD5n0U8Z/nPHl4vrcAlS4USNgmZw+H4livRal8KtMbhLlSMiIbJK4S2N/Xmsacw4qE1m76cEaX4yVAMu9VOOojC/Iqxv51fXT3ZV3iQ48T7KS5Vc/gMRJgEgUOcu/m+DKuA==</script> <treescope-run-here><script type=\"application/octet-stream\"> const root = ( Array.from(document.getElementsByClassName( \"treescope_out_b183280fa58e4691abd62c6dbfb0975a\")) .filter((elt) => !elt.dataset['step0']) )[0]; root.dataset['step0'] = 1; root.defns.insertContent( this.parentNode.querySelector('script[type=\"application/octet-stream\"]'), true ); this.parentNode.remove(); </script></treescope-run-here> </div>"
      ],
      "text/plain": [
       "<IPython.core.display.HTML object>"
      ]
     },
     "metadata": {},
     "output_type": "display_data"
    },
    {
     "data": {
      "text/html": [
       "<treescope-run-here><script type=\"application/octet-stream\"> const root = ( Array.from(document.getElementsByClassName( \"treescope_out_b183280fa58e4691abd62c6dbfb0975a\")) .filter((elt) => !elt.dataset.stolen) )[0]; root.dataset.stolen = 1; this.parentNode.replaceChild(root, this); </script></treescope-run-here>"
      ],
      "text/plain": [
       "True"
      ]
     },
     "execution_count": 40,
     "metadata": {},
     "output_type": "execute_result"
    }
   ],
   "source": [
    "pz.select([1, 2]).at_instances_of(str).is_empty()"
   ]
  },
  {
   "cell_type": "code",
   "execution_count": 41,
   "metadata": {
    "execution": {
     "iopub.execute_input": "2024-09-11T16:37:58.716164Z",
     "iopub.status.busy": "2024-09-11T16:37:58.715898Z",
     "iopub.status.idle": "2024-09-11T16:37:58.719228Z",
     "shell.execute_reply": "2024-09-11T16:37:58.719363Z"
    },
    "id": "f7aWTHZql0DV"
   },
   "outputs": [
    {
     "data": {
      "text/html": [
       "<script> (()=>{ if (customElements.get('treescope-container') === undefined) { class TreescopeContainer extends HTMLElement { constructor() { super(); this.attachShadow({mode: \"open\"}); this.defns = {}; this.state = {}; } } customElements.define(\"treescope-container\", TreescopeContainer); } if (customElements.get('treescope-run-here') === undefined) { class RunHere extends HTMLElement { constructor() { super() } connectedCallback() { const run = child => { const fn = new Function(child.textContent); child.textContent = \"\"; fn.call(this); this.remove(); }; const child = this.querySelector(\"script\"); if (child) { run(child); } else { new MutationObserver(()=>{ run(this.querySelector(\"script\")); }).observe(this, {childList: true}); } } } customElements.define(\"treescope-run-here\", RunHere); } })(); </script> <treescope-container class=\"treescope_out_905ad8a8e7c940088de3428d511b3560\" ></treescope-container> <treescope-run-here><script type=\"application/octet-stream\"> const root = ( Array.from(document.getElementsByClassName( \"treescope_out_905ad8a8e7c940088de3428d511b3560\")) .filter((elt) => !elt.dataset.setup) )[0]; root.dataset.setup = 1; const msg = document.createElement(\"span\"); msg.style = \"color: #cccccc; font-family: monospace;\"; msg.textContent = \"(Loading...)\"; root.state.loadingMsg = msg; root.shadowRoot.appendChild(msg); root.state.chain = new Promise((resolve, reject) => { const observer = new IntersectionObserver((entries) => { for (const entry of entries) { if (entry.isIntersecting) { resolve(); observer.disconnect(); return; } } }, {rootMargin: \"1000px\"}); window.setTimeout(() => { observer.observe(root); }, 0); }); root.state.deferring = false; const _insertNode = (node) => { for (let oldScript of node.querySelectorAll(\"script\")) { let newScript = document.createElement(\"script\"); newScript.type = oldScript.type; newScript.textContent = oldScript.textContent; oldScript.parentNode.replaceChild(newScript, oldScript); } if (root.state.loadingMsg) { root.state.loadingMsg.remove(); root.state.loadingMsg = null; } root.shadowRoot.appendChild(node); }; root.defns.insertContent = ((contentNode, compressed) => { if (compressed) { root.state.deferring = true; } if (root.state.deferring) { root.state.chain = (async () => { await root.state.chain; if (compressed) { const encoded = contentNode.textContent; const blob = new Blob([ Uint8Array.from(atob(encoded), (m) => m.codePointAt(0)) ]); const reader = blob.stream().pipeThrough( new DecompressionStream(\"deflate\") ).pipeThrough( new TextDecoderStream(\"utf-8\") ).getReader(); const parts = []; while (true) { const step = await reader.read(); if (step.done) { break; } parts.push(step.value); } const tpl = document.createElement('template'); tpl.innerHTML = parts.join(\"\"); _insertNode(tpl.content); } else { _insertNode(contentNode.content); } })(); } else { _insertNode(contentNode.content); } }); </script></treescope-run-here><div style=\"display:none\"> <script type=\"application/octet-stream\" >eNqNVEuP0zAQ/itWOGwikewDLYK2qbQXxAFxgAOHFarcZJKM1hkbe9JS0P53xklb9lFWKJf4m9f3jWe8CLwzsCzYA4TKOlh5a1n9Vs4GZLQ0Ux6MZtzAXDWWOG90j2Y3U70lG5yuBN92yJCPh5lyXhCDgfMxdc47JyhZEnitq7vW24HqvLLG+tkUOlf709qIg+TDmruZapDFjRiI58rpukZqcwMNz9RV1cUiBHkH2HaCXBbXMQ2xRuF8DNv/5BsMuEaDLMz1wPbomyOxRwpY5QF/wWTd071fnE/tWRzbk/uBpKYXLFQeHauorzzTzhmsdOzYua0YonoPuj9bpmlWLqWhUi+wqqGhoErFHYaiBf4i3f5sa0izorOBi9Eu0oDVygFFyTdVzBqDbr+fsnzUVBsQMw3GzKcKhdD8ai0Jmm6tv8vUQw72m0DR9AhmrCLowDfW95oqKMhu02y8XymQPrOofApaqDdXmeTBRqVPWBcGqOVOlaW6iC4vUvfAgyfpuwIT4C+xbqDI7Gnq0GHDkd/oEH/u5ftHhVSmimq7LTz8GCDwDWE/XtcHr3tIp55kMcf8WSE3hG5q4/yExkOJcpLxgsr/5xBZTBfJtm3NtJWrcXNkWl3MFREw/FrBRgZ8f5OR3Xgu7mAXm574JBLaOxeV0SF8kuXc502TY85VL2OYHIrfZ9JPGf9xxpeL81MLUONGjQnL5PHzkSjWa1EKP8vkIlGWhIzIJvF7aexPa01jzEFlIms3PVjji7GioV+DHydlfEBeXbx/d3n99uHqyrNEB5oPg5LllfiIUdSJkuUfhtXIAw==</script> <treescope-run-here><script type=\"application/octet-stream\"> const root = ( Array.from(document.getElementsByClassName( \"treescope_out_905ad8a8e7c940088de3428d511b3560\")) .filter((elt) => !elt.dataset['step0']) )[0]; root.dataset['step0'] = 1; root.defns.insertContent( this.parentNode.querySelector('script[type=\"application/octet-stream\"]'), true ); this.parentNode.remove(); </script></treescope-run-here> </div>"
      ],
      "text/plain": [
       "<IPython.core.display.HTML object>"
      ]
     },
     "metadata": {},
     "output_type": "display_data"
    },
    {
     "data": {
      "text/html": [
       "<treescope-run-here><script type=\"application/octet-stream\"> const root = ( Array.from(document.getElementsByClassName( \"treescope_out_905ad8a8e7c940088de3428d511b3560\")) .filter((elt) => !elt.dataset.stolen) )[0]; root.dataset.stolen = 1; this.parentNode.replaceChild(root, this); </script></treescope-run-here>"
      ],
      "text/plain": [
       "2"
      ]
     },
     "execution_count": 41,
     "metadata": {},
     "output_type": "execute_result"
    }
   ],
   "source": [
    "pz.select([1, 2]).at_instances_of(int).count()"
   ]
  },
  {
   "cell_type": "code",
   "execution_count": 42,
   "metadata": {
    "execution": {
     "iopub.execute_input": "2024-09-11T16:37:58.723757Z",
     "iopub.status.busy": "2024-09-11T16:37:58.723473Z",
     "iopub.status.idle": "2024-09-11T16:37:58.726709Z",
     "shell.execute_reply": "2024-09-11T16:37:58.726495Z"
    },
    "id": "u9uMT3qll1UI"
   },
   "outputs": [
    {
     "data": {
      "text/html": [
       "<script> (()=>{ if (customElements.get('treescope-container') === undefined) { class TreescopeContainer extends HTMLElement { constructor() { super(); this.attachShadow({mode: \"open\"}); this.defns = {}; this.state = {}; } } customElements.define(\"treescope-container\", TreescopeContainer); } if (customElements.get('treescope-run-here') === undefined) { class RunHere extends HTMLElement { constructor() { super() } connectedCallback() { const run = child => { const fn = new Function(child.textContent); child.textContent = \"\"; fn.call(this); this.remove(); }; const child = this.querySelector(\"script\"); if (child) { run(child); } else { new MutationObserver(()=>{ run(this.querySelector(\"script\")); }).observe(this, {childList: true}); } } } customElements.define(\"treescope-run-here\", RunHere); } })(); </script> <treescope-container class=\"treescope_out_9b2fa49b95fa4383a0c2dc5bf9b8c25a\" ></treescope-container> <treescope-run-here><script type=\"application/octet-stream\"> const root = ( Array.from(document.getElementsByClassName( \"treescope_out_9b2fa49b95fa4383a0c2dc5bf9b8c25a\")) .filter((elt) => !elt.dataset.setup) )[0]; root.dataset.setup = 1; const msg = document.createElement(\"span\"); msg.style = \"color: #cccccc; font-family: monospace;\"; msg.textContent = \"(Loading...)\"; root.state.loadingMsg = msg; root.shadowRoot.appendChild(msg); root.state.chain = new Promise((resolve, reject) => { const observer = new IntersectionObserver((entries) => { for (const entry of entries) { if (entry.isIntersecting) { resolve(); observer.disconnect(); return; } } }, {rootMargin: \"1000px\"}); window.setTimeout(() => { observer.observe(root); }, 0); }); root.state.deferring = false; const _insertNode = (node) => { for (let oldScript of node.querySelectorAll(\"script\")) { let newScript = document.createElement(\"script\"); newScript.type = oldScript.type; newScript.textContent = oldScript.textContent; oldScript.parentNode.replaceChild(newScript, oldScript); } if (root.state.loadingMsg) { root.state.loadingMsg.remove(); root.state.loadingMsg = null; } root.shadowRoot.appendChild(node); }; root.defns.insertContent = ((contentNode, compressed) => { if (compressed) { root.state.deferring = true; } if (root.state.deferring) { root.state.chain = (async () => { await root.state.chain; if (compressed) { const encoded = contentNode.textContent; const blob = new Blob([ Uint8Array.from(atob(encoded), (m) => m.codePointAt(0)) ]); const reader = blob.stream().pipeThrough( new DecompressionStream(\"deflate\") ).pipeThrough( new TextDecoderStream(\"utf-8\") ).getReader(); const parts = []; while (true) { const step = await reader.read(); if (step.done) { break; } parts.push(step.value); } const tpl = document.createElement('template'); tpl.innerHTML = parts.join(\"\"); _insertNode(tpl.content); } else { _insertNode(contentNode.content); } })(); } else { _insertNode(contentNode.content); } }); </script></treescope-run-here><div style=\"display:none\"> <script type=\"application/octet-stream\" >eNqNVE2P0zAQ/StWOGwikeyyiEvbVNrLigPiAAcOCFVuMklGdcbGnrQUtP+dcdJ2v0pFe4nn48174xkvAu8NLAv2AKGyDlbeWlZ/lLMBGS3NlAejGbcwV40lzhvdo9nPVG/JBqcrse86ZMjHw0w5LxaDgfMROue9EytZEvNaV5vW24HqvLLG+tmUOleH09pIgOBhzd1MNcgSRgzEc+V0XSO1uYGGZ+q26mIRgrwDbDuxvCs+RBhijcL5lHb4yLcYcI0GWZjrge0pNkdijxSwygP+hsl7oPuwuJ7aszi1J/cDSU0vtlB5dKyivvJKO2ew0rFj17ZiiOo96P5qmaZZuZSGSr3AqoaGgioVdxiKFviLdPuzrSHNis4GLka/SANWKwcUJd9VETUmff9xzvNRU21A3DQYM58qFELzq7Uk1nRn/SZTTznYb2KKrmdmxioaHfjG+l5TBQXZXZqN9ysF0lcelU9JC/X+NhMcbFT6gnVhgFruVFmqmxhykboHHjxJ3xWYAI/EuoEis5fQocOGI78xIH48yP8fFVKZKqrtrvDwc4DAd4T9eF33XveQTj3JIsb8VSE3hG5q4/yMxmOJcpJxQeX/c4gspotk27Zm2srVuDkyrS5iRQsYfqtgKwN+uMnIbjwXG9jHpic+iYQOwUVldAifZDkPuGlywlz1MobJsfhDJv2U8R9nfLm4PrcANW7VCFgmz5+PRLFei1L4VSY3ibIkZEQ2SdylsT+vNY05R5WJrN30YI0vxkqA5V7qcVTGF+TNjfya5unuyrtER57PspLlvZY5k0CJEI2iZ/kXZgvLAw==</script> <treescope-run-here><script type=\"application/octet-stream\"> const root = ( Array.from(document.getElementsByClassName( \"treescope_out_9b2fa49b95fa4383a0c2dc5bf9b8c25a\")) .filter((elt) => !elt.dataset['step0']) )[0]; root.dataset['step0'] = 1; root.defns.insertContent( this.parentNode.querySelector('script[type=\"application/octet-stream\"]'), true ); this.parentNode.remove(); </script></treescope-run-here> </div>"
      ],
      "text/plain": [
       "<IPython.core.display.HTML object>"
      ]
     },
     "metadata": {},
     "output_type": "display_data"
    },
    {
     "data": {
      "text/html": [
       "<treescope-run-here><script type=\"application/octet-stream\"> const root = ( Array.from(document.getElementsByClassName( \"treescope_out_9b2fa49b95fa4383a0c2dc5bf9b8c25a\")) .filter((elt) => !elt.dataset.stolen) )[0]; root.dataset.stolen = 1; this.parentNode.replaceChild(root, this); </script></treescope-run-here>"
      ],
      "text/plain": [
       "False"
      ]
     },
     "execution_count": 42,
     "metadata": {},
     "output_type": "execute_result"
    }
   ],
   "source": [
    "pz.select([1, 2]).at_instances_of(int).is_empty()"
   ]
  },
  {
   "cell_type": "markdown",
   "metadata": {
    "id": "TG5VaFeZl2qd"
   },
   "source": [
    "If you already know how many objects should be selected, you can also add an assertion in the middle of a chain:"
   ]
  },
  {
   "cell_type": "code",
   "execution_count": 43,
   "metadata": {
    "execution": {
     "iopub.execute_input": "2024-09-11T16:37:58.731349Z",
     "iopub.status.busy": "2024-09-11T16:37:58.731102Z",
     "iopub.status.idle": "2024-09-11T16:37:58.734759Z",
     "shell.execute_reply": "2024-09-11T16:37:58.734572Z"
    },
    "id": "bNBzV-pQl53a"
   },
   "outputs": [
    {
     "data": {
      "text/html": [
       "<script> (()=>{ if (customElements.get('treescope-container') === undefined) { class TreescopeContainer extends HTMLElement { constructor() { super(); this.attachShadow({mode: \"open\"}); this.defns = {}; this.state = {}; } } customElements.define(\"treescope-container\", TreescopeContainer); } if (customElements.get('treescope-run-here') === undefined) { class RunHere extends HTMLElement { constructor() { super() } connectedCallback() { const run = child => { const fn = new Function(child.textContent); child.textContent = \"\"; fn.call(this); this.remove(); }; const child = this.querySelector(\"script\"); if (child) { run(child); } else { new MutationObserver(()=>{ run(this.querySelector(\"script\")); }).observe(this, {childList: true}); } } } customElements.define(\"treescope-run-here\", RunHere); } })(); </script> <treescope-container class=\"treescope_out_09cfd2b61ba446ae91992bea27321e08\" ></treescope-container> <treescope-run-here><script type=\"application/octet-stream\"> const root = ( Array.from(document.getElementsByClassName( \"treescope_out_09cfd2b61ba446ae91992bea27321e08\")) .filter((elt) => !elt.dataset.setup) )[0]; root.dataset.setup = 1; const msg = document.createElement(\"span\"); msg.style = \"color: #cccccc; font-family: monospace;\"; msg.textContent = \"(Loading...)\"; root.state.loadingMsg = msg; root.shadowRoot.appendChild(msg); root.state.chain = new Promise((resolve, reject) => { const observer = new IntersectionObserver((entries) => { for (const entry of entries) { if (entry.isIntersecting) { resolve(); observer.disconnect(); return; } } }, {rootMargin: \"1000px\"}); window.setTimeout(() => { observer.observe(root); }, 0); }); root.state.deferring = false; const _insertNode = (node) => { for (let oldScript of node.querySelectorAll(\"script\")) { let newScript = document.createElement(\"script\"); newScript.type = oldScript.type; newScript.textContent = oldScript.textContent; oldScript.parentNode.replaceChild(newScript, oldScript); } if (root.state.loadingMsg) { root.state.loadingMsg.remove(); root.state.loadingMsg = null; } root.shadowRoot.appendChild(node); }; root.defns.insertContent = ((contentNode, compressed) => { if (compressed) { root.state.deferring = true; } if (root.state.deferring) { root.state.chain = (async () => { await root.state.chain; if (compressed) { const encoded = contentNode.textContent; const blob = new Blob([ Uint8Array.from(atob(encoded), (m) => m.codePointAt(0)) ]); const reader = blob.stream().pipeThrough( new DecompressionStream(\"deflate\") ).pipeThrough( new TextDecoderStream(\"utf-8\") ).getReader(); const parts = []; while (true) { const step = await reader.read(); if (step.done) { break; } parts.push(step.value); } const tpl = document.createElement('template'); tpl.innerHTML = parts.join(\"\"); _insertNode(tpl.content); } else { _insertNode(contentNode.content); } })(); } else { _insertNode(contentNode.content); } }); </script></treescope-run-here><div style=\"display:none\"> <script type=\"application/octet-stream\" >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</script> <treescope-run-here><script type=\"application/octet-stream\"> const root = ( Array.from(document.getElementsByClassName( \"treescope_out_09cfd2b61ba446ae91992bea27321e08\")) .filter((elt) => !elt.dataset['step0']) )[0]; root.dataset['step0'] = 1; root.defns.insertContent( this.parentNode.querySelector('script[type=\"application/octet-stream\"]'), true ); this.parentNode.remove(); </script></treescope-run-here> </div>"
      ],
      "text/plain": [
       "<IPython.core.display.HTML object>"
      ]
     },
     "metadata": {},
     "output_type": "display_data"
    },
    {
     "data": {
      "text/html": [
       "<treescope-run-here><script type=\"application/octet-stream\"> const root = ( Array.from(document.getElementsByClassName( \"treescope_out_09cfd2b61ba446ae91992bea27321e08\")) .filter((elt) => !elt.dataset.stolen) )[0]; root.dataset.stolen = 1; this.parentNode.replaceChild(root, this); </script></treescope-run-here>"
      ],
      "text/plain": [
       "[2, 3]"
      ]
     },
     "execution_count": 43,
     "metadata": {},
     "output_type": "execute_result"
    }
   ],
   "source": [
    "pz.select([1, 2]).at_instances_of(int).assert_count_is(2).apply(lambda x: x + 1)"
   ]
  },
  {
   "cell_type": "markdown",
   "metadata": {
    "id": "fd6gwn3JlaSr"
   },
   "source": [
    "### Retrieving values\n",
    "\n",
    "You can extract all of the selected values using `.get_sequence()`:"
   ]
  },
  {
   "cell_type": "code",
   "execution_count": 44,
   "metadata": {
    "execution": {
     "iopub.execute_input": "2024-09-11T16:37:58.739308Z",
     "iopub.status.busy": "2024-09-11T16:37:58.739038Z",
     "iopub.status.idle": "2024-09-11T16:37:58.745335Z",
     "shell.execute_reply": "2024-09-11T16:37:58.745164Z"
    },
    "id": "SkCQmesoBf3o"
   },
   "outputs": [
    {
     "data": {
      "text/html": [
       "<script> (()=>{ if (customElements.get('treescope-container') === undefined) { class TreescopeContainer extends HTMLElement { constructor() { super(); this.attachShadow({mode: \"open\"}); this.defns = {}; this.state = {}; } } customElements.define(\"treescope-container\", TreescopeContainer); } if (customElements.get('treescope-run-here') === undefined) { class RunHere extends HTMLElement { constructor() { super() } connectedCallback() { const run = child => { const fn = new Function(child.textContent); child.textContent = \"\"; fn.call(this); this.remove(); }; const child = this.querySelector(\"script\"); if (child) { run(child); } else { new MutationObserver(()=>{ run(this.querySelector(\"script\")); }).observe(this, {childList: true}); } } } customElements.define(\"treescope-run-here\", RunHere); } })(); </script> <treescope-container class=\"treescope_out_5a1b393315ed40359fcf46fa0c8b7957\" ></treescope-container> <treescope-run-here><script type=\"application/octet-stream\"> const root = ( Array.from(document.getElementsByClassName( \"treescope_out_5a1b393315ed40359fcf46fa0c8b7957\")) .filter((elt) => !elt.dataset.setup) )[0]; root.dataset.setup = 1; const msg = document.createElement(\"span\"); msg.style = \"color: #cccccc; font-family: monospace;\"; msg.textContent = \"(Loading...)\"; root.state.loadingMsg = msg; root.shadowRoot.appendChild(msg); root.state.chain = new Promise((resolve, reject) => { const observer = new IntersectionObserver((entries) => { for (const entry of entries) { if (entry.isIntersecting) { resolve(); observer.disconnect(); return; } } }, {rootMargin: \"1000px\"}); window.setTimeout(() => { observer.observe(root); }, 0); }); root.state.deferring = false; const _insertNode = (node) => { for (let oldScript of node.querySelectorAll(\"script\")) { let newScript = document.createElement(\"script\"); newScript.type = oldScript.type; newScript.textContent = oldScript.textContent; oldScript.parentNode.replaceChild(newScript, oldScript); } if (root.state.loadingMsg) { root.state.loadingMsg.remove(); root.state.loadingMsg = null; } root.shadowRoot.appendChild(node); }; root.defns.insertContent = ((contentNode, compressed) => { if (compressed) { root.state.deferring = true; } if (root.state.deferring) { root.state.chain = (async () => { await root.state.chain; if (compressed) { const encoded = contentNode.textContent; const blob = new Blob([ Uint8Array.from(atob(encoded), (m) => m.codePointAt(0)) ]); const reader = blob.stream().pipeThrough( new DecompressionStream(\"deflate\") ).pipeThrough( new TextDecoderStream(\"utf-8\") ).getReader(); const parts = []; while (true) { const step = await reader.read(); if (step.done) { break; } parts.push(step.value); } const tpl = document.createElement('template'); tpl.innerHTML = parts.join(\"\"); _insertNode(tpl.content); } else { _insertNode(contentNode.content); } })(); } else { _insertNode(contentNode.content); } }); </script></treescope-run-here><div style=\"display:none\"> <script type=\"application/octet-stream\" >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</script> <treescope-run-here><script type=\"application/octet-stream\"> const root = ( Array.from(document.getElementsByClassName( \"treescope_out_5a1b393315ed40359fcf46fa0c8b7957\")) .filter((elt) => !elt.dataset['step0']) )[0]; root.dataset['step0'] = 1; root.defns.insertContent( this.parentNode.querySelector('script[type=\"application/octet-stream\"]'), true ); this.parentNode.remove(); </script></treescope-run-here> </div>"
      ],
      "text/plain": [
       "<IPython.core.display.HTML object>"
      ]
     },
     "metadata": {},
     "output_type": "display_data"
    },
    {
     "data": {
      "text/html": [
       "<div style=\"display:none\"> <script type=\"application/octet-stream\" >eNqVU02P2jAQ/Ssjr7QCEbIQIITlQ2p3W2kvPbSHHhBCxp6AKxOnjkFFq/3vHYcQSksrekji8bw3M29mMpFqD4U7aJwyqYpc88MjZCZDBkpOWWrsUmKK1qJcjgSXIh524xHyfq+7GoloIOLeMBoMhYgxYrNJkfOM3j7eLBRGE52vVhb38Aql+Qh3cRLxTmcMb5OHI7BkgdC8KKbsVxKb3Ws3/sZ/hO+s5YfGvBNAN4AogF4A/QAGAcQBDANIAhgtApDukONUZa4XNe/XbkwJynpOH9I6m/yH4M6gL5KhiJJVL+2vMElilDJJZRKl3agzlGfBNwsIA7j+1OWn2vB/CnAWsRAmx7bdZe0NWt9BYVXuoAzAeJ5rJbhTJnswwqFrF8ThWzYTJisIxe0a3YssYApzdvt4A2C3t2YxPiaTRlhjHKVyG1WElPgzmZ+MxEZzDFVBpKgCVfDw+w7t4QtqFM7YBgtr0UvvZn9QnzSN0Cep7FD4izKNszskfO2xSEMX+FW5TeOCXgdNLV9vMavq2fljKKiDDp8r82OF8BpO6JD6jpl82igt68Debyw0NDpQFI/2XsHkPIJQY7Z2G7pttZr0k3jc0UngOjKZHzT64/vDCwU/sedqQQk8pzA7K/CZdvuvPbzzu82gBb/Rj+ZFW+poYapsccpdKiPC2Wtxa/blIN8uJ3G1yU2/z+Wi0ipf2eKfTYGL8A==</script> <treescope-run-here><script type=\"application/octet-stream\"> const root = ( Array.from(document.getElementsByClassName( \"treescope_out_5a1b393315ed40359fcf46fa0c8b7957\")) .filter((elt) => !elt.dataset['step1']) )[0]; root.dataset['step1'] = 1; root.defns.insertContent( this.parentNode.querySelector('script[type=\"application/octet-stream\"]'), true ); this.parentNode.remove(); </script></treescope-run-here> </div>"
      ],
      "text/plain": [
       "<IPython.core.display.HTML object>"
      ]
     },
     "metadata": {},
     "output_type": "display_data"
    },
    {
     "data": {
      "text/html": [
       "<treescope-run-here><script type=\"application/octet-stream\"> const root = ( Array.from(document.getElementsByClassName( \"treescope_out_5a1b393315ed40359fcf46fa0c8b7957\")) .filter((elt) => !elt.dataset.stolen) )[0]; root.dataset.stolen = 1; this.parentNode.replaceChild(root, this); </script></treescope-run-here>"
      ],
      "text/plain": [
       "(<jax.Array([0, 1, 2, 3, 4, 5, 6, 7, 8, 9], dtype=int32)>,\n",
       " <jax.Array([0., 0., 0., 0., 0., 0., 0.], dtype=float32)>)"
      ]
     },
     "execution_count": 44,
     "metadata": {},
     "output_type": "execute_result"
    }
   ],
   "source": [
    "selection = (\n",
    "    pz.select(my_nested_object)\n",
    "    .at_subtrees_where(\n",
    "        lambda subtree: isinstance(subtree, jax.Array) and subtree.size <= 10)\n",
    ")\n",
    "\n",
    "selection.get_sequence()"
   ]
  },
  {
   "cell_type": "markdown",
   "metadata": {
    "id": "Dp_fK7Mkd38c"
   },
   "source": [
    "Or get them in a dictionary form with `get_by_path()` (equivalent to just accessing the `.selected_by_path` attribute):"
   ]
  },
  {
   "cell_type": "code",
   "execution_count": 45,
   "metadata": {
    "execution": {
     "iopub.execute_input": "2024-09-11T16:37:58.750657Z",
     "iopub.status.busy": "2024-09-11T16:37:58.750394Z",
     "iopub.status.idle": "2024-09-11T16:37:58.756101Z",
     "shell.execute_reply": "2024-09-11T16:37:58.755929Z"
    },
    "id": "vx86PfFId_OQ"
   },
   "outputs": [
    {
     "data": {
      "text/html": [
       "<script> (()=>{ if (customElements.get('treescope-container') === undefined) { class TreescopeContainer extends HTMLElement { constructor() { super(); this.attachShadow({mode: \"open\"}); this.defns = {}; this.state = {}; } } customElements.define(\"treescope-container\", TreescopeContainer); } if (customElements.get('treescope-run-here') === undefined) { class RunHere extends HTMLElement { constructor() { super() } connectedCallback() { const run = child => { const fn = new Function(child.textContent); child.textContent = \"\"; fn.call(this); this.remove(); }; const child = this.querySelector(\"script\"); if (child) { run(child); } else { new MutationObserver(()=>{ run(this.querySelector(\"script\")); }).observe(this, {childList: true}); } } } customElements.define(\"treescope-run-here\", RunHere); } })(); </script> <treescope-container class=\"treescope_out_faaf96f3226442b4b5fe183b359f7e08\" ></treescope-container> <treescope-run-here><script type=\"application/octet-stream\"> const root = ( Array.from(document.getElementsByClassName( \"treescope_out_faaf96f3226442b4b5fe183b359f7e08\")) .filter((elt) => !elt.dataset.setup) )[0]; root.dataset.setup = 1; const msg = document.createElement(\"span\"); msg.style = \"color: #cccccc; font-family: monospace;\"; msg.textContent = \"(Loading...)\"; root.state.loadingMsg = msg; root.shadowRoot.appendChild(msg); root.state.chain = new Promise((resolve, reject) => { const observer = new IntersectionObserver((entries) => { for (const entry of entries) { if (entry.isIntersecting) { resolve(); observer.disconnect(); return; } } }, {rootMargin: \"1000px\"}); window.setTimeout(() => { observer.observe(root); }, 0); }); root.state.deferring = false; const _insertNode = (node) => { for (let oldScript of node.querySelectorAll(\"script\")) { let newScript = document.createElement(\"script\"); newScript.type = oldScript.type; newScript.textContent = oldScript.textContent; oldScript.parentNode.replaceChild(newScript, oldScript); } if (root.state.loadingMsg) { root.state.loadingMsg.remove(); root.state.loadingMsg = null; } root.shadowRoot.appendChild(node); }; root.defns.insertContent = ((contentNode, compressed) => { if (compressed) { root.state.deferring = true; } if (root.state.deferring) { root.state.chain = (async () => { await root.state.chain; if (compressed) { const encoded = contentNode.textContent; const blob = new Blob([ Uint8Array.from(atob(encoded), (m) => m.codePointAt(0)) ]); const reader = blob.stream().pipeThrough( new DecompressionStream(\"deflate\") ).pipeThrough( new TextDecoderStream(\"utf-8\") ).getReader(); const parts = []; while (true) { const step = await reader.read(); if (step.done) { break; } parts.push(step.value); } const tpl = document.createElement('template'); tpl.innerHTML = parts.join(\"\"); _insertNode(tpl.content); } else { _insertNode(contentNode.content); } })(); } else { _insertNode(contentNode.content); } }); </script></treescope-run-here><div style=\"display:none\"> <script type=\"application/octet-stream\" >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</script> <treescope-run-here><script type=\"application/octet-stream\"> const root = ( Array.from(document.getElementsByClassName( \"treescope_out_faaf96f3226442b4b5fe183b359f7e08\")) .filter((elt) => !elt.dataset['step0']) )[0]; root.dataset['step0'] = 1; root.defns.insertContent( this.parentNode.querySelector('script[type=\"application/octet-stream\"]'), true ); this.parentNode.remove(); </script></treescope-run-here> </div>"
      ],
      "text/plain": [
       "<IPython.core.display.HTML object>"
      ]
     },
     "metadata": {},
     "output_type": "display_data"
    },
    {
     "data": {
      "text/html": [
       "<div style=\"display:none\"> <script type=\"application/octet-stream\" >eNqVU02P2jAQ/Ssjr7QCEbKE8Ll8SO1uK+2lh/bQA0LIsSfgysSpY1DRav97xyGE0tKKHpJ4PO/NzJuZTKXaQ+EOGmdMqiLX/PAImcmQgZIzlhq7kpiitShXkZDxaNgfp/1O1BsOxyNMUh6LruwNkxijPptPi5xn9Pbx5qEwmug8SSzu4RVK8xHuBqMu73Qm8DZ9OAJLFgjNi2LGfiWx+b12k2/8R/jOWn5oLDoBRAF0A4gD6AXQD2AQwDCAUQDjZQDSHXKcqczF3eb92k0oQVnP6UNa59P/EDyQEU/6w3QwknEv6UTJQMSC98fxqCejznhwFnyzgDCA609dfqoN/6cAZxELYXJs213W3qD1HRRW5Q7KAIznuVaCO2WyByMcunZBHL5lc2GyglDcrtG9yAJmsGC3jzcAdntrlpNjMmmENcZRKrdRRUiJP5P5yUhsNCdQFUSKKlAFD7/v0B6+oEbhjG2wsBa98m72B/VJ0wh9ksoOhb8o0zi7Q8LXHos0dIFflds0Luh10NTy9Razqp6dP4aCOujwuTI/Vgiv4YQOqe+YyaeN0rIO7P3GQkOjA0XxaO8VTM8jCDVma7eh21arST+Jxx2dBK4jk/lBoz++P7xQ8BN7oZaUwHMKs7MCn2m3/9rDO7/bDFrwG/1oXrSljhamyhan3KUyIpy9FrdmXw7y7XISV5vc9PtcLiqt8pUt/gmkpYq0</script> <treescope-run-here><script type=\"application/octet-stream\"> const root = ( Array.from(document.getElementsByClassName( \"treescope_out_faaf96f3226442b4b5fe183b359f7e08\")) .filter((elt) => !elt.dataset['step1']) )[0]; root.dataset['step1'] = 1; root.defns.insertContent( this.parentNode.querySelector('script[type=\"application/octet-stream\"]'), true ); this.parentNode.remove(); </script></treescope-run-here> </div>"
      ],
      "text/plain": [
       "<IPython.core.display.HTML object>"
      ]
     },
     "metadata": {},
     "output_type": "display_data"
    },
    {
     "data": {
      "text/html": [
       "<treescope-run-here><script type=\"application/octet-stream\"> const root = ( Array.from(document.getElementsByClassName( \"treescope_out_faaf96f3226442b4b5fe183b359f7e08\")) .filter((elt) => !elt.dataset.stolen) )[0]; root.dataset.stolen = 1; this.parentNode.replaceChild(root, this); </script></treescope-run-here>"
      ],
      "text/plain": [
       "OrderedDict([((DictKey(key='b'),),\n",
       "              <jax.Array([0, 1, 2, 3, 4, 5, 6, 7, 8, 9], dtype=int32)>),\n",
       "             ((DictKey(key='c'), SequenceKey(idx=1), DictKey(key='value')),\n",
       "              <jax.Array([0., 0., 0., 0., 0., 0., 0.], dtype=float32)>)])"
      ]
     },
     "execution_count": 45,
     "metadata": {},
     "output_type": "execute_result"
    }
   ],
   "source": [
    "selection.get_by_path()"
   ]
  },
  {
   "cell_type": "markdown",
   "metadata": {
    "id": "fFsp4DQ5pmMu"
   },
   "source": [
    "If you know there's exactly one value, you can just call `.get()`"
   ]
  },
  {
   "cell_type": "code",
   "execution_count": 46,
   "metadata": {
    "execution": {
     "iopub.execute_input": "2024-09-11T16:37:58.760366Z",
     "iopub.status.busy": "2024-09-11T16:37:58.760134Z",
     "iopub.status.idle": "2024-09-11T16:37:58.765436Z",
     "shell.execute_reply": "2024-09-11T16:37:58.765567Z"
    },
    "id": "hYFSKPPinEdk"
   },
   "outputs": [
    {
     "data": {
      "text/html": [
       "<script> (()=>{ if (customElements.get('treescope-container') === undefined) { class TreescopeContainer extends HTMLElement { constructor() { super(); this.attachShadow({mode: \"open\"}); this.defns = {}; this.state = {}; } } customElements.define(\"treescope-container\", TreescopeContainer); } if (customElements.get('treescope-run-here') === undefined) { class RunHere extends HTMLElement { constructor() { super() } connectedCallback() { const run = child => { const fn = new Function(child.textContent); child.textContent = \"\"; fn.call(this); this.remove(); }; const child = this.querySelector(\"script\"); if (child) { run(child); } else { new MutationObserver(()=>{ run(this.querySelector(\"script\")); }).observe(this, {childList: true}); } } } customElements.define(\"treescope-run-here\", RunHere); } })(); </script> <treescope-container class=\"treescope_out_d3c3a9d58bd94c7ca262046a73b66ec1\" ></treescope-container> <treescope-run-here><script type=\"application/octet-stream\"> const root = ( Array.from(document.getElementsByClassName( \"treescope_out_d3c3a9d58bd94c7ca262046a73b66ec1\")) .filter((elt) => !elt.dataset.setup) )[0]; root.dataset.setup = 1; const msg = document.createElement(\"span\"); msg.style = \"color: #cccccc; font-family: monospace;\"; msg.textContent = \"(Loading...)\"; root.state.loadingMsg = msg; root.shadowRoot.appendChild(msg); root.state.chain = new Promise((resolve, reject) => { const observer = new IntersectionObserver((entries) => { for (const entry of entries) { if (entry.isIntersecting) { resolve(); observer.disconnect(); return; } } }, {rootMargin: \"1000px\"}); window.setTimeout(() => { observer.observe(root); }, 0); }); root.state.deferring = false; const _insertNode = (node) => { for (let oldScript of node.querySelectorAll(\"script\")) { let newScript = document.createElement(\"script\"); newScript.type = oldScript.type; newScript.textContent = oldScript.textContent; oldScript.parentNode.replaceChild(newScript, oldScript); } if (root.state.loadingMsg) { root.state.loadingMsg.remove(); root.state.loadingMsg = null; } root.shadowRoot.appendChild(node); }; root.defns.insertContent = ((contentNode, compressed) => { if (compressed) { root.state.deferring = true; } if (root.state.deferring) { root.state.chain = (async () => { await root.state.chain; if (compressed) { const encoded = contentNode.textContent; const blob = new Blob([ Uint8Array.from(atob(encoded), (m) => m.codePointAt(0)) ]); const reader = blob.stream().pipeThrough( new DecompressionStream(\"deflate\") ).pipeThrough( new TextDecoderStream(\"utf-8\") ).getReader(); const parts = []; while (true) { const step = await reader.read(); if (step.done) { break; } parts.push(step.value); } const tpl = document.createElement('template'); tpl.innerHTML = parts.join(\"\"); _insertNode(tpl.content); } else { _insertNode(contentNode.content); } })(); } else { _insertNode(contentNode.content); } }); </script></treescope-run-here><div style=\"display:none\"> <script type=\"application/octet-stream\" >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</script> <treescope-run-here><script type=\"application/octet-stream\"> const root = ( Array.from(document.getElementsByClassName( \"treescope_out_d3c3a9d58bd94c7ca262046a73b66ec1\")) .filter((elt) => !elt.dataset['step0']) )[0]; root.dataset['step0'] = 1; root.defns.insertContent( this.parentNode.querySelector('script[type=\"application/octet-stream\"]'), true ); this.parentNode.remove(); </script></treescope-run-here> </div>"
      ],
      "text/plain": [
       "<IPython.core.display.HTML object>"
      ]
     },
     "metadata": {},
     "output_type": "display_data"
    },
    {
     "data": {
      "text/html": [
       "<div style=\"display:none\"> <script type=\"application/octet-stream\" >eNqNUttuGjEQ/ZWRI0UgYMP9Ei5Sm7RSXvrQPuQBIWTsAVyZ9XZsUFdV/r3jZdmENpX6MLsezzlz85lpcwIfcotzoY3PrMzvIXUpCjB6LraO1hq3SIR63R9tBnow6LYHQ+xvJyOJvX5fy8lwOO5txmMtFjOfyZS/Md8iUc4yXW42hCf4BYV7DzfDcVe221N4md2dgQULlJXez8Vbkljc2jD9Ln8mH4hkXltCuwnQYeuy9dj6bAO2IduIbcw2aUKHcZ3Oqgk65BnOTRp63frtLky5ZNHh5cfTL2aBEL1yGbbomLb2SLElRSYLUNCFzDJrlAzGpXdOBQwtzxx5EAvlUs8oSTsMT9rDHJbi//e1mp752ilyLjA77I1PONdXdr84jbX6FMoa3GQJKuHJjyNS/g0tquCoJpJqjnUMi7+oD5bfNRYp/UTFi6JMoCMyvooQshIUPpuwr13Rq6RbkrsDpmU/x3hMFC8l4GPpfi4RcYYLOuFVYqof9sbqKnGMO4KaxQCG87E2DMxet5pYTHdhz7eNRp2FFHHnIIOrzOx+shiPH/MnTn5hL82KC0SOd0dS+MiC/+cOb6LgBTTgD/rZvVpLlS3ZGvKX2sVkTHiNEh7cqXjIl+uXeHfJ9SjRQnuszneE+Rs3HkRb</script> <treescope-run-here><script type=\"application/octet-stream\"> const root = ( Array.from(document.getElementsByClassName( \"treescope_out_d3c3a9d58bd94c7ca262046a73b66ec1\")) .filter((elt) => !elt.dataset['step1']) )[0]; root.dataset['step1'] = 1; root.defns.insertContent( this.parentNode.querySelector('script[type=\"application/octet-stream\"]'), true ); this.parentNode.remove(); </script></treescope-run-here> </div>"
      ],
      "text/plain": [
       "<IPython.core.display.HTML object>"
      ]
     },
     "metadata": {},
     "output_type": "display_data"
    },
    {
     "data": {
      "text/html": [
       "<treescope-run-here><script type=\"application/octet-stream\"> const root = ( Array.from(document.getElementsByClassName( \"treescope_out_d3c3a9d58bd94c7ca262046a73b66ec1\")) .filter((elt) => !elt.dataset.stolen) )[0]; root.dataset.stolen = 1; this.parentNode.replaceChild(root, this); </script></treescope-run-here>"
      ],
      "text/plain": [
       "{'value': <jax.Array([ 0,  1,  2,  3,  4,  5,  6,  7,  8,  9, 10, 11], dtype=int32)>}"
      ]
     },
     "execution_count": 46,
     "metadata": {},
     "output_type": "execute_result"
    }
   ],
   "source": [
    "pz.select(my_nested_object).at(lambda root: root[\"c\"][0]).get()"
   ]
  },
  {
   "cell_type": "markdown",
   "metadata": {
    "id": "MkI4lVkKxvSX"
   },
   "source": [
    "You can also get the selected objects in a dictionary form by accessing the `selected_by_path` attribute, which is how selections store their selected nodes internally:"
   ]
  },
  {
   "cell_type": "code",
   "execution_count": 47,
   "metadata": {
    "execution": {
     "iopub.execute_input": "2024-09-11T16:37:58.771039Z",
     "iopub.status.busy": "2024-09-11T16:37:58.770804Z",
     "iopub.status.idle": "2024-09-11T16:37:58.776862Z",
     "shell.execute_reply": "2024-09-11T16:37:58.776684Z"
    },
    "id": "UNJ6Zq-7x1px"
   },
   "outputs": [
    {
     "data": {
      "text/html": [
       "<script> (()=>{ if (customElements.get('treescope-container') === undefined) { class TreescopeContainer extends HTMLElement { constructor() { super(); this.attachShadow({mode: \"open\"}); this.defns = {}; this.state = {}; } } customElements.define(\"treescope-container\", TreescopeContainer); } if (customElements.get('treescope-run-here') === undefined) { class RunHere extends HTMLElement { constructor() { super() } connectedCallback() { const run = child => { const fn = new Function(child.textContent); child.textContent = \"\"; fn.call(this); this.remove(); }; const child = this.querySelector(\"script\"); if (child) { run(child); } else { new MutationObserver(()=>{ run(this.querySelector(\"script\")); }).observe(this, {childList: true}); } } } customElements.define(\"treescope-run-here\", RunHere); } })(); </script> <treescope-container class=\"treescope_out_dc2d9af0d18e4e56953b3a4e846557f1\" ></treescope-container> <treescope-run-here><script type=\"application/octet-stream\"> const root = ( Array.from(document.getElementsByClassName( \"treescope_out_dc2d9af0d18e4e56953b3a4e846557f1\")) .filter((elt) => !elt.dataset.setup) )[0]; root.dataset.setup = 1; const msg = document.createElement(\"span\"); msg.style = \"color: #cccccc; font-family: monospace;\"; msg.textContent = \"(Loading...)\"; root.state.loadingMsg = msg; root.shadowRoot.appendChild(msg); root.state.chain = new Promise((resolve, reject) => { const observer = new IntersectionObserver((entries) => { for (const entry of entries) { if (entry.isIntersecting) { resolve(); observer.disconnect(); return; } } }, {rootMargin: \"1000px\"}); window.setTimeout(() => { observer.observe(root); }, 0); }); root.state.deferring = false; const _insertNode = (node) => { for (let oldScript of node.querySelectorAll(\"script\")) { let newScript = document.createElement(\"script\"); newScript.type = oldScript.type; newScript.textContent = oldScript.textContent; oldScript.parentNode.replaceChild(newScript, oldScript); } if (root.state.loadingMsg) { root.state.loadingMsg.remove(); root.state.loadingMsg = null; } root.shadowRoot.appendChild(node); }; root.defns.insertContent = ((contentNode, compressed) => { if (compressed) { root.state.deferring = true; } if (root.state.deferring) { root.state.chain = (async () => { await root.state.chain; if (compressed) { const encoded = contentNode.textContent; const blob = new Blob([ Uint8Array.from(atob(encoded), (m) => m.codePointAt(0)) ]); const reader = blob.stream().pipeThrough( new DecompressionStream(\"deflate\") ).pipeThrough( new TextDecoderStream(\"utf-8\") ).getReader(); const parts = []; while (true) { const step = await reader.read(); if (step.done) { break; } parts.push(step.value); } const tpl = document.createElement('template'); tpl.innerHTML = parts.join(\"\"); _insertNode(tpl.content); } else { _insertNode(contentNode.content); } })(); } else { _insertNode(contentNode.content); } }); </script></treescope-run-here><div style=\"display:none\"> <script type=\"application/octet-stream\" >eNrtWQtT4sgW/is9maolXCUC8lBQ6gbk5Qw6ijM67m5xO0knaQmdmHRA3PK/39NJeKMz7rrPWq0y2Dl9nn1Of+dwFPCpQ2oK9wkJdNcjA991OfoFeW5AOXVZBfnEwZyOSRWZLuMZE4+oM62gkcvcwMM6rE9sykkm+qeCPB9WHBrwTMQ6w6cerDKXwbKG9aHluyEzMrrruH4l3lpFyX+aAwTAjxrcriCTciBjnDBeRR42DMqsjENMXkF53RZCGMnYhFo2rOSUomDDOKag83xb8iEzpgHVqEM5aI5D7s5pM5Rxn7KA6pmAPpL4baLu09Fe7J6juXsyfshApg9rge5TjyNh33EKe55DdSw8tufqnAjrfYJHqZosp49r4FCQF3BkEJMF6BhxmwaKRfglePvMNYicVmw34Er0HkwjHA08woTJqi64ik0//rztTQczwyHwmoWOU40lKKBm33UZrMoT1x+m0bIO7jUsiVcry5zqYtEjvun6I8x0ojB3Iqej+IIAeeMNysSbjtB+Pg18qInkNa0VhzCL2+j4GGUFyYuq+4SHPgO/I+IEZKGYHTKh2TrrwKYmF/pFBOLDE/w+I0GGU8UMd6L45D4kAVcZHUXhavl4ROTYJ2nBo7ohyAsDO3ZjdYuNMxHHsRkvWPn9Oggt4kBy17KcOCsHUebAafUEL7FCHL6LyBgOeBJJoV30vzIkU+F0yZeEQgmxojs4CD5CciZ8ZWnOczCCYyjNhD+lwZ9w/KMzXjva25YABh2jiOGxtFo+JMSxBpaSh2MpKyGXgTJgNgO6l479dltlsWdmpQRpFxesqGIMWDjSiB+dlKiAvM8eHuSKJdA/IQhEcltLBHg/V8wVBQHIJL5PjIEHVYfYrmOscMJl8ZsUvUhoBVGOIcvFZhPIsQbKMrDimXL5hFbJBrF9QG3QAIROZ2VxnRDVkIM14lQqGoGMI0ta6dFPdau8uDRmcqI2JiU0W13IoiwqmJrjihr7rEzbHRN/U7KB/WFAsAWBZpu7K8zl8tqSjQO5FvGsbfVDtKei20QfEiOdRv9JL3QQW7dvmtGvaBjV+ApK/ZQvanrqz1RvddOzSpb+ACVFHIXg0A9EAD0Xbjrib5FLg7cTG6VCJCgTZWzw3Bl/G6kL8zh54JtSFBoMTOoHfOCygTj+W1LrpVRS8kWRTVtDhX6z+nHE11UUVo2wbwE2idWIEvrpN0qDeuhNtZBzAAXbCtDi9bZDKyFpjQocCYBvO/FPJFcwpDW8mOphOBUUO6g/HWmuE6DzkAt7DdSId8LTm0JiZCZEGwL2iyvvCG4DG2o4IDPGYTvFATHmiPE9yYrf6uYxj3dHkC6rHJLRupVxfmyxYnu5W+xUJjgY6HAPgGPn+7HJV26PWZ1+SebanlWRy65HY+zLmYyBOc5gBoGNQEN6eVkIEUjIx2x2miO2KBcgAh4DmJtxQ/46U+YaQGAoMd6tahKJRO/oyHN9jtkGb813h4QNxMqiGH3bu0vblvw5C/OTInAFKGYMdEClhk9Youoq7geeq4RvVF2XUie5SFdSVceOLkNzAsg45z1EYEoJOBb75/r+bpporg8QJtHEcDnYLrRYdt59iB0GWHMAXZpJH4DJSpocRGkCwBoLXDTBPoPEG8wK+ywWpon13P4WQg+Q6S/zTs1PGjNRvRInJUuZrBKV1UU7WImaOexnLB8bFMIm5/aLBrF2kQsn2iIoC9qVdHs3PuEeiIV6ES2hxMsbqmwU1jdz/ErIZ8Y8KRM7OreOgz0oUd+Gea+v4c9LiMFdJCMiIg+Qy8azNG+hxzYRiaExwaJd2eaK1ZZBWe1D0Asc1k1lK53RdsLvEfYsnzccBoj+DL1TfR9PFdN3R9Dz6eFI9GsiDwNljB1oDOV0Wglc6Aij7BSdnXgq8U0qurrvvEulFEqj9LyPDmxCuGi2yQQ1+v2+sKYv1kTrHL2ExjRqhvpTpsv/+29yf+tkVidef5cvd09MDA+cZG2SzG0KWShMga9XUOg7srhYKuL93sQ1zXxVg6urVNg1softnqXW1eine6GqbvSpfjmBv52WqjbVl37qI1W1hu4Ho9usNyZfVfXqa+NU7XXrDbVlPXQ7H20e1HuUWPutk5v8x27p67jvhfRTr3iVO73pXn7pja97j/zTtNVq7FxbwytaP8na9OQiPG0a7btsR9szx13Du/9Qsu+vKb0Ie6xtd8zPXP1cqp/5BbXVZcNmSf8chmznsnivB8PJ2Gw5e/cPVtM9sLTTSfsg11H3mHpZ/Oj7p7nLHesxe2lk1VMzZ52VG5P2Xd7KutPwslweNXOlSefm8NyyPHI1nBZIV3ss6pp/3uZYtS66Z5MTHEyDi7Dbvblutibqpwuv+9X4vLe3Y5Wvyjf7PGt++HSvjovA86N6VlZ7E3VkPV72d8LbPmnePOTNkv54VrjsTIthXf3wWL/zWt4+7Vw0mtnb8FOhX2Zm/WOz0+qNVLpzMG7mbZazyzval8nN3aTjj0/anxvszmw2Lb5zrt86Trl42Did1A/sw0Kv1+7vt29Va9Qt3tUvDvlVm3QOm/V6t71/YhUu977qU01tQ0y/fNhTL9pYJb2Go3Yem+fWLbdK9U/W+Xn3pD6kF0XSqt806i2dZj3bdz0GZ8O7bZ7kHnPDvtkwuT39wDoGbgUdM3s2ajfPSnVDvf/yxcM86N+ODAPTw7z5eFj4TO/uS97IL527Xxt96rdH49P2fv+6v99q5vX6hXm103Fcr11oBZMitu5LB/SW9M8c75rVO11i9HwSXt+3G6Pcdcsf9vsPxXzp+jqYqKBRGkWDMy6nomOdElfW/+DPPPux4XpwXS9SMhr3KYryAsVunLM/A6+Xxyp2NH+KEFUM9oA3HA+mIznGXKvTQUjBK1ekL5AlmEysBVAeBAsBMgUywxNMOWJ4TC3MXV8Bzp7mYt9QJj7l5Ar6MXnBC4xNeC1GUIATZGkJgYrhE0i5oiMCUFWeTSc39vlkBHByY+vTLspns9kIDkDxBWQgR73UdrlLMFNaKCe6yFkFE/M6Cb1HLUwdKGzcRYL4XVTZAAIwgFJQjSn4jGBDoOSdZd8lg7RvjNAE4p7N0FbHMevgRaodxTf0EWVemNw0UnQna+6DtJVJcn3Dy/jqBiWizatyV29aafXlGmCUagJ9kGQuCsYBaS15nAv0SYwTqnP5l6O9RNtlZhvQXXrpvfRHuWfuFvlvqfVvCOYdfoig0SDk1FkLp4jjBzJ9G58MyfR4hWB5OivVfnj/kC9XtfgxU2PDrBnglGq7q6omj3Ty3N2+XNnkOIfSUg1tE/vrQk+NY2k+XC6W9Jx5UCpoBwBk8npZy+4flnKYmHqxXCyY5TWO24bScZwi0Ajlhu/n5Vx2N71q5O7rjVvz6fK71KIfTyGXNUSRPU698paJBvfpFJoPC46lH+XZqRIHIqWl0rvpnyUU4cNjaWmuUEE/3Icur27dEL+qoo2JCADTqPbC3W7D58Sm2tbD8u1wSy+7S3z7kSiefAcJjaDon+PRe7YqMhSI3kj8v+Xvn17+9Dcrf99VCv6CB/B3CmVffNvKdPJm4aTGw7Zwxl9GSrXcvyH8+2djNIl5o4z89Tv/HMySLZt5gkm+AIEuGGVdKxIza2hE0w9KZSNXeiVmMR0XC9RSXgct3+WXvxZk0QGBoOWCImpBDtZWqKLDk0q/Ctu8kvM/CQTFj6fvSZf5FsH0/8ncp2A=</script> <treescope-run-here><script type=\"application/octet-stream\"> const root = ( Array.from(document.getElementsByClassName( \"treescope_out_dc2d9af0d18e4e56953b3a4e846557f1\")) .filter((elt) => !elt.dataset['step0']) )[0]; root.dataset['step0'] = 1; root.defns.insertContent( this.parentNode.querySelector('script[type=\"application/octet-stream\"]'), true ); this.parentNode.remove(); </script></treescope-run-here> </div>"
      ],
      "text/plain": [
       "<IPython.core.display.HTML object>"
      ]
     },
     "metadata": {},
     "output_type": "display_data"
    },
    {
     "data": {
      "text/html": [
       "<div style=\"display:none\"> <script type=\"application/octet-stream\" >eNqVU01v2zAM/SuEChQJ6rj5cOy0+QC2dgN62WE77BAEgSzRiQbF8mQlWFD0v49yHGfZsiE72BbF90g+kp5ItYPS7TVOmVRlofn+EXKTIwMlpywzdikxQ2tRLoex6GWjOEpHGEd9kaTdwUPc45iJYTKMsoTNJmXBc3r7eLNQGE10nqYWd/AKlfkIN/Goz7vdMbxN7g/AigVC87Kcsl9JbHar3fgb/xG+s5bvW/NuAL0A+gEMAogCGAYQB5AEMArgYRGAdPsCpyp3g377duXGlKCq5/ghrbPJfwjuJlkfOfYjydNIJiIdYtaVKaZiFCeyF58EXy0gDODy05SfacP/KcBZxFKYAjt2m3fWaH0HhVWFgyoA40WhleBOmfzeCIeuUxKHb9hMmLwkFLcrdC+yhCnM2fXjDYBd35rF+JBMGmGNcZTKrVUZUuLPZH4yElvtMdQFkaIaVMPD71u0+y+oUThjWyxsRC+9m/1BfdI0Qp+ktkPhL6o0zm6R8I3HIg1d4Ffl1q0zehM0s3y1wbyuZ+uPoaAOOnyuzY81wms4okPqO+byaa20bAJ7v7HQ0uhAUTzaewWT0whCjfnKren27q5NP4nHHZwEbiKT+UGjP77fv1DwI3uuFpTAc0qztQKfabf/2sMbv9sM7uA3+sE8a0sTLcyULY+5K2VEOHktbsyuGuTb+SQuNrnt97laVFrlC1v8ExdNjVg=</script> <treescope-run-here><script type=\"application/octet-stream\"> const root = ( Array.from(document.getElementsByClassName( \"treescope_out_dc2d9af0d18e4e56953b3a4e846557f1\")) .filter((elt) => !elt.dataset['step1']) )[0]; root.dataset['step1'] = 1; root.defns.insertContent( this.parentNode.querySelector('script[type=\"application/octet-stream\"]'), true ); this.parentNode.remove(); </script></treescope-run-here> </div>"
      ],
      "text/plain": [
       "<IPython.core.display.HTML object>"
      ]
     },
     "metadata": {},
     "output_type": "display_data"
    },
    {
     "data": {
      "text/html": [
       "<treescope-run-here><script type=\"application/octet-stream\"> const root = ( Array.from(document.getElementsByClassName( \"treescope_out_dc2d9af0d18e4e56953b3a4e846557f1\")) .filter((elt) => !elt.dataset.stolen) )[0]; root.dataset.stolen = 1; this.parentNode.replaceChild(root, this); </script></treescope-run-here>"
      ],
      "text/plain": [
       "OrderedDict([((DictKey(key='b'),),\n",
       "              <jax.Array([0, 1, 2, 3, 4, 5, 6, 7, 8, 9], dtype=int32)>),\n",
       "             ((DictKey(key='c'), SequenceKey(idx=1), DictKey(key='value')),\n",
       "              <jax.Array([0., 0., 0., 0., 0., 0., 0.], dtype=float32)>)])"
      ]
     },
     "execution_count": 47,
     "metadata": {},
     "output_type": "execute_result"
    }
   ],
   "source": [
    "(\n",
    "    pz.select(my_nested_object)\n",
    "    .at_subtrees_where(\n",
    "        lambda subtree: isinstance(subtree, jax.Array) and subtree.size <= 10\n",
    "    )\n",
    ").selected_by_path"
   ]
  },
  {
   "cell_type": "markdown",
   "metadata": {
    "id": "ebPObknTmCAo"
   },
   "source": [
    "### Partitioning PyTrees\n",
    "\n",
    "You can use `.partition()` to split a selected object into two parts, one containing only the selected subtrees, and one containing everything else:"
   ]
  },
  {
   "cell_type": "code",
   "execution_count": 48,
   "metadata": {
    "execution": {
     "iopub.execute_input": "2024-09-11T16:37:58.780635Z",
     "iopub.status.busy": "2024-09-11T16:37:58.780376Z",
     "iopub.status.idle": "2024-09-11T16:37:58.782213Z",
     "shell.execute_reply": "2024-09-11T16:37:58.781959Z"
    },
    "id": "H-CcdaMyqq3M"
   },
   "outputs": [],
   "source": [
    "selected, rest = (\n",
    "    pz.select(my_nested_object)\n",
    "    .at_subtrees_where(\n",
    "        lambda subtree: isinstance(subtree, jax.Array) and subtree.size <= 10)\n",
    ").partition()"
   ]
  },
  {
   "cell_type": "code",
   "execution_count": 49,
   "metadata": {
    "execution": {
     "iopub.execute_input": "2024-09-11T16:37:58.786513Z",
     "iopub.status.busy": "2024-09-11T16:37:58.786284Z",
     "iopub.status.idle": "2024-09-11T16:37:58.792772Z",
     "shell.execute_reply": "2024-09-11T16:37:58.792494Z"
    },
    "id": "DaUwe2Iyq6ko"
   },
   "outputs": [
    {
     "data": {
      "text/html": [
       "<script> (()=>{ if (customElements.get('treescope-container') === undefined) { class TreescopeContainer extends HTMLElement { constructor() { super(); this.attachShadow({mode: \"open\"}); this.defns = {}; this.state = {}; } } customElements.define(\"treescope-container\", TreescopeContainer); } if (customElements.get('treescope-run-here') === undefined) { class RunHere extends HTMLElement { constructor() { super() } connectedCallback() { const run = child => { const fn = new Function(child.textContent); child.textContent = \"\"; fn.call(this); this.remove(); }; const child = this.querySelector(\"script\"); if (child) { run(child); } else { new MutationObserver(()=>{ run(this.querySelector(\"script\")); }).observe(this, {childList: true}); } } } customElements.define(\"treescope-run-here\", RunHere); } })(); </script> <treescope-container class=\"treescope_out_bd01b7cf797047278f1221ee4a9ca614\" ></treescope-container> <treescope-run-here><script type=\"application/octet-stream\"> const root = ( Array.from(document.getElementsByClassName( \"treescope_out_bd01b7cf797047278f1221ee4a9ca614\")) .filter((elt) => !elt.dataset.setup) )[0]; root.dataset.setup = 1; const msg = document.createElement(\"span\"); msg.style = \"color: #cccccc; font-family: monospace;\"; msg.textContent = \"(Loading...)\"; root.state.loadingMsg = msg; root.shadowRoot.appendChild(msg); root.state.chain = new Promise((resolve, reject) => { const observer = new IntersectionObserver((entries) => { for (const entry of entries) { if (entry.isIntersecting) { resolve(); observer.disconnect(); return; } } }, {rootMargin: \"1000px\"}); window.setTimeout(() => { observer.observe(root); }, 0); }); root.state.deferring = false; const _insertNode = (node) => { for (let oldScript of node.querySelectorAll(\"script\")) { let newScript = document.createElement(\"script\"); newScript.type = oldScript.type; newScript.textContent = oldScript.textContent; oldScript.parentNode.replaceChild(newScript, oldScript); } if (root.state.loadingMsg) { root.state.loadingMsg.remove(); root.state.loadingMsg = null; } root.shadowRoot.appendChild(node); }; root.defns.insertContent = ((contentNode, compressed) => { if (compressed) { root.state.deferring = true; } if (root.state.deferring) { root.state.chain = (async () => { await root.state.chain; if (compressed) { const encoded = contentNode.textContent; const blob = new Blob([ Uint8Array.from(atob(encoded), (m) => m.codePointAt(0)) ]); const reader = blob.stream().pipeThrough( new DecompressionStream(\"deflate\") ).pipeThrough( new TextDecoderStream(\"utf-8\") ).getReader(); const parts = []; while (true) { const step = await reader.read(); if (step.done) { break; } parts.push(step.value); } const tpl = document.createElement('template'); tpl.innerHTML = parts.join(\"\"); _insertNode(tpl.content); } else { _insertNode(contentNode.content); } })(); } else { _insertNode(contentNode.content); } }); </script></treescope-run-here><div style=\"display:none\"> <script type=\"application/octet-stream\" >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</script> <treescope-run-here><script type=\"application/octet-stream\"> const root = ( Array.from(document.getElementsByClassName( \"treescope_out_bd01b7cf797047278f1221ee4a9ca614\")) .filter((elt) => !elt.dataset['step0']) )[0]; root.dataset['step0'] = 1; root.defns.insertContent( this.parentNode.querySelector('script[type=\"application/octet-stream\"]'), true ); this.parentNode.remove(); </script></treescope-run-here> </div>"
      ],
      "text/plain": [
       "<IPython.core.display.HTML object>"
      ]
     },
     "metadata": {},
     "output_type": "display_data"
    },
    {
     "data": {
      "text/html": [
       "<div style=\"display:none\"> <script type=\"application/octet-stream\" >eNqVU01v2zAM/SuEChQJqrh26sZ28wFs7Qb0ssN22CEIAkWmEw2q5clKsaDofx/lOM66ZUN2sC2K75F8JD3J1TPUbqdxynJVV1rs7qA0JTJQ+ZQVxi5zLNBazJdFnERZmo4yTOM4HkZpJrMouV1lUZqESSjYbFJXoqS3jzcLpNFEF6uVxWd4gca8g4tROhRhOIbXyfUe2LBAalHXU/Yric0utRt/Ez+Cd9aKXW8ecog4DDnccIg53HIYcUg4pByyBYfc7SqcqtLdDPuXazemBE09hw9pnU3+Q3AcpjEmGA/T25tYrMIswkQOozxOklFWYHQUfLaAgMPppyu/0Eb8U4CziLU0FQ7sthxs0PoOSqsqB00AJqpKKymcMuW1kQ7doCaOeGIzacqaUMKu0T3mNUxhzs4fLwd2fmsW432y3EhrjKNUbqPqgBJ/JvOTybHXH0NbEClqQS08+L5Fu/uCGqUztseCTvTSu9kf1HtNI/RJWjuQ/qJJ4+wWCd95LNLQJX5VbtN7Q++CFlasn7Bs69n6YyCpgw4fWvNji/AaDuiA+o5lfr9ROu8Ce7+x0NPoQFE82nsFk+MIAo3l2m3o9uqqTz+Jx+2dBO4ik/lBoz++3z1S8AN7rhaUwHNqs7USH2i3/9rDC7/bDK7gN/refNOWLlpQKFsfcjfKiHD0Wnwyz80gX99O4mST+36fm0WlVT6xxT8Bv1mH+g==</script> <treescope-run-here><script type=\"application/octet-stream\"> const root = ( Array.from(document.getElementsByClassName( \"treescope_out_bd01b7cf797047278f1221ee4a9ca614\")) .filter((elt) => !elt.dataset['step1']) )[0]; root.dataset['step1'] = 1; root.defns.insertContent( this.parentNode.querySelector('script[type=\"application/octet-stream\"]'), true ); this.parentNode.remove(); </script></treescope-run-here> </div>"
      ],
      "text/plain": [
       "<IPython.core.display.HTML object>"
      ]
     },
     "metadata": {},
     "output_type": "display_data"
    },
    {
     "data": {
      "text/html": [
       "<treescope-run-here><script type=\"application/octet-stream\"> const root = ( Array.from(document.getElementsByClassName( \"treescope_out_bd01b7cf797047278f1221ee4a9ca614\")) .filter((elt) => !elt.dataset.stolen) )[0]; root.dataset.stolen = 1; this.parentNode.replaceChild(root, this); </script></treescope-run-here>"
      ],
      "text/plain": [
       "{'a': NotInThisPartition(),\n",
       " 'b': <jax.Array([0, 1, 2, 3, 4, 5, 6, 7, 8, 9], dtype=int32)>,\n",
       " 'c': [NotInThisPartition(),\n",
       "  {'value': <jax.Array([0., 0., 0., 0., 0., 0., 0.], dtype=float32)>},\n",
       "  NotInThisPartition()]}"
      ]
     },
     "execution_count": 49,
     "metadata": {},
     "output_type": "execute_result"
    }
   ],
   "source": [
    "selected"
   ]
  },
  {
   "cell_type": "code",
   "execution_count": 50,
   "metadata": {
    "execution": {
     "iopub.execute_input": "2024-09-11T16:37:58.798054Z",
     "iopub.status.busy": "2024-09-11T16:37:58.797777Z",
     "iopub.status.idle": "2024-09-11T16:37:58.804187Z",
     "shell.execute_reply": "2024-09-11T16:37:58.804004Z"
    },
    "id": "n-y-RvcSq7V-"
   },
   "outputs": [
    {
     "data": {
      "text/html": [
       "<script> (()=>{ if (customElements.get('treescope-container') === undefined) { class TreescopeContainer extends HTMLElement { constructor() { super(); this.attachShadow({mode: \"open\"}); this.defns = {}; this.state = {}; } } customElements.define(\"treescope-container\", TreescopeContainer); } if (customElements.get('treescope-run-here') === undefined) { class RunHere extends HTMLElement { constructor() { super() } connectedCallback() { const run = child => { const fn = new Function(child.textContent); child.textContent = \"\"; fn.call(this); this.remove(); }; const child = this.querySelector(\"script\"); if (child) { run(child); } else { new MutationObserver(()=>{ run(this.querySelector(\"script\")); }).observe(this, {childList: true}); } } } customElements.define(\"treescope-run-here\", RunHere); } })(); </script> <treescope-container class=\"treescope_out_385f413a96b54e0495a79d94f6cde0a1\" ></treescope-container> <treescope-run-here><script type=\"application/octet-stream\"> const root = ( Array.from(document.getElementsByClassName( \"treescope_out_385f413a96b54e0495a79d94f6cde0a1\")) .filter((elt) => !elt.dataset.setup) )[0]; root.dataset.setup = 1; const msg = document.createElement(\"span\"); msg.style = \"color: #cccccc; font-family: monospace;\"; msg.textContent = \"(Loading...)\"; root.state.loadingMsg = msg; root.shadowRoot.appendChild(msg); root.state.chain = new Promise((resolve, reject) => { const observer = new IntersectionObserver((entries) => { for (const entry of entries) { if (entry.isIntersecting) { resolve(); observer.disconnect(); return; } } }, {rootMargin: \"1000px\"}); window.setTimeout(() => { observer.observe(root); }, 0); }); root.state.deferring = false; const _insertNode = (node) => { for (let oldScript of node.querySelectorAll(\"script\")) { let newScript = document.createElement(\"script\"); newScript.type = oldScript.type; newScript.textContent = oldScript.textContent; oldScript.parentNode.replaceChild(newScript, oldScript); } if (root.state.loadingMsg) { root.state.loadingMsg.remove(); root.state.loadingMsg = null; } root.shadowRoot.appendChild(node); }; root.defns.insertContent = ((contentNode, compressed) => { if (compressed) { root.state.deferring = true; } if (root.state.deferring) { root.state.chain = (async () => { await root.state.chain; if (compressed) { const encoded = contentNode.textContent; const blob = new Blob([ Uint8Array.from(atob(encoded), (m) => m.codePointAt(0)) ]); const reader = blob.stream().pipeThrough( new DecompressionStream(\"deflate\") ).pipeThrough( new TextDecoderStream(\"utf-8\") ).getReader(); const parts = []; while (true) { const step = await reader.read(); if (step.done) { break; } parts.push(step.value); } const tpl = document.createElement('template'); tpl.innerHTML = parts.join(\"\"); _insertNode(tpl.content); } else { _insertNode(contentNode.content); } })(); } else { _insertNode(contentNode.content); } }); </script></treescope-run-here><div style=\"display:none\"> <script type=\"application/octet-stream\" >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</script> <treescope-run-here><script type=\"application/octet-stream\"> const root = ( Array.from(document.getElementsByClassName( \"treescope_out_385f413a96b54e0495a79d94f6cde0a1\")) .filter((elt) => !elt.dataset['step0']) )[0]; root.dataset['step0'] = 1; root.defns.insertContent( this.parentNode.querySelector('script[type=\"application/octet-stream\"]'), true ); this.parentNode.remove(); </script></treescope-run-here> </div>"
      ],
      "text/plain": [
       "<IPython.core.display.HTML object>"
      ]
     },
     "metadata": {},
     "output_type": "display_data"
    },
    {
     "data": {
      "text/html": [
       "<div style=\"display:none\"> <script type=\"application/octet-stream\" >eNqNUk2P2jAQ/Ssjr7QKArIJX4UNILW7rbSXHtpDDwghYw/ElYlT26BGq/3vHYeQLe1W6mESj+e9+fKbS3UC5yuNCyaVKzWv7qEwBTJQcsF2xm4k7tBalJuRSGeTRG63u0kykuPpbMi3POXpeJZIjqMpW85dyQv6hnzLWBhNdL7dWjzBM9TuPdxMpgOeJBm8zO/OwJoFQnPnFux3Elveap995z/j99byKlpB0gNIyQZkQ7IR2ZhsQvaObEo260FKuDRd90D6qsSFKvxw0Lnd+4xK1h1efjT9cu4tohOmxL49Fv0cbWhJWFV6qOmMl6VWgntlijsjPPq+Iw4/sKUwhSMUt3v0T9LBAlbs//e1zs58aYQ1xhPb58rFlOsLuZ+NxKiTQVODmmxADTz+cURbfUWNwhsbsbidYxPC7C/qg6Z3DUUaPxbhoi7j7REJ30YskhIEflM+j67obdKd5fsDFk0/x3CMBS3F42PjfmoQYYYLOqZVYiEfcqVlmzjEjYVIowdF+UgbCuavW401Fnuf02232yEhBdw5SOA2M7kfNYbjh+qJkl/YK7WmAoHjzNEKfCTB/3OHN0HwDLrwB/3sXq2lzRbvlHWX2vVkRHiNWjyYU/2QL9cv8eaSO0GitfZInW8I8xe1KEU5</script> <treescope-run-here><script type=\"application/octet-stream\"> const root = ( Array.from(document.getElementsByClassName( \"treescope_out_385f413a96b54e0495a79d94f6cde0a1\")) .filter((elt) => !elt.dataset['step1']) )[0]; root.dataset['step1'] = 1; root.defns.insertContent( this.parentNode.querySelector('script[type=\"application/octet-stream\"]'), true ); this.parentNode.remove(); </script></treescope-run-here> </div>"
      ],
      "text/plain": [
       "<IPython.core.display.HTML object>"
      ]
     },
     "metadata": {},
     "output_type": "display_data"
    },
    {
     "data": {
      "text/html": [
       "<treescope-run-here><script type=\"application/octet-stream\"> const root = ( Array.from(document.getElementsByClassName( \"treescope_out_385f413a96b54e0495a79d94f6cde0a1\")) .filter((elt) => !elt.dataset.stolen) )[0]; root.dataset.stolen = 1; this.parentNode.replaceChild(root, this); </script></treescope-run-here>"
      ],
      "text/plain": [
       "{'a': 1,\n",
       " 'b': NotInThisPartition(),\n",
       " 'c': [{'value': <jax.Array([ 0,  1,  2,  3,  4,  5,  6,  7,  8,  9, 10, 11], dtype=int32)>},\n",
       "  {'value': NotInThisPartition()},\n",
       "  {'value': 3}]}"
      ]
     },
     "execution_count": 50,
     "metadata": {},
     "output_type": "execute_result"
    }
   ],
   "source": [
    "rest"
   ]
  },
  {
   "cell_type": "markdown",
   "metadata": {
    "id": "lIj7wg-oqv1t"
   },
   "source": [
    "You can then process the two parts independently, and then recombine them into a single object using `pz.combine`:"
   ]
  },
  {
   "cell_type": "code",
   "execution_count": 51,
   "metadata": {
    "execution": {
     "iopub.execute_input": "2024-09-11T16:37:58.813277Z",
     "iopub.status.busy": "2024-09-11T16:37:58.813029Z",
     "iopub.status.idle": "2024-09-11T16:37:58.847720Z",
     "shell.execute_reply": "2024-09-11T16:37:58.847864Z"
    },
    "id": "8SoBMXJmrBgY"
   },
   "outputs": [
    {
     "data": {
      "text/html": [
       "<script> (()=>{ if (customElements.get('treescope-container') === undefined) { class TreescopeContainer extends HTMLElement { constructor() { super(); this.attachShadow({mode: \"open\"}); this.defns = {}; this.state = {}; } } customElements.define(\"treescope-container\", TreescopeContainer); } if (customElements.get('treescope-run-here') === undefined) { class RunHere extends HTMLElement { constructor() { super() } connectedCallback() { const run = child => { const fn = new Function(child.textContent); child.textContent = \"\"; fn.call(this); this.remove(); }; const child = this.querySelector(\"script\"); if (child) { run(child); } else { new MutationObserver(()=>{ run(this.querySelector(\"script\")); }).observe(this, {childList: true}); } } } customElements.define(\"treescope-run-here\", RunHere); } })(); </script> <treescope-container class=\"treescope_out_41513fa540a4423297844aeee4064e2e\" ></treescope-container> <treescope-run-here><script type=\"application/octet-stream\"> const root = ( Array.from(document.getElementsByClassName( \"treescope_out_41513fa540a4423297844aeee4064e2e\")) .filter((elt) => !elt.dataset.setup) )[0]; root.dataset.setup = 1; const msg = document.createElement(\"span\"); msg.style = \"color: #cccccc; font-family: monospace;\"; msg.textContent = \"(Loading...)\"; root.state.loadingMsg = msg; root.shadowRoot.appendChild(msg); root.state.chain = new Promise((resolve, reject) => { const observer = new IntersectionObserver((entries) => { for (const entry of entries) { if (entry.isIntersecting) { resolve(); observer.disconnect(); return; } } }, {rootMargin: \"1000px\"}); window.setTimeout(() => { observer.observe(root); }, 0); }); root.state.deferring = false; const _insertNode = (node) => { for (let oldScript of node.querySelectorAll(\"script\")) { let newScript = document.createElement(\"script\"); newScript.type = oldScript.type; newScript.textContent = oldScript.textContent; oldScript.parentNode.replaceChild(newScript, oldScript); } if (root.state.loadingMsg) { root.state.loadingMsg.remove(); root.state.loadingMsg = null; } root.shadowRoot.appendChild(node); }; root.defns.insertContent = ((contentNode, compressed) => { if (compressed) { root.state.deferring = true; } if (root.state.deferring) { root.state.chain = (async () => { await root.state.chain; if (compressed) { const encoded = contentNode.textContent; const blob = new Blob([ Uint8Array.from(atob(encoded), (m) => m.codePointAt(0)) ]); const reader = blob.stream().pipeThrough( new DecompressionStream(\"deflate\") ).pipeThrough( new TextDecoderStream(\"utf-8\") ).getReader(); const parts = []; while (true) { const step = await reader.read(); if (step.done) { break; } parts.push(step.value); } const tpl = document.createElement('template'); tpl.innerHTML = parts.join(\"\"); _insertNode(tpl.content); } else { _insertNode(contentNode.content); } })(); } else { _insertNode(contentNode.content); } }); </script></treescope-run-here><div style=\"display:none\"> <script type=\"application/octet-stream\" >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</script> <treescope-run-here><script type=\"application/octet-stream\"> const root = ( Array.from(document.getElementsByClassName( \"treescope_out_41513fa540a4423297844aeee4064e2e\")) .filter((elt) => !elt.dataset['step0']) )[0]; root.dataset['step0'] = 1; root.defns.insertContent( this.parentNode.querySelector('script[type=\"application/octet-stream\"]'), true ); this.parentNode.remove(); </script></treescope-run-here> </div>"
      ],
      "text/plain": [
       "<IPython.core.display.HTML object>"
      ]
     },
     "metadata": {},
     "output_type": "display_data"
    },
    {
     "data": {
      "text/html": [
       "<div style=\"display:none\"> <script type=\"application/octet-stream\" >eNq1VEtP20AQ/iujRUKJAONXEps8pBZaiUsP7aEHhKL17jjZavG66w1qVPHfO+s4BlpawqEHf/Z4v3l8M2PPpLqHxm01zplUTa359gIqUyEDJeesNHYpsURrUS7TaDxJ4zRMRhmmcSG4LGQU8zxKk2wcZpwtZk3NK0IfbxEIo8mdF4XFe/gJrXkBR+Ms5mE4hYfZ+Y7YeoHQvGnm7KkTWxxrN/3GfwTvrOXbwU0UhqcQhZGH2EPiIfUw8jD2MPGQechvT0G6bY1zVbkkHh6v3JSStjXub6R/MXtLE8SkiOUoC+OkSLM8zUZS5uU4KsajPMEyeWzCoaKANAFJAlIEJAhID5AcIDVAYoC0QO710BX9B0kyK8oolWGWJDJNBc+zcBRNkhBRclnG/O2SaE6BL/g17MWU2vB/ynEWsRGmxjO7qc7WaP3aCKtqB20AxutaK8GdMtW5EQ7dWUM+/I4thKkaYnG7QnctG5jDDTt8p0+BHT77p+RXu3o73VUmjbDGOKrLrVUTUJWfyfxkJA6GU+iqJ/kdqaMH3zdot19Qo3DGDljQd2jpj9kfrpeapu+TdHYg/Is2jbMbJH5/YpH2ReBX5daDZ+590NLy1R1WXT0b/xgIarfDq8782DG8hj07oCFhJS/XSss+sD83FgYaHSiKR38GBbPHeQUaq5Vb09uTkyH9Rjxvd0jkPjKZHzT6x/fbawq+975Rt5TA+zRmYwVe0Wfx1x4e+c+CwQn85r4zn7WljxaUyjb73K0ycng8tXhn7ttBPjyfxItNHvrlb7ea9v6Flf8FWpXb7A==</script> <treescope-run-here><script type=\"application/octet-stream\"> const root = ( Array.from(document.getElementsByClassName( \"treescope_out_41513fa540a4423297844aeee4064e2e\")) .filter((elt) => !elt.dataset['step1']) )[0]; root.dataset['step1'] = 1; root.defns.insertContent( this.parentNode.querySelector('script[type=\"application/octet-stream\"]'), true ); this.parentNode.remove(); </script></treescope-run-here> </div>"
      ],
      "text/plain": [
       "<IPython.core.display.HTML object>"
      ]
     },
     "metadata": {},
     "output_type": "display_data"
    },
    {
     "data": {
      "text/html": [
       "<treescope-run-here><script type=\"application/octet-stream\"> const root = ( Array.from(document.getElementsByClassName( \"treescope_out_41513fa540a4423297844aeee4064e2e\")) .filter((elt) => !elt.dataset.stolen) )[0]; root.dataset.stolen = 1; this.parentNode.replaceChild(root, this); </script></treescope-run-here>"
      ],
      "text/plain": [
       "{'a': 1,\n",
       " 'b': <jax.Array([100, 101, 102, 103, 104, 105, 106, 107, 108, 109], dtype=int32)>,\n",
       " 'c': [{'value': <jax.Array([ 0,  1,  2,  3,  4,  5,  6,  7,  8,  9, 10, 11], dtype=int32)>},\n",
       "  {'value': <jax.Array([100., 100., 100., 100., 100., 100., 100.], dtype=float32)>},\n",
       "  {'value': 3}]}"
      ]
     },
     "execution_count": 51,
     "metadata": {},
     "output_type": "execute_result"
    }
   ],
   "source": [
    "pz.combine(\n",
    "    jax.tree_util.tree_map(lambda x: x + 100, selected),\n",
    "    rest,\n",
    ")"
   ]
  },
  {
   "cell_type": "markdown",
   "metadata": {
    "id": "69K7pItirIuA"
   },
   "source": [
    "Partitioning and combining are inspired by `equinox.partition` and `equinox.combine`. If you're already familiar with those, the main differences are:\n",
    "- You generally don't need to use `partition` and `combine` when running JAX transformations like `jax.jit`. By convention, Penzai models store all of their static metadata in `dataclasses.field(metadata={\"pytree_node\": False})` fields which are not part of the PyTree traversal, which means partitioning isn't as strictly necessary as it is in equinox workflows. Instead, partitioning is primarily useful if you want to apply different logic to two sets of leaves, e.g. taking a gradient only with respect to a specific subset of parameters, or defining different shardings for different array subsets.\n",
    "- Penzai uses a specific sentinel `NotInThisPartition()` to identify removed nodes, rather than `None`.\n",
    "- Penzai partitions are built to support manipulation at the subtree level, rather than at the leaf level. It's OK to build and combine partitions even when neither partition is a strict PyTree prefix of the other, as long as the overlapping parts don't conflict.\n",
    "- Penzai partitions are always created with selectors, rather than being built by a standalone function.\n"
   ]
  },
  {
   "cell_type": "markdown",
   "metadata": {
    "id": "bfYZoC-ANf1Z"
   },
   "source": [
    "## Modifying selected values\n",
    "\n",
    "An important feature of selections is that they allow you to perform detailed modifications to (copies of) large trees. Selections expose a number of methods for this purpose."
   ]
  },
  {
   "cell_type": "markdown",
   "metadata": {
    "id": "Y7lQebLlwpRJ"
   },
   "source": [
    "### Replacing selected values\n",
    "The simplest modification you can make is to replace each selected subtree with another subtree or value:"
   ]
  },
  {
   "cell_type": "code",
   "execution_count": 52,
   "metadata": {
    "execution": {
     "iopub.execute_input": "2024-09-11T16:37:58.853886Z",
     "iopub.status.busy": "2024-09-11T16:37:58.853630Z",
     "iopub.status.idle": "2024-09-11T16:37:58.857604Z",
     "shell.execute_reply": "2024-09-11T16:37:58.857294Z"
    },
    "id": "Ew7gWKgMNg0h"
   },
   "outputs": [
    {
     "data": {
      "text/html": [
       "<script> (()=>{ if (customElements.get('treescope-container') === undefined) { class TreescopeContainer extends HTMLElement { constructor() { super(); this.attachShadow({mode: \"open\"}); this.defns = {}; this.state = {}; } } customElements.define(\"treescope-container\", TreescopeContainer); } if (customElements.get('treescope-run-here') === undefined) { class RunHere extends HTMLElement { constructor() { super() } connectedCallback() { const run = child => { const fn = new Function(child.textContent); child.textContent = \"\"; fn.call(this); this.remove(); }; const child = this.querySelector(\"script\"); if (child) { run(child); } else { new MutationObserver(()=>{ run(this.querySelector(\"script\")); }).observe(this, {childList: true}); } } } customElements.define(\"treescope-run-here\", RunHere); } })(); </script> <treescope-container class=\"treescope_out_d8c6aabac6834801b474a08b073febeb\" ></treescope-container> <treescope-run-here><script type=\"application/octet-stream\"> const root = ( Array.from(document.getElementsByClassName( \"treescope_out_d8c6aabac6834801b474a08b073febeb\")) .filter((elt) => !elt.dataset.setup) )[0]; root.dataset.setup = 1; const msg = document.createElement(\"span\"); msg.style = \"color: #cccccc; font-family: monospace;\"; msg.textContent = \"(Loading...)\"; root.state.loadingMsg = msg; root.shadowRoot.appendChild(msg); root.state.chain = new Promise((resolve, reject) => { const observer = new IntersectionObserver((entries) => { for (const entry of entries) { if (entry.isIntersecting) { resolve(); observer.disconnect(); return; } } }, {rootMargin: \"1000px\"}); window.setTimeout(() => { observer.observe(root); }, 0); }); root.state.deferring = false; const _insertNode = (node) => { for (let oldScript of node.querySelectorAll(\"script\")) { let newScript = document.createElement(\"script\"); newScript.type = oldScript.type; newScript.textContent = oldScript.textContent; oldScript.parentNode.replaceChild(newScript, oldScript); } if (root.state.loadingMsg) { root.state.loadingMsg.remove(); root.state.loadingMsg = null; } root.shadowRoot.appendChild(node); }; root.defns.insertContent = ((contentNode, compressed) => { if (compressed) { root.state.deferring = true; } if (root.state.deferring) { root.state.chain = (async () => { await root.state.chain; if (compressed) { const encoded = contentNode.textContent; const blob = new Blob([ Uint8Array.from(atob(encoded), (m) => m.codePointAt(0)) ]); const reader = blob.stream().pipeThrough( new DecompressionStream(\"deflate\") ).pipeThrough( new TextDecoderStream(\"utf-8\") ).getReader(); const parts = []; while (true) { const step = await reader.read(); if (step.done) { break; } parts.push(step.value); } const tpl = document.createElement('template'); tpl.innerHTML = parts.join(\"\"); _insertNode(tpl.content); } else { _insertNode(contentNode.content); } })(); } else { _insertNode(contentNode.content); } }); </script></treescope-run-here><div style=\"display:none\"> <script type=\"application/octet-stream\" >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</script> <treescope-run-here><script type=\"application/octet-stream\"> const root = ( Array.from(document.getElementsByClassName( \"treescope_out_d8c6aabac6834801b474a08b073febeb\")) .filter((elt) => !elt.dataset['step0']) )[0]; root.dataset['step0'] = 1; root.defns.insertContent( this.parentNode.querySelector('script[type=\"application/octet-stream\"]'), true ); this.parentNode.remove(); </script></treescope-run-here> </div>"
      ],
      "text/plain": [
       "<IPython.core.display.HTML object>"
      ]
     },
     "metadata": {},
     "output_type": "display_data"
    },
    {
     "data": {
      "text/html": [
       "<treescope-run-here><script type=\"application/octet-stream\"> const root = ( Array.from(document.getElementsByClassName( \"treescope_out_d8c6aabac6834801b474a08b073febeb\")) .filter((elt) => !elt.dataset.stolen) )[0]; root.dataset.stolen = 1; this.parentNode.replaceChild(root, this); </script></treescope-run-here>"
      ],
      "text/plain": [
       "{'a': 1,\n",
       " 'b': 'hello world!',\n",
       " 'c': [{'value': 'hello world!'}, {'value': 'hello world!'}, {'value': 3}]}"
      ]
     },
     "execution_count": 52,
     "metadata": {},
     "output_type": "execute_result"
    }
   ],
   "source": [
    "pz.select(my_nested_object).at_instances_of(jax.Array).set(\"hello world!\")"
   ]
  },
  {
   "cell_type": "markdown",
   "metadata": {
    "id": "HduHi3ifw8qn"
   },
   "source": [
    "You can optionally provide different values for each selected node:"
   ]
  },
  {
   "cell_type": "code",
   "execution_count": 53,
   "metadata": {
    "execution": {
     "iopub.execute_input": "2024-09-11T16:37:58.863101Z",
     "iopub.status.busy": "2024-09-11T16:37:58.862856Z",
     "iopub.status.idle": "2024-09-11T16:37:58.867001Z",
     "shell.execute_reply": "2024-09-11T16:37:58.866814Z"
    },
    "id": "rDlkeqI3w1-C"
   },
   "outputs": [
    {
     "data": {
      "text/html": [
       "<script> (()=>{ if (customElements.get('treescope-container') === undefined) { class TreescopeContainer extends HTMLElement { constructor() { super(); this.attachShadow({mode: \"open\"}); this.defns = {}; this.state = {}; } } customElements.define(\"treescope-container\", TreescopeContainer); } if (customElements.get('treescope-run-here') === undefined) { class RunHere extends HTMLElement { constructor() { super() } connectedCallback() { const run = child => { const fn = new Function(child.textContent); child.textContent = \"\"; fn.call(this); this.remove(); }; const child = this.querySelector(\"script\"); if (child) { run(child); } else { new MutationObserver(()=>{ run(this.querySelector(\"script\")); }).observe(this, {childList: true}); } } } customElements.define(\"treescope-run-here\", RunHere); } })(); </script> <treescope-container class=\"treescope_out_379139cfe3994fbfac6823b82e8397bf\" ></treescope-container> <treescope-run-here><script type=\"application/octet-stream\"> const root = ( Array.from(document.getElementsByClassName( \"treescope_out_379139cfe3994fbfac6823b82e8397bf\")) .filter((elt) => !elt.dataset.setup) )[0]; root.dataset.setup = 1; const msg = document.createElement(\"span\"); msg.style = \"color: #cccccc; font-family: monospace;\"; msg.textContent = \"(Loading...)\"; root.state.loadingMsg = msg; root.shadowRoot.appendChild(msg); root.state.chain = new Promise((resolve, reject) => { const observer = new IntersectionObserver((entries) => { for (const entry of entries) { if (entry.isIntersecting) { resolve(); observer.disconnect(); return; } } }, {rootMargin: \"1000px\"}); window.setTimeout(() => { observer.observe(root); }, 0); }); root.state.deferring = false; const _insertNode = (node) => { for (let oldScript of node.querySelectorAll(\"script\")) { let newScript = document.createElement(\"script\"); newScript.type = oldScript.type; newScript.textContent = oldScript.textContent; oldScript.parentNode.replaceChild(newScript, oldScript); } if (root.state.loadingMsg) { root.state.loadingMsg.remove(); root.state.loadingMsg = null; } root.shadowRoot.appendChild(node); }; root.defns.insertContent = ((contentNode, compressed) => { if (compressed) { root.state.deferring = true; } if (root.state.deferring) { root.state.chain = (async () => { await root.state.chain; if (compressed) { const encoded = contentNode.textContent; const blob = new Blob([ Uint8Array.from(atob(encoded), (m) => m.codePointAt(0)) ]); const reader = blob.stream().pipeThrough( new DecompressionStream(\"deflate\") ).pipeThrough( new TextDecoderStream(\"utf-8\") ).getReader(); const parts = []; while (true) { const step = await reader.read(); if (step.done) { break; } parts.push(step.value); } const tpl = document.createElement('template'); tpl.innerHTML = parts.join(\"\"); _insertNode(tpl.content); } else { _insertNode(contentNode.content); } })(); } else { _insertNode(contentNode.content); } }); </script></treescope-run-here><div style=\"display:none\"> <script type=\"application/octet-stream\" >eNrtWI1TGskS/1cmpOqAp6yAghGVegvyZYJGMdGYS/mG3dndkd2ZdXYWxCv/99czCwiKmlxM7nJ1WOXCbPd0T3/8unt2Ijn2SdWQgpDI4iG5EJxL9AcKeUQl5ayCBPGxpEOyjRzOZM7BAfXHFRRwxqMQW7A+8qgkOf2jgkIBKz6NZE5vnZPjEFYZZ7Dcx9bAFTxmds7iPheVhHUbTX71fSCA/agtvQpyqAQyJgmT2yjEtk2Zm/OJIyuoaHlKCCM5j1DXg5WCUVLbMIkp6Dxjm3zJDWlE+9SnEjTHseQz2hxlUlAWUSsX0RuSvJ2oe7uzlphnZ2aenIgZyBSwFlmChhKp8+2mcRj61MLKYmvckkSdXhAcpKuZTHa3CgYFeZFENnFYhHaR9GhkuEQeg7UPuE0yWcPjkTT0ezgakegiJEwd2bTUrorp85dlb9qY2T6B1yz2/e1EggFq9jhnsJoZcTHIonkd+CksqVcLy5JaajEkwuEiwMwiBuOjTFb7FwRkHrxBuYRpB60Xs7APdVDmntaGT5grPbS7i/KK5EnVBZGxYGB3RPyI3CnmxUxpdn/ryKOOVPppAvXlFv4ekZCBqGI2HxmCXMUkkiajgXZXU+CAZBKbZNUe2w8EhXHkJWbcXnLGqYjd5BhPnPLrdVBaJI6U3HX9JCsvdOZAtIZqL7VCfLmKyBACfOJJpZ3+bQzIWBk9JVJKoQmxYfk4it5Bck72zaRme14EEIapqfDbLNgTwl/HeHVnbVkC2HSI9Ia7qUX4SCGJ+3BScr2byqcQZ6AMHJsB3VNhv/ysGcUzPWUK0i4BLI0YFywO+kToSNEA8jq/9aZQKoP+E4JIJbc7R4DXC6VCSRE43LdxH+QxUOQRxLtFi2QXiYpAbdMo9PF4imz3CVEV+bhP/EqlTyBpyJwGlv5sL5WXoFuuoOBtgoL57TtZlGnM6/tcweSjMj0+JOKhZBuLQUSwC75iD7krjMvMvSUPR5mq3rO61A6ap2J5xBoQO5tF/8ne6aBYlzNN6Rc01DBdQenfi6W+lf4r1VtkelTJ8k9QUvlRCY5FpBwYcihWRCyRS6OXE6tTQQvK6aSLHovxl5F6dzxJruVDKQaNLhwqInnB2YUK/yWp9VQqGcWSyqalrkLfrX7i8fsqqlMFWLjQXiRq6IS+/U5pAGnhuB9LCXV9GQDdvV4WtCmUukcFhoSebTnx76SwYafutXzpLoaooNhHvXHQ536EDmOpzmujesIJz3AMiZEbkf4A2jfNHgUA6B7AMDRXTAI7xRGxZ03fa5JXf9sPwzzh1l1Z3tgiwf1TJvmx5BTL4e6O0xjh6MKChg0MO+PHjlwoJVOcfkrmPZ5FkfOmR0MsMrmcjSXOYQaO1XU/O7+shKhmRmA2jWa9LSpEiIDFoFPN8Vh+21FmGoBjKLFfLWqiRaJXNAi5kJg92Lsv+ICwC7VyB0bPW3eObc6eUzffGqo1AMXsCwsaS1sQNlF1sXWHPRcJXwhd51JnUkgXUtXCvpWB+QKa20J4rfshI5JY8c/0/WGa9LmwAXcTTWwu4exKi3njRR4WoMoICwYpdTGF7KmVHQdbhfUlhCG0jX/MxigxmZoULk2OP1nK5Q0NmHezWkVPWljkXIFtCg7JFNZLNnFXEYdYdQnKQ3qWLW81id0QxAIS6CU0sd8DVR5A5ouZdMGZ08PcGiNPR6Tv4xDA5/kG7tvR+XEJSdumZWgicg1Zaj9K8xJ6LBPxgkOtmjPQK1MIPDYcwQOYXaw4UHOHwuzIGGIfBpxMNmtEHCYbjeRqQlFPIyknajr5yoKSSqMsys7mwcgjMATDtEVGqN7r9dRpempNjYD6JQxYcGSL9MbMyvzvv5MiZqni8CcLWlKKlCRlRxiC/cnaaHL/sJGH7IyEVUGx8DMKXSvq/dqIO05xuw/4Xd5YtfNbra5r1kz96RyZJtffascj+N9ummbDfOpTC0zTHfC3dqdRq48+mebJp/q+2e3U6mbTve6033kyqnUpcdebe2fFd53yp2EvjOn7bumksH/WOf7YHZ52b+T7cbNZXzl1Bye0tpf36N5RvN+wW5f5dn/NGXbs8Opt2bs6pfQo7rKW13Y+SPNDuXYgNsxmhw0aZetDHLOV49KVFQ1GQ6fpr11duw3+xu3vj1pvCm1zjZnHpXdC7BeOV9yb/LGdN/edgnuwWR+1Lotuno/j483NoFEoj9pnW4euG5KTwXiDdPo3JasvDlsSm+5R52C0h6NxdBR3OmenjebIfH8Udj7ZH9bWVtzNk82zdZl33r6/Mocl2POdebBpdkdm4N4c91bi8x5pnF0XnbJ1c7Bx3B6X4pr59qZ2GTbDddo+qjfy5/H7jd4mc2rvGu1mNzDpyptho+ixgre50v84OrsctcVwr/Whzi6dRsOVK4fWue9vlrbq+6PaG29ro9tt9dZb56YbdEqXtaMtedIi7a1GrdZpre+5G8drn6xx32yBTz++XTOPWtgk3bpvtm8ah+65dMu19+7hYWevNqBHJdKsndVrTYvmQ0/wkEFshOeNvcJNYdBz6o70xm9Z28bNqO3kD4JW46Bcs82rjx9DLKPeeWDbmG4VnZutjQ/08qocBqJ8yD/Ve1S0guF+a7132ltvNopW7cg5WWn7PGxtNKNRCbtX5Tf0nPQO/PCU1dodYncFiU+vWvWgcNoUg17vulQsn55GIxM0yiJ9ASQzaR3WaYXu/4N/s+zHNg+hZt2lpL62MgzjCYrVJGe/wF5PXw94+h5FtxVJxwN7Q3gwC2WSxmPxlgtS8ISr9AWySWOi1iKAB7WF6rRUe4JHmErE8JC6WHJhwM5hn2NhGyNBJTmBoSRztxccdrLX3VUKlNRMaq4NU5coIOWEBgT6tcz0lu0BnyAB9FQPWG9XUTGfz+vKCeALRTSjB4rlcud6rdSdcmqUmiKYundKodeoiakPwCY5UsSvNLJBtWQx9gGNKdiMYFu1iivztptcCD1zFaTazuld0OKdxP06n6ruJMVsh7IwnlSalC5ffX6dWrrJpNLBy6TKgRKaufrHztpks3kFHrSXqafe33s5f22Uqv72+rq4uY2TB9gACKsVtIQhuYhKVQsTotUFmsXWIFVFE6qHRNO6vahV+q65TiPO6ipYdtPfmC36Ii2bRrPOfzf1OY3TX1JI17Xd1NxQUEG/XcVcbmuC5CsMdffHFyigOkYAgzz4PtG5Oj3c0sd3OaL/vCMWGSZ9QKAb0gXmX8VB/ecc1P87Och6ykELOf2iOPB5GQ78OJ9Yz/nE+m6fvBie/Tg0fhqFf6j1P+efdwDQ/F18sCxT9IT0PXBWWGB+CqhW/zZglrjlc1ofPv1VPpwRvyjIJY/bX6wW/LTI/5MV4Z+JNYWvsHjhn401xV8UawrfgjWFf7Hmr4j8f7FmzuLFr7B48Z+ANdN5ef2Xw5Tit2BK8adgyq9kvJ8Q38seX341U/3oAfPPxtOMw6bD6v8BE5zCsQ==</script> <treescope-run-here><script type=\"application/octet-stream\"> const root = ( Array.from(document.getElementsByClassName( \"treescope_out_379139cfe3994fbfac6823b82e8397bf\")) .filter((elt) => !elt.dataset['step0']) )[0]; root.dataset['step0'] = 1; root.defns.insertContent( this.parentNode.querySelector('script[type=\"application/octet-stream\"]'), true ); this.parentNode.remove(); </script></treescope-run-here> </div>"
      ],
      "text/plain": [
       "<IPython.core.display.HTML object>"
      ]
     },
     "metadata": {},
     "output_type": "display_data"
    },
    {
     "data": {
      "text/html": [
       "<treescope-run-here><script type=\"application/octet-stream\"> const root = ( Array.from(document.getElementsByClassName( \"treescope_out_379139cfe3994fbfac6823b82e8397bf\")) .filter((elt) => !elt.dataset.stolen) )[0]; root.dataset.stolen = 1; this.parentNode.replaceChild(root, this); </script></treescope-run-here>"
      ],
      "text/plain": [
       "{'a': 1,\n",
       " 'b': 'replacement 0',\n",
       " 'c': [{'value': 'replacement 1'}, {'value': 'replacement 2'}, {'value': 3}]}"
      ]
     },
     "execution_count": 53,
     "metadata": {},
     "output_type": "execute_result"
    }
   ],
   "source": [
    "pz.select(my_nested_object).at_instances_of(jax.Array).set_sequence([f\"replacement {i}\" for i in range(3)])"
   ]
  },
  {
   "cell_type": "markdown",
   "metadata": {
    "id": "81cktrxfxGcm"
   },
   "source": [
    "Or provide a mapping based on the selected keypaths:"
   ]
  },
  {
   "cell_type": "code",
   "execution_count": 54,
   "metadata": {
    "execution": {
     "iopub.execute_input": "2024-09-11T16:37:58.873607Z",
     "iopub.status.busy": "2024-09-11T16:37:58.873351Z",
     "iopub.status.idle": "2024-09-11T16:37:58.876803Z",
     "shell.execute_reply": "2024-09-11T16:37:58.876941Z"
    },
    "id": "3u5yEQ1RxCsF"
   },
   "outputs": [
    {
     "data": {
      "text/html": [
       "<script> (()=>{ if (customElements.get('treescope-container') === undefined) { class TreescopeContainer extends HTMLElement { constructor() { super(); this.attachShadow({mode: \"open\"}); this.defns = {}; this.state = {}; } } customElements.define(\"treescope-container\", TreescopeContainer); } if (customElements.get('treescope-run-here') === undefined) { class RunHere extends HTMLElement { constructor() { super() } connectedCallback() { const run = child => { const fn = new Function(child.textContent); child.textContent = \"\"; fn.call(this); this.remove(); }; const child = this.querySelector(\"script\"); if (child) { run(child); } else { new MutationObserver(()=>{ run(this.querySelector(\"script\")); }).observe(this, {childList: true}); } } } customElements.define(\"treescope-run-here\", RunHere); } })(); </script> <treescope-container class=\"treescope_out_e89aad65a8874c7d857dffabc5076a2d\" ></treescope-container> <treescope-run-here><script type=\"application/octet-stream\"> const root = ( Array.from(document.getElementsByClassName( \"treescope_out_e89aad65a8874c7d857dffabc5076a2d\")) .filter((elt) => !elt.dataset.setup) )[0]; root.dataset.setup = 1; const msg = document.createElement(\"span\"); msg.style = \"color: #cccccc; font-family: monospace;\"; msg.textContent = \"(Loading...)\"; root.state.loadingMsg = msg; root.shadowRoot.appendChild(msg); root.state.chain = new Promise((resolve, reject) => { const observer = new IntersectionObserver((entries) => { for (const entry of entries) { if (entry.isIntersecting) { resolve(); observer.disconnect(); return; } } }, {rootMargin: \"1000px\"}); window.setTimeout(() => { observer.observe(root); }, 0); }); root.state.deferring = false; const _insertNode = (node) => { for (let oldScript of node.querySelectorAll(\"script\")) { let newScript = document.createElement(\"script\"); newScript.type = oldScript.type; newScript.textContent = oldScript.textContent; oldScript.parentNode.replaceChild(newScript, oldScript); } if (root.state.loadingMsg) { root.state.loadingMsg.remove(); root.state.loadingMsg = null; } root.shadowRoot.appendChild(node); }; root.defns.insertContent = ((contentNode, compressed) => { if (compressed) { root.state.deferring = true; } if (root.state.deferring) { root.state.chain = (async () => { await root.state.chain; if (compressed) { const encoded = contentNode.textContent; const blob = new Blob([ Uint8Array.from(atob(encoded), (m) => m.codePointAt(0)) ]); const reader = blob.stream().pipeThrough( new DecompressionStream(\"deflate\") ).pipeThrough( new TextDecoderStream(\"utf-8\") ).getReader(); const parts = []; while (true) { const step = await reader.read(); if (step.done) { break; } parts.push(step.value); } const tpl = document.createElement('template'); tpl.innerHTML = parts.join(\"\"); _insertNode(tpl.content); } else { _insertNode(contentNode.content); } })(); } else { _insertNode(contentNode.content); } }); </script></treescope-run-here><div style=\"display:none\"> <script type=\"application/octet-stream\" >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</script> <treescope-run-here><script type=\"application/octet-stream\"> const root = ( Array.from(document.getElementsByClassName( \"treescope_out_e89aad65a8874c7d857dffabc5076a2d\")) .filter((elt) => !elt.dataset['step0']) )[0]; root.dataset['step0'] = 1; root.defns.insertContent( this.parentNode.querySelector('script[type=\"application/octet-stream\"]'), true ); this.parentNode.remove(); </script></treescope-run-here> </div>"
      ],
      "text/plain": [
       "<IPython.core.display.HTML object>"
      ]
     },
     "metadata": {},
     "output_type": "display_data"
    },
    {
     "data": {
      "text/html": [
       "<treescope-run-here><script type=\"application/octet-stream\"> const root = ( Array.from(document.getElementsByClassName( \"treescope_out_e89aad65a8874c7d857dffabc5076a2d\")) .filter((elt) => !elt.dataset.stolen) )[0]; root.dataset.stolen = 1; this.parentNode.replaceChild(root, this); </script></treescope-run-here>"
      ],
      "text/plain": [
       "{'a': 1, 'b': 'A', 'c': [{'value': 'B'}, {'value': 'C'}, {'value': 3}]}"
      ]
     },
     "execution_count": 54,
     "metadata": {},
     "output_type": "execute_result"
    }
   ],
   "source": [
    "pz.select(my_nested_object).at_instances_of(jax.Array).set_by_path({\n",
    "    (jax.tree_util.DictKey(key='b'),): \"A\",\n",
    "    (jax.tree_util.DictKey(key='c'), jax.tree_util.SequenceKey(idx=0), jax.tree_util.DictKey(key='value')): \"B\",\n",
    "    (jax.tree_util.DictKey(key='c'), jax.tree_util.SequenceKey(idx=1), jax.tree_util.DictKey(key='value')): \"C\",\n",
    "})"
   ]
  },
  {
   "cell_type": "markdown",
   "metadata": {
    "id": "wIWQ8ChOeMQe"
   },
   "source": [
    "`set_by_path` accepts the same input as is produced by `get_by_path`, which can be convenient for modifying some values and then putting them back, or for taking gradients with respect to only a subset of values:"
   ]
  },
  {
   "cell_type": "code",
   "execution_count": 55,
   "metadata": {
    "execution": {
     "iopub.execute_input": "2024-09-11T16:37:58.882941Z",
     "iopub.status.busy": "2024-09-11T16:37:58.882663Z",
     "iopub.status.idle": "2024-09-11T16:37:58.886883Z",
     "shell.execute_reply": "2024-09-11T16:37:58.886691Z"
    },
    "id": "A4FdZZuHeWYO"
   },
   "outputs": [
    {
     "data": {
      "text/html": [
       "<script> (()=>{ if (customElements.get('treescope-container') === undefined) { class TreescopeContainer extends HTMLElement { constructor() { super(); this.attachShadow({mode: \"open\"}); this.defns = {}; this.state = {}; } } customElements.define(\"treescope-container\", TreescopeContainer); } if (customElements.get('treescope-run-here') === undefined) { class RunHere extends HTMLElement { constructor() { super() } connectedCallback() { const run = child => { const fn = new Function(child.textContent); child.textContent = \"\"; fn.call(this); this.remove(); }; const child = this.querySelector(\"script\"); if (child) { run(child); } else { new MutationObserver(()=>{ run(this.querySelector(\"script\")); }).observe(this, {childList: true}); } } } customElements.define(\"treescope-run-here\", RunHere); } })(); </script> <treescope-container class=\"treescope_out_fde2a59a5b6e464abd7cd61e58f11f39\" ></treescope-container> <treescope-run-here><script type=\"application/octet-stream\"> const root = ( Array.from(document.getElementsByClassName( \"treescope_out_fde2a59a5b6e464abd7cd61e58f11f39\")) .filter((elt) => !elt.dataset.setup) )[0]; root.dataset.setup = 1; const msg = document.createElement(\"span\"); msg.style = \"color: #cccccc; font-family: monospace;\"; msg.textContent = \"(Loading...)\"; root.state.loadingMsg = msg; root.shadowRoot.appendChild(msg); root.state.chain = new Promise((resolve, reject) => { const observer = new IntersectionObserver((entries) => { for (const entry of entries) { if (entry.isIntersecting) { resolve(); observer.disconnect(); return; } } }, {rootMargin: \"1000px\"}); window.setTimeout(() => { observer.observe(root); }, 0); }); root.state.deferring = false; const _insertNode = (node) => { for (let oldScript of node.querySelectorAll(\"script\")) { let newScript = document.createElement(\"script\"); newScript.type = oldScript.type; newScript.textContent = oldScript.textContent; oldScript.parentNode.replaceChild(newScript, oldScript); } if (root.state.loadingMsg) { root.state.loadingMsg.remove(); root.state.loadingMsg = null; } root.shadowRoot.appendChild(node); }; root.defns.insertContent = ((contentNode, compressed) => { if (compressed) { root.state.deferring = true; } if (root.state.deferring) { root.state.chain = (async () => { await root.state.chain; if (compressed) { const encoded = contentNode.textContent; const blob = new Blob([ Uint8Array.from(atob(encoded), (m) => m.codePointAt(0)) ]); const reader = blob.stream().pipeThrough( new DecompressionStream(\"deflate\") ).pipeThrough( new TextDecoderStream(\"utf-8\") ).getReader(); const parts = []; while (true) { const step = await reader.read(); if (step.done) { break; } parts.push(step.value); } const tpl = document.createElement('template'); tpl.innerHTML = parts.join(\"\"); _insertNode(tpl.content); } else { _insertNode(contentNode.content); } })(); } else { _insertNode(contentNode.content); } }); </script></treescope-run-here><div style=\"display:none\"> <script type=\"application/octet-stream\" >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</script> <treescope-run-here><script type=\"application/octet-stream\"> const root = ( Array.from(document.getElementsByClassName( \"treescope_out_fde2a59a5b6e464abd7cd61e58f11f39\")) .filter((elt) => !elt.dataset['step0']) )[0]; root.dataset['step0'] = 1; root.defns.insertContent( this.parentNode.querySelector('script[type=\"application/octet-stream\"]'), true ); this.parentNode.remove(); </script></treescope-run-here> </div>"
      ],
      "text/plain": [
       "<IPython.core.display.HTML object>"
      ]
     },
     "metadata": {},
     "output_type": "display_data"
    },
    {
     "data": {
      "text/html": [
       "<treescope-run-here><script type=\"application/octet-stream\"> const root = ( Array.from(document.getElementsByClassName( \"treescope_out_fde2a59a5b6e464abd7cd61e58f11f39\")) .filter((elt) => !elt.dataset.stolen) )[0]; root.dataset.stolen = 1; this.parentNode.replaceChild(root, this); </script></treescope-run-here>"
      ],
      "text/plain": [
       "{'a': 1,\n",
       " 'b': 'A JAX array: [0 1 2 3 4 5 6 7 8 9]',\n",
       " 'c': [{'value': 'A JAX array: [ 0  1  2  3  4  5  6  7  8  9 10 11]'},\n",
       "  {'value': 'A JAX array: [0. 0. 0. 0. 0. 0. 0.]'},\n",
       "  {'value': 3}]}"
      ]
     },
     "execution_count": 55,
     "metadata": {},
     "output_type": "execute_result"
    }
   ],
   "source": [
    "selection = pz.select(my_nested_object).at_instances_of(jax.Array)\n",
    "selection.set_by_path(\n",
    "    {key: f\"A JAX array: {value}\" for key, value in selection.get_by_path().items()}\n",
    ")"
   ]
  },
  {
   "cell_type": "code",
   "execution_count": 56,
   "metadata": {
    "execution": {
     "iopub.execute_input": "2024-09-11T16:37:58.895361Z",
     "iopub.status.busy": "2024-09-11T16:37:58.890770Z",
     "iopub.status.idle": "2024-09-11T16:37:59.349304Z",
     "shell.execute_reply": "2024-09-11T16:37:59.349054Z"
    },
    "id": "YEpc6lCxel42"
   },
   "outputs": [
    {
     "data": {
      "text/html": [
       "<script> (()=>{ if (customElements.get('treescope-container') === undefined) { class TreescopeContainer extends HTMLElement { constructor() { super(); this.attachShadow({mode: \"open\"}); this.defns = {}; this.state = {}; } } customElements.define(\"treescope-container\", TreescopeContainer); } if (customElements.get('treescope-run-here') === undefined) { class RunHere extends HTMLElement { constructor() { super() } connectedCallback() { const run = child => { const fn = new Function(child.textContent); child.textContent = \"\"; fn.call(this); this.remove(); }; const child = this.querySelector(\"script\"); if (child) { run(child); } else { new MutationObserver(()=>{ run(this.querySelector(\"script\")); }).observe(this, {childList: true}); } } } customElements.define(\"treescope-run-here\", RunHere); } })(); </script> <treescope-container class=\"treescope_out_1a76e6e09793493b97cf7acaeb1888f6\" ></treescope-container> <treescope-run-here><script type=\"application/octet-stream\"> const root = ( Array.from(document.getElementsByClassName( \"treescope_out_1a76e6e09793493b97cf7acaeb1888f6\")) .filter((elt) => !elt.dataset.setup) )[0]; root.dataset.setup = 1; const msg = document.createElement(\"span\"); msg.style = \"color: #cccccc; font-family: monospace;\"; msg.textContent = \"(Loading...)\"; root.state.loadingMsg = msg; root.shadowRoot.appendChild(msg); root.state.chain = new Promise((resolve, reject) => { const observer = new IntersectionObserver((entries) => { for (const entry of entries) { if (entry.isIntersecting) { resolve(); observer.disconnect(); return; } } }, {rootMargin: \"1000px\"}); window.setTimeout(() => { observer.observe(root); }, 0); }); root.state.deferring = false; const _insertNode = (node) => { for (let oldScript of node.querySelectorAll(\"script\")) { let newScript = document.createElement(\"script\"); newScript.type = oldScript.type; newScript.textContent = oldScript.textContent; oldScript.parentNode.replaceChild(newScript, oldScript); } if (root.state.loadingMsg) { root.state.loadingMsg.remove(); root.state.loadingMsg = null; } root.shadowRoot.appendChild(node); }; root.defns.insertContent = ((contentNode, compressed) => { if (compressed) { root.state.deferring = true; } if (root.state.deferring) { root.state.chain = (async () => { await root.state.chain; if (compressed) { const encoded = contentNode.textContent; const blob = new Blob([ Uint8Array.from(atob(encoded), (m) => m.codePointAt(0)) ]); const reader = blob.stream().pipeThrough( new DecompressionStream(\"deflate\") ).pipeThrough( new TextDecoderStream(\"utf-8\") ).getReader(); const parts = []; while (true) { const step = await reader.read(); if (step.done) { break; } parts.push(step.value); } const tpl = document.createElement('template'); tpl.innerHTML = parts.join(\"\"); _insertNode(tpl.content); } else { _insertNode(contentNode.content); } })(); } else { _insertNode(contentNode.content); } }); </script></treescope-run-here><div style=\"display:none\"> <script type=\"application/octet-stream\" >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</script> <treescope-run-here><script type=\"application/octet-stream\"> const root = ( Array.from(document.getElementsByClassName( \"treescope_out_1a76e6e09793493b97cf7acaeb1888f6\")) .filter((elt) => !elt.dataset['step0']) )[0]; root.dataset['step0'] = 1; root.defns.insertContent( this.parentNode.querySelector('script[type=\"application/octet-stream\"]'), true ); this.parentNode.remove(); </script></treescope-run-here> </div>"
      ],
      "text/plain": [
       "<IPython.core.display.HTML object>"
      ]
     },
     "metadata": {},
     "output_type": "display_data"
    },
    {
     "data": {
      "text/html": [
       "<div style=\"display:none\"> <script type=\"application/octet-stream\" >eNq1VEuP2jAQ/iuWV1qBgGxeS8LykNrdVtpLD+2hB4SQY0/AlYlTx6BG1f73jkOApaUqrdRDJh7P9807mQi5I5WtFUypkFWpWP1ACl0AJVJMaa7NUkAOxoBYAuRJGCeJyEZ5nArGEsiARX7EMs5CGNLZpCpZgdL5m3lcK6SzLDOwI99Joz6Qm2EaMt8fk5fJ3R7YsAhXrKqm9DWJzm6VHX9h37w3xrC6Mye+1yckdCJ2YuhEiiJwhsAZAmcInCFIvUWfCFuXMM2VZjYKu7crO8awTZaHF3ZgNvmLNkRJDj6EmR+nPA6GaZpwn/FAZIIlPBrlpzZcW1bgsr36+S9FieTe5/E98FE+iv0hG+GU/Cj18zBPWOL/Q1FuIpef6wuwBqDiuoSB2RaDNRi3LNzI0pLGAWVlqSRnVuriTnMLdlAhh23ojOuiQhQzK7DPoiJTMqfXb3Kf0Ovn/Rr8xz4uxvvMhOZGa4t52bWsPMzyI6oftIBOd0za7LH8FtTCva9bMPUnUMCtNh3qHTu0dGb6C/VR4bxdkFb3uLtowlizBcQfLQZwQzh8lnbdOaMfneaGrTZQtPls3dHj2G4LT636vkW4Gg5oD4cEhXhcSyWOjp1dG9JRYIlEf/g/kGRympenoFjZNd72el38eTjc3ojgo2dU3ylwx7f1Mzo/sOdygQEcp9Jbw+EJP4Tf9vDGfQiU9MhP9L161pajNy+XpjrEbipDwslqYKN3zSBfzidxscldt/zNVuPeX1j5HxBZ3kk=</script> <treescope-run-here><script type=\"application/octet-stream\"> const root = ( Array.from(document.getElementsByClassName( \"treescope_out_1a76e6e09793493b97cf7acaeb1888f6\")) .filter((elt) => !elt.dataset['step1']) )[0]; root.dataset['step1'] = 1; root.defns.insertContent( this.parentNode.querySelector('script[type=\"application/octet-stream\"]'), true ); this.parentNode.remove(); </script></treescope-run-here> </div>"
      ],
      "text/plain": [
       "<IPython.core.display.HTML object>"
      ]
     },
     "metadata": {},
     "output_type": "display_data"
    },
    {
     "data": {
      "text/html": [
       "<treescope-run-here><script type=\"application/octet-stream\"> const root = ( Array.from(document.getElementsByClassName( \"treescope_out_1a76e6e09793493b97cf7acaeb1888f6\")) .filter((elt) => !elt.dataset.stolen) )[0]; root.dataset.stolen = 1; this.parentNode.replaceChild(root, this); </script></treescope-run-here>"
      ],
      "text/plain": [
       "OrderedDict([((DictKey(key='b'),),\n",
       "              <jax.Array([ 0.,  2.,  4.,  6.,  8., 10., 12., 14., 16., 18.], dtype=float32)>),\n",
       "             ((DictKey(key='c'), SequenceKey(idx=0), DictKey(key='value')),\n",
       "              <jax.Array([1., 1., 1., 1., 1., 1., 1., 1., 1., 1., 1., 1.], dtype=float32)>),\n",
       "             ((DictKey(key='c'), SequenceKey(idx=1), DictKey(key='value')),\n",
       "              <jax.Array([0., 0., 0., 0., 0., 0., 0.], dtype=float32)>)])"
      ]
     },
     "execution_count": 56,
     "metadata": {},
     "output_type": "execute_result"
    }
   ],
   "source": [
    "def my_loss(obj):\n",
    "  return obj[\"a\"] + jnp.sum(obj[\"b\"]**2) + jnp.sum(obj[\"c\"][0][\"value\"])\n",
    "\n",
    "my_float_object = jax.tree_util.tree_map(lambda leaf: jnp.array(leaf, dtype=jnp.float32), my_nested_object)\n",
    "\n",
    "# Take gradients w.r.t. non-scalars only, ignoring my_float_object[\"a\"] and my_float_object[\"c\"][2][\"value\"]\n",
    "gradient_selection = pz.select(my_float_object).at_instances_of(jax.Array).where(lambda arr: arr.size > 1)\n",
    "\n",
    "jax.grad(\n",
    "    # Swap in the version of the values that JAX is taking gradients for:\n",
    "    lambda vectors_by_path: my_loss(gradient_selection.set_by_path(vectors_by_path))\n",
    ")(gradient_selection.get_by_path())"
   ]
  },
  {
   "cell_type": "markdown",
   "metadata": {
    "id": "bkZAwu42ftwC"
   },
   "source": [
    "You can also use `select_and_set_by_path` to infer the selection from the input paths instead:"
   ]
  },
  {
   "cell_type": "code",
   "execution_count": 57,
   "metadata": {
    "execution": {
     "iopub.execute_input": "2024-09-11T16:37:59.354967Z",
     "iopub.status.busy": "2024-09-11T16:37:59.354716Z",
     "iopub.status.idle": "2024-09-11T16:37:59.373309Z",
     "shell.execute_reply": "2024-09-11T16:37:59.373428Z"
    },
    "id": "73vXA1ZvfxFK"
   },
   "outputs": [
    {
     "data": {
      "text/html": [
       "<script> (()=>{ if (customElements.get('treescope-container') === undefined) { class TreescopeContainer extends HTMLElement { constructor() { super(); this.attachShadow({mode: \"open\"}); this.defns = {}; this.state = {}; } } customElements.define(\"treescope-container\", TreescopeContainer); } if (customElements.get('treescope-run-here') === undefined) { class RunHere extends HTMLElement { constructor() { super() } connectedCallback() { const run = child => { const fn = new Function(child.textContent); child.textContent = \"\"; fn.call(this); this.remove(); }; const child = this.querySelector(\"script\"); if (child) { run(child); } else { new MutationObserver(()=>{ run(this.querySelector(\"script\")); }).observe(this, {childList: true}); } } } customElements.define(\"treescope-run-here\", RunHere); } })(); </script> <treescope-container class=\"treescope_out_df8a88e1e5b642bd85b04e249dc7b09a\" ></treescope-container> <treescope-run-here><script type=\"application/octet-stream\"> const root = ( Array.from(document.getElementsByClassName( \"treescope_out_df8a88e1e5b642bd85b04e249dc7b09a\")) .filter((elt) => !elt.dataset.setup) )[0]; root.dataset.setup = 1; const msg = document.createElement(\"span\"); msg.style = \"color: #cccccc; font-family: monospace;\"; msg.textContent = \"(Loading...)\"; root.state.loadingMsg = msg; root.shadowRoot.appendChild(msg); root.state.chain = new Promise((resolve, reject) => { const observer = new IntersectionObserver((entries) => { for (const entry of entries) { if (entry.isIntersecting) { resolve(); observer.disconnect(); return; } } }, {rootMargin: \"1000px\"}); window.setTimeout(() => { observer.observe(root); }, 0); }); root.state.deferring = false; const _insertNode = (node) => { for (let oldScript of node.querySelectorAll(\"script\")) { let newScript = document.createElement(\"script\"); newScript.type = oldScript.type; newScript.textContent = oldScript.textContent; oldScript.parentNode.replaceChild(newScript, oldScript); } if (root.state.loadingMsg) { root.state.loadingMsg.remove(); root.state.loadingMsg = null; } root.shadowRoot.appendChild(node); }; root.defns.insertContent = ((contentNode, compressed) => { if (compressed) { root.state.deferring = true; } if (root.state.deferring) { root.state.chain = (async () => { await root.state.chain; if (compressed) { const encoded = contentNode.textContent; const blob = new Blob([ Uint8Array.from(atob(encoded), (m) => m.codePointAt(0)) ]); const reader = blob.stream().pipeThrough( new DecompressionStream(\"deflate\") ).pipeThrough( new TextDecoderStream(\"utf-8\") ).getReader(); const parts = []; while (true) { const step = await reader.read(); if (step.done) { break; } parts.push(step.value); } const tpl = document.createElement('template'); tpl.innerHTML = parts.join(\"\"); _insertNode(tpl.content); } else { _insertNode(contentNode.content); } })(); } else { _insertNode(contentNode.content); } }); </script></treescope-run-here><div style=\"display:none\"> <script type=\"application/octet-stream\" >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</script> <treescope-run-here><script type=\"application/octet-stream\"> const root = ( Array.from(document.getElementsByClassName( \"treescope_out_df8a88e1e5b642bd85b04e249dc7b09a\")) .filter((elt) => !elt.dataset['step0']) )[0]; root.dataset['step0'] = 1; root.defns.insertContent( this.parentNode.querySelector('script[type=\"application/octet-stream\"]'), true ); this.parentNode.remove(); </script></treescope-run-here> </div>"
      ],
      "text/plain": [
       "<IPython.core.display.HTML object>"
      ]
     },
     "metadata": {},
     "output_type": "display_data"
    },
    {
     "data": {
      "text/html": [
       "<div style=\"display:none\"> <script type=\"application/octet-stream\" >eNq1VEuP2jAQ/iuWV1qBFrJJCCFZHlK720p76aE99IAQcuwJuDJx6hjUqNr/3nEILLRUpZV6yMTj+b55JxMhd6SytYIpFbIqFasfSKELoESKKc21WQrIwRgQy+EgzlPIwpEfhZEfjrJ4OGJpykWScJHGgs4mVckKlM7fzONaIZ1lmYEd+U4a9YHcxEnIfH9MXib3e2DDIlyxqprSUxKd3So7/sK+eW+MYXVnTnyvR0joRORE7ESCInCGwBkCZwicIUi8RY8IW5cwzZVmdhB2b1d2jGGbLA8v7MBs8hdtSLPhMIjCwOc8iUBAGvgDfxinmYiDPAhP2nBtWYHL9urnvxTF4lGQCOGLwTCNIt9Pw5hl4SD344SlUfYPRbmJXH6uL8AagIrrEvpmW/TXYNyycCNLSxoHlJWlkpxZqYt7zS3YfoUctqEzrosKUcyswD6LikzJnF6/yT1Cr5/3KfiPfVyM95kJzY3WFvOya1l5mOVHVD9oAZ3umLTZY/ktqIV7X7dg6k+ggFttOtQ7dmjpzPQX6qPCebsgre5xd9GEsWYLiD9aDOCGcPgs7bpzRj86zQ1bbaBo89m6o8ex3RaeWvV9i3A1HNAeDgkK8biWShwdO7s2pKPAEon+8H8gyeR1Xp6CYmXXeHt318Wfh8PtjQg+ekb1nQJ3fFs/o/MDey4XGMBxKr01HJ7wQ/htD2/ch0DJHfmJvlfP2nL05uXSVIfYTWVIeLUa2OhdM8iX80lcbHLXLX+z1bj3F1b+BxAY2cs=</script> <treescope-run-here><script type=\"application/octet-stream\"> const root = ( Array.from(document.getElementsByClassName( \"treescope_out_df8a88e1e5b642bd85b04e249dc7b09a\")) .filter((elt) => !elt.dataset['step1']) )[0]; root.dataset['step1'] = 1; root.defns.insertContent( this.parentNode.querySelector('script[type=\"application/octet-stream\"]'), true ); this.parentNode.remove(); </script></treescope-run-here> </div>"
      ],
      "text/plain": [
       "<IPython.core.display.HTML object>"
      ]
     },
     "metadata": {},
     "output_type": "display_data"
    },
    {
     "data": {
      "text/html": [
       "<treescope-run-here><script type=\"application/octet-stream\"> const root = ( Array.from(document.getElementsByClassName( \"treescope_out_df8a88e1e5b642bd85b04e249dc7b09a\")) .filter((elt) => !elt.dataset.stolen) )[0]; root.dataset.stolen = 1; this.parentNode.replaceChild(root, this); </script></treescope-run-here>"
      ],
      "text/plain": [
       "OrderedDict([((DictKey(key='b'),),\n",
       "              <jax.Array([ 0.,  2.,  4.,  6.,  8., 10., 12., 14., 16., 18.], dtype=float32)>),\n",
       "             ((DictKey(key='c'), SequenceKey(idx=0), DictKey(key='value')),\n",
       "              <jax.Array([1., 1., 1., 1., 1., 1., 1., 1., 1., 1., 1., 1.], dtype=float32)>),\n",
       "             ((DictKey(key='c'), SequenceKey(idx=1), DictKey(key='value')),\n",
       "              <jax.Array([0., 0., 0., 0., 0., 0., 0.], dtype=float32)>)])"
      ]
     },
     "execution_count": 57,
     "metadata": {},
     "output_type": "execute_result"
    }
   ],
   "source": [
    "def my_loss(obj):\n",
    "  return obj[\"a\"] + jnp.sum(obj[\"b\"]**2) + jnp.sum(obj[\"c\"][0][\"value\"])\n",
    "\n",
    "my_float_object = jax.tree_util.tree_map(lambda leaf: jnp.array(leaf, dtype=jnp.float32), my_nested_object)\n",
    "\n",
    "# Take gradients w.r.t. non-scalars only, ignoring my_float_object[\"a\"] and my_float_object[\"c\"][2][\"value\"]\n",
    "# No need to store the gradient selection itself, since it can be inferred from vectors_by_path.\n",
    "vectors_by_path = pz.select(my_float_object).at_instances_of(jax.Array).where(lambda arr: arr.size > 1).get_by_path()\n",
    "\n",
    "jax.grad(\n",
    "    lambda vectors_by_path: my_loss(pz.select(my_float_object).select_and_set_by_path(vectors_by_path))\n",
    ")(vectors_by_path)"
   ]
  },
  {
   "cell_type": "markdown",
   "metadata": {
    "id": "p91fKstrxqoe"
   },
   "source": [
    "### Applying functions to selected values\n",
    "\n",
    "You can use `.apply` to apply a function to every selected object, similar to `jax.tree_util.tree_map` except that it applies to the selected subtrees rather than to the leaves:"
   ]
  },
  {
   "cell_type": "code",
   "execution_count": 58,
   "metadata": {
    "execution": {
     "iopub.execute_input": "2024-09-11T16:37:59.381523Z",
     "iopub.status.busy": "2024-09-11T16:37:59.381256Z",
     "iopub.status.idle": "2024-09-11T16:37:59.459759Z",
     "shell.execute_reply": "2024-09-11T16:37:59.459447Z"
    },
    "id": "PrRQyM58xbOE"
   },
   "outputs": [
    {
     "data": {
      "text/html": [
       "<script> (()=>{ if (customElements.get('treescope-container') === undefined) { class TreescopeContainer extends HTMLElement { constructor() { super(); this.attachShadow({mode: \"open\"}); this.defns = {}; this.state = {}; } } customElements.define(\"treescope-container\", TreescopeContainer); } if (customElements.get('treescope-run-here') === undefined) { class RunHere extends HTMLElement { constructor() { super() } connectedCallback() { const run = child => { const fn = new Function(child.textContent); child.textContent = \"\"; fn.call(this); this.remove(); }; const child = this.querySelector(\"script\"); if (child) { run(child); } else { new MutationObserver(()=>{ run(this.querySelector(\"script\")); }).observe(this, {childList: true}); } } } customElements.define(\"treescope-run-here\", RunHere); } })(); </script> <treescope-container class=\"treescope_out_7fc96c1b64c0441f8dd7db87d62ae6ae\" ></treescope-container> <treescope-run-here><script type=\"application/octet-stream\"> const root = ( Array.from(document.getElementsByClassName( \"treescope_out_7fc96c1b64c0441f8dd7db87d62ae6ae\")) .filter((elt) => !elt.dataset.setup) )[0]; root.dataset.setup = 1; const msg = document.createElement(\"span\"); msg.style = \"color: #cccccc; font-family: monospace;\"; msg.textContent = \"(Loading...)\"; root.state.loadingMsg = msg; root.shadowRoot.appendChild(msg); root.state.chain = new Promise((resolve, reject) => { const observer = new IntersectionObserver((entries) => { for (const entry of entries) { if (entry.isIntersecting) { resolve(); observer.disconnect(); return; } } }, {rootMargin: \"1000px\"}); window.setTimeout(() => { observer.observe(root); }, 0); }); root.state.deferring = false; const _insertNode = (node) => { for (let oldScript of node.querySelectorAll(\"script\")) { let newScript = document.createElement(\"script\"); newScript.type = oldScript.type; newScript.textContent = oldScript.textContent; oldScript.parentNode.replaceChild(newScript, oldScript); } if (root.state.loadingMsg) { root.state.loadingMsg.remove(); root.state.loadingMsg = null; } root.shadowRoot.appendChild(node); }; root.defns.insertContent = ((contentNode, compressed) => { if (compressed) { root.state.deferring = true; } if (root.state.deferring) { root.state.chain = (async () => { await root.state.chain; if (compressed) { const encoded = contentNode.textContent; const blob = new Blob([ Uint8Array.from(atob(encoded), (m) => m.codePointAt(0)) ]); const reader = blob.stream().pipeThrough( new DecompressionStream(\"deflate\") ).pipeThrough( new TextDecoderStream(\"utf-8\") ).getReader(); const parts = []; while (true) { const step = await reader.read(); if (step.done) { break; } parts.push(step.value); } const tpl = document.createElement('template'); tpl.innerHTML = parts.join(\"\"); _insertNode(tpl.content); } else { _insertNode(contentNode.content); } })(); } else { _insertNode(contentNode.content); } }); </script></treescope-run-here><div style=\"display:none\"> <script type=\"application/octet-stream\" >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</script> <treescope-run-here><script type=\"application/octet-stream\"> const root = ( Array.from(document.getElementsByClassName( \"treescope_out_7fc96c1b64c0441f8dd7db87d62ae6ae\")) .filter((elt) => !elt.dataset['step0']) )[0]; root.dataset['step0'] = 1; root.defns.insertContent( this.parentNode.querySelector('script[type=\"application/octet-stream\"]'), true ); this.parentNode.remove(); </script></treescope-run-here> </div>"
      ],
      "text/plain": [
       "<IPython.core.display.HTML object>"
      ]
     },
     "metadata": {},
     "output_type": "display_data"
    },
    {
     "data": {
      "text/html": [
       "<div style=\"display:none\"> <script type=\"application/octet-stream\" >eNq1VE1v2zAM/SuCChQJkri2Yqd28wFs7Qb0ssN22CEoClmiEw2K5clKsKDofx/lOG67dWs3oBdaFPlIPpLyTKodqd1ew5xKVVea7y9IaUqgRMk5LYy9lVCAtSBvCyaLc5GFaQJFnDCWxUJmMmZFfh7lIovpYlZXvETp4y0CYTTCeZ5b2JE70qgX5GSSMh6GU3I/Ozs4NigiNK/rOX0MootT7abf+I/gnbV831tGYTgkURh5EXuRoYgmKFiCYuxPsb+beGsa3QyJdPsK5qp0Y9Y/XbkpJm1qPH6Q/2L2L03A8pNUjsdcsjhMwzyJJ0UxzicZz5MJ5w9NeCtSQ8I8grG3oJenkIpInEMeQpwgqzQOQwYiZmPGEpn9F73As3pJdmQKbfhf6TgLUAtTwchuy9EarF8hYVXlSBOA8qrSSnCnTHlmhAM3qhHDN3QhTFmjF7crcNeyJnOypK/f7yGhr9+Dx84vdvVmeqhMGmGNcViXW6s6wCo/o/rJSOj1p6StHum3Tq178H0Ldv8FNAhnbI8GXYduvZn+Br3UOH2fpNUD4S+aNM5uAf07iwXcFwFflVv3nsC7oIXlqw2UbT1bfwwEttvBVat+bD08h6N3gEOCUl6ulZZdYG83lvQ0OKIwHv4lFJk9zCvQUK7cGm8Hgz7+UrzfwYjOXWRUP2jwx/f7awx+RC/VDSbwmNpsrYArfBZ/7OGJfxaUDMgv8IP6pC1dtKBQtj7mbpgh4MFqYWN2zSDvn07i2Sb3/fI3W417/8zK/wQ5++BS</script> <treescope-run-here><script type=\"application/octet-stream\"> const root = ( Array.from(document.getElementsByClassName( \"treescope_out_7fc96c1b64c0441f8dd7db87d62ae6ae\")) .filter((elt) => !elt.dataset['step1']) )[0]; root.dataset['step1'] = 1; root.defns.insertContent( this.parentNode.querySelector('script[type=\"application/octet-stream\"]'), true ); this.parentNode.remove(); </script></treescope-run-here> </div>"
      ],
      "text/plain": [
       "<IPython.core.display.HTML object>"
      ]
     },
     "metadata": {},
     "output_type": "display_data"
    },
    {
     "data": {
      "text/html": [
       "<treescope-run-here><script type=\"application/octet-stream\"> const root = ( Array.from(document.getElementsByClassName( \"treescope_out_7fc96c1b64c0441f8dd7db87d62ae6ae\")) .filter((elt) => !elt.dataset.stolen) )[0]; root.dataset.stolen = 1; this.parentNode.replaceChild(root, this); </script></treescope-run-here>"
      ],
      "text/plain": [
       "{'a': 1,\n",
       " 'b': <jax.Array([100, 101, 104, 109, 116, 125, 136, 149, 164, 181], dtype=int32)>,\n",
       " 'c': [{'value': <jax.Array([100, 101, 104, 109, 116, 125, 136, 149, 164, 181, 200, 221], dtype=int32)>},\n",
       "  {'value': <jax.Array([100., 100., 100., 100., 100., 100., 100.], dtype=float32)>},\n",
       "  {'value': 3}]}"
      ]
     },
     "execution_count": 58,
     "metadata": {},
     "output_type": "execute_result"
    }
   ],
   "source": [
    "pz.select(my_nested_object).at_instances_of(jax.Array).apply(lambda x: x**2 + 100)"
   ]
  },
  {
   "cell_type": "markdown",
   "metadata": {
    "id": "CNBv2zCFysUP"
   },
   "source": [
    "You can also do `apply(fn, with_keypath=True)` to get access to the key paths as well:"
   ]
  },
  {
   "cell_type": "code",
   "execution_count": 59,
   "metadata": {
    "execution": {
     "iopub.execute_input": "2024-09-11T16:37:59.465518Z",
     "iopub.status.busy": "2024-09-11T16:37:59.465284Z",
     "iopub.status.idle": "2024-09-11T16:37:59.469187Z",
     "shell.execute_reply": "2024-09-11T16:37:59.468989Z"
    },
    "id": "8sT0FJ2yypAd"
   },
   "outputs": [
    {
     "data": {
      "text/html": [
       "<script> (()=>{ if (customElements.get('treescope-container') === undefined) { class TreescopeContainer extends HTMLElement { constructor() { super(); this.attachShadow({mode: \"open\"}); this.defns = {}; this.state = {}; } } customElements.define(\"treescope-container\", TreescopeContainer); } if (customElements.get('treescope-run-here') === undefined) { class RunHere extends HTMLElement { constructor() { super() } connectedCallback() { const run = child => { const fn = new Function(child.textContent); child.textContent = \"\"; fn.call(this); this.remove(); }; const child = this.querySelector(\"script\"); if (child) { run(child); } else { new MutationObserver(()=>{ run(this.querySelector(\"script\")); }).observe(this, {childList: true}); } } } customElements.define(\"treescope-run-here\", RunHere); } })(); </script> <treescope-container class=\"treescope_out_325ecccffe9b4806ac9610aea452f65f\" ></treescope-container> <treescope-run-here><script type=\"application/octet-stream\"> const root = ( Array.from(document.getElementsByClassName( \"treescope_out_325ecccffe9b4806ac9610aea452f65f\")) .filter((elt) => !elt.dataset.setup) )[0]; root.dataset.setup = 1; const msg = document.createElement(\"span\"); msg.style = \"color: #cccccc; font-family: monospace;\"; msg.textContent = \"(Loading...)\"; root.state.loadingMsg = msg; root.shadowRoot.appendChild(msg); root.state.chain = new Promise((resolve, reject) => { const observer = new IntersectionObserver((entries) => { for (const entry of entries) { if (entry.isIntersecting) { resolve(); observer.disconnect(); return; } } }, {rootMargin: \"1000px\"}); window.setTimeout(() => { observer.observe(root); }, 0); }); root.state.deferring = false; const _insertNode = (node) => { for (let oldScript of node.querySelectorAll(\"script\")) { let newScript = document.createElement(\"script\"); newScript.type = oldScript.type; newScript.textContent = oldScript.textContent; oldScript.parentNode.replaceChild(newScript, oldScript); } if (root.state.loadingMsg) { root.state.loadingMsg.remove(); root.state.loadingMsg = null; } root.shadowRoot.appendChild(node); }; root.defns.insertContent = ((contentNode, compressed) => { if (compressed) { root.state.deferring = true; } if (root.state.deferring) { root.state.chain = (async () => { await root.state.chain; if (compressed) { const encoded = contentNode.textContent; const blob = new Blob([ Uint8Array.from(atob(encoded), (m) => m.codePointAt(0)) ]); const reader = blob.stream().pipeThrough( new DecompressionStream(\"deflate\") ).pipeThrough( new TextDecoderStream(\"utf-8\") ).getReader(); const parts = []; while (true) { const step = await reader.read(); if (step.done) { break; } parts.push(step.value); } const tpl = document.createElement('template'); tpl.innerHTML = parts.join(\"\"); _insertNode(tpl.content); } else { _insertNode(contentNode.content); } })(); } else { _insertNode(contentNode.content); } }); </script></treescope-run-here><div style=\"display:none\"> <script type=\"application/octet-stream\" >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</script> <treescope-run-here><script type=\"application/octet-stream\"> const root = ( Array.from(document.getElementsByClassName( \"treescope_out_325ecccffe9b4806ac9610aea452f65f\")) .filter((elt) => !elt.dataset['step0']) )[0]; root.dataset['step0'] = 1; root.defns.insertContent( this.parentNode.querySelector('script[type=\"application/octet-stream\"]'), true ); this.parentNode.remove(); </script></treescope-run-here> </div>"
      ],
      "text/plain": [
       "<IPython.core.display.HTML object>"
      ]
     },
     "metadata": {},
     "output_type": "display_data"
    },
    {
     "data": {
      "text/html": [
       "<treescope-run-here><script type=\"application/octet-stream\"> const root = ( Array.from(document.getElementsByClassName( \"treescope_out_325ecccffe9b4806ac9610aea452f65f\")) .filter((elt) => !elt.dataset.stolen) )[0]; root.dataset.stolen = 1; this.parentNode.replaceChild(root, this); </script></treescope-run-here>"
      ],
      "text/plain": [
       "{'a': 1,\n",
       " 'b': \"key=(DictKey(key='b'),), value=[0 1 2 3 4 5 6 7 8 9]\",\n",
       " 'c': [{'value': \"key=(DictKey(key='c'), SequenceKey(idx=0), DictKey(key='value')), value=[ 0  1  2  3  4  5  6  7  8  9 10 11]\"},\n",
       "  {'value': \"key=(DictKey(key='c'), SequenceKey(idx=1), DictKey(key='value')), value=[0. 0. 0. 0. 0. 0. 0.]\"},\n",
       "  {'value': 3}]}"
      ]
     },
     "execution_count": 59,
     "metadata": {},
     "output_type": "execute_result"
    }
   ],
   "source": [
    "(\n",
    "    pz.select(my_nested_object)\n",
    "    .at_instances_of(jax.Array)\n",
    "    .apply(lambda key, value: f\"key={key}, value={value}\", with_keypath=True)\n",
    ")"
   ]
  },
  {
   "cell_type": "markdown",
   "metadata": {
    "id": "-RZGXU2ey_B7"
   },
   "source": [
    "By default, applying a function also removes the selection. If you want to do further processing, you can pass `keep_selected=True` to replace the values but keep them selected:"
   ]
  },
  {
   "cell_type": "code",
   "execution_count": 60,
   "metadata": {
    "execution": {
     "iopub.execute_input": "2024-09-11T16:37:59.477983Z",
     "iopub.status.busy": "2024-09-11T16:37:59.477580Z",
     "iopub.status.idle": "2024-09-11T16:37:59.486496Z",
     "shell.execute_reply": "2024-09-11T16:37:59.486323Z"
    },
    "id": "CtTI_jwXy9il"
   },
   "outputs": [
    {
     "data": {
      "text/html": [
       "<script> (()=>{ if (customElements.get('treescope-container') === undefined) { class TreescopeContainer extends HTMLElement { constructor() { super(); this.attachShadow({mode: \"open\"}); this.defns = {}; this.state = {}; } } customElements.define(\"treescope-container\", TreescopeContainer); } if (customElements.get('treescope-run-here') === undefined) { class RunHere extends HTMLElement { constructor() { super() } connectedCallback() { const run = child => { const fn = new Function(child.textContent); child.textContent = \"\"; fn.call(this); this.remove(); }; const child = this.querySelector(\"script\"); if (child) { run(child); } else { new MutationObserver(()=>{ run(this.querySelector(\"script\")); }).observe(this, {childList: true}); } } } customElements.define(\"treescope-run-here\", RunHere); } })(); </script> <treescope-container class=\"treescope_out_4cf042154c4a45fb9864f04d117e5d1d\" ></treescope-container> <treescope-run-here><script type=\"application/octet-stream\"> const root = ( Array.from(document.getElementsByClassName( \"treescope_out_4cf042154c4a45fb9864f04d117e5d1d\")) .filter((elt) => !elt.dataset.setup) )[0]; root.dataset.setup = 1; const msg = document.createElement(\"span\"); msg.style = \"color: #cccccc; font-family: monospace;\"; msg.textContent = \"(Loading...)\"; root.state.loadingMsg = msg; root.shadowRoot.appendChild(msg); root.state.chain = new Promise((resolve, reject) => { const observer = new IntersectionObserver((entries) => { for (const entry of entries) { if (entry.isIntersecting) { resolve(); observer.disconnect(); return; } } }, {rootMargin: \"1000px\"}); window.setTimeout(() => { observer.observe(root); }, 0); }); root.state.deferring = false; const _insertNode = (node) => { for (let oldScript of node.querySelectorAll(\"script\")) { let newScript = document.createElement(\"script\"); newScript.type = oldScript.type; newScript.textContent = oldScript.textContent; oldScript.parentNode.replaceChild(newScript, oldScript); } if (root.state.loadingMsg) { root.state.loadingMsg.remove(); root.state.loadingMsg = null; } root.shadowRoot.appendChild(node); }; root.defns.insertContent = ((contentNode, compressed) => { if (compressed) { root.state.deferring = true; } if (root.state.deferring) { root.state.chain = (async () => { await root.state.chain; if (compressed) { const encoded = contentNode.textContent; const blob = new Blob([ Uint8Array.from(atob(encoded), (m) => m.codePointAt(0)) ]); const reader = blob.stream().pipeThrough( new DecompressionStream(\"deflate\") ).pipeThrough( new TextDecoderStream(\"utf-8\") ).getReader(); const parts = []; while (true) { const step = await reader.read(); if (step.done) { break; } parts.push(step.value); } const tpl = document.createElement('template'); tpl.innerHTML = parts.join(\"\"); _insertNode(tpl.content); } else { _insertNode(contentNode.content); } })(); } else { _insertNode(contentNode.content); } }); </script></treescope-run-here><div style=\"display:none\"> <script type=\"application/octet-stream\" >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</script> <treescope-run-here><script type=\"application/octet-stream\"> const root = ( Array.from(document.getElementsByClassName( \"treescope_out_4cf042154c4a45fb9864f04d117e5d1d\")) .filter((elt) => !elt.dataset['step0']) )[0]; root.dataset['step0'] = 1; root.defns.insertContent( this.parentNode.querySelector('script[type=\"application/octet-stream\"]'), true ); this.parentNode.remove(); </script></treescope-run-here> </div>"
      ],
      "text/plain": [
       "<IPython.core.display.HTML object>"
      ]
     },
     "metadata": {},
     "output_type": "display_data"
    },
    {
     "data": {
      "text/html": [
       "<treescope-run-here><script type=\"application/octet-stream\"> const root = ( Array.from(document.getElementsByClassName( \"treescope_out_4cf042154c4a45fb9864f04d117e5d1d\")) .filter((elt) => !elt.dataset.stolen) )[0]; root.dataset.stolen = 1; this.parentNode.replaceChild(root, this); </script></treescope-run-here>"
      ],
      "text/plain": [
       "Selection(\n",
       "  selected_by_path=OrderedDict({\n",
       "    (DictKey(key='b'),):\n",
       "      \"key=(DictKey(key='b'),), value=[0 1 2 3 4 5 6 7 8 9]\",\n",
       "    (DictKey(key='c'), SequenceKey(idx=0), DictKey(key='value')):\n",
       "      \"key=(DictKey(key='c'), SequenceKey(idx=0), DictKey(key='value')), value=[ 0  1  2  3  4  5  6  7  8  9 10 11]\",\n",
       "    (DictKey(key='c'), SequenceKey(idx=1), DictKey(key='value')):\n",
       "      \"key=(DictKey(key='c'), SequenceKey(idx=1), DictKey(key='value')), value=[0. 0. 0. 0. 0. 0. 0.]\",\n",
       "  }),\n",
       "  remainder={'a': 1, 'b': SelectionHole(path=(DictKey(key='b'),)), 'c': [{'value': SelectionHole(path=(DictKey(key='c'), SequenceKey(idx=0), DictKey(key='value')))}, {'value': SelectionHole(path=(DictKey(key='c'), SequenceKey(idx=1), DictKey(key='value')))}, {'value': 3}]},\n",
       ")"
      ]
     },
     "execution_count": 60,
     "metadata": {},
     "output_type": "execute_result"
    }
   ],
   "source": [
    "(\n",
    "    pz.select(my_nested_object)\n",
    "    .at_instances_of(jax.Array)\n",
    "    .apply(lambda key, value: f\"key={key}, value={value}\", with_keypath=True, keep_selected=True)\n",
    ")"
   ]
  },
  {
   "cell_type": "markdown",
   "metadata": {
    "id": "YJujHVUOzmtm"
   },
   "source": [
    "Sometimes, it's also useful to pass the index of the selected node relative to the *selection* (e.g. \"this is the third selected node\") instead of the absolute keypath. For this, theres `.apply_with_selected_index`:"
   ]
  },
  {
   "cell_type": "code",
   "execution_count": 61,
   "metadata": {
    "execution": {
     "iopub.execute_input": "2024-09-11T16:37:59.495151Z",
     "iopub.status.busy": "2024-09-11T16:37:59.494917Z",
     "iopub.status.idle": "2024-09-11T16:37:59.503291Z",
     "shell.execute_reply": "2024-09-11T16:37:59.503407Z"
    },
    "id": "xLrWVjiazLVS"
   },
   "outputs": [
    {
     "data": {
      "text/html": [
       "<script> (()=>{ if (customElements.get('treescope-container') === undefined) { class TreescopeContainer extends HTMLElement { constructor() { super(); this.attachShadow({mode: \"open\"}); this.defns = {}; this.state = {}; } } customElements.define(\"treescope-container\", TreescopeContainer); } if (customElements.get('treescope-run-here') === undefined) { class RunHere extends HTMLElement { constructor() { super() } connectedCallback() { const run = child => { const fn = new Function(child.textContent); child.textContent = \"\"; fn.call(this); this.remove(); }; const child = this.querySelector(\"script\"); if (child) { run(child); } else { new MutationObserver(()=>{ run(this.querySelector(\"script\")); }).observe(this, {childList: true}); } } } customElements.define(\"treescope-run-here\", RunHere); } })(); </script> <treescope-container class=\"treescope_out_4ec52cdc3dbb4d8e9bf48a261eb6bc70\" ></treescope-container> <treescope-run-here><script type=\"application/octet-stream\"> const root = ( Array.from(document.getElementsByClassName( \"treescope_out_4ec52cdc3dbb4d8e9bf48a261eb6bc70\")) .filter((elt) => !elt.dataset.setup) )[0]; root.dataset.setup = 1; const msg = document.createElement(\"span\"); msg.style = \"color: #cccccc; font-family: monospace;\"; msg.textContent = \"(Loading...)\"; root.state.loadingMsg = msg; root.shadowRoot.appendChild(msg); root.state.chain = new Promise((resolve, reject) => { const observer = new IntersectionObserver((entries) => { for (const entry of entries) { if (entry.isIntersecting) { resolve(); observer.disconnect(); return; } } }, {rootMargin: \"1000px\"}); window.setTimeout(() => { observer.observe(root); }, 0); }); root.state.deferring = false; const _insertNode = (node) => { for (let oldScript of node.querySelectorAll(\"script\")) { let newScript = document.createElement(\"script\"); newScript.type = oldScript.type; newScript.textContent = oldScript.textContent; oldScript.parentNode.replaceChild(newScript, oldScript); } if (root.state.loadingMsg) { root.state.loadingMsg.remove(); root.state.loadingMsg = null; } root.shadowRoot.appendChild(node); }; root.defns.insertContent = ((contentNode, compressed) => { if (compressed) { root.state.deferring = true; } if (root.state.deferring) { root.state.chain = (async () => { await root.state.chain; if (compressed) { const encoded = contentNode.textContent; const blob = new Blob([ Uint8Array.from(atob(encoded), (m) => m.codePointAt(0)) ]); const reader = blob.stream().pipeThrough( new DecompressionStream(\"deflate\") ).pipeThrough( new TextDecoderStream(\"utf-8\") ).getReader(); const parts = []; while (true) { const step = await reader.read(); if (step.done) { break; } parts.push(step.value); } const tpl = document.createElement('template'); tpl.innerHTML = parts.join(\"\"); _insertNode(tpl.content); } else { _insertNode(contentNode.content); } })(); } else { _insertNode(contentNode.content); } }); </script></treescope-run-here><div style=\"display:none\"> <script type=\"application/octet-stream\" >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</script> <treescope-run-here><script type=\"application/octet-stream\"> const root = ( Array.from(document.getElementsByClassName( \"treescope_out_4ec52cdc3dbb4d8e9bf48a261eb6bc70\")) .filter((elt) => !elt.dataset['step0']) )[0]; root.dataset['step0'] = 1; root.defns.insertContent( this.parentNode.querySelector('script[type=\"application/octet-stream\"]'), true ); this.parentNode.remove(); </script></treescope-run-here> </div>"
      ],
      "text/plain": [
       "<IPython.core.display.HTML object>"
      ]
     },
     "metadata": {},
     "output_type": "display_data"
    },
    {
     "data": {
      "text/html": [
       "<treescope-run-here><script type=\"application/octet-stream\"> const root = ( Array.from(document.getElementsByClassName( \"treescope_out_4ec52cdc3dbb4d8e9bf48a261eb6bc70\")) .filter((elt) => !elt.dataset.stolen) )[0]; root.dataset.stolen = 1; this.parentNode.replaceChild(root, this); </script></treescope-run-here>"
      ],
      "text/plain": [
       "Selection(\n",
       "  selected_by_path=OrderedDict({\n",
       "    (DictKey(key='b'),):\n",
       "      'index=0, value=[0 1 2 3 4 5 6 7 8 9]',\n",
       "    (DictKey(key='c'), SequenceKey(idx=0), DictKey(key='value')):\n",
       "      'index=1, value=[ 0  1  2  3  4  5  6  7  8  9 10 11]',\n",
       "    (DictKey(key='c'), SequenceKey(idx=1), DictKey(key='value')):\n",
       "      'index=2, value=[0. 0. 0. 0. 0. 0. 0.]',\n",
       "  }),\n",
       "  remainder={'a': 1, 'b': SelectionHole(path=(DictKey(key='b'),)), 'c': [{'value': SelectionHole(path=(DictKey(key='c'), SequenceKey(idx=0), DictKey(key='value')))}, {'value': SelectionHole(path=(DictKey(key='c'), SequenceKey(idx=1), DictKey(key='value')))}, {'value': 3}]},\n",
       ")"
      ]
     },
     "execution_count": 61,
     "metadata": {},
     "output_type": "execute_result"
    }
   ],
   "source": [
    "(\n",
    "    pz.select(my_nested_object)\n",
    "    .at_instances_of(jax.Array)\n",
    "    .apply_with_selected_index(lambda index, value: f\"index={index}, value={value}\", keep_selected=True)\n",
    ")"
   ]
  },
  {
   "cell_type": "markdown",
   "metadata": {
    "id": "zpbos5v2z9BI"
   },
   "source": [
    "### Manipulating selected elements of lists and tuples"
   ]
  },
  {
   "cell_type": "markdown",
   "metadata": {
    "id": "iqvDVZkn0GSq"
   },
   "source": [
    "When the selected nodes are elements of a list or tuple, there are a few other options for selector manipulation. For instance, you can insert values before or after the selected nodes:"
   ]
  },
  {
   "cell_type": "code",
   "execution_count": 62,
   "metadata": {
    "execution": {
     "iopub.execute_input": "2024-09-11T16:37:59.511135Z",
     "iopub.status.busy": "2024-09-11T16:37:59.510899Z",
     "iopub.status.idle": "2024-09-11T16:37:59.514925Z",
     "shell.execute_reply": "2024-09-11T16:37:59.515040Z"
    },
    "id": "Ptualckcz45d"
   },
   "outputs": [
    {
     "data": {
      "text/html": [
       "<script> (()=>{ if (customElements.get('treescope-container') === undefined) { class TreescopeContainer extends HTMLElement { constructor() { super(); this.attachShadow({mode: \"open\"}); this.defns = {}; this.state = {}; } } customElements.define(\"treescope-container\", TreescopeContainer); } if (customElements.get('treescope-run-here') === undefined) { class RunHere extends HTMLElement { constructor() { super() } connectedCallback() { const run = child => { const fn = new Function(child.textContent); child.textContent = \"\"; fn.call(this); this.remove(); }; const child = this.querySelector(\"script\"); if (child) { run(child); } else { new MutationObserver(()=>{ run(this.querySelector(\"script\")); }).observe(this, {childList: true}); } } } customElements.define(\"treescope-run-here\", RunHere); } })(); </script> <treescope-container class=\"treescope_out_dcd404d13a794dea9cc478cc3b6c9184\" ></treescope-container> <treescope-run-here><script type=\"application/octet-stream\"> const root = ( Array.from(document.getElementsByClassName( \"treescope_out_dcd404d13a794dea9cc478cc3b6c9184\")) .filter((elt) => !elt.dataset.setup) )[0]; root.dataset.setup = 1; const msg = document.createElement(\"span\"); msg.style = \"color: #cccccc; font-family: monospace;\"; msg.textContent = \"(Loading...)\"; root.state.loadingMsg = msg; root.shadowRoot.appendChild(msg); root.state.chain = new Promise((resolve, reject) => { const observer = new IntersectionObserver((entries) => { for (const entry of entries) { if (entry.isIntersecting) { resolve(); observer.disconnect(); return; } } }, {rootMargin: \"1000px\"}); window.setTimeout(() => { observer.observe(root); }, 0); }); root.state.deferring = false; const _insertNode = (node) => { for (let oldScript of node.querySelectorAll(\"script\")) { let newScript = document.createElement(\"script\"); newScript.type = oldScript.type; newScript.textContent = oldScript.textContent; oldScript.parentNode.replaceChild(newScript, oldScript); } if (root.state.loadingMsg) { root.state.loadingMsg.remove(); root.state.loadingMsg = null; } root.shadowRoot.appendChild(node); }; root.defns.insertContent = ((contentNode, compressed) => { if (compressed) { root.state.deferring = true; } if (root.state.deferring) { root.state.chain = (async () => { await root.state.chain; if (compressed) { const encoded = contentNode.textContent; const blob = new Blob([ Uint8Array.from(atob(encoded), (m) => m.codePointAt(0)) ]); const reader = blob.stream().pipeThrough( new DecompressionStream(\"deflate\") ).pipeThrough( new TextDecoderStream(\"utf-8\") ).getReader(); const parts = []; while (true) { const step = await reader.read(); if (step.done) { break; } parts.push(step.value); } const tpl = document.createElement('template'); tpl.innerHTML = parts.join(\"\"); _insertNode(tpl.content); } else { _insertNode(contentNode.content); } })(); } else { _insertNode(contentNode.content); } }); </script></treescope-run-here><div style=\"display:none\"> <script type=\"application/octet-stream\" >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</script> <treescope-run-here><script type=\"application/octet-stream\"> const root = ( Array.from(document.getElementsByClassName( \"treescope_out_dcd404d13a794dea9cc478cc3b6c9184\")) .filter((elt) => !elt.dataset['step0']) )[0]; root.dataset['step0'] = 1; root.defns.insertContent( this.parentNode.querySelector('script[type=\"application/octet-stream\"]'), true ); this.parentNode.remove(); </script></treescope-run-here> </div>"
      ],
      "text/plain": [
       "<IPython.core.display.HTML object>"
      ]
     },
     "metadata": {},
     "output_type": "display_data"
    },
    {
     "data": {
      "text/html": [
       "<treescope-run-here><script type=\"application/octet-stream\"> const root = ( Array.from(document.getElementsByClassName( \"treescope_out_dcd404d13a794dea9cc478cc3b6c9184\")) .filter((elt) => !elt.dataset.stolen) )[0]; root.dataset.stolen = 1; this.parentNode.replaceChild(root, this); </script></treescope-run-here>"
      ],
      "text/plain": [
       "{'a': ['before a multiple of 4',\n",
       "  0,\n",
       "  1,\n",
       "  2,\n",
       "  3,\n",
       "  'before a multiple of 4',\n",
       "  4,\n",
       "  5,\n",
       "  6,\n",
       "  7,\n",
       "  'before a multiple of 4',\n",
       "  8,\n",
       "  9],\n",
       " 'b': [10,\n",
       "  11,\n",
       "  'before a multiple of 4',\n",
       "  12,\n",
       "  13,\n",
       "  14,\n",
       "  15,\n",
       "  'before a multiple of 4',\n",
       "  16,\n",
       "  17,\n",
       "  18,\n",
       "  19]}"
      ]
     },
     "execution_count": 62,
     "metadata": {},
     "output_type": "execute_result"
    }
   ],
   "source": [
    "(\n",
    "    pz.select({\"a\": list(range(10)), \"b\": list(range(10, 20))})\n",
    "      .at_instances_of(int)\n",
    "      .where(lambda x: x % 4 == 0)\n",
    "      .insert_before(\"before a multiple of 4\")\n",
    ")"
   ]
  },
  {
   "cell_type": "code",
   "execution_count": 63,
   "metadata": {
    "execution": {
     "iopub.execute_input": "2024-09-11T16:37:59.522423Z",
     "iopub.status.busy": "2024-09-11T16:37:59.522143Z",
     "iopub.status.idle": "2024-09-11T16:37:59.526365Z",
     "shell.execute_reply": "2024-09-11T16:37:59.526179Z"
    },
    "id": "tIf27Qx40hP3"
   },
   "outputs": [
    {
     "data": {
      "text/html": [
       "<script> (()=>{ if (customElements.get('treescope-container') === undefined) { class TreescopeContainer extends HTMLElement { constructor() { super(); this.attachShadow({mode: \"open\"}); this.defns = {}; this.state = {}; } } customElements.define(\"treescope-container\", TreescopeContainer); } if (customElements.get('treescope-run-here') === undefined) { class RunHere extends HTMLElement { constructor() { super() } connectedCallback() { const run = child => { const fn = new Function(child.textContent); child.textContent = \"\"; fn.call(this); this.remove(); }; const child = this.querySelector(\"script\"); if (child) { run(child); } else { new MutationObserver(()=>{ run(this.querySelector(\"script\")); }).observe(this, {childList: true}); } } } customElements.define(\"treescope-run-here\", RunHere); } })(); </script> <treescope-container class=\"treescope_out_921f3ce491484f8389c7d77546a320fc\" ></treescope-container> <treescope-run-here><script type=\"application/octet-stream\"> const root = ( Array.from(document.getElementsByClassName( \"treescope_out_921f3ce491484f8389c7d77546a320fc\")) .filter((elt) => !elt.dataset.setup) )[0]; root.dataset.setup = 1; const msg = document.createElement(\"span\"); msg.style = \"color: #cccccc; font-family: monospace;\"; msg.textContent = \"(Loading...)\"; root.state.loadingMsg = msg; root.shadowRoot.appendChild(msg); root.state.chain = new Promise((resolve, reject) => { const observer = new IntersectionObserver((entries) => { for (const entry of entries) { if (entry.isIntersecting) { resolve(); observer.disconnect(); return; } } }, {rootMargin: \"1000px\"}); window.setTimeout(() => { observer.observe(root); }, 0); }); root.state.deferring = false; const _insertNode = (node) => { for (let oldScript of node.querySelectorAll(\"script\")) { let newScript = document.createElement(\"script\"); newScript.type = oldScript.type; newScript.textContent = oldScript.textContent; oldScript.parentNode.replaceChild(newScript, oldScript); } if (root.state.loadingMsg) { root.state.loadingMsg.remove(); root.state.loadingMsg = null; } root.shadowRoot.appendChild(node); }; root.defns.insertContent = ((contentNode, compressed) => { if (compressed) { root.state.deferring = true; } if (root.state.deferring) { root.state.chain = (async () => { await root.state.chain; if (compressed) { const encoded = contentNode.textContent; const blob = new Blob([ Uint8Array.from(atob(encoded), (m) => m.codePointAt(0)) ]); const reader = blob.stream().pipeThrough( new DecompressionStream(\"deflate\") ).pipeThrough( new TextDecoderStream(\"utf-8\") ).getReader(); const parts = []; while (true) { const step = await reader.read(); if (step.done) { break; } parts.push(step.value); } const tpl = document.createElement('template'); tpl.innerHTML = parts.join(\"\"); _insertNode(tpl.content); } else { _insertNode(contentNode.content); } })(); } else { _insertNode(contentNode.content); } }); </script></treescope-run-here><div style=\"display:none\"> <script type=\"application/octet-stream\" >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</script> <treescope-run-here><script type=\"application/octet-stream\"> const root = ( Array.from(document.getElementsByClassName( \"treescope_out_921f3ce491484f8389c7d77546a320fc\")) .filter((elt) => !elt.dataset['step0']) )[0]; root.dataset['step0'] = 1; root.defns.insertContent( this.parentNode.querySelector('script[type=\"application/octet-stream\"]'), true ); this.parentNode.remove(); </script></treescope-run-here> </div>"
      ],
      "text/plain": [
       "<IPython.core.display.HTML object>"
      ]
     },
     "metadata": {},
     "output_type": "display_data"
    },
    {
     "data": {
      "text/html": [
       "<treescope-run-here><script type=\"application/octet-stream\"> const root = ( Array.from(document.getElementsByClassName( \"treescope_out_921f3ce491484f8389c7d77546a320fc\")) .filter((elt) => !elt.dataset.stolen) )[0]; root.dataset.stolen = 1; this.parentNode.replaceChild(root, this); </script></treescope-run-here>"
      ],
      "text/plain": [
       "{'a': [0,\n",
       "  'after a multiple of 4',\n",
       "  1,\n",
       "  2,\n",
       "  3,\n",
       "  4,\n",
       "  'after a multiple of 4',\n",
       "  5,\n",
       "  6,\n",
       "  7,\n",
       "  8,\n",
       "  'after a multiple of 4',\n",
       "  9],\n",
       " 'b': [10,\n",
       "  11,\n",
       "  12,\n",
       "  'after a multiple of 4',\n",
       "  13,\n",
       "  14,\n",
       "  15,\n",
       "  16,\n",
       "  'after a multiple of 4',\n",
       "  17,\n",
       "  18,\n",
       "  19]}"
      ]
     },
     "execution_count": 63,
     "metadata": {},
     "output_type": "execute_result"
    }
   ],
   "source": [
    "(\n",
    "    pz.select({\"a\": list(range(10)), \"b\": list(range(10, 20))})\n",
    "      .at_instances_of(int)\n",
    "      .where(lambda x: x % 4 == 0)\n",
    "      .insert_after(\"after a multiple of 4\")\n",
    ")"
   ]
  },
  {
   "cell_type": "markdown",
   "metadata": {
    "id": "BFg6JxQq0tMW"
   },
   "source": [
    "You can also just remove the selected nodes:"
   ]
  },
  {
   "cell_type": "code",
   "execution_count": 64,
   "metadata": {
    "execution": {
     "iopub.execute_input": "2024-09-11T16:37:59.533068Z",
     "iopub.status.busy": "2024-09-11T16:37:59.532831Z",
     "iopub.status.idle": "2024-09-11T16:37:59.536655Z",
     "shell.execute_reply": "2024-09-11T16:37:59.536778Z"
    },
    "id": "PzLdrjdq0raZ"
   },
   "outputs": [
    {
     "data": {
      "text/html": [
       "<script> (()=>{ if (customElements.get('treescope-container') === undefined) { class TreescopeContainer extends HTMLElement { constructor() { super(); this.attachShadow({mode: \"open\"}); this.defns = {}; this.state = {}; } } customElements.define(\"treescope-container\", TreescopeContainer); } if (customElements.get('treescope-run-here') === undefined) { class RunHere extends HTMLElement { constructor() { super() } connectedCallback() { const run = child => { const fn = new Function(child.textContent); child.textContent = \"\"; fn.call(this); this.remove(); }; const child = this.querySelector(\"script\"); if (child) { run(child); } else { new MutationObserver(()=>{ run(this.querySelector(\"script\")); }).observe(this, {childList: true}); } } } customElements.define(\"treescope-run-here\", RunHere); } })(); </script> <treescope-container class=\"treescope_out_48c6eecca7dd4b87ab2730798cdf9f29\" ></treescope-container> <treescope-run-here><script type=\"application/octet-stream\"> const root = ( Array.from(document.getElementsByClassName( \"treescope_out_48c6eecca7dd4b87ab2730798cdf9f29\")) .filter((elt) => !elt.dataset.setup) )[0]; root.dataset.setup = 1; const msg = document.createElement(\"span\"); msg.style = \"color: #cccccc; font-family: monospace;\"; msg.textContent = \"(Loading...)\"; root.state.loadingMsg = msg; root.shadowRoot.appendChild(msg); root.state.chain = new Promise((resolve, reject) => { const observer = new IntersectionObserver((entries) => { for (const entry of entries) { if (entry.isIntersecting) { resolve(); observer.disconnect(); return; } } }, {rootMargin: \"1000px\"}); window.setTimeout(() => { observer.observe(root); }, 0); }); root.state.deferring = false; const _insertNode = (node) => { for (let oldScript of node.querySelectorAll(\"script\")) { let newScript = document.createElement(\"script\"); newScript.type = oldScript.type; newScript.textContent = oldScript.textContent; oldScript.parentNode.replaceChild(newScript, oldScript); } if (root.state.loadingMsg) { root.state.loadingMsg.remove(); root.state.loadingMsg = null; } root.shadowRoot.appendChild(node); }; root.defns.insertContent = ((contentNode, compressed) => { if (compressed) { root.state.deferring = true; } if (root.state.deferring) { root.state.chain = (async () => { await root.state.chain; if (compressed) { const encoded = contentNode.textContent; const blob = new Blob([ Uint8Array.from(atob(encoded), (m) => m.codePointAt(0)) ]); const reader = blob.stream().pipeThrough( new DecompressionStream(\"deflate\") ).pipeThrough( new TextDecoderStream(\"utf-8\") ).getReader(); const parts = []; while (true) { const step = await reader.read(); if (step.done) { break; } parts.push(step.value); } const tpl = document.createElement('template'); tpl.innerHTML = parts.join(\"\"); _insertNode(tpl.content); } else { _insertNode(contentNode.content); } })(); } else { _insertNode(contentNode.content); } }); </script></treescope-run-here><div style=\"display:none\"> <script type=\"application/octet-stream\" >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</script> <treescope-run-here><script type=\"application/octet-stream\"> const root = ( Array.from(document.getElementsByClassName( \"treescope_out_48c6eecca7dd4b87ab2730798cdf9f29\")) .filter((elt) => !elt.dataset['step0']) )[0]; root.dataset['step0'] = 1; root.defns.insertContent( this.parentNode.querySelector('script[type=\"application/octet-stream\"]'), true ); this.parentNode.remove(); </script></treescope-run-here> </div>"
      ],
      "text/plain": [
       "<IPython.core.display.HTML object>"
      ]
     },
     "metadata": {},
     "output_type": "display_data"
    },
    {
     "data": {
      "text/html": [
       "<treescope-run-here><script type=\"application/octet-stream\"> const root = ( Array.from(document.getElementsByClassName( \"treescope_out_48c6eecca7dd4b87ab2730798cdf9f29\")) .filter((elt) => !elt.dataset.stolen) )[0]; root.dataset.stolen = 1; this.parentNode.replaceChild(root, this); </script></treescope-run-here>"
      ],
      "text/plain": [
       "{'a': [1, 2, 3, 5, 6, 7, 9], 'b': [10, 11, 13, 14, 15, 17, 18, 19]}"
      ]
     },
     "execution_count": 64,
     "metadata": {},
     "output_type": "execute_result"
    }
   ],
   "source": [
    "(\n",
    "    pz.select({\"a\": list(range(10)), \"b\": list(range(10, 20))})\n",
    "      .at_instances_of(int)\n",
    "      .where(lambda x: x % 4 == 0)\n",
    "      .remove_from_parent()\n",
    ")"
   ]
  },
  {
   "cell_type": "markdown",
   "metadata": {
    "id": "ELI6wOnC0yMI"
   },
   "source": [
    "If you want more control, or if you want to use the selected value to determine what to insert, you can use the method `.apply_and_inline`. This works like `.apply`, except that your function should return a *sequence* of values, and those values will be spliced into the original list or tuple in the same position as the original selected nodes."
   ]
  },
  {
   "cell_type": "code",
   "execution_count": 65,
   "metadata": {
    "execution": {
     "iopub.execute_input": "2024-09-11T16:37:59.544429Z",
     "iopub.status.busy": "2024-09-11T16:37:59.544193Z",
     "iopub.status.idle": "2024-09-11T16:37:59.548133Z",
     "shell.execute_reply": "2024-09-11T16:37:59.548267Z"
    },
    "id": "l7M2_YQF0vzy"
   },
   "outputs": [
    {
     "data": {
      "text/html": [
       "<script> (()=>{ if (customElements.get('treescope-container') === undefined) { class TreescopeContainer extends HTMLElement { constructor() { super(); this.attachShadow({mode: \"open\"}); this.defns = {}; this.state = {}; } } customElements.define(\"treescope-container\", TreescopeContainer); } if (customElements.get('treescope-run-here') === undefined) { class RunHere extends HTMLElement { constructor() { super() } connectedCallback() { const run = child => { const fn = new Function(child.textContent); child.textContent = \"\"; fn.call(this); this.remove(); }; const child = this.querySelector(\"script\"); if (child) { run(child); } else { new MutationObserver(()=>{ run(this.querySelector(\"script\")); }).observe(this, {childList: true}); } } } customElements.define(\"treescope-run-here\", RunHere); } })(); </script> <treescope-container class=\"treescope_out_2c2ca95b95c745cf9ed141e3c6c21ba2\" ></treescope-container> <treescope-run-here><script type=\"application/octet-stream\"> const root = ( Array.from(document.getElementsByClassName( \"treescope_out_2c2ca95b95c745cf9ed141e3c6c21ba2\")) .filter((elt) => !elt.dataset.setup) )[0]; root.dataset.setup = 1; const msg = document.createElement(\"span\"); msg.style = \"color: #cccccc; font-family: monospace;\"; msg.textContent = \"(Loading...)\"; root.state.loadingMsg = msg; root.shadowRoot.appendChild(msg); root.state.chain = new Promise((resolve, reject) => { const observer = new IntersectionObserver((entries) => { for (const entry of entries) { if (entry.isIntersecting) { resolve(); observer.disconnect(); return; } } }, {rootMargin: \"1000px\"}); window.setTimeout(() => { observer.observe(root); }, 0); }); root.state.deferring = false; const _insertNode = (node) => { for (let oldScript of node.querySelectorAll(\"script\")) { let newScript = document.createElement(\"script\"); newScript.type = oldScript.type; newScript.textContent = oldScript.textContent; oldScript.parentNode.replaceChild(newScript, oldScript); } if (root.state.loadingMsg) { root.state.loadingMsg.remove(); root.state.loadingMsg = null; } root.shadowRoot.appendChild(node); }; root.defns.insertContent = ((contentNode, compressed) => { if (compressed) { root.state.deferring = true; } if (root.state.deferring) { root.state.chain = (async () => { await root.state.chain; if (compressed) { const encoded = contentNode.textContent; const blob = new Blob([ Uint8Array.from(atob(encoded), (m) => m.codePointAt(0)) ]); const reader = blob.stream().pipeThrough( new DecompressionStream(\"deflate\") ).pipeThrough( new TextDecoderStream(\"utf-8\") ).getReader(); const parts = []; while (true) { const step = await reader.read(); if (step.done) { break; } parts.push(step.value); } const tpl = document.createElement('template'); tpl.innerHTML = parts.join(\"\"); _insertNode(tpl.content); } else { _insertNode(contentNode.content); } })(); } else { _insertNode(contentNode.content); } }); </script></treescope-run-here><div style=\"display:none\"> <script type=\"application/octet-stream\" >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</script> <treescope-run-here><script type=\"application/octet-stream\"> const root = ( Array.from(document.getElementsByClassName( \"treescope_out_2c2ca95b95c745cf9ed141e3c6c21ba2\")) .filter((elt) => !elt.dataset['step0']) )[0]; root.dataset['step0'] = 1; root.defns.insertContent( this.parentNode.querySelector('script[type=\"application/octet-stream\"]'), true ); this.parentNode.remove(); </script></treescope-run-here> </div>"
      ],
      "text/plain": [
       "<IPython.core.display.HTML object>"
      ]
     },
     "metadata": {},
     "output_type": "display_data"
    },
    {
     "data": {
      "text/html": [
       "<treescope-run-here><script type=\"application/octet-stream\"> const root = ( Array.from(document.getElementsByClassName( \"treescope_out_2c2ca95b95c745cf9ed141e3c6c21ba2\")) .filter((elt) => !elt.dataset.stolen) )[0]; root.dataset.stolen = 1; this.parentNode.replaceChild(root, this); </script></treescope-run-here>"
      ],
      "text/plain": [
       "{'a': ['before',\n",
       "  'the value was 0',\n",
       "  'after',\n",
       "  1,\n",
       "  2,\n",
       "  3,\n",
       "  'before',\n",
       "  'the value was 4',\n",
       "  'after',\n",
       "  5,\n",
       "  6,\n",
       "  7,\n",
       "  'before',\n",
       "  'the value was 8',\n",
       "  'after',\n",
       "  9],\n",
       " 'b': [10,\n",
       "  11,\n",
       "  'before',\n",
       "  'the value was 12',\n",
       "  'after',\n",
       "  13,\n",
       "  14,\n",
       "  15,\n",
       "  'before',\n",
       "  'the value was 16',\n",
       "  'after',\n",
       "  17,\n",
       "  18,\n",
       "  19]}"
      ]
     },
     "execution_count": 65,
     "metadata": {},
     "output_type": "execute_result"
    }
   ],
   "source": [
    "(\n",
    "    pz.select({\"a\": list(range(10)), \"b\": list(range(10, 20))})\n",
    "      .at_instances_of(int)\n",
    "      .where(lambda x: x % 4 == 0)\n",
    "      .apply_and_inline(lambda x: [\"before\", f\"the value was {x}\", \"after\"])\n",
    ")"
   ]
  },
  {
   "cell_type": "markdown",
   "metadata": {
    "id": "DaIykx2UVgaM"
   },
   "source": [
    "## Taking advantage of key paths"
   ]
  },
  {
   "cell_type": "markdown",
   "metadata": {
    "id": "hoF1YE4VVF6M"
   },
   "source": [
    "Many of the selector functions allow you to use the PyTree path to each selected in addition to its value:"
   ]
  },
  {
   "cell_type": "code",
   "execution_count": 66,
   "metadata": {
    "execution": {
     "iopub.execute_input": "2024-09-11T16:37:59.556237Z",
     "iopub.status.busy": "2024-09-11T16:37:59.555997Z",
     "iopub.status.idle": "2024-09-11T16:37:59.565872Z",
     "shell.execute_reply": "2024-09-11T16:37:59.565698Z"
    },
    "id": "YCK_xieQVi8r"
   },
   "outputs": [
    {
     "data": {
      "text/html": [
       "<script> (()=>{ if (customElements.get('treescope-container') === undefined) { class TreescopeContainer extends HTMLElement { constructor() { super(); this.attachShadow({mode: \"open\"}); this.defns = {}; this.state = {}; } } customElements.define(\"treescope-container\", TreescopeContainer); } if (customElements.get('treescope-run-here') === undefined) { class RunHere extends HTMLElement { constructor() { super() } connectedCallback() { const run = child => { const fn = new Function(child.textContent); child.textContent = \"\"; fn.call(this); this.remove(); }; const child = this.querySelector(\"script\"); if (child) { run(child); } else { new MutationObserver(()=>{ run(this.querySelector(\"script\")); }).observe(this, {childList: true}); } } } customElements.define(\"treescope-run-here\", RunHere); } })(); </script> <treescope-container class=\"treescope_out_b6491bd49e3f4b4e891f98f9de5be5ed\" ></treescope-container> <treescope-run-here><script type=\"application/octet-stream\"> const root = ( Array.from(document.getElementsByClassName( \"treescope_out_b6491bd49e3f4b4e891f98f9de5be5ed\")) .filter((elt) => !elt.dataset.setup) )[0]; root.dataset.setup = 1; const msg = document.createElement(\"span\"); msg.style = \"color: #cccccc; font-family: monospace;\"; msg.textContent = \"(Loading...)\"; root.state.loadingMsg = msg; root.shadowRoot.appendChild(msg); root.state.chain = new Promise((resolve, reject) => { const observer = new IntersectionObserver((entries) => { for (const entry of entries) { if (entry.isIntersecting) { resolve(); observer.disconnect(); return; } } }, {rootMargin: \"1000px\"}); window.setTimeout(() => { observer.observe(root); }, 0); }); root.state.deferring = false; const _insertNode = (node) => { for (let oldScript of node.querySelectorAll(\"script\")) { let newScript = document.createElement(\"script\"); newScript.type = oldScript.type; newScript.textContent = oldScript.textContent; oldScript.parentNode.replaceChild(newScript, oldScript); } if (root.state.loadingMsg) { root.state.loadingMsg.remove(); root.state.loadingMsg = null; } root.shadowRoot.appendChild(node); }; root.defns.insertContent = ((contentNode, compressed) => { if (compressed) { root.state.deferring = true; } if (root.state.deferring) { root.state.chain = (async () => { await root.state.chain; if (compressed) { const encoded = contentNode.textContent; const blob = new Blob([ Uint8Array.from(atob(encoded), (m) => m.codePointAt(0)) ]); const reader = blob.stream().pipeThrough( new DecompressionStream(\"deflate\") ).pipeThrough( new TextDecoderStream(\"utf-8\") ).getReader(); const parts = []; while (true) { const step = await reader.read(); if (step.done) { break; } parts.push(step.value); } const tpl = document.createElement('template'); tpl.innerHTML = parts.join(\"\"); _insertNode(tpl.content); } else { _insertNode(contentNode.content); } })(); } else { _insertNode(contentNode.content); } }); </script></treescope-run-here><div style=\"display:none\"> <script type=\"application/octet-stream\" >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</script> <treescope-run-here><script type=\"application/octet-stream\"> const root = ( Array.from(document.getElementsByClassName( \"treescope_out_b6491bd49e3f4b4e891f98f9de5be5ed\")) .filter((elt) => !elt.dataset['step0']) )[0]; root.dataset['step0'] = 1; root.defns.insertContent( this.parentNode.querySelector('script[type=\"application/octet-stream\"]'), true ); this.parentNode.remove(); </script></treescope-run-here> </div>"
      ],
      "text/plain": [
       "<IPython.core.display.HTML object>"
      ]
     },
     "metadata": {},
     "output_type": "display_data"
    },
    {
     "data": {
      "text/html": [
       "<div style=\"display:none\"> <script type=\"application/octet-stream\" >eNq1lEtv2zAMgP8KoQFFgrqu41fs5gFs7Qb0ssN22KEoCkWiEw2q5clKsWDofx/lOG67dVt72MGxaD4/kspcqjto3U7jgknVNprvzqA2NTJQcsEqY28kVmgtyps4zaMyW6W5iGRaxNkqmVbFKprEZSLESgq2nLcNr+nXx1uGwmhy56uVxTv4AZ14Bm/yIuZRNIP7+enesPMCoXnbLthjJ7Y80m72lX8P31rLd6OrKIBJAHEASQBpAFkAeQDTAIoAyusApNs1uFC1S+Lx0drNKEFXz+FFrMv5K4DzSZYkWZJX0ZSnU1GWhZwUSRGVXCR0Kh6AXwoAROARPIOH8BQew3N4EE8CJVF60sl/QJI8QyIqKpkkqcgzXqVxJmQ1LXlWlLF4PVIUBvD8M5RfacP/CuAsYitMgyd2W59s0PqlEFY1DroAjDeNVoI7ZepTIxy6k5Z8+C1bClO3ZMXtGt2lbGEBV+zlGxsAe/m0Hxv/s4/Xs31l0ghrjKO63Ea1IVX5icSPRuJoPIO+esLvjXrz8NsW7e4zahTO2BELhw7deDX7zfVc07x9kl4Ohf/QpXF2i2Q/aCzShgj8otxm9MR9CFpZvr7Fuq9n64+hoHY7vOjFD72FZzhYhzQkrOX5Rmk5BPZ6Y2Gk0YGieHTvFcwf5hVqrNduQ1+Pj8f0J+Ht9koyHiKT+F6jP77bXVLwg/eVuqYE3qc1Wyvwgi7CH3v4xl8EBsfwi/tefNKWIVpYKdsecndk5PCgtXhr7rpB3j+dxLNNHvvl77aa9v6Zlf8JNgfU+Q==</script> <treescope-run-here><script type=\"application/octet-stream\"> const root = ( Array.from(document.getElementsByClassName( \"treescope_out_b6491bd49e3f4b4e891f98f9de5be5ed\")) .filter((elt) => !elt.dataset['step1']) )[0]; root.dataset['step1'] = 1; root.defns.insertContent( this.parentNode.querySelector('script[type=\"application/octet-stream\"]'), true ); this.parentNode.remove(); </script></treescope-run-here> </div>"
      ],
      "text/plain": [
       "<IPython.core.display.HTML object>"
      ]
     },
     "metadata": {},
     "output_type": "display_data"
    },
    {
     "data": {
      "text/html": [
       "<treescope-run-here><script type=\"application/octet-stream\"> const root = ( Array.from(document.getElementsByClassName( \"treescope_out_b6491bd49e3f4b4e891f98f9de5be5ed\")) .filter((elt) => !elt.dataset.stolen) )[0]; root.dataset.stolen = 1; this.parentNode.replaceChild(root, this); </script></treescope-run-here>"
      ],
      "text/plain": [
       "Selection(\n",
       "  selected_by_path=OrderedDict({\n",
       "    (DictKey(key='c'), SequenceKey(idx=0)):\n",
       "      {\n",
       "        'value': <jax.Array([ 0,  1,  2,  3,  4,  5,  6,  7,  8,  9, 10, 11], dtype=int32)>,\n",
       "      },\n",
       "    (DictKey(key='c'), SequenceKey(idx=2), DictKey(key='value')):\n",
       "      3,\n",
       "  }),\n",
       "  remainder={\n",
       "    'a': 1,\n",
       "    'b': <jax.Array([0, 1, 2, 3, 4, 5, 6, 7, 8, 9], dtype=int32)>,\n",
       "    'c': [SelectionHole(path=(DictKey(key='c'), SequenceKey(idx=0))), {'value': <jax.Array([0., 0., 0., 0., 0., 0., 0.], dtype=float32)>}, {'value': SelectionHole(path=(DictKey(key='c'), SequenceKey(idx=2), DictKey(key='value')))}],\n",
       "  },\n",
       ")"
      ]
     },
     "execution_count": 66,
     "metadata": {},
     "output_type": "execute_result"
    }
   ],
   "source": [
    "# Selecting by keypath directly\n",
    "pz.select(my_nested_object).at_keypaths([\n",
    "    (jax.tree_util.DictKey(key='c'), jax.tree_util.SequenceKey(idx=2), jax.tree_util.DictKey(key='value')),\n",
    "    (jax.tree_util.DictKey(key='c'), jax.tree_util.SequenceKey(idx=0)),\n",
    "])"
   ]
  },
  {
   "cell_type": "code",
   "execution_count": 67,
   "metadata": {
    "execution": {
     "iopub.execute_input": "2024-09-11T16:37:59.573496Z",
     "iopub.status.busy": "2024-09-11T16:37:59.573261Z",
     "iopub.status.idle": "2024-09-11T16:37:59.583039Z",
     "shell.execute_reply": "2024-09-11T16:37:59.582793Z"
    },
    "id": "FEf1mpRX1T17"
   },
   "outputs": [
    {
     "data": {
      "text/html": [
       "<script> (()=>{ if (customElements.get('treescope-container') === undefined) { class TreescopeContainer extends HTMLElement { constructor() { super(); this.attachShadow({mode: \"open\"}); this.defns = {}; this.state = {}; } } customElements.define(\"treescope-container\", TreescopeContainer); } if (customElements.get('treescope-run-here') === undefined) { class RunHere extends HTMLElement { constructor() { super() } connectedCallback() { const run = child => { const fn = new Function(child.textContent); child.textContent = \"\"; fn.call(this); this.remove(); }; const child = this.querySelector(\"script\"); if (child) { run(child); } else { new MutationObserver(()=>{ run(this.querySelector(\"script\")); }).observe(this, {childList: true}); } } } customElements.define(\"treescope-run-here\", RunHere); } })(); </script> <treescope-container class=\"treescope_out_3acfd209e9794a98bb6c23d9b26d0d77\" ></treescope-container> <treescope-run-here><script type=\"application/octet-stream\"> const root = ( Array.from(document.getElementsByClassName( \"treescope_out_3acfd209e9794a98bb6c23d9b26d0d77\")) .filter((elt) => !elt.dataset.setup) )[0]; root.dataset.setup = 1; const msg = document.createElement(\"span\"); msg.style = \"color: #cccccc; font-family: monospace;\"; msg.textContent = \"(Loading...)\"; root.state.loadingMsg = msg; root.shadowRoot.appendChild(msg); root.state.chain = new Promise((resolve, reject) => { const observer = new IntersectionObserver((entries) => { for (const entry of entries) { if (entry.isIntersecting) { resolve(); observer.disconnect(); return; } } }, {rootMargin: \"1000px\"}); window.setTimeout(() => { observer.observe(root); }, 0); }); root.state.deferring = false; const _insertNode = (node) => { for (let oldScript of node.querySelectorAll(\"script\")) { let newScript = document.createElement(\"script\"); newScript.type = oldScript.type; newScript.textContent = oldScript.textContent; oldScript.parentNode.replaceChild(newScript, oldScript); } if (root.state.loadingMsg) { root.state.loadingMsg.remove(); root.state.loadingMsg = null; } root.shadowRoot.appendChild(node); }; root.defns.insertContent = ((contentNode, compressed) => { if (compressed) { root.state.deferring = true; } if (root.state.deferring) { root.state.chain = (async () => { await root.state.chain; if (compressed) { const encoded = contentNode.textContent; const blob = new Blob([ Uint8Array.from(atob(encoded), (m) => m.codePointAt(0)) ]); const reader = blob.stream().pipeThrough( new DecompressionStream(\"deflate\") ).pipeThrough( new TextDecoderStream(\"utf-8\") ).getReader(); const parts = []; while (true) { const step = await reader.read(); if (step.done) { break; } parts.push(step.value); } const tpl = document.createElement('template'); tpl.innerHTML = parts.join(\"\"); _insertNode(tpl.content); } else { _insertNode(contentNode.content); } })(); } else { _insertNode(contentNode.content); } }); </script></treescope-run-here><div style=\"display:none\"> <script type=\"application/octet-stream\" >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</script> <treescope-run-here><script type=\"application/octet-stream\"> const root = ( Array.from(document.getElementsByClassName( \"treescope_out_3acfd209e9794a98bb6c23d9b26d0d77\")) .filter((elt) => !elt.dataset['step0']) )[0]; root.dataset['step0'] = 1; root.defns.insertContent( this.parentNode.querySelector('script[type=\"application/octet-stream\"]'), true ); this.parentNode.remove(); </script></treescope-run-here> </div>"
      ],
      "text/plain": [
       "<IPython.core.display.HTML object>"
      ]
     },
     "metadata": {},
     "output_type": "display_data"
    },
    {
     "data": {
      "text/html": [
       "<div style=\"display:none\"> <script type=\"application/octet-stream\" >eNq1lEtv00AQx7/KaCtVieq6jutn85CgBakXDnDgUFXRenecLHK9Zr2piKp+d2Ydx20hQEHikMTj/c/jNzObmVT30NpthXMmVdtUfHsBta6RgZJzVmqzlFiiMSiXsiwDHsQiTbIyyosiL1IeirRMeXmeyiRji1nb8Jq+XbyFL3RF7rwoDN7DA3TmBRwlWciDYAqPs7OdsPMCUfG2nbPnTmxxXNnpF/7Nf2MM345uAg8mHoQenHsQeRB7kHiQepB5kN96IO22wbmq7Xk4Pl7ZKSXo6tn/EOti9hfAEUZxIoM4LgOMMJ3kRRCHMovyhMcpT8In4NcCABE4BMfgIByFw3AcDsSRQE6UjnTyH5DiMuETmcQ8xyhKI8zDMC6yNE3CVIZx9g9Ige/B4c9Qfllp/lsAaxBboRs8NZv6dI3GLYUwqrHQBWC8aSoluFW6PtPCoj1tyYffsYXQdUsqblZor2ULc7hhr99YD9jrp/1c/Mc+3k53lUktjNaW6rJr1fpU5UcyP2iJo/EU+uoJvxf1cv/rBs32E1YorDYj5g8dWrpj9pPrZUXzdkl62xfuRZfGmg2SfjgxSBsi8LOy69EL9yFoafjqDuu+no179AW12+JVb77vFY5hr/ZpSFjLy7Wq5BDYnWsDowotKIpH917B7GlefoX1yq7p7cnJmP4knG53SOIhMpnvKnSPb7fXFHzvfaNuKYHzafXGCLyii/DLHh65i8DgBH5w35kv2jJE80tl2n3ujowcnk4N3un7bpCPLydxsMljt/zdVtPeH1j57xop1YM=</script> <treescope-run-here><script type=\"application/octet-stream\"> const root = ( Array.from(document.getElementsByClassName( \"treescope_out_3acfd209e9794a98bb6c23d9b26d0d77\")) .filter((elt) => !elt.dataset['step1']) )[0]; root.dataset['step1'] = 1; root.defns.insertContent( this.parentNode.querySelector('script[type=\"application/octet-stream\"]'), true ); this.parentNode.remove(); </script></treescope-run-here> </div>"
      ],
      "text/plain": [
       "<IPython.core.display.HTML object>"
      ]
     },
     "metadata": {},
     "output_type": "display_data"
    },
    {
     "data": {
      "text/html": [
       "<treescope-run-here><script type=\"application/octet-stream\"> const root = ( Array.from(document.getElementsByClassName( \"treescope_out_3acfd209e9794a98bb6c23d9b26d0d77\")) .filter((elt) => !elt.dataset.stolen) )[0]; root.dataset.stolen = 1; this.parentNode.replaceChild(root, this); </script></treescope-run-here>"
      ],
      "text/plain": [
       "Selection(\n",
       "  selected_by_path=OrderedDict({\n",
       "    (DictKey(key='c'), SequenceKey(idx=0), DictKey(key='value')):\n",
       "      <jax.Array([ 0,  1,  2,  3,  4,  5,  6,  7,  8,  9, 10, 11], dtype=int32)>,\n",
       "    (DictKey(key='c'), SequenceKey(idx=1), DictKey(key='value')):\n",
       "      <jax.Array([0., 0., 0., 0., 0., 0., 0.], dtype=float32)>,\n",
       "  }),\n",
       "  remainder={\n",
       "    'a': 1,\n",
       "    'b': <jax.Array([0, 1, 2, 3, 4, 5, 6, 7, 8, 9], dtype=int32)>,\n",
       "    'c': [{'value': SelectionHole(path=(DictKey(key='c'), SequenceKey(idx=0), DictKey(key='value')))}, {'value': SelectionHole(path=(DictKey(key='c'), SequenceKey(idx=1), DictKey(key='value')))}, {'value': 3}],\n",
       "  },\n",
       ")"
      ]
     },
     "execution_count": 67,
     "metadata": {},
     "output_type": "execute_result"
    }
   ],
   "source": [
    "# Selecting by keypath and value\n",
    "(\n",
    "    pz.select(my_nested_object)\n",
    "    .at_subtrees_where(\n",
    "        lambda path, subtree: len(path) == 3 and isinstance(subtree, jax.Array),\n",
    "        with_keypath=True)\n",
    ")"
   ]
  },
  {
   "cell_type": "code",
   "execution_count": 68,
   "metadata": {
    "execution": {
     "iopub.execute_input": "2024-09-11T16:37:59.588178Z",
     "iopub.status.busy": "2024-09-11T16:37:59.587905Z",
     "iopub.status.idle": "2024-09-11T16:37:59.592084Z",
     "shell.execute_reply": "2024-09-11T16:37:59.591845Z"
    },
    "id": "W-jfNUWTVaw3"
   },
   "outputs": [
    {
     "data": {
      "text/html": [
       "<script> (()=>{ if (customElements.get('treescope-container') === undefined) { class TreescopeContainer extends HTMLElement { constructor() { super(); this.attachShadow({mode: \"open\"}); this.defns = {}; this.state = {}; } } customElements.define(\"treescope-container\", TreescopeContainer); } if (customElements.get('treescope-run-here') === undefined) { class RunHere extends HTMLElement { constructor() { super() } connectedCallback() { const run = child => { const fn = new Function(child.textContent); child.textContent = \"\"; fn.call(this); this.remove(); }; const child = this.querySelector(\"script\"); if (child) { run(child); } else { new MutationObserver(()=>{ run(this.querySelector(\"script\")); }).observe(this, {childList: true}); } } } customElements.define(\"treescope-run-here\", RunHere); } })(); </script> <treescope-container class=\"treescope_out_9179569e6e184a428fbb5c1773913472\" ></treescope-container> <treescope-run-here><script type=\"application/octet-stream\"> const root = ( Array.from(document.getElementsByClassName( \"treescope_out_9179569e6e184a428fbb5c1773913472\")) .filter((elt) => !elt.dataset.setup) )[0]; root.dataset.setup = 1; const msg = document.createElement(\"span\"); msg.style = \"color: #cccccc; font-family: monospace;\"; msg.textContent = \"(Loading...)\"; root.state.loadingMsg = msg; root.shadowRoot.appendChild(msg); root.state.chain = new Promise((resolve, reject) => { const observer = new IntersectionObserver((entries) => { for (const entry of entries) { if (entry.isIntersecting) { resolve(); observer.disconnect(); return; } } }, {rootMargin: \"1000px\"}); window.setTimeout(() => { observer.observe(root); }, 0); }); root.state.deferring = false; const _insertNode = (node) => { for (let oldScript of node.querySelectorAll(\"script\")) { let newScript = document.createElement(\"script\"); newScript.type = oldScript.type; newScript.textContent = oldScript.textContent; oldScript.parentNode.replaceChild(newScript, oldScript); } if (root.state.loadingMsg) { root.state.loadingMsg.remove(); root.state.loadingMsg = null; } root.shadowRoot.appendChild(node); }; root.defns.insertContent = ((contentNode, compressed) => { if (compressed) { root.state.deferring = true; } if (root.state.deferring) { root.state.chain = (async () => { await root.state.chain; if (compressed) { const encoded = contentNode.textContent; const blob = new Blob([ Uint8Array.from(atob(encoded), (m) => m.codePointAt(0)) ]); const reader = blob.stream().pipeThrough( new DecompressionStream(\"deflate\") ).pipeThrough( new TextDecoderStream(\"utf-8\") ).getReader(); const parts = []; while (true) { const step = await reader.read(); if (step.done) { break; } parts.push(step.value); } const tpl = document.createElement('template'); tpl.innerHTML = parts.join(\"\"); _insertNode(tpl.content); } else { _insertNode(contentNode.content); } })(); } else { _insertNode(contentNode.content); } }); </script></treescope-run-here><div style=\"display:none\"> <script type=\"application/octet-stream\" >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</script> <treescope-run-here><script type=\"application/octet-stream\"> const root = ( Array.from(document.getElementsByClassName( \"treescope_out_9179569e6e184a428fbb5c1773913472\")) .filter((elt) => !elt.dataset['step0']) )[0]; root.dataset['step0'] = 1; root.defns.insertContent( this.parentNode.querySelector('script[type=\"application/octet-stream\"]'), true ); this.parentNode.remove(); </script></treescope-run-here> </div>"
      ],
      "text/plain": [
       "<IPython.core.display.HTML object>"
      ]
     },
     "metadata": {},
     "output_type": "display_data"
    },
    {
     "data": {
      "text/html": [
       "<treescope-run-here><script type=\"application/octet-stream\"> const root = ( Array.from(document.getElementsByClassName( \"treescope_out_9179569e6e184a428fbb5c1773913472\")) .filter((elt) => !elt.dataset.stolen) )[0]; root.dataset.stolen = 1; this.parentNode.replaceChild(root, this); </script></treescope-run-here>"
      ],
      "text/plain": [
       "{'a': 1,\n",
       " 'b': \"(DictKey(key='b'),)\",\n",
       " 'c': [{'value': \"(DictKey(key='c'), SequenceKey(idx=0), DictKey(key='value'))\"},\n",
       "  {'value': \"(DictKey(key='c'), SequenceKey(idx=1), DictKey(key='value'))\"},\n",
       "  {'value': 3}]}"
      ]
     },
     "execution_count": 68,
     "metadata": {},
     "output_type": "execute_result"
    }
   ],
   "source": [
    "# Setting values by keypath\n",
    "pz.select(my_nested_object).at_instances_of(jax.Array).set_by_path(lambda path: str(path))"
   ]
  },
  {
   "cell_type": "code",
   "execution_count": 69,
   "metadata": {
    "execution": {
     "iopub.execute_input": "2024-09-11T16:37:59.597369Z",
     "iopub.status.busy": "2024-09-11T16:37:59.597137Z",
     "iopub.status.idle": "2024-09-11T16:37:59.601357Z",
     "shell.execute_reply": "2024-09-11T16:37:59.601188Z"
    },
    "id": "vedT4F3FV1Hq"
   },
   "outputs": [
    {
     "data": {
      "text/html": [
       "<script> (()=>{ if (customElements.get('treescope-container') === undefined) { class TreescopeContainer extends HTMLElement { constructor() { super(); this.attachShadow({mode: \"open\"}); this.defns = {}; this.state = {}; } } customElements.define(\"treescope-container\", TreescopeContainer); } if (customElements.get('treescope-run-here') === undefined) { class RunHere extends HTMLElement { constructor() { super() } connectedCallback() { const run = child => { const fn = new Function(child.textContent); child.textContent = \"\"; fn.call(this); this.remove(); }; const child = this.querySelector(\"script\"); if (child) { run(child); } else { new MutationObserver(()=>{ run(this.querySelector(\"script\")); }).observe(this, {childList: true}); } } } customElements.define(\"treescope-run-here\", RunHere); } })(); </script> <treescope-container class=\"treescope_out_69d63c9ab3c844aa98d7cb7c6fb21814\" ></treescope-container> <treescope-run-here><script type=\"application/octet-stream\"> const root = ( Array.from(document.getElementsByClassName( \"treescope_out_69d63c9ab3c844aa98d7cb7c6fb21814\")) .filter((elt) => !elt.dataset.setup) )[0]; root.dataset.setup = 1; const msg = document.createElement(\"span\"); msg.style = \"color: #cccccc; font-family: monospace;\"; msg.textContent = \"(Loading...)\"; root.state.loadingMsg = msg; root.shadowRoot.appendChild(msg); root.state.chain = new Promise((resolve, reject) => { const observer = new IntersectionObserver((entries) => { for (const entry of entries) { if (entry.isIntersecting) { resolve(); observer.disconnect(); return; } } }, {rootMargin: \"1000px\"}); window.setTimeout(() => { observer.observe(root); }, 0); }); root.state.deferring = false; const _insertNode = (node) => { for (let oldScript of node.querySelectorAll(\"script\")) { let newScript = document.createElement(\"script\"); newScript.type = oldScript.type; newScript.textContent = oldScript.textContent; oldScript.parentNode.replaceChild(newScript, oldScript); } if (root.state.loadingMsg) { root.state.loadingMsg.remove(); root.state.loadingMsg = null; } root.shadowRoot.appendChild(node); }; root.defns.insertContent = ((contentNode, compressed) => { if (compressed) { root.state.deferring = true; } if (root.state.deferring) { root.state.chain = (async () => { await root.state.chain; if (compressed) { const encoded = contentNode.textContent; const blob = new Blob([ Uint8Array.from(atob(encoded), (m) => m.codePointAt(0)) ]); const reader = blob.stream().pipeThrough( new DecompressionStream(\"deflate\") ).pipeThrough( new TextDecoderStream(\"utf-8\") ).getReader(); const parts = []; while (true) { const step = await reader.read(); if (step.done) { break; } parts.push(step.value); } const tpl = document.createElement('template'); tpl.innerHTML = parts.join(\"\"); _insertNode(tpl.content); } else { _insertNode(contentNode.content); } })(); } else { _insertNode(contentNode.content); } }); </script></treescope-run-here><div style=\"display:none\"> <script type=\"application/octet-stream\" >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</script> <treescope-run-here><script type=\"application/octet-stream\"> const root = ( Array.from(document.getElementsByClassName( \"treescope_out_69d63c9ab3c844aa98d7cb7c6fb21814\")) .filter((elt) => !elt.dataset['step0']) )[0]; root.dataset['step0'] = 1; root.defns.insertContent( this.parentNode.querySelector('script[type=\"application/octet-stream\"]'), true ); this.parentNode.remove(); </script></treescope-run-here> </div>"
      ],
      "text/plain": [
       "<IPython.core.display.HTML object>"
      ]
     },
     "metadata": {},
     "output_type": "display_data"
    },
    {
     "data": {
      "text/html": [
       "<treescope-run-here><script type=\"application/octet-stream\"> const root = ( Array.from(document.getElementsByClassName( \"treescope_out_69d63c9ab3c844aa98d7cb7c6fb21814\")) .filter((elt) => !elt.dataset.stolen) )[0]; root.dataset.stolen = 1; this.parentNode.replaceChild(root, this); </script></treescope-run-here>"
      ],
      "text/plain": [
       "{'a': 1,\n",
       " 'b': \"((DictKey(key='b'),), Array([0, 1, 2, 3, 4, 5, 6, 7, 8, 9], dtype=int32))\",\n",
       " 'c': [{'value': \"((DictKey(key='c'), SequenceKey(idx=0), DictKey(key='value')), Array([ 0,  1,  2,  3,  4,  5,  6,  7,  8,  9, 10, 11], dtype=int32))\"},\n",
       "  {'value': \"((DictKey(key='c'), SequenceKey(idx=1), DictKey(key='value')), Array([0., 0., 0., 0., 0., 0., 0.], dtype=float32))\"},\n",
       "  {'value': 3}]}"
      ]
     },
     "execution_count": 69,
     "metadata": {},
     "output_type": "execute_result"
    }
   ],
   "source": [
    "# Setting values by keypath and original value\n",
    "pz.select(my_nested_object).at_instances_of(jax.Array).apply(\n",
    "    lambda path, value: str((path, value)), with_keypath=True\n",
    ")"
   ]
  },
  {
   "cell_type": "markdown",
   "metadata": {
    "id": "orWpcwiJt6q0"
   },
   "source": [
    "You can use `jax.tree_util.keystr` or `pz.pretty_keystr` to turn keypaths into readable strings (sometimes useful for referring to parts of a tree by name):"
   ]
  },
  {
   "cell_type": "code",
   "execution_count": 70,
   "metadata": {
    "execution": {
     "iopub.execute_input": "2024-09-11T16:37:59.604686Z",
     "iopub.status.busy": "2024-09-11T16:37:59.604409Z",
     "iopub.status.idle": "2024-09-11T16:38:02.463214Z",
     "shell.execute_reply": "2024-09-11T16:38:02.462972Z"
    },
    "id": "YF3IntIvNjw7"
   },
   "outputs": [
    {
     "data": {
      "text/html": [
       "<script> (()=>{ if (customElements.get('treescope-container') === undefined) { class TreescopeContainer extends HTMLElement { constructor() { super(); this.attachShadow({mode: \"open\"}); this.defns = {}; this.state = {}; } } customElements.define(\"treescope-container\", TreescopeContainer); } if (customElements.get('treescope-run-here') === undefined) { class RunHere extends HTMLElement { constructor() { super() } connectedCallback() { const run = child => { const fn = new Function(child.textContent); child.textContent = \"\"; fn.call(this); this.remove(); }; const child = this.querySelector(\"script\"); if (child) { run(child); } else { new MutationObserver(()=>{ run(this.querySelector(\"script\")); }).observe(this, {childList: true}); } } } customElements.define(\"treescope-run-here\", RunHere); } })(); </script> <treescope-container class=\"treescope_out_569f6947d79b485c99379f61c24131ec\" ></treescope-container> <treescope-run-here><script type=\"application/octet-stream\"> const root = ( Array.from(document.getElementsByClassName( \"treescope_out_569f6947d79b485c99379f61c24131ec\")) .filter((elt) => !elt.dataset.setup) )[0]; root.dataset.setup = 1; const msg = document.createElement(\"span\"); msg.style = \"color: #cccccc; font-family: monospace;\"; msg.textContent = \"(Loading...)\"; root.state.loadingMsg = msg; root.shadowRoot.appendChild(msg); root.state.chain = new Promise((resolve, reject) => { const observer = new IntersectionObserver((entries) => { for (const entry of entries) { if (entry.isIntersecting) { resolve(); observer.disconnect(); return; } } }, {rootMargin: \"1000px\"}); window.setTimeout(() => { observer.observe(root); }, 0); }); root.state.deferring = false; const _insertNode = (node) => { for (let oldScript of node.querySelectorAll(\"script\")) { let newScript = document.createElement(\"script\"); newScript.type = oldScript.type; newScript.textContent = oldScript.textContent; oldScript.parentNode.replaceChild(newScript, oldScript); } if (root.state.loadingMsg) { root.state.loadingMsg.remove(); root.state.loadingMsg = null; } root.shadowRoot.appendChild(node); }; root.defns.insertContent = ((contentNode, compressed) => { if (compressed) { root.state.deferring = true; } if (root.state.deferring) { root.state.chain = (async () => { await root.state.chain; if (compressed) { const encoded = contentNode.textContent; const blob = new Blob([ Uint8Array.from(atob(encoded), (m) => m.codePointAt(0)) ]); const reader = blob.stream().pipeThrough( new DecompressionStream(\"deflate\") ).pipeThrough( new TextDecoderStream(\"utf-8\") ).getReader(); const parts = []; while (true) { const step = await reader.read(); if (step.done) { break; } parts.push(step.value); } const tpl = document.createElement('template'); tpl.innerHTML = parts.join(\"\"); _insertNode(tpl.content); } else { _insertNode(contentNode.content); } })(); } else { _insertNode(contentNode.content); } }); </script></treescope-run-here><div style=\"display:none\"> <script type=\"application/octet-stream\" >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</script> <treescope-run-here><script type=\"application/octet-stream\"> const root = ( Array.from(document.getElementsByClassName( \"treescope_out_569f6947d79b485c99379f61c24131ec\")) .filter((elt) => !elt.dataset['step0']) )[0]; root.dataset['step0'] = 1; root.defns.insertContent( this.parentNode.querySelector('script[type=\"application/octet-stream\"]'), true ); this.parentNode.remove(); </script></treescope-run-here> </div>"
      ],
      "text/plain": [
       "<IPython.core.display.HTML object>"
      ]
     },
     "metadata": {},
     "output_type": "display_data"
    },
    {
     "data": {
      "text/html": [
       "<div style=\"display:none\"> <script type=\"application/octet-stream\" >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</script> <treescope-run-here><script type=\"application/octet-stream\"> const root = ( Array.from(document.getElementsByClassName( \"treescope_out_569f6947d79b485c99379f61c24131ec\")) .filter((elt) => !elt.dataset['step1']) )[0]; root.dataset['step1'] = 1; root.defns.insertContent( this.parentNode.querySelector('script[type=\"application/octet-stream\"]'), true ); this.parentNode.remove(); </script></treescope-run-here> </div>"
      ],
      "text/plain": [
       "<IPython.core.display.HTML object>"
      ]
     },
     "metadata": {},
     "output_type": "display_data"
    },
    {
     "data": {
      "text/html": [
       "<treescope-run-here><script type=\"application/octet-stream\"> const root = ( Array.from(document.getElementsByClassName( \"treescope_out_569f6947d79b485c99379f61c24131ec\")) .filter((elt) => !elt.dataset.stolen) )[0]; root.dataset.stolen = 1; this.parentNode.replaceChild(root, this); </script></treescope-run-here>"
      ],
      "text/plain": [
       "MLP( # Sequential\n",
       "  sublayers=[\n",
       "    Affine( # Sequential\n",
       "      sublayers=[\n",
       "        Linear(weights=Parameter(label='mlp/Affine_0/Linear.weights', value=<NamedArray float32(| features:8, features_out:32) ≈-0.0039 ±0.22 [≥-0.38, ≤0.38] nonzero:256 (wrapping jax.Array)>, metadata={}), in_axis_names=('features',), out_axis_names=('features_out',)),\n",
       "        RenameAxes(old=('features_out',), new=('features',)),\n",
       "        AddBias(bias=Parameter(label='mlp/Affine_0/AddBias.bias', value=<NamedArray float32(| features:32) ≈0.0 ±0.0 [≥0.0, ≤0.0] zero:32 (wrapping jax.Array)>, metadata={}), new_axis_names=()),\n",
       "      ],\n",
       "    ),\n",
       "    Elementwise(fn=jax.nn.relu),\n",
       "    Affine( # Sequential\n",
       "      sublayers=[Linear(weights=Parameter(label='mlp/Affine_1/Linear.weights', value=<NamedArray float32(| features:32, features_out:32) ≈0.00044 ±0.18 [≥-0.31, ≤0.31] nonzero:1_024 (wrapping jax.Array)>, metadata={}), in_axis_names=('features',), out_axis_names=('features_out',)), RenameAxes(old=('features_out',), new=('features',)), AddBias(bias=Parameter(label='mlp/Affine_1/AddBias.bias', value=<NamedArray float32(| features:32) ≈0.0 ±0.0 [≥0.0, ≤0.0] zero:32 (wrapping jax.Array)>, metadata={}), new_axis_names=())],\n",
       "    ),\n",
       "    Elementwise(fn=jax.nn.relu),\n",
       "    Affine( # Sequential\n",
       "      sublayers=[Linear(weights=Parameter(label='mlp/Affine_2/Linear.weights', value=<NamedArray float32(| features:32, features_out:8) ≈-0.006 ±0.22 [≥-0.38, ≤0.38] nonzero:256 (wrapping jax.Array)>, metadata={}), in_axis_names=('features',), out_axis_names=('features_out',)), RenameAxes(old=('features_out',), new=('features',)), AddBias(bias=Parameter(label='mlp/Affine_2/AddBias.bias', value=<NamedArray float32(| features:8) ≈0.0 ±0.0 [≥0.0, ≤0.0] zero:8 (wrapping jax.Array)>, metadata={}), new_axis_names=())],\n",
       "    ),\n",
       "  ],\n",
       ")"
      ]
     },
     "execution_count": 70,
     "metadata": {},
     "output_type": "execute_result"
    }
   ],
   "source": [
    "mlp = simple_mlp.MLP.from_config(\n",
    "    name=\"mlp\",\n",
    "    init_base_rng=jax.random.key(0),\n",
    "    feature_sizes=[8, 32, 32, 8]\n",
    ")\n",
    "mlp"
   ]
  },
  {
   "cell_type": "code",
   "execution_count": 71,
   "metadata": {
    "execution": {
     "iopub.execute_input": "2024-09-11T16:38:02.476930Z",
     "iopub.status.busy": "2024-09-11T16:38:02.476669Z",
     "iopub.status.idle": "2024-09-11T16:38:02.481409Z",
     "shell.execute_reply": "2024-09-11T16:38:02.481564Z"
    },
    "id": "nFT8THeWW2in"
   },
   "outputs": [
    {
     "data": {
      "text/html": [
       "<script> (()=>{ if (customElements.get('treescope-container') === undefined) { class TreescopeContainer extends HTMLElement { constructor() { super(); this.attachShadow({mode: \"open\"}); this.defns = {}; this.state = {}; } } customElements.define(\"treescope-container\", TreescopeContainer); } if (customElements.get('treescope-run-here') === undefined) { class RunHere extends HTMLElement { constructor() { super() } connectedCallback() { const run = child => { const fn = new Function(child.textContent); child.textContent = \"\"; fn.call(this); this.remove(); }; const child = this.querySelector(\"script\"); if (child) { run(child); } else { new MutationObserver(()=>{ run(this.querySelector(\"script\")); }).observe(this, {childList: true}); } } } customElements.define(\"treescope-run-here\", RunHere); } })(); </script> <treescope-container class=\"treescope_out_463080aa479041b6b97bbb43479e21fa\" ></treescope-container> <treescope-run-here><script type=\"application/octet-stream\"> const root = ( Array.from(document.getElementsByClassName( \"treescope_out_463080aa479041b6b97bbb43479e21fa\")) .filter((elt) => !elt.dataset.setup) )[0]; root.dataset.setup = 1; const msg = document.createElement(\"span\"); msg.style = \"color: #cccccc; font-family: monospace;\"; msg.textContent = \"(Loading...)\"; root.state.loadingMsg = msg; root.shadowRoot.appendChild(msg); root.state.chain = new Promise((resolve, reject) => { const observer = new IntersectionObserver((entries) => { for (const entry of entries) { if (entry.isIntersecting) { resolve(); observer.disconnect(); return; } } }, {rootMargin: \"1000px\"}); window.setTimeout(() => { observer.observe(root); }, 0); }); root.state.deferring = false; const _insertNode = (node) => { for (let oldScript of node.querySelectorAll(\"script\")) { let newScript = document.createElement(\"script\"); newScript.type = oldScript.type; newScript.textContent = oldScript.textContent; oldScript.parentNode.replaceChild(newScript, oldScript); } if (root.state.loadingMsg) { root.state.loadingMsg.remove(); root.state.loadingMsg = null; } root.shadowRoot.appendChild(node); }; root.defns.insertContent = ((contentNode, compressed) => { if (compressed) { root.state.deferring = true; } if (root.state.deferring) { root.state.chain = (async () => { await root.state.chain; if (compressed) { const encoded = contentNode.textContent; const blob = new Blob([ Uint8Array.from(atob(encoded), (m) => m.codePointAt(0)) ]); const reader = blob.stream().pipeThrough( new DecompressionStream(\"deflate\") ).pipeThrough( new TextDecoderStream(\"utf-8\") ).getReader(); const parts = []; while (true) { const step = await reader.read(); if (step.done) { break; } parts.push(step.value); } const tpl = document.createElement('template'); tpl.innerHTML = parts.join(\"\"); _insertNode(tpl.content); } else { _insertNode(contentNode.content); } })(); } else { _insertNode(contentNode.content); } }); </script></treescope-run-here><div style=\"display:none\"> <script type=\"application/octet-stream\" >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</script> <treescope-run-here><script type=\"application/octet-stream\"> const root = ( Array.from(document.getElementsByClassName( \"treescope_out_463080aa479041b6b97bbb43479e21fa\")) .filter((elt) => !elt.dataset['step0']) )[0]; root.dataset['step0'] = 1; root.defns.insertContent( this.parentNode.querySelector('script[type=\"application/octet-stream\"]'), true ); this.parentNode.remove(); </script></treescope-run-here> </div>"
      ],
      "text/plain": [
       "<IPython.core.display.HTML object>"
      ]
     },
     "metadata": {},
     "output_type": "display_data"
    },
    {
     "data": {
      "text/html": [
       "<treescope-run-here><script type=\"application/octet-stream\"> const root = ( Array.from(document.getElementsByClassName( \"treescope_out_463080aa479041b6b97bbb43479e21fa\")) .filter((elt) => !elt.dataset.stolen) )[0]; root.dataset.stolen = 1; this.parentNode.replaceChild(root, this); </script></treescope-run-here>"
      ],
      "text/plain": [
       "[(GetAttrKey(name='sublayers'),\n",
       "  SequenceKey(idx=0),\n",
       "  GetAttrKey(name='sublayers'),\n",
       "  SequenceKey(idx=0),\n",
       "  GetAttrKey(name='weights')),\n",
       " (GetAttrKey(name='sublayers'),\n",
       "  SequenceKey(idx=0),\n",
       "  GetAttrKey(name='sublayers'),\n",
       "  SequenceKey(idx=2),\n",
       "  GetAttrKey(name='bias')),\n",
       " (GetAttrKey(name='sublayers'),\n",
       "  SequenceKey(idx=2),\n",
       "  GetAttrKey(name='sublayers'),\n",
       "  SequenceKey(idx=0),\n",
       "  GetAttrKey(name='weights')),\n",
       " (GetAttrKey(name='sublayers'),\n",
       "  SequenceKey(idx=2),\n",
       "  GetAttrKey(name='sublayers'),\n",
       "  SequenceKey(idx=2),\n",
       "  GetAttrKey(name='bias')),\n",
       " (GetAttrKey(name='sublayers'),\n",
       "  SequenceKey(idx=4),\n",
       "  GetAttrKey(name='sublayers'),\n",
       "  SequenceKey(idx=0),\n",
       "  GetAttrKey(name='weights')),\n",
       " (GetAttrKey(name='sublayers'),\n",
       "  SequenceKey(idx=4),\n",
       "  GetAttrKey(name='sublayers'),\n",
       "  SequenceKey(idx=2),\n",
       "  GetAttrKey(name='bias'))]"
      ]
     },
     "execution_count": 71,
     "metadata": {},
     "output_type": "execute_result"
    }
   ],
   "source": [
    "[\n",
    "  key for key in\n",
    "  pz.select(mlp).at_instances_of(pz.Parameter).selected_by_path.keys()\n",
    "]"
   ]
  },
  {
   "cell_type": "code",
   "execution_count": 72,
   "metadata": {
    "execution": {
     "iopub.execute_input": "2024-09-11T16:38:02.486133Z",
     "iopub.status.busy": "2024-09-11T16:38:02.485886Z",
     "iopub.status.idle": "2024-09-11T16:38:02.489779Z",
     "shell.execute_reply": "2024-09-11T16:38:02.489467Z"
    },
    "id": "qzrhXuqcuYjA"
   },
   "outputs": [
    {
     "data": {
      "text/html": [
       "<script> (()=>{ if (customElements.get('treescope-container') === undefined) { class TreescopeContainer extends HTMLElement { constructor() { super(); this.attachShadow({mode: \"open\"}); this.defns = {}; this.state = {}; } } customElements.define(\"treescope-container\", TreescopeContainer); } if (customElements.get('treescope-run-here') === undefined) { class RunHere extends HTMLElement { constructor() { super() } connectedCallback() { const run = child => { const fn = new Function(child.textContent); child.textContent = \"\"; fn.call(this); this.remove(); }; const child = this.querySelector(\"script\"); if (child) { run(child); } else { new MutationObserver(()=>{ run(this.querySelector(\"script\")); }).observe(this, {childList: true}); } } } customElements.define(\"treescope-run-here\", RunHere); } })(); </script> <treescope-container class=\"treescope_out_93b0cc33685c48f09b71adb0839786f8\" ></treescope-container> <treescope-run-here><script type=\"application/octet-stream\"> const root = ( Array.from(document.getElementsByClassName( \"treescope_out_93b0cc33685c48f09b71adb0839786f8\")) .filter((elt) => !elt.dataset.setup) )[0]; root.dataset.setup = 1; const msg = document.createElement(\"span\"); msg.style = \"color: #cccccc; font-family: monospace;\"; msg.textContent = \"(Loading...)\"; root.state.loadingMsg = msg; root.shadowRoot.appendChild(msg); root.state.chain = new Promise((resolve, reject) => { const observer = new IntersectionObserver((entries) => { for (const entry of entries) { if (entry.isIntersecting) { resolve(); observer.disconnect(); return; } } }, {rootMargin: \"1000px\"}); window.setTimeout(() => { observer.observe(root); }, 0); }); root.state.deferring = false; const _insertNode = (node) => { for (let oldScript of node.querySelectorAll(\"script\")) { let newScript = document.createElement(\"script\"); newScript.type = oldScript.type; newScript.textContent = oldScript.textContent; oldScript.parentNode.replaceChild(newScript, oldScript); } if (root.state.loadingMsg) { root.state.loadingMsg.remove(); root.state.loadingMsg = null; } root.shadowRoot.appendChild(node); }; root.defns.insertContent = ((contentNode, compressed) => { if (compressed) { root.state.deferring = true; } if (root.state.deferring) { root.state.chain = (async () => { await root.state.chain; if (compressed) { const encoded = contentNode.textContent; const blob = new Blob([ Uint8Array.from(atob(encoded), (m) => m.codePointAt(0)) ]); const reader = blob.stream().pipeThrough( new DecompressionStream(\"deflate\") ).pipeThrough( new TextDecoderStream(\"utf-8\") ).getReader(); const parts = []; while (true) { const step = await reader.read(); if (step.done) { break; } parts.push(step.value); } const tpl = document.createElement('template'); tpl.innerHTML = parts.join(\"\"); _insertNode(tpl.content); } else { _insertNode(contentNode.content); } })(); } else { _insertNode(contentNode.content); } }); </script></treescope-run-here><div style=\"display:none\"> <script type=\"application/octet-stream\" >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</script> <treescope-run-here><script type=\"application/octet-stream\"> const root = ( Array.from(document.getElementsByClassName( \"treescope_out_93b0cc33685c48f09b71adb0839786f8\")) .filter((elt) => !elt.dataset['step0']) )[0]; root.dataset['step0'] = 1; root.defns.insertContent( this.parentNode.querySelector('script[type=\"application/octet-stream\"]'), true ); this.parentNode.remove(); </script></treescope-run-here> </div>"
      ],
      "text/plain": [
       "<IPython.core.display.HTML object>"
      ]
     },
     "metadata": {},
     "output_type": "display_data"
    },
    {
     "data": {
      "text/html": [
       "<treescope-run-here><script type=\"application/octet-stream\"> const root = ( Array.from(document.getElementsByClassName( \"treescope_out_93b0cc33685c48f09b71adb0839786f8\")) .filter((elt) => !elt.dataset.stolen) )[0]; root.dataset.stolen = 1; this.parentNode.replaceChild(root, this); </script></treescope-run-here>"
      ],
      "text/plain": [
       "['.sublayers[0].sublayers[0].weights',\n",
       " '.sublayers[0].sublayers[2].bias',\n",
       " '.sublayers[2].sublayers[0].weights',\n",
       " '.sublayers[2].sublayers[2].bias',\n",
       " '.sublayers[4].sublayers[0].weights',\n",
       " '.sublayers[4].sublayers[2].bias']"
      ]
     },
     "execution_count": 72,
     "metadata": {},
     "output_type": "execute_result"
    }
   ],
   "source": [
    "[\n",
    "  jax.tree_util.keystr(key) for key in\n",
    "  pz.select(mlp).at_instances_of(pz.Parameter).selected_by_path.keys()\n",
    "]"
   ]
  },
  {
   "cell_type": "code",
   "execution_count": 73,
   "metadata": {
    "execution": {
     "iopub.execute_input": "2024-09-11T16:38:02.494517Z",
     "iopub.status.busy": "2024-09-11T16:38:02.494281Z",
     "iopub.status.idle": "2024-09-11T16:38:02.498130Z",
     "shell.execute_reply": "2024-09-11T16:38:02.497929Z"
    },
    "id": "Ots2ZBckNwJo"
   },
   "outputs": [
    {
     "data": {
      "text/html": [
       "<script> (()=>{ if (customElements.get('treescope-container') === undefined) { class TreescopeContainer extends HTMLElement { constructor() { super(); this.attachShadow({mode: \"open\"}); this.defns = {}; this.state = {}; } } customElements.define(\"treescope-container\", TreescopeContainer); } if (customElements.get('treescope-run-here') === undefined) { class RunHere extends HTMLElement { constructor() { super() } connectedCallback() { const run = child => { const fn = new Function(child.textContent); child.textContent = \"\"; fn.call(this); this.remove(); }; const child = this.querySelector(\"script\"); if (child) { run(child); } else { new MutationObserver(()=>{ run(this.querySelector(\"script\")); }).observe(this, {childList: true}); } } } customElements.define(\"treescope-run-here\", RunHere); } })(); </script> <treescope-container class=\"treescope_out_b0d4282e33be447499f9dfe8b50608ce\" ></treescope-container> <treescope-run-here><script type=\"application/octet-stream\"> const root = ( Array.from(document.getElementsByClassName( \"treescope_out_b0d4282e33be447499f9dfe8b50608ce\")) .filter((elt) => !elt.dataset.setup) )[0]; root.dataset.setup = 1; const msg = document.createElement(\"span\"); msg.style = \"color: #cccccc; font-family: monospace;\"; msg.textContent = \"(Loading...)\"; root.state.loadingMsg = msg; root.shadowRoot.appendChild(msg); root.state.chain = new Promise((resolve, reject) => { const observer = new IntersectionObserver((entries) => { for (const entry of entries) { if (entry.isIntersecting) { resolve(); observer.disconnect(); return; } } }, {rootMargin: \"1000px\"}); window.setTimeout(() => { observer.observe(root); }, 0); }); root.state.deferring = false; const _insertNode = (node) => { for (let oldScript of node.querySelectorAll(\"script\")) { let newScript = document.createElement(\"script\"); newScript.type = oldScript.type; newScript.textContent = oldScript.textContent; oldScript.parentNode.replaceChild(newScript, oldScript); } if (root.state.loadingMsg) { root.state.loadingMsg.remove(); root.state.loadingMsg = null; } root.shadowRoot.appendChild(node); }; root.defns.insertContent = ((contentNode, compressed) => { if (compressed) { root.state.deferring = true; } if (root.state.deferring) { root.state.chain = (async () => { await root.state.chain; if (compressed) { const encoded = contentNode.textContent; const blob = new Blob([ Uint8Array.from(atob(encoded), (m) => m.codePointAt(0)) ]); const reader = blob.stream().pipeThrough( new DecompressionStream(\"deflate\") ).pipeThrough( new TextDecoderStream(\"utf-8\") ).getReader(); const parts = []; while (true) { const step = await reader.read(); if (step.done) { break; } parts.push(step.value); } const tpl = document.createElement('template'); tpl.innerHTML = parts.join(\"\"); _insertNode(tpl.content); } else { _insertNode(contentNode.content); } })(); } else { _insertNode(contentNode.content); } }); </script></treescope-run-here><div style=\"display:none\"> <script type=\"application/octet-stream\" >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</script> <treescope-run-here><script type=\"application/octet-stream\"> const root = ( Array.from(document.getElementsByClassName( \"treescope_out_b0d4282e33be447499f9dfe8b50608ce\")) .filter((elt) => !elt.dataset['step0']) )[0]; root.dataset['step0'] = 1; root.defns.insertContent( this.parentNode.querySelector('script[type=\"application/octet-stream\"]'), true ); this.parentNode.remove(); </script></treescope-run-here> </div>"
      ],
      "text/plain": [
       "<IPython.core.display.HTML object>"
      ]
     },
     "metadata": {},
     "output_type": "display_data"
    },
    {
     "data": {
      "text/html": [
       "<treescope-run-here><script type=\"application/octet-stream\"> const root = ( Array.from(document.getElementsByClassName( \"treescope_out_b0d4282e33be447499f9dfe8b50608ce\")) .filter((elt) => !elt.dataset.stolen) )[0]; root.dataset.stolen = 1; this.parentNode.replaceChild(root, this); </script></treescope-run-here>"
      ],
      "text/plain": [
       "['MLP.sublayers[0]/Affine.sublayers[0]/Linear.weights',\n",
       " 'MLP.sublayers[0]/Affine.sublayers[2]/AddBias.bias',\n",
       " 'MLP.sublayers[2]/Affine.sublayers[0]/Linear.weights',\n",
       " 'MLP.sublayers[2]/Affine.sublayers[2]/AddBias.bias',\n",
       " 'MLP.sublayers[4]/Affine.sublayers[0]/Linear.weights',\n",
       " 'MLP.sublayers[4]/Affine.sublayers[2]/AddBias.bias']"
      ]
     },
     "execution_count": 73,
     "metadata": {},
     "output_type": "execute_result"
    }
   ],
   "source": [
    "[\n",
    "  pz.pretty_keystr(key, mlp) for key in\n",
    "  pz.select(mlp).at_instances_of(pz.Parameter).selected_by_path.keys()\n",
    "]"
   ]
  },
  {
   "cell_type": "code",
   "execution_count": null,
   "metadata": {
    "id": "2FQPmfO2Nyof"
   },
   "outputs": [],
   "source": []
  }
 ],
 "metadata": {
  "colab": {
   "name": "Selectors and selections",
   "toc_visible": true
  },
  "kernelspec": {
   "display_name": "Python 3",
   "name": "python3"
  },
  "language_info": {
   "codemirror_mode": {
    "name": "ipython",
    "version": 3
   },
   "file_extension": ".py",
   "mimetype": "text/x-python",
   "name": "python",
   "nbconvert_exporter": "python",
   "pygments_lexer": "ipython3",
   "version": "3.10.12"
  }
 },
 "nbformat": 4,
 "nbformat_minor": 0
}
